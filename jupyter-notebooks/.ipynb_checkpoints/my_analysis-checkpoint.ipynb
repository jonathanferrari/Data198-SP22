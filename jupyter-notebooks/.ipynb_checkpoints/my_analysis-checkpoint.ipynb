{
 "cells": [
  {
   "cell_type": "markdown",
   "id": "f6f423d5",
   "metadata": {
    "toc": true
   },
   "source": [
    "<h1>Table of Contents<span class=\"tocSkip\"></span></h1>\n",
    "<div class=\"toc\"><ul class=\"toc-item\"><li><span><a href=\"#Introduction\" data-toc-modified-id=\"Introduction-1\">Introduction</a></span></li><li><span><a href=\"#Imports\" data-toc-modified-id=\"Imports-2\">Imports</a></span></li><li><span><a href=\"#The-Data\" data-toc-modified-id=\"The-Data-3\">The Data</a></span></li><li><span><a href=\"#Data-Cleaning\" data-toc-modified-id=\"Data-Cleaning-4\">Data Cleaning</a></span></li><li><span><a href=\"#Graphs,-Graphs,-and-more-Graphs!\" data-toc-modified-id=\"Graphs,-Graphs,-and-more-Graphs!-5\">Graphs, Graphs, and more Graphs!</a></span><ul class=\"toc-item\"><li><span><a href=\"#matplotlib-Plots\" data-toc-modified-id=\"matplotlib-Plots-5.1\"><code>matplotlib</code> Plots</a></span></li><li><span><a href=\"#plotly-Plots\" data-toc-modified-id=\"plotly-Plots-5.2\"><code>plotly</code> Plots</a></span></li></ul></li><li><span><a href=\"#Data-Visualization-Explorations\" data-toc-modified-id=\"Data-Visualization-Explorations-6\">Data Visualization Explorations</a></span></li><li><span><a href=\"#Conclusion\" data-toc-modified-id=\"Conclusion-7\">Conclusion</a></span><ul class=\"toc-item\"><li><span><a href=\"#Thats-all-for-now!\" data-toc-modified-id=\"Thats-all-for-now!-7.1\">Thats all for now!</a></span></li></ul></li></ul></div>"
   ]
  },
  {
   "cell_type": "markdown",
   "id": "aaf3c46b",
   "metadata": {},
   "source": [
    "# Health Data Notebook\n",
    "> by Jonathan Ferrari, for Data 198 Spring 2022"
   ]
  },
  {
   "cell_type": "markdown",
   "id": "a53268ac",
   "metadata": {},
   "source": [
    "## Introduction\n",
    "In this notebook, I will explore and do some basic data analysis of a filed called `health.csv`. This file contains some data about my 2021 year in the context of my health. Let's dive into it!"
   ]
  },
  {
   "cell_type": "markdown",
   "id": "3529559b",
   "metadata": {},
   "source": [
    "## Imports\n",
    "First, we need to make some basic imports so we can look at this data!"
   ]
  },
  {
   "cell_type": "code",
   "execution_count": 56,
   "id": "3bd07c60",
   "metadata": {},
   "outputs": [],
   "source": [
    "import pandas as pd\n",
    "import numpy as np\n",
    "import plotly\n",
    "import plotly.express as px\n",
    "import matplotlib\n",
    "import matplotlib.pyplot as plt\n",
    "from IPython.display import display\n",
    "plt.style.use(\"fivethirtyeight\")"
   ]
  },
  {
   "cell_type": "markdown",
   "id": "0c35bebf",
   "metadata": {},
   "source": [
    "## The Data\n",
    "Let's load the data and look at it as a `pd.DataFrame`"
   ]
  },
  {
   "cell_type": "code",
   "execution_count": 57,
   "id": "609b2e4b",
   "metadata": {},
   "outputs": [
    {
     "data": {
      "text/html": [
       "<div>\n",
       "<style scoped>\n",
       "    .dataframe tbody tr th:only-of-type {\n",
       "        vertical-align: middle;\n",
       "    }\n",
       "\n",
       "    .dataframe tbody tr th {\n",
       "        vertical-align: top;\n",
       "    }\n",
       "\n",
       "    .dataframe thead th {\n",
       "        text-align: right;\n",
       "    }\n",
       "</style>\n",
       "<table border=\"1\" class=\"dataframe\">\n",
       "  <thead>\n",
       "    <tr style=\"text-align: right;\">\n",
       "      <th></th>\n",
       "      <th>date</th>\n",
       "      <th>month</th>\n",
       "      <th>day</th>\n",
       "      <th>calories</th>\n",
       "      <th>miles</th>\n",
       "    </tr>\n",
       "  </thead>\n",
       "  <tbody>\n",
       "    <tr>\n",
       "      <th>0</th>\n",
       "      <td>1</td>\n",
       "      <td>Jan</td>\n",
       "      <td>Friday</td>\n",
       "      <td>692.881761</td>\n",
       "      <td>3.722718</td>\n",
       "    </tr>\n",
       "    <tr>\n",
       "      <th>1</th>\n",
       "      <td>2</td>\n",
       "      <td>Jan</td>\n",
       "      <td>Saturday</td>\n",
       "      <td>536.691408</td>\n",
       "      <td>1.896977</td>\n",
       "    </tr>\n",
       "    <tr>\n",
       "      <th>2</th>\n",
       "      <td>3</td>\n",
       "      <td>Jan</td>\n",
       "      <td>Sunday</td>\n",
       "      <td>276.351000</td>\n",
       "      <td>1.696723</td>\n",
       "    </tr>\n",
       "    <tr>\n",
       "      <th>3</th>\n",
       "      <td>4</td>\n",
       "      <td>Jan</td>\n",
       "      <td>Monday</td>\n",
       "      <td>270.923147</td>\n",
       "      <td>1.502654</td>\n",
       "    </tr>\n",
       "    <tr>\n",
       "      <th>4</th>\n",
       "      <td>5</td>\n",
       "      <td>Jan</td>\n",
       "      <td>Tuesday</td>\n",
       "      <td>397.484041</td>\n",
       "      <td>2.173992</td>\n",
       "    </tr>\n",
       "    <tr>\n",
       "      <th>...</th>\n",
       "      <td>...</td>\n",
       "      <td>...</td>\n",
       "      <td>...</td>\n",
       "      <td>...</td>\n",
       "      <td>...</td>\n",
       "    </tr>\n",
       "    <tr>\n",
       "      <th>360</th>\n",
       "      <td>27</td>\n",
       "      <td>Dec</td>\n",
       "      <td>Monday</td>\n",
       "      <td>0.164000</td>\n",
       "      <td>1.537434</td>\n",
       "    </tr>\n",
       "    <tr>\n",
       "      <th>361</th>\n",
       "      <td>28</td>\n",
       "      <td>Dec</td>\n",
       "      <td>Tuesday</td>\n",
       "      <td>372.944000</td>\n",
       "      <td>1.694043</td>\n",
       "    </tr>\n",
       "    <tr>\n",
       "      <th>362</th>\n",
       "      <td>29</td>\n",
       "      <td>Dec</td>\n",
       "      <td>Wednesday</td>\n",
       "      <td>1043.590545</td>\n",
       "      <td>5.737930</td>\n",
       "    </tr>\n",
       "    <tr>\n",
       "      <th>363</th>\n",
       "      <td>30</td>\n",
       "      <td>Dec</td>\n",
       "      <td>Thursday</td>\n",
       "      <td>542.194505</td>\n",
       "      <td>2.420097</td>\n",
       "    </tr>\n",
       "    <tr>\n",
       "      <th>364</th>\n",
       "      <td>31</td>\n",
       "      <td>Dec</td>\n",
       "      <td>Friday</td>\n",
       "      <td>615.976073</td>\n",
       "      <td>2.928637</td>\n",
       "    </tr>\n",
       "  </tbody>\n",
       "</table>\n",
       "<p>365 rows × 5 columns</p>\n",
       "</div>"
      ],
      "text/plain": [
       "     date month        day     calories     miles\n",
       "0       1   Jan     Friday   692.881761  3.722718\n",
       "1       2   Jan   Saturday   536.691408  1.896977\n",
       "2       3   Jan     Sunday   276.351000  1.696723\n",
       "3       4   Jan     Monday   270.923147  1.502654\n",
       "4       5   Jan    Tuesday   397.484041  2.173992\n",
       "..    ...   ...        ...          ...       ...\n",
       "360    27   Dec     Monday     0.164000  1.537434\n",
       "361    28   Dec    Tuesday   372.944000  1.694043\n",
       "362    29   Dec  Wednesday  1043.590545  5.737930\n",
       "363    30   Dec   Thursday   542.194505  2.420097\n",
       "364    31   Dec     Friday   615.976073  2.928637\n",
       "\n",
       "[365 rows x 5 columns]"
      ]
     },
     "metadata": {},
     "output_type": "display_data"
    },
    {
     "data": {
      "text/html": [
       "<div>\n",
       "<style scoped>\n",
       "    .dataframe tbody tr th:only-of-type {\n",
       "        vertical-align: middle;\n",
       "    }\n",
       "\n",
       "    .dataframe tbody tr th {\n",
       "        vertical-align: top;\n",
       "    }\n",
       "\n",
       "    .dataframe thead th {\n",
       "        text-align: right;\n",
       "    }\n",
       "</style>\n",
       "<table border=\"1\" class=\"dataframe\">\n",
       "  <thead>\n",
       "    <tr style=\"text-align: right;\">\n",
       "      <th></th>\n",
       "      <th>calories</th>\n",
       "      <th>miles</th>\n",
       "    </tr>\n",
       "  </thead>\n",
       "  <tbody>\n",
       "    <tr>\n",
       "      <th>count</th>\n",
       "      <td>365.000000</td>\n",
       "      <td>365.000000</td>\n",
       "    </tr>\n",
       "    <tr>\n",
       "      <th>mean</th>\n",
       "      <td>610.901924</td>\n",
       "      <td>3.397468</td>\n",
       "    </tr>\n",
       "    <tr>\n",
       "      <th>std</th>\n",
       "      <td>247.724318</td>\n",
       "      <td>1.892034</td>\n",
       "    </tr>\n",
       "    <tr>\n",
       "      <th>min</th>\n",
       "      <td>0.164000</td>\n",
       "      <td>1.020860</td>\n",
       "    </tr>\n",
       "    <tr>\n",
       "      <th>25%</th>\n",
       "      <td>434.875116</td>\n",
       "      <td>2.104381</td>\n",
       "    </tr>\n",
       "    <tr>\n",
       "      <th>50%</th>\n",
       "      <td>581.203988</td>\n",
       "      <td>2.787204</td>\n",
       "    </tr>\n",
       "    <tr>\n",
       "      <th>75%</th>\n",
       "      <td>751.915536</td>\n",
       "      <td>4.196303</td>\n",
       "    </tr>\n",
       "    <tr>\n",
       "      <th>max</th>\n",
       "      <td>1625.688000</td>\n",
       "      <td>10.193427</td>\n",
       "    </tr>\n",
       "  </tbody>\n",
       "</table>\n",
       "</div>"
      ],
      "text/plain": [
       "          calories       miles\n",
       "count   365.000000  365.000000\n",
       "mean    610.901924    3.397468\n",
       "std     247.724318    1.892034\n",
       "min       0.164000    1.020860\n",
       "25%     434.875116    2.104381\n",
       "50%     581.203988    2.787204\n",
       "75%     751.915536    4.196303\n",
       "max    1625.688000   10.193427"
      ]
     },
     "metadata": {},
     "output_type": "display_data"
    }
   ],
   "source": [
    "health = pd.read_csv(\"/Users/jonathanferrari/Downloads/Spring 2022/Data Science 198 - Instructional Support Seminar/Data198-SP22/data/Health.csv\")\n",
    "display(health)\n",
    "display(health.describe().iloc[:, 1:3])"
   ]
  },
  {
   "cell_type": "markdown",
   "id": "eef6e79d",
   "metadata": {},
   "source": [
    "## Data Cleaning\n",
    "I didn't wear my watch some days, but my phone tracked my miles, so I'll filter out the days where my watch wasn't on so our analysis will be more accurate."
   ]
  },
  {
   "cell_type": "code",
   "execution_count": 58,
   "id": "3e79542d",
   "metadata": {},
   "outputs": [],
   "source": [
    "health = health.query(\"calories > 100\")"
   ]
  },
  {
   "cell_type": "markdown",
   "id": "8429390d",
   "metadata": {},
   "source": [
    "## Graphs, Graphs, and more Graphs!\n",
    "Now lets graph this and do some simple linear regression!"
   ]
  },
  {
   "cell_type": "markdown",
   "id": "102ba767",
   "metadata": {},
   "source": [
    "### `matplotlib` Plots"
   ]
  },
  {
   "cell_type": "code",
   "execution_count": 59,
   "id": "0c63560e",
   "metadata": {},
   "outputs": [
    {
     "data": {
      "image/png": "[encoded data removed]",
      "text/plain": [
       "<Figure size 432x288 with 1 Axes>"
      ]
     },
     "metadata": {},
     "output_type": "display_data"
    }
   ],
   "source": [
    "plt.scatter(data = health, x = 'miles', y = 'calories');"
   ]
  },
  {
   "cell_type": "markdown",
   "id": "5461bf29",
   "metadata": {},
   "source": [
    "### `plotly` Plots\n",
    "To be frank, I'm not a fan of `matplotlib`, the visualizations are boring! Instead let's look at it using an interactive (and user-friendly) library named `plotly`"
   ]
  },
  {
   "cell_type": "code",
   "execution_count": 60,
   "id": "18e2e3d1",
   "metadata": {},
   "outputs": [
    {
     "data": {
      "application/vnd.plotly.v1+json": {
       "config": {
        "plotlyServerURL": "https://plot.ly"
       },
       "data": [
        {
         "hovertemplate": "miles=%{x}<br>calories=%{y}<extra></extra>",
         "legendgroup": "",
         "marker": {
          "color": "#636efa",
          "symbol": "circle"
         },
         "mode": "markers",
         "name": "",
         "orientation": "v",
         "showlegend": false,
         "type": "scatter",
         "x": [
          3.7227182960896,
          1.89697656857255,
          1.69672284643189,
          1.50265448247135,
          2.17399213702361,
          2.8613187713283,
          2.03039214641993,
          1.91121882024395,
          2.31448767523881,
          1.95208568625946,
          6.92860194070912,
          4.15937533849185,
          1.89107087649194,
          6.6670065029303,
          6.13790113658745,
          4.21207813324155,
          6.17385569064731,
          2.58355182420388,
          1.83967908633737,
          3.50761759282414,
          2.22612587092695,
          3.57788624233396,
          2.35958763075875,
          2.90857573468183,
          2.32284943275682,
          2.62577864649961,
          2.26028392517989,
          2.69171511419138,
          3.39927874879608,
          1.75416776296777,
          1.54259908460691,
          2.27627384758519,
          2.55947342604441,
          2.35882699078795,
          3.16028157941314,
          2.78205788189416,
          4.72188839635251,
          3.51503809870662,
          2.00356853780855,
          3.77172795121953,
          1.95001944723911,
          2.66399534134504,
          3.53286239904294,
          3.69976795024191,
          2.37595121835825,
          3.5481121277546,
          2.82652954394306,
          1.98679931123577,
          4.70645776944762,
          1.49286790889824,
          4.92650001152228,
          1.93924831880721,
          2.67971639580876,
          1.65805458842329,
          3.16673590682393,
          1.88083212526027,
          1.91247239571794,
          4.95315955612041,
          2.09386661635807,
          2.56667837221265,
          2.26359657460519,
          2.32694609758516,
          2.54800516981329,
          2.12564613842705,
          9.91535536436513,
          1.84184790812584,
          1.87380294959645,
          1.95813949360542,
          1.89608454529738,
          1.98099992105229,
          1.43085835163897,
          3.71458532922639,
          2.22799593687401,
          3.07577656480184,
          2.21038384965456,
          1.87219511738554,
          2.11259840610259,
          3.25147914430459,
          3.59909596327138,
          2.73333180445284,
          6.6461977858349,
          5.33128756527608,
          3.93337338839219,
          2.39956084172566,
          2.60089421809223,
          3.07426339218733,
          2.6004104557134,
          1.59246580096944,
          2.38807196003928,
          2.86277717893406,
          1.68078672005971,
          8.98289631285285,
          4.62545801063221,
          2.05500524675847,
          3.04972805379401,
          2.50860739151148,
          2.81114006946558,
          3.88146123130472,
          3.68442987236766,
          10.1391572699686,
          2.47516568018223,
          1.74913376973316,
          2.40258264325035,
          3.7190895060851,
          4.770094163346,
          1.44969323949489,
          2.27933260769196,
          2.41555389972494,
          2.31764286144094,
          2.74515591247363,
          2.42443550748294,
          4.48008421871056,
          3.67333426996896,
          3.66706679974464,
          2.66240119276147,
          2.04075245650776,
          4.79325111997681,
          2.1285842643241,
          2.67531918411518,
          3.32335823408366,
          2.27309132369842,
          2.26398504839911,
          3.12278360339361,
          3.98827009174983,
          5.33963920438035,
          2.55189903307512,
          2.67553156393015,
          2.59981241283934,
          1.22091629785606,
          2.03393794752028,
          2.92118591797054,
          1.37181479302187,
          3.94669870357063,
          4.17534613850156,
          4.30305287573727,
          2.78720413257814,
          2.94017984163379,
          3.04725789539492,
          1.62864792636102,
          4.51025543871143,
          3.70011871983419,
          2.38776700172334,
          2.32622579769725,
          3.20731973635455,
          3.16800103447259,
          3.04175118954253,
          6.04815434303131,
          4.35558176186636,
          2.63278226984012,
          4.96664389123943,
          3.03990160880213,
          2.90597878468371,
          2.36571704183832,
          4.16650323754961,
          4.10190210606757,
          4.43755432604092,
          2.60929094780083,
          3.25312449039869,
          6.16311529348146,
          2.32169328726451,
          2.13641263331836,
          2.20374634562317,
          4.13014378981128,
          3.29418180158206,
          1.95703795415023,
          3.37690587044714,
          7.47629183662241,
          7.7997719160753,
          2.44393963006505,
          3.72150093949588,
          3.36695868951072,
          4.59853436217258,
          4.99399474922013,
          8.81002431852695,
          2.69370271786663,
          2.894432379704,
          1.04357894297672,
          10.0515968865464,
          1.85440527763036,
          2.83184869093686,
          6.11315445609744,
          2.06906073711222,
          8.13610812634908,
          9.25305349115031,
          7.78597023788843,
          2.87606941015,
          1.69659160384954,
          4.98869972464642,
          3.10692500065642,
          6.85741086647214,
          6.9156556257296,
          9.49152221637672,
          3.2434050073374,
          1.66715960767037,
          2.58055934701339,
          2.87872246099597,
          10.1934268765139,
          6.80903627677101,
          8.37388493141669,
          1.74327787085083,
          2.97282699606303,
          2.43204334173389,
          7.00561515721937,
          7.34874149593573,
          7.17115970113234,
          1.79824548028125,
          5.03895330744063,
          2.10740121672953,
          3.85977092637756,
          3.28797041839698,
          3.52469636875327,
          2.42336730809822,
          4.92475807397587,
          3.41331435360436,
          1.70456052752075,
          2.58216034386374,
          1.98023097524678,
          1.35682540099157,
          8.72222396444854,
          6.50122232997997,
          1.85544499963426,
          4.19630273149514,
          4.77545069083959,
          9.15488172961112,
          7.61856665054742,
          7.93652008573604,
          1.71794094343502,
          6.02558914801752,
          4.47365963505051,
          2.69596522483297,
          1.33962477804994,
          8.19690687426542,
          7.21859313863329,
          1.67474768248942,
          1.43660776370854,
          8.20587697144449,
          1.73270093793653,
          1.99423276417736,
          8.24397674111505,
          7.05341557654305,
          4.23169682968375,
          2.76389849179254,
          4.12356901644297,
          4.24885427172951,
          2.4722527167102,
          2.05379553861734,
          4.15006157645799,
          3.57583583270703,
          4.58163668686538,
          2.38297830580469,
          4.45093540451652,
          2.2831612153631,
          1.71613783203482,
          1.97817600981042,
          2.42826496376655,
          5.19440534065112,
          2.71279968637717,
          1.18271120299168,
          1.37900047499638,
          2.5437816642019,
          1.54693894343893,
          3.60936679163614,
          4.91135236178864,
          1.20006574670264,
          4.05593794726139,
          2.40374169480598,
          4.80552497172347,
          3.07222688980633,
          1.99074250417002,
          6.3910794952137,
          1.02085968918593,
          3.77390625979149,
          5.09908122725748,
          2.6273422179704,
          2.00072430076177,
          2.40700390365597,
          4.20083506972067,
          1.12011235963576,
          1.27022844833434,
          2.35462369720377,
          4.15423157762682,
          2.66557818227384,
          2.14394161037632,
          3.6350486326847,
          1.31897537626006,
          4.62114411417071,
          3.18454527343861,
          5.39740332541934,
          2.26079711110495,
          2.26420197015865,
          4.88760038017272,
          1.18786877768916,
          4.10645178320774,
          3.66817497635389,
          1.21955999053671,
          2.60308726635712,
          2.01974870809551,
          2.26411283381552,
          2.44691040697134,
          1.45278121152565,
          2.26541676155191,
          2.61591475964101,
          1.78579695064934,
          3.29831027081233,
          4.57958969605246,
          2.49112591114865,
          1.05012995289292,
          3.84538550726899,
          3.1639929816614,
          1.04407339411259,
          1.33540583984468,
          4.19995757674169,
          1.03307314202845,
          4.4797453294823,
          3.81406762887154,
          5.28063031538382,
          1.46935247453648,
          4.43786913607224,
          3.8506157664763,
          4.55749000607362,
          2.97639733449023,
          4.05399509002682,
          1.44204913694836,
          1.33042780457446,
          2.10438125038387,
          2.3701387969595,
          1.28111717280455,
          1.63135661677697,
          2.84430906495892,
          4.48330908897347,
          2.25666045646791,
          5.82539869642723,
          2.30485439186397,
          2.62882791851514,
          1.49959609834733,
          7.70344248162788,
          2.57760037782735,
          4.86164569335249,
          3.16400245247995,
          4.67106078271619,
          4.12281937306264,
          4.89356732858663,
          6.30859381572157,
          3.04626467765329,
          4.11092442614219,
          4.87067328327157,
          2.76598241334086,
          1.76076279732018,
          1.0473012982691,
          2.88329461484827,
          4.29476670321422,
          2.02828617493829,
          4.23551840436992,
          1.1717287319885,
          2.83664394734437,
          3.17701484772975,
          1.56006341136723,
          2.03270788076118,
          1.69404267859633,
          5.73792989060081,
          2.42009737153147,
          2.92863658125028
         ],
         "xaxis": "x",
         "y": [
          692.881761274166,
          536.691407956743,
          276.350999999999,
          270.923146762041,
          397.484041234037,
          702.107462456384,
          519.341933890192,
          581.203987582989,
          527.071428074356,
          411.312179296951,
          1079.65282070305,
          829.228614293344,
          341.860385706658,
          962.018,
          950.258562819967,
          782.377880005755,
          863.036557174281,
          601.390587040521,
          492.184507807422,
          847.532824984648,
          526.002080167403,
          740.463040158474,
          443.602185651039,
          578.325922047423,
          562.67506105348,
          804.732100452362,
          625.442690637212,
          599.247000000001,
          942.563408961203,
          519.651591038795,
          346.525003615485,
          730.10611961992,
          625.839986220131,
          649.155890544466,
          738.649016125774,
          667.74798387423,
          868.244999999995,
          780.348999999994,
          524.527,
          729.921999999999,
          555.046,
          602.153999999999,
          853.013405611315,
          705.983594388686,
          364.538323219297,
          727.747711180903,
          740.778859978545,
          581.65610562125,
          984.971133534053,
          155.542866465948,
          1014.957,
          416.307999999999,
          635.235,
          360.860429151479,
          805.50064114854,
          272.074929699984,
          349.804545181544,
          887.250396414423,
          607.351058404035,
          566.378928260796,
          730.352262013146,
          595.26380972606,
          697.87973010914,
          725.171269890861,
          1500.07696169728,
          478.416038302721,
          489.886000000002,
          449.428000000002,
          489.258640602509,
          522.488359397494,
          360.299000000001,
          759.501,
          383.644000000001,
          625.488000000002,
          590.134000000003,
          522.654,
          631.001360707732,
          474.761639292269,
          613.390000000001,
          522.688180287642,
          642.310819712365,
          874.482543178304,
          191.519456821696,
          684.538090706095,
          553.755000000001,
          479.437000000001,
          724.016652267443,
          475.901347732558,
          618.385603417631,
          717.536429880361,
          482.332966702008,
          1535.93199999995,
          812.251000000002,
          492.491395118112,
          716.233325308533,
          521.111279573353,
          661.526402369546,
          801.419597630454,
          565.346,
          1625.688,
          540.542126153119,
          411.100873846882,
          670.561999999999,
          678.925000000001,
          995.140506432119,
          386.344337030111,
          472.877156537772,
          536.63,
          612.783437700391,
          538.090562299611,
          335.021391714572,
          837.034179979101,
          631.833428306328,
          808.075,
          634.446,
          587.592,
          616.007,
          536.116141402322,
          491.464858597676,
          622.062,
          566.847547364073,
          592.330297460266,
          440.162771034808,
          603.014384140851,
          799.475909382761,
          475.292090617239,
          491.172,
          569.617245538077,
          163.189414172474,
          515.060243889038,
          609.084531973524,
          263.783970592476,
          772.215473035205,
          780.594397650478,
          534.94972314873,
          515.984000000001,
          520.177803481137,
          548.641196518863,
          372.587999999999,
          708.202000000001,
          692.314146984756,
          299.498853015245,
          414.976062800549,
          605.166743715387,
          633.522193484066,
          550.957,
          963.982000000002,
          769.025828518746,
          415.53518421234,
          573.321987268914,
          415.857607961909,
          706.426392038091,
          571.292014001682,
          800.056985998318,
          693.977540662708,
          706.132459337292,
          515.119183178456,
          652.695816821545,
          886.734124816746,
          458.061273121753,
          411.964602061503,
          439.290226740476,
          638.679394862505,
          654.890378397021,
          327.140631450129,
          600.059159172363,
          1051.88220937751,
          1319.18843597884,
          556.875000745648,
          572.513563275512,
          530.767227956033,
          629.142590744154,
          503.782181299813,
          858.383926285102,
          420.1420737149,
          741.233639167498,
          386.271360832504,
          1267.95233365905,
          359.063666340958,
          509.083,
          875.847246858773,
          407.535753141229,
          922.402000000002,
          1141.341,
          935.110000000001,
          681.737000000001,
          238.928319188135,
          689.745035431451,
          669.211645380416,
          849.433000000001,
          989.361999999999,
          1167.15537836289,
          563.163425613793,
          471.128079716367,
          434.875116306951,
          559.684,
          1150.779,
          962.661,
          1100.40480626053,
          295.962193114774,
          425.090460407364,
          430.582540217333,
          802.961000000001,
          866.812000000002,
          954.993000000001,
          270.808095283988,
          894.935904716012,
          271.646485089344,
          708.64851491065,
          734.148621888718,
          491.831378111282,
          520.3214667327,
          755.1325332673,
          584.794000000001,
          362.208058756678,
          381.753984479676,
          387.073956763646,
          161.317,
          1057.698,
          749.900000000001,
          332.339682542849,
          714.56631745715,
          713.007000000001,
          1181.71100000001,
          1019.355,
          1024.422,
          327.134999999999,
          838.405704195417,
          682.317937334437,
          293.052358470147,
          208.5,
          1035.6,
          802.842000000001,
          303.27,
          178.928,
          1065.429,
          317.534,
          263.256,
          1065.797,
          927.361999999999,
          665.81214709,
          415.45385291,
          831.212820510729,
          838.724552739307,
          436.867690406995,
          492.795688283335,
          561.622068570364,
          533.654,
          936.481840421691,
          585.403224631292,
          719.102934947018,
          464.363136640531,
          303.336248001888,
          540.651169798052,
          481.521697444488,
          975.905013194923,
          333.441734920119,
          196.908,
          356.646125167151,
          563.89887483285,
          341.504,
          567.63,
          862.275,
          269.899,
          667.8412218068,
          458.821250731451,
          715.62552746175,
          691.691333241874,
          160.526666758125,
          1024.1,
          285.064507253552,
          745.704492746449,
          649.546999999999,
          488.426083384419,
          265.409606491852,
          517.753310123729,
          796.453000000001,
          217.564,
          464.531723979791,
          610.616276020211,
          776.645,
          559.893230554547,
          434.490769445454,
          822.387650935921,
          373.579812993424,
          751.915536070656,
          484.869616983316,
          1016.48180783251,
          327.947617844774,
          479.530957339406,
          1030.531,
          326.091,
          804.604000000001,
          748.010000000001,
          382.493663980595,
          530.759336019406,
          456.064,
          557.356955357338,
          468.778885528117,
          351.981159114545,
          435.88,
          418.333,
          424.648999999999,
          574.641638299425,
          845.967361700576,
          651.637999999999,
          337.185876202426,
          593.449800298204,
          773.532260875062,
          405.154963006032,
          274.974613200867,
          843.053486417406,
          319.371,
          854.113280254247,
          683.842601700457,
          1044.02130415731,
          394.634923515958,
          725.498890372028,
          818.168189301097,
          748.643656321222,
          472.197902696585,
          728.177382409826,
          222.75686927127,
          356.612670266377,
          515.536329733624,
          342.808217873511,
          413.39116800725,
          516.142227413798,
          398.659386705442,
          950.043650956611,
          422.79534904339,
          951.573000000001,
          283.96837800639,
          572.892361969579,
          391.25226002403,
          1094.03,
          521.041689294737,
          835.955310705261,
          563.320167629931,
          927.321832370071,
          757.837139103892,
          918.40286089611,
          1177.927,
          443.46746830442,
          714.43553169558,
          825.161,
          583.287370466208,
          380.660629533794,
          257.043679849332,
          693.562427499041,
          786.448892651628,
          318.467,
          595.229999999999,
          284.751678736759,
          651.449321263242,
          572.449999999999,
          393.324374344616,
          262.894625655384,
          372.944,
          1043.59054542223,
          542.194505474998,
          615.976073397627
         ],
         "yaxis": "y"
        },
        {
         "hovertemplate": "<b>OLS trendline</b><br>calories = 110.931 * miles + 237.18<br>R<sup>2</sup>=0.745507<br><br>miles=%{x}<br>calories=%{y} <b>(trend)</b><extra></extra>",
         "legendgroup": "",
         "marker": {
          "color": "#636efa",
          "symbol": "circle"
         },
         "mode": "lines",
         "name": "",
         "showlegend": false,
         "type": "scatter",
         "x": [
          1.02085968918593,
          1.03307314202845,
          1.04357894297672,
          1.04407339411259,
          1.0473012982691,
          1.05012995289292,
          1.12011235963576,
          1.1717287319885,
          1.18271120299168,
          1.18786877768916,
          1.20006574670264,
          1.21955999053671,
          1.22091629785606,
          1.27022844833434,
          1.28111717280455,
          1.31897537626006,
          1.33042780457446,
          1.33540583984468,
          1.33962477804994,
          1.35682540099157,
          1.37181479302187,
          1.37900047499638,
          1.43085835163897,
          1.43660776370854,
          1.44204913694836,
          1.44969323949489,
          1.45278121152565,
          1.46935247453648,
          1.49286790889824,
          1.49959609834733,
          1.50265448247135,
          1.54259908460691,
          1.54693894343893,
          1.56006341136723,
          1.59246580096944,
          1.62864792636102,
          1.63135661677697,
          1.65805458842329,
          1.66715960767037,
          1.67474768248942,
          1.68078672005971,
          1.69404267859633,
          1.69659160384954,
          1.69672284643189,
          1.70456052752075,
          1.71613783203482,
          1.71794094343502,
          1.73270093793653,
          1.74327787085083,
          1.74913376973316,
          1.75416776296777,
          1.76076279732018,
          1.78579695064934,
          1.79824548028125,
          1.83967908633737,
          1.84184790812584,
          1.85440527763036,
          1.85544499963426,
          1.87219511738554,
          1.87380294959645,
          1.88083212526027,
          1.89107087649194,
          1.89608454529738,
          1.89697656857255,
          1.91121882024395,
          1.91247239571794,
          1.93924831880721,
          1.95001944723911,
          1.95208568625946,
          1.95703795415023,
          1.95813949360542,
          1.97817600981042,
          1.98023097524678,
          1.98099992105229,
          1.98679931123577,
          1.99074250417002,
          1.99423276417736,
          2.00072430076177,
          2.00356853780855,
          2.01974870809551,
          2.02828617493829,
          2.03039214641993,
          2.03270788076118,
          2.03393794752028,
          2.04075245650776,
          2.05379553861734,
          2.05500524675847,
          2.06906073711222,
          2.09386661635807,
          2.10438125038387,
          2.10740121672953,
          2.11259840610259,
          2.12564613842705,
          2.1285842643241,
          2.13641263331836,
          2.14394161037632,
          2.17399213702361,
          2.20374634562317,
          2.21038384965456,
          2.22612587092695,
          2.22799593687401,
          2.25666045646791,
          2.26028392517989,
          2.26079711110495,
          2.26359657460519,
          2.26398504839911,
          2.26411283381552,
          2.26420197015865,
          2.26541676155191,
          2.27309132369842,
          2.27627384758519,
          2.27933260769196,
          2.2831612153631,
          2.30485439186397,
          2.31448767523881,
          2.31764286144094,
          2.32169328726451,
          2.32284943275682,
          2.32622579769725,
          2.32694609758516,
          2.35462369720377,
          2.35882699078795,
          2.35958763075875,
          2.36571704183832,
          2.3701387969595,
          2.37595121835825,
          2.38297830580469,
          2.38776700172334,
          2.38807196003928,
          2.39956084172566,
          2.40258264325035,
          2.40374169480598,
          2.40700390365597,
          2.41555389972494,
          2.42009737153147,
          2.42336730809822,
          2.42443550748294,
          2.42826496376655,
          2.43204334173389,
          2.44393963006505,
          2.44691040697134,
          2.4722527167102,
          2.47516568018223,
          2.49112591114865,
          2.50860739151148,
          2.5437816642019,
          2.54800516981329,
          2.55189903307512,
          2.55947342604441,
          2.56667837221265,
          2.57760037782735,
          2.58055934701339,
          2.58216034386374,
          2.58355182420388,
          2.59981241283934,
          2.6004104557134,
          2.60089421809223,
          2.60308726635712,
          2.60929094780083,
          2.61591475964101,
          2.62577864649961,
          2.6273422179704,
          2.62882791851514,
          2.63278226984012,
          2.66240119276147,
          2.66399534134504,
          2.66557818227384,
          2.67531918411518,
          2.67553156393015,
          2.67971639580876,
          2.69171511419138,
          2.69370271786663,
          2.69596522483297,
          2.71279968637717,
          2.73333180445284,
          2.74515591247363,
          2.76389849179254,
          2.76598241334086,
          2.78205788189416,
          2.78720413257814,
          2.81114006946558,
          2.82652954394306,
          2.83184869093686,
          2.83664394734437,
          2.84430906495892,
          2.8613187713283,
          2.86277717893406,
          2.87606941015,
          2.87872246099597,
          2.88329461484827,
          2.894432379704,
          2.90597878468371,
          2.90857573468183,
          2.92118591797054,
          2.92863658125028,
          2.94017984163379,
          2.97282699606303,
          2.97639733449023,
          3.03990160880213,
          3.04175118954253,
          3.04626467765329,
          3.04725789539492,
          3.04972805379401,
          3.07222688980633,
          3.07426339218733,
          3.07577656480184,
          3.10692500065642,
          3.12278360339361,
          3.16028157941314,
          3.1639929816614,
          3.16400245247995,
          3.16673590682393,
          3.16800103447259,
          3.17701484772975,
          3.18454527343861,
          3.20731973635455,
          3.2434050073374,
          3.25147914430459,
          3.25312449039869,
          3.28797041839698,
          3.29418180158206,
          3.29831027081233,
          3.32335823408366,
          3.36695868951072,
          3.37690587044714,
          3.39927874879608,
          3.41331435360436,
          3.50761759282414,
          3.51503809870662,
          3.52469636875327,
          3.53286239904294,
          3.5481121277546,
          3.57583583270703,
          3.57788624233396,
          3.59909596327138,
          3.60936679163614,
          3.6350486326847,
          3.66706679974464,
          3.66817497635389,
          3.67333426996896,
          3.68442987236766,
          3.69976795024191,
          3.70011871983419,
          3.71458532922639,
          3.7190895060851,
          3.72150093949588,
          3.7227182960896,
          3.77172795121953,
          3.77390625979149,
          3.81406762887154,
          3.84538550726899,
          3.8506157664763,
          3.85977092637756,
          3.88146123130472,
          3.93337338839219,
          3.94669870357063,
          3.98827009174983,
          4.05399509002682,
          4.05593794726139,
          4.10190210606757,
          4.10645178320774,
          4.11092442614219,
          4.12281937306264,
          4.12356901644297,
          4.13014378981128,
          4.15006157645799,
          4.15423157762682,
          4.15937533849185,
          4.16650323754961,
          4.17534613850156,
          4.19630273149514,
          4.19995757674169,
          4.20083506972067,
          4.21207813324155,
          4.23169682968375,
          4.23551840436992,
          4.24885427172951,
          4.29476670321422,
          4.30305287573727,
          4.35558176186636,
          4.43755432604092,
          4.43786913607224,
          4.45093540451652,
          4.47365963505051,
          4.4797453294823,
          4.48008421871056,
          4.48330908897347,
          4.51025543871143,
          4.55749000607362,
          4.57958969605246,
          4.58163668686538,
          4.59853436217258,
          4.62114411417071,
          4.62545801063221,
          4.67106078271619,
          4.70645776944762,
          4.72188839635251,
          4.770094163346,
          4.77545069083959,
          4.79325111997681,
          4.80552497172347,
          4.86164569335249,
          4.87067328327157,
          4.88760038017272,
          4.89356732858663,
          4.91135236178864,
          4.92475807397587,
          4.92650001152228,
          4.95315955612041,
          4.96664389123943,
          4.98869972464642,
          4.99399474922013,
          5.03895330744063,
          5.09908122725748,
          5.19440534065112,
          5.28063031538382,
          5.33128756527608,
          5.33963920438035,
          5.39740332541934,
          5.73792989060081,
          5.82539869642723,
          6.02558914801752,
          6.04815434303131,
          6.11315445609744,
          6.13790113658745,
          6.16311529348146,
          6.17385569064731,
          6.30859381572157,
          6.3910794952137,
          6.50122232997997,
          6.6461977858349,
          6.6670065029303,
          6.80903627677101,
          6.85741086647214,
          6.9156556257296,
          6.92860194070912,
          7.00561515721937,
          7.05341557654305,
          7.17115970113234,
          7.21859313863329,
          7.34874149593573,
          7.47629183662241,
          7.61856665054742,
          7.70344248162788,
          7.78597023788843,
          7.7997719160753,
          7.93652008573604,
          8.13610812634908,
          8.19690687426542,
          8.20587697144449,
          8.24397674111505,
          8.37388493141669,
          8.72222396444854,
          8.81002431852695,
          8.98289631285285,
          9.15488172961112,
          9.25305349115031,
          9.49152221637672,
          9.91535536436513,
          10.0515968865464,
          10.1391572699686,
          10.1934268765139
         ],
         "xaxis": "x",
         "y": [
          350.42469780533946,
          351.77954320196113,
          352.9449577850537,
          352.99980753589205,
          353.3578808132504,
          353.67166510874245,
          361.43485401548213,
          367.16068809157196,
          368.378979959895,
          368.9511127078339,
          370.30412954375436,
          372.4666373013689,
          372.6170932577409,
          378.0873186669239,
          379.295211178056,
          383.49484361103146,
          384.76526811604003,
          385.3174844513418,
          385.78549370963503,
          387.6935687734172,
          389.3563507116835,
          390.1534625743386,
          395.9060868611565,
          396.54387247151385,
          397.14748715610204,
          397.9954518782824,
          398.3380024038968,
          400.17626220609344,
          402.7848429576129,
          403.53120490948965,
          403.870473231475,
          408.3015510782602,
          408.78297413170503,
          410.23887895936036,
          413.83329480213166,
          417.84699892485986,
          418.14747552130166,
          421.1090969768022,
          422.1191220345903,
          422.9608715685156,
          423.63078550338975,
          425.10127666037215,
          425.3840304147913,
          425.39858923045387,
          426.26802773243605,
          427.5523048265897,
          427.75232501839423,
          429.38965975594795,
          430.5629650492247,
          431.212563303388,
          431.7709870880848,
          432.50257806797686,
          435.2796311940389,
          436.6605537950404,
          441.2568077090143,
          441.49739636597224,
          442.8903926370714,
          443.0057296010662,
          444.86382986319563,
          445.04218762144626,
          445.8219381484239,
          446.9577287518058,
          447.5138979358049,
          447.61285059428945,
          449.1927518198745,
          449.3318116731488,
          452.30208032735743,
          453.49692784186004,
          453.7261369329449,
          454.2754948779224,
          454.39768928758724,
          456.6203516333386,
          456.8483101392229,
          456.933609742724,
          457.57693945419976,
          458.014360129896,
          458.40153669371705,
          459.12164660626934,
          459.43715946896407,
          461.23203512882037,
          462.17910126973027,
          462.412717905755,
          462.66960365726976,
          462.8060556751874,
          463.56199310344533,
          465.00886975509957,
          465.1430633797362,
          466.70224706420106,
          469.45397761400824,
          470.62037205550644,
          470.95537867109067,
          471.53190589793246,
          472.97929840061624,
          473.3052264078424,
          474.17363191377797,
          475.00882569884214,
          478.3423480220622,
          481.6429996126501,
          482.3793017786255,
          484.1255733145638,
          484.33302081302486,
          487.5127925711769,
          487.9147460537447,
          487.97167406559714,
          488.2822201728459,
          488.3253137957703,
          488.3394891060131,
          488.3493770521753,
          488.48413456491437,
          489.3354781881596,
          489.688517405916,
          490.02782743588557,
          490.4525371019888,
          492.85897373373166,
          493.92759943712946,
          494.27760606969764,
          494.72692215190466,
          494.8551740408895,
          495.22971615898166,
          495.3096194426726,
          498.3799115964411,
          498.84618538785816,
          498.930563620305,
          499.6105027408988,
          500.1010105971262,
          500.74578586885815,
          501.52530474867257,
          502.0565175600584,
          502.0903467626468,
          503.36481506131923,
          503.70002525437593,
          503.8285995146478,
          504.19047823151976,
          505.1389342467466,
          505.6429442053659,
          506.00568016233314,
          506.12417613867353,
          506.54897994184955,
          506.96811759782224,
          508.287779751529,
          508.6173297541183,
          511.4285668491616,
          511.75170357400873,
          513.5221812376708,
          515.461411977831,
          519.3633144167728,
          519.8318303400731,
          520.263778846641,
          521.1040106450494,
          521.9032594958708,
          523.1148439036343,
          523.4430840689784,
          523.6206835767238,
          523.7750412966607,
          525.5788378104862,
          525.645179052832,
          525.6988430936619,
          525.9421192076786,
          526.6302971827764,
          527.3650804660518,
          528.4592871474454,
          528.6327350361631,
          528.7975446579592,
          529.2362031404009,
          532.5218474123611,
          532.6986872379067,
          532.8742726987605,
          533.9548476740267,
          533.9784070898904,
          534.4426329136174,
          535.7736576922498,
          535.994143718965,
          536.245124926957,
          538.1125814948786,
          540.390221243146,
          541.7018763932238,
          543.7810015708833,
          544.0121721950358,
          545.7954332309445,
          546.3663097995081,
          549.0215371397139,
          550.7287004555333,
          551.3187565118694,
          551.8506970820836,
          552.7009930179292,
          554.5878895957921,
          554.7496715960617,
          556.2241865023666,
          556.5184909690896,
          557.025682643656,
          558.2612013489729,
          559.5420507398861,
          559.8301319070692,
          561.228986841833,
          562.0554932341278,
          563.3359937931635,
          566.9575615399403,
          567.35362124925,
          574.398187173944,
          574.6033622365674,
          575.1040460864513,
          575.2142243057019,
          575.4882404073799,
          577.9840493152847,
          578.2099597037459,
          578.3778168181504,
          581.8331308455337,
          583.5923348308744,
          587.7520070257692,
          588.1637150264387,
          588.1647656298251,
          588.467989303144,
          588.6083306458443,
          589.6082381703532,
          590.4435926551006,
          592.9699770150393,
          596.9729370221187,
          597.8686057116154,
          598.0511249066526,
          601.9166038787522,
          602.6056362124802,
          603.0636096949875,
          605.8421947659317,
          610.6788185354449,
          611.7822650771265,
          614.2641014284906,
          615.8210791978806,
          626.2821921354622,
          627.1053531502148,
          628.1767506395862,
          629.082613108561,
          630.7742743456513,
          633.8496809907999,
          634.077134118106,
          636.4299407442265,
          637.5692896825578,
          640.4181911824085,
          643.969984996063,
          644.0929156690712,
          644.6652390975338,
          645.8960806970762,
          647.5975425579354,
          647.6364536319375,
          649.2412429894164,
          649.7408939367183,
          650.0083956414353,
          650.1434377133469,
          655.5801071383626,
          655.8217481697068,
          660.2768720991738,
          663.7509824859617,
          664.3311781686675,
          665.3467653582602,
          667.7528834446684,
          673.5115290926706,
          674.9897140220944,
          679.601252186771,
          686.8921643069322,
          687.1076865850702,
          692.2065173392476,
          692.7112156591212,
          693.2073685299437,
          694.5268818801835,
          694.6100402544814,
          695.3393836716741,
          697.5488752787682,
          698.0114559232709,
          698.5820562947765,
          699.3727582650145,
          700.3537063885312,
          702.6784333852556,
          703.0838674849733,
          703.181208289287,
          704.4284078365075,
          706.6047211940123,
          707.02865068702,
          708.5080061760095,
          713.6010987884613,
          714.5202887049593,
          720.3473484626957,
          729.4406124768266,
          729.4755345359072,
          730.9249832610969,
          733.4457953138162,
          734.1208849213557,
          734.1584780996969,
          734.5162148254814,
          737.5053890065232,
          742.7451469175115,
          745.1966783247772,
          745.4237522010652,
          747.2982211083233,
          749.8063339907654,
          750.2848770234136,
          755.3436189392188,
          759.2702271757033,
          760.9819555541266,
          766.329449202636,
          766.9236518994609,
          768.8982638118671,
          770.2598092939019,
          776.4853134436746,
          777.4867492212683,
          779.3644818829813,
          780.0263989259914,
          781.9993029583891,
          783.4864063745558,
          783.6796405153337,
          786.6369992361255,
          788.1328243396463,
          790.5794907119994,
          791.1668708543056,
          796.154149753171,
          802.8241747184852,
          813.3985338193604,
          822.9635201992734,
          828.5829582653952,
          829.5094104276595,
          835.9172178256715,
          873.6920268999166,
          883.3949921833578,
          905.6022349084009,
          908.1054050587671,
          915.315905242707,
          918.061068840247,
          920.8580898659978,
          922.049528343361,
          936.9961065845905,
          946.1462907780442,
          958.3644992222951,
          974.4467104954543,
          976.7550335331587,
          992.5104785946384,
          997.8766998438714,
          1004.3378247177955,
          1005.7739669356744,
          1014.3170876414491,
          1019.61961583821,
          1032.6810397644294,
          1037.942858455076,
          1052.3802910994464,
          1066.5295242561215,
          1082.3121517560548,
          1091.727476849337,
          1100.8823286430784,
          1102.4133567968888,
          1117.5829104481118,
          1139.7233273745928,
          1146.467767689459,
          1147.4628257641093,
          1151.6892552772113,
          1166.1000460571024,
          1204.7414967141842,
          1214.4812408372177,
          1233.658031277825,
          1252.736473155439,
          1263.6267235141709,
          1290.0801973005869,
          1337.0962538483818,
          1352.2096048013082,
          1361.9227288404813,
          1367.942887722038
         ],
         "yaxis": "y"
        }
       ],
       "layout": {
        "legend": {
         "tracegroupgap": 0
        },
        "template": {
         "data": {
          "bar": [
           {
            "error_x": {
             "color": "#2a3f5f"
            },
            "error_y": {
             "color": "#2a3f5f"
            },
            "marker": {
             "line": {
              "color": "#E5ECF6",
              "width": 0.5
             },
             "pattern": {
              "fillmode": "overlay",
              "size": 10,
              "solidity": 0.2
             }
            },
            "type": "bar"
           }
          ],
          "barpolar": [
           {
            "marker": {
             "line": {
              "color": "#E5ECF6",
              "width": 0.5
             },
             "pattern": {
              "fillmode": "overlay",
              "size": 10,
              "solidity": 0.2
             }
            },
            "type": "barpolar"
           }
          ],
          "carpet": [
           {
            "aaxis": {
             "endlinecolor": "#2a3f5f",
             "gridcolor": "white",
             "linecolor": "white",
             "minorgridcolor": "white",
             "startlinecolor": "#2a3f5f"
            },
            "baxis": {
             "endlinecolor": "#2a3f5f",
             "gridcolor": "white",
             "linecolor": "white",
             "minorgridcolor": "white",
             "startlinecolor": "#2a3f5f"
            },
            "type": "carpet"
           }
          ],
          "choropleth": [
           {
            "colorbar": {
             "outlinewidth": 0,
             "ticks": ""
            },
            "type": "choropleth"
           }
          ],
          "contour": [
           {
            "colorbar": {
             "outlinewidth": 0,
             "ticks": ""
            },
            "colorscale": [
             [
              0,
              "#0d0887"
             ],
             [
              0.1111111111111111,
              "#46039f"
             ],
             [
              0.2222222222222222,
              "#7201a8"
             ],
             [
              0.3333333333333333,
              "#9c179e"
             ],
             [
              0.4444444444444444,
              "#bd3786"
             ],
             [
              0.5555555555555556,
              "#d8576b"
             ],
             [
              0.6666666666666666,
              "#ed7953"
             ],
             [
              0.7777777777777778,
              "#fb9f3a"
             ],
             [
              0.8888888888888888,
              "#fdca26"
             ],
             [
              1,
              "#f0f921"
             ]
            ],
            "type": "contour"
           }
          ],
          "contourcarpet": [
           {
            "colorbar": {
             "outlinewidth": 0,
             "ticks": ""
            },
            "type": "contourcarpet"
           }
          ],
          "heatmap": [
           {
            "colorbar": {
             "outlinewidth": 0,
             "ticks": ""
            },
            "colorscale": [
             [
              0,
              "#0d0887"
             ],
             [
              0.1111111111111111,
              "#46039f"
             ],
             [
              0.2222222222222222,
              "#7201a8"
             ],
             [
              0.3333333333333333,
              "#9c179e"
             ],
             [
              0.4444444444444444,
              "#bd3786"
             ],
             [
              0.5555555555555556,
              "#d8576b"
             ],
             [
              0.6666666666666666,
              "#ed7953"
             ],
             [
              0.7777777777777778,
              "#fb9f3a"
             ],
             [
              0.8888888888888888,
              "#fdca26"
             ],
             [
              1,
              "#f0f921"
             ]
            ],
            "type": "heatmap"
           }
          ],
          "heatmapgl": [
           {
            "colorbar": {
             "outlinewidth": 0,
             "ticks": ""
            },
            "colorscale": [
             [
              0,
              "#0d0887"
             ],
             [
              0.1111111111111111,
              "#46039f"
             ],
             [
              0.2222222222222222,
              "#7201a8"
             ],
             [
              0.3333333333333333,
              "#9c179e"
             ],
             [
              0.4444444444444444,
              "#bd3786"
             ],
             [
              0.5555555555555556,
              "#d8576b"
             ],
             [
              0.6666666666666666,
              "#ed7953"
             ],
             [
              0.7777777777777778,
              "#fb9f3a"
             ],
             [
              0.8888888888888888,
              "#fdca26"
             ],
             [
              1,
              "#f0f921"
             ]
            ],
            "type": "heatmapgl"
           }
          ],
          "histogram": [
           {
            "marker": {
             "pattern": {
              "fillmode": "overlay",
              "size": 10,
              "solidity": 0.2
             }
            },
            "type": "histogram"
           }
          ],
          "histogram2d": [
           {
            "colorbar": {
             "outlinewidth": 0,
             "ticks": ""
            },
            "colorscale": [
             [
              0,
              "#0d0887"
             ],
             [
              0.1111111111111111,
              "#46039f"
             ],
             [
              0.2222222222222222,
              "#7201a8"
             ],
             [
              0.3333333333333333,
              "#9c179e"
             ],
             [
              0.4444444444444444,
              "#bd3786"
             ],
             [
              0.5555555555555556,
              "#d8576b"
             ],
             [
              0.6666666666666666,
              "#ed7953"
             ],
             [
              0.7777777777777778,
              "#fb9f3a"
             ],
             [
              0.8888888888888888,
              "#fdca26"
             ],
             [
              1,
              "#f0f921"
             ]
            ],
            "type": "histogram2d"
           }
          ],
          "histogram2dcontour": [
           {
            "colorbar": {
             "outlinewidth": 0,
             "ticks": ""
            },
            "colorscale": [
             [
              0,
              "#0d0887"
             ],
             [
              0.1111111111111111,
              "#46039f"
             ],
             [
              0.2222222222222222,
              "#7201a8"
             ],
             [
              0.3333333333333333,
              "#9c179e"
             ],
             [
              0.4444444444444444,
              "#bd3786"
             ],
             [
              0.5555555555555556,
              "#d8576b"
             ],
             [
              0.6666666666666666,
              "#ed7953"
             ],
             [
              0.7777777777777778,
              "#fb9f3a"
             ],
             [
              0.8888888888888888,
              "#fdca26"
             ],
             [
              1,
              "#f0f921"
             ]
            ],
            "type": "histogram2dcontour"
           }
          ],
          "mesh3d": [
           {
            "colorbar": {
             "outlinewidth": 0,
             "ticks": ""
            },
            "type": "mesh3d"
           }
          ],
          "parcoords": [
           {
            "line": {
             "colorbar": {
              "outlinewidth": 0,
              "ticks": ""
             }
            },
            "type": "parcoords"
           }
          ],
          "pie": [
           {
            "automargin": true,
            "type": "pie"
           }
          ],
          "scatter": [
           {
            "marker": {
             "colorbar": {
              "outlinewidth": 0,
              "ticks": ""
             }
            },
            "type": "scatter"
           }
          ],
          "scatter3d": [
           {
            "line": {
             "colorbar": {
              "outlinewidth": 0,
              "ticks": ""
             }
            },
            "marker": {
             "colorbar": {
              "outlinewidth": 0,
              "ticks": ""
             }
            },
            "type": "scatter3d"
           }
          ],
          "scattercarpet": [
           {
            "marker": {
             "colorbar": {
              "outlinewidth": 0,
              "ticks": ""
             }
            },
            "type": "scattercarpet"
           }
          ],
          "scattergeo": [
           {
            "marker": {
             "colorbar": {
              "outlinewidth": 0,
              "ticks": ""
             }
            },
            "type": "scattergeo"
           }
          ],
          "scattergl": [
           {
            "marker": {
             "colorbar": {
              "outlinewidth": 0,
              "ticks": ""
             }
            },
            "type": "scattergl"
           }
          ],
          "scattermapbox": [
           {
            "marker": {
             "colorbar": {
              "outlinewidth": 0,
              "ticks": ""
             }
            },
            "type": "scattermapbox"
           }
          ],
          "scatterpolar": [
           {
            "marker": {
             "colorbar": {
              "outlinewidth": 0,
              "ticks": ""
             }
            },
            "type": "scatterpolar"
           }
          ],
          "scatterpolargl": [
           {
            "marker": {
             "colorbar": {
              "outlinewidth": 0,
              "ticks": ""
             }
            },
            "type": "scatterpolargl"
           }
          ],
          "scatterternary": [
           {
            "marker": {
             "colorbar": {
              "outlinewidth": 0,
              "ticks": ""
             }
            },
            "type": "scatterternary"
           }
          ],
          "surface": [
           {
            "colorbar": {
             "outlinewidth": 0,
             "ticks": ""
            },
            "colorscale": [
             [
              0,
              "#0d0887"
             ],
             [
              0.1111111111111111,
              "#46039f"
             ],
             [
              0.2222222222222222,
              "#7201a8"
             ],
             [
              0.3333333333333333,
              "#9c179e"
             ],
             [
              0.4444444444444444,
              "#bd3786"
             ],
             [
              0.5555555555555556,
              "#d8576b"
             ],
             [
              0.6666666666666666,
              "#ed7953"
             ],
             [
              0.7777777777777778,
              "#fb9f3a"
             ],
             [
              0.8888888888888888,
              "#fdca26"
             ],
             [
              1,
              "#f0f921"
             ]
            ],
            "type": "surface"
           }
          ],
          "table": [
           {
            "cells": {
             "fill": {
              "color": "#EBF0F8"
             },
             "line": {
              "color": "white"
             }
            },
            "header": {
             "fill": {
              "color": "#C8D4E3"
             },
             "line": {
              "color": "white"
             }
            },
            "type": "table"
           }
          ]
         },
         "layout": {
          "annotationdefaults": {
           "arrowcolor": "#2a3f5f",
           "arrowhead": 0,
           "arrowwidth": 1
          },
          "autotypenumbers": "strict",
          "coloraxis": {
           "colorbar": {
            "outlinewidth": 0,
            "ticks": ""
           }
          },
          "colorscale": {
           "diverging": [
            [
             0,
             "#8e0152"
            ],
            [
             0.1,
             "#c51b7d"
            ],
            [
             0.2,
             "#de77ae"
            ],
            [
             0.3,
             "#f1b6da"
            ],
            [
             0.4,
             "#fde0ef"
            ],
            [
             0.5,
             "#f7f7f7"
            ],
            [
             0.6,
             "#e6f5d0"
            ],
            [
             0.7,
             "#b8e186"
            ],
            [
             0.8,
             "#7fbc41"
            ],
            [
             0.9,
             "#4d9221"
            ],
            [
             1,
             "#276419"
            ]
           ],
           "sequential": [
            [
             0,
             "#0d0887"
            ],
            [
             0.1111111111111111,
             "#46039f"
            ],
            [
             0.2222222222222222,
             "#7201a8"
            ],
            [
             0.3333333333333333,
             "#9c179e"
            ],
            [
             0.4444444444444444,
             "#bd3786"
            ],
            [
             0.5555555555555556,
             "#d8576b"
            ],
            [
             0.6666666666666666,
             "#ed7953"
            ],
            [
             0.7777777777777778,
             "#fb9f3a"
            ],
            [
             0.8888888888888888,
             "#fdca26"
            ],
            [
             1,
             "#f0f921"
            ]
           ],
           "sequentialminus": [
            [
             0,
             "#0d0887"
            ],
            [
             0.1111111111111111,
             "#46039f"
            ],
            [
             0.2222222222222222,
             "#7201a8"
            ],
            [
             0.3333333333333333,
             "#9c179e"
            ],
            [
             0.4444444444444444,
             "#bd3786"
            ],
            [
             0.5555555555555556,
             "#d8576b"
            ],
            [
             0.6666666666666666,
             "#ed7953"
            ],
            [
             0.7777777777777778,
             "#fb9f3a"
            ],
            [
             0.8888888888888888,
             "#fdca26"
            ],
            [
             1,
             "#f0f921"
            ]
           ]
          },
          "colorway": [
           "#636efa",
           "#EF553B",
           "#00cc96",
           "#ab63fa",
           "#FFA15A",
           "#19d3f3",
           "#FF6692",
           "#B6E880",
           "#FF97FF",
           "#FECB52"
          ],
          "font": {
           "color": "#2a3f5f"
          },
          "geo": {
           "bgcolor": "white",
           "lakecolor": "white",
           "landcolor": "#E5ECF6",
           "showlakes": true,
           "showland": true,
           "subunitcolor": "white"
          },
          "hoverlabel": {
           "align": "left"
          },
          "hovermode": "closest",
          "mapbox": {
           "style": "light"
          },
          "paper_bgcolor": "white",
          "plot_bgcolor": "#E5ECF6",
          "polar": {
           "angularaxis": {
            "gridcolor": "white",
            "linecolor": "white",
            "ticks": ""
           },
           "bgcolor": "#E5ECF6",
           "radialaxis": {
            "gridcolor": "white",
            "linecolor": "white",
            "ticks": ""
           }
          },
          "scene": {
           "xaxis": {
            "backgroundcolor": "#E5ECF6",
            "gridcolor": "white",
            "gridwidth": 2,
            "linecolor": "white",
            "showbackground": true,
            "ticks": "",
            "zerolinecolor": "white"
           },
           "yaxis": {
            "backgroundcolor": "#E5ECF6",
            "gridcolor": "white",
            "gridwidth": 2,
            "linecolor": "white",
            "showbackground": true,
            "ticks": "",
            "zerolinecolor": "white"
           },
           "zaxis": {
            "backgroundcolor": "#E5ECF6",
            "gridcolor": "white",
            "gridwidth": 2,
            "linecolor": "white",
            "showbackground": true,
            "ticks": "",
            "zerolinecolor": "white"
           }
          },
          "shapedefaults": {
           "line": {
            "color": "#2a3f5f"
           }
          },
          "ternary": {
           "aaxis": {
            "gridcolor": "white",
            "linecolor": "white",
            "ticks": ""
           },
           "baxis": {
            "gridcolor": "white",
            "linecolor": "white",
            "ticks": ""
           },
           "bgcolor": "#E5ECF6",
           "caxis": {
            "gridcolor": "white",
            "linecolor": "white",
            "ticks": ""
           }
          },
          "title": {
           "x": 0.05
          },
          "xaxis": {
           "automargin": true,
           "gridcolor": "white",
           "linecolor": "white",
           "ticks": "",
           "title": {
            "standoff": 15
           },
           "zerolinecolor": "white",
           "zerolinewidth": 2
          },
          "yaxis": {
           "automargin": true,
           "gridcolor": "white",
           "linecolor": "white",
           "ticks": "",
           "title": {
            "standoff": 15
           },
           "zerolinecolor": "white",
           "zerolinewidth": 2
          }
         }
        },
        "title": {
         "text": "Miles vs. Calories\nTrednline: R^2: 0.8634 Calories = 110.93*miles + 237.18"
        },
        "xaxis": {
         "anchor": "y",
         "domain": [
          0,
          1
         ],
         "title": {
          "text": "miles"
         }
        },
        "yaxis": {
         "anchor": "x",
         "domain": [
          0,
          1
         ],
         "range": [
          0,
          1650
         ],
         "title": {
          "text": "calories"
         }
        }
       }
      },
      "text/html": [
       "<div>                            <div id=\"dee29068-9b50-42e4-a0a8-6e2b64e8d710\" class=\"plotly-graph-div\" style=\"height:525px; width:100%;\"></div>            <script type=\"text/javascript\">                require([\"plotly\"], function(Plotly) {                    window.PLOTLYENV=window.PLOTLYENV || {};                                    if (document.getElementById(\"dee29068-9b50-42e4-a0a8-6e2b64e8d710\")) {                    Plotly.newPlot(                        \"dee29068-9b50-42e4-a0a8-6e2b64e8d710\",                        [{\"hovertemplate\":\"miles=%{x}<br>calories=%{y}<extra></extra>\",\"legendgroup\":\"\",\"marker\":{\"color\":\"#636efa\",\"symbol\":\"circle\"},\"mode\":\"markers\",\"name\":\"\",\"orientation\":\"v\",\"showlegend\":false,\"x\":[3.7227182960896,1.89697656857255,1.69672284643189,1.50265448247135,2.17399213702361,2.8613187713283,2.03039214641993,1.91121882024395,2.31448767523881,1.95208568625946,6.92860194070912,4.15937533849185,1.89107087649194,6.6670065029303,6.13790113658745,4.21207813324155,6.17385569064731,2.58355182420388,1.83967908633737,3.50761759282414,2.22612587092695,3.57788624233396,2.35958763075875,2.90857573468183,2.32284943275682,2.62577864649961,2.26028392517989,2.69171511419138,3.39927874879608,1.75416776296777,1.54259908460691,2.27627384758519,2.55947342604441,2.35882699078795,3.16028157941314,2.78205788189416,4.72188839635251,3.51503809870662,2.00356853780855,3.77172795121953,1.95001944723911,2.66399534134504,3.53286239904294,3.69976795024191,2.37595121835825,3.5481121277546,2.82652954394306,1.98679931123577,4.70645776944762,1.49286790889824,4.92650001152228,1.93924831880721,2.67971639580876,1.65805458842329,3.16673590682393,1.88083212526027,1.91247239571794,4.95315955612041,2.09386661635807,2.56667837221265,2.26359657460519,2.32694609758516,2.54800516981329,2.12564613842705,9.91535536436513,1.84184790812584,1.87380294959645,1.95813949360542,1.89608454529738,1.98099992105229,1.43085835163897,3.71458532922639,2.22799593687401,3.07577656480184,2.21038384965456,1.87219511738554,2.11259840610259,3.25147914430459,3.59909596327138,2.73333180445284,6.6461977858349,5.33128756527608,3.93337338839219,2.39956084172566,2.60089421809223,3.07426339218733,2.6004104557134,1.59246580096944,2.38807196003928,2.86277717893406,1.68078672005971,8.98289631285285,4.62545801063221,2.05500524675847,3.04972805379401,2.50860739151148,2.81114006946558,3.88146123130472,3.68442987236766,10.1391572699686,2.47516568018223,1.74913376973316,2.40258264325035,3.7190895060851,4.770094163346,1.44969323949489,2.27933260769196,2.41555389972494,2.31764286144094,2.74515591247363,2.42443550748294,4.48008421871056,3.67333426996896,3.66706679974464,2.66240119276147,2.04075245650776,4.79325111997681,2.1285842643241,2.67531918411518,3.32335823408366,2.27309132369842,2.26398504839911,3.12278360339361,3.98827009174983,5.33963920438035,2.55189903307512,2.67553156393015,2.59981241283934,1.22091629785606,2.03393794752028,2.92118591797054,1.37181479302187,3.94669870357063,4.17534613850156,4.30305287573727,2.78720413257814,2.94017984163379,3.04725789539492,1.62864792636102,4.51025543871143,3.70011871983419,2.38776700172334,2.32622579769725,3.20731973635455,3.16800103447259,3.04175118954253,6.04815434303131,4.35558176186636,2.63278226984012,4.96664389123943,3.03990160880213,2.90597878468371,2.36571704183832,4.16650323754961,4.10190210606757,4.43755432604092,2.60929094780083,3.25312449039869,6.16311529348146,2.32169328726451,2.13641263331836,2.20374634562317,4.13014378981128,3.29418180158206,1.95703795415023,3.37690587044714,7.47629183662241,7.7997719160753,2.44393963006505,3.72150093949588,3.36695868951072,4.59853436217258,4.99399474922013,8.81002431852695,2.69370271786663,2.894432379704,1.04357894297672,10.0515968865464,1.85440527763036,2.83184869093686,6.11315445609744,2.06906073711222,8.13610812634908,9.25305349115031,7.78597023788843,2.87606941015,1.69659160384954,4.98869972464642,3.10692500065642,6.85741086647214,6.9156556257296,9.49152221637672,3.2434050073374,1.66715960767037,2.58055934701339,2.87872246099597,10.1934268765139,6.80903627677101,8.37388493141669,1.74327787085083,2.97282699606303,2.43204334173389,7.00561515721937,7.34874149593573,7.17115970113234,1.79824548028125,5.03895330744063,2.10740121672953,3.85977092637756,3.28797041839698,3.52469636875327,2.42336730809822,4.92475807397587,3.41331435360436,1.70456052752075,2.58216034386374,1.98023097524678,1.35682540099157,8.72222396444854,6.50122232997997,1.85544499963426,4.19630273149514,4.77545069083959,9.15488172961112,7.61856665054742,7.93652008573604,1.71794094343502,6.02558914801752,4.47365963505051,2.69596522483297,1.33962477804994,8.19690687426542,7.21859313863329,1.67474768248942,1.43660776370854,8.20587697144449,1.73270093793653,1.99423276417736,8.24397674111505,7.05341557654305,4.23169682968375,2.76389849179254,4.12356901644297,4.24885427172951,2.4722527167102,2.05379553861734,4.15006157645799,3.57583583270703,4.58163668686538,2.38297830580469,4.45093540451652,2.2831612153631,1.71613783203482,1.97817600981042,2.42826496376655,5.19440534065112,2.71279968637717,1.18271120299168,1.37900047499638,2.5437816642019,1.54693894343893,3.60936679163614,4.91135236178864,1.20006574670264,4.05593794726139,2.40374169480598,4.80552497172347,3.07222688980633,1.99074250417002,6.3910794952137,1.02085968918593,3.77390625979149,5.09908122725748,2.6273422179704,2.00072430076177,2.40700390365597,4.20083506972067,1.12011235963576,1.27022844833434,2.35462369720377,4.15423157762682,2.66557818227384,2.14394161037632,3.6350486326847,1.31897537626006,4.62114411417071,3.18454527343861,5.39740332541934,2.26079711110495,2.26420197015865,4.88760038017272,1.18786877768916,4.10645178320774,3.66817497635389,1.21955999053671,2.60308726635712,2.01974870809551,2.26411283381552,2.44691040697134,1.45278121152565,2.26541676155191,2.61591475964101,1.78579695064934,3.29831027081233,4.57958969605246,2.49112591114865,1.05012995289292,3.84538550726899,3.1639929816614,1.04407339411259,1.33540583984468,4.19995757674169,1.03307314202845,4.4797453294823,3.81406762887154,5.28063031538382,1.46935247453648,4.43786913607224,3.8506157664763,4.55749000607362,2.97639733449023,4.05399509002682,1.44204913694836,1.33042780457446,2.10438125038387,2.3701387969595,1.28111717280455,1.63135661677697,2.84430906495892,4.48330908897347,2.25666045646791,5.82539869642723,2.30485439186397,2.62882791851514,1.49959609834733,7.70344248162788,2.57760037782735,4.86164569335249,3.16400245247995,4.67106078271619,4.12281937306264,4.89356732858663,6.30859381572157,3.04626467765329,4.11092442614219,4.87067328327157,2.76598241334086,1.76076279732018,1.0473012982691,2.88329461484827,4.29476670321422,2.02828617493829,4.23551840436992,1.1717287319885,2.83664394734437,3.17701484772975,1.56006341136723,2.03270788076118,1.69404267859633,5.73792989060081,2.42009737153147,2.92863658125028],\"xaxis\":\"x\",\"y\":[692.881761274166,536.691407956743,276.350999999999,270.923146762041,397.484041234037,702.107462456384,519.341933890192,581.203987582989,527.071428074356,411.312179296951,1079.65282070305,829.228614293344,341.860385706658,962.018,950.258562819967,782.377880005755,863.036557174281,601.390587040521,492.184507807422,847.532824984648,526.002080167403,740.463040158474,443.602185651039,578.325922047423,562.67506105348,804.732100452362,625.442690637212,599.247000000001,942.563408961203,519.651591038795,346.525003615485,730.10611961992,625.839986220131,649.155890544466,738.649016125774,667.74798387423,868.244999999995,780.348999999994,524.527,729.921999999999,555.046,602.153999999999,853.013405611315,705.983594388686,364.538323219297,727.747711180903,740.778859978545,581.65610562125,984.971133534053,155.542866465948,1014.957,416.307999999999,635.235,360.860429151479,805.50064114854,272.074929699984,349.804545181544,887.250396414423,607.351058404035,566.378928260796,730.352262013146,595.26380972606,697.87973010914,725.171269890861,1500.07696169728,478.416038302721,489.886000000002,449.428000000002,489.258640602509,522.488359397494,360.299000000001,759.501,383.644000000001,625.488000000002,590.134000000003,522.654,631.001360707732,474.761639292269,613.390000000001,522.688180287642,642.310819712365,874.482543178304,191.519456821696,684.538090706095,553.755000000001,479.437000000001,724.016652267443,475.901347732558,618.385603417631,717.536429880361,482.332966702008,1535.93199999995,812.251000000002,492.491395118112,716.233325308533,521.111279573353,661.526402369546,801.419597630454,565.346,1625.688,540.542126153119,411.100873846882,670.561999999999,678.925000000001,995.140506432119,386.344337030111,472.877156537772,536.63,612.783437700391,538.090562299611,335.021391714572,837.034179979101,631.833428306328,808.075,634.446,587.592,616.007,536.116141402322,491.464858597676,622.062,566.847547364073,592.330297460266,440.162771034808,603.014384140851,799.475909382761,475.292090617239,491.172,569.617245538077,163.189414172474,515.060243889038,609.084531973524,263.783970592476,772.215473035205,780.594397650478,534.94972314873,515.984000000001,520.177803481137,548.641196518863,372.587999999999,708.202000000001,692.314146984756,299.498853015245,414.976062800549,605.166743715387,633.522193484066,550.957,963.982000000002,769.025828518746,415.53518421234,573.321987268914,415.857607961909,706.426392038091,571.292014001682,800.056985998318,693.977540662708,706.132459337292,515.119183178456,652.695816821545,886.734124816746,458.061273121753,411.964602061503,439.290226740476,638.679394862505,654.890378397021,327.140631450129,600.059159172363,1051.88220937751,1319.18843597884,556.875000745648,572.513563275512,530.767227956033,629.142590744154,503.782181299813,858.383926285102,420.1420737149,741.233639167498,386.271360832504,1267.95233365905,359.063666340958,509.083,875.847246858773,407.535753141229,922.402000000002,1141.341,935.110000000001,681.737000000001,238.928319188135,689.745035431451,669.211645380416,849.433000000001,989.361999999999,1167.15537836289,563.163425613793,471.128079716367,434.875116306951,559.684,1150.779,962.661,1100.40480626053,295.962193114774,425.090460407364,430.582540217333,802.961000000001,866.812000000002,954.993000000001,270.808095283988,894.935904716012,271.646485089344,708.64851491065,734.148621888718,491.831378111282,520.3214667327,755.1325332673,584.794000000001,362.208058756678,381.753984479676,387.073956763646,161.317,1057.698,749.900000000001,332.339682542849,714.56631745715,713.007000000001,1181.71100000001,1019.355,1024.422,327.134999999999,838.405704195417,682.317937334437,293.052358470147,208.5,1035.6,802.842000000001,303.27,178.928,1065.429,317.534,263.256,1065.797,927.361999999999,665.81214709,415.45385291,831.212820510729,838.724552739307,436.867690406995,492.795688283335,561.622068570364,533.654,936.481840421691,585.403224631292,719.102934947018,464.363136640531,303.336248001888,540.651169798052,481.521697444488,975.905013194923,333.441734920119,196.908,356.646125167151,563.89887483285,341.504,567.63,862.275,269.899,667.8412218068,458.821250731451,715.62552746175,691.691333241874,160.526666758125,1024.1,285.064507253552,745.704492746449,649.546999999999,488.426083384419,265.409606491852,517.753310123729,796.453000000001,217.564,464.531723979791,610.616276020211,776.645,559.893230554547,434.490769445454,822.387650935921,373.579812993424,751.915536070656,484.869616983316,1016.48180783251,327.947617844774,479.530957339406,1030.531,326.091,804.604000000001,748.010000000001,382.493663980595,530.759336019406,456.064,557.356955357338,468.778885528117,351.981159114545,435.88,418.333,424.648999999999,574.641638299425,845.967361700576,651.637999999999,337.185876202426,593.449800298204,773.532260875062,405.154963006032,274.974613200867,843.053486417406,319.371,854.113280254247,683.842601700457,1044.02130415731,394.634923515958,725.498890372028,818.168189301097,748.643656321222,472.197902696585,728.177382409826,222.75686927127,356.612670266377,515.536329733624,342.808217873511,413.39116800725,516.142227413798,398.659386705442,950.043650956611,422.79534904339,951.573000000001,283.96837800639,572.892361969579,391.25226002403,1094.03,521.041689294737,835.955310705261,563.320167629931,927.321832370071,757.837139103892,918.40286089611,1177.927,443.46746830442,714.43553169558,825.161,583.287370466208,380.660629533794,257.043679849332,693.562427499041,786.448892651628,318.467,595.229999999999,284.751678736759,651.449321263242,572.449999999999,393.324374344616,262.894625655384,372.944,1043.59054542223,542.194505474998,615.976073397627],\"yaxis\":\"y\",\"type\":\"scatter\"},{\"hovertemplate\":\"<b>OLS trendline</b><br>calories = 110.931 * miles + 237.18<br>R<sup>2</sup>=0.745507<br><br>miles=%{x}<br>calories=%{y} <b>(trend)</b><extra></extra>\",\"legendgroup\":\"\",\"marker\":{\"color\":\"#636efa\",\"symbol\":\"circle\"},\"mode\":\"lines\",\"name\":\"\",\"showlegend\":false,\"x\":[1.02085968918593,1.03307314202845,1.04357894297672,1.04407339411259,1.0473012982691,1.05012995289292,1.12011235963576,1.1717287319885,1.18271120299168,1.18786877768916,1.20006574670264,1.21955999053671,1.22091629785606,1.27022844833434,1.28111717280455,1.31897537626006,1.33042780457446,1.33540583984468,1.33962477804994,1.35682540099157,1.37181479302187,1.37900047499638,1.43085835163897,1.43660776370854,1.44204913694836,1.44969323949489,1.45278121152565,1.46935247453648,1.49286790889824,1.49959609834733,1.50265448247135,1.54259908460691,1.54693894343893,1.56006341136723,1.59246580096944,1.62864792636102,1.63135661677697,1.65805458842329,1.66715960767037,1.67474768248942,1.68078672005971,1.69404267859633,1.69659160384954,1.69672284643189,1.70456052752075,1.71613783203482,1.71794094343502,1.73270093793653,1.74327787085083,1.74913376973316,1.75416776296777,1.76076279732018,1.78579695064934,1.79824548028125,1.83967908633737,1.84184790812584,1.85440527763036,1.85544499963426,1.87219511738554,1.87380294959645,1.88083212526027,1.89107087649194,1.89608454529738,1.89697656857255,1.91121882024395,1.91247239571794,1.93924831880721,1.95001944723911,1.95208568625946,1.95703795415023,1.95813949360542,1.97817600981042,1.98023097524678,1.98099992105229,1.98679931123577,1.99074250417002,1.99423276417736,2.00072430076177,2.00356853780855,2.01974870809551,2.02828617493829,2.03039214641993,2.03270788076118,2.03393794752028,2.04075245650776,2.05379553861734,2.05500524675847,2.06906073711222,2.09386661635807,2.10438125038387,2.10740121672953,2.11259840610259,2.12564613842705,2.1285842643241,2.13641263331836,2.14394161037632,2.17399213702361,2.20374634562317,2.21038384965456,2.22612587092695,2.22799593687401,2.25666045646791,2.26028392517989,2.26079711110495,2.26359657460519,2.26398504839911,2.26411283381552,2.26420197015865,2.26541676155191,2.27309132369842,2.27627384758519,2.27933260769196,2.2831612153631,2.30485439186397,2.31448767523881,2.31764286144094,2.32169328726451,2.32284943275682,2.32622579769725,2.32694609758516,2.35462369720377,2.35882699078795,2.35958763075875,2.36571704183832,2.3701387969595,2.37595121835825,2.38297830580469,2.38776700172334,2.38807196003928,2.39956084172566,2.40258264325035,2.40374169480598,2.40700390365597,2.41555389972494,2.42009737153147,2.42336730809822,2.42443550748294,2.42826496376655,2.43204334173389,2.44393963006505,2.44691040697134,2.4722527167102,2.47516568018223,2.49112591114865,2.50860739151148,2.5437816642019,2.54800516981329,2.55189903307512,2.55947342604441,2.56667837221265,2.57760037782735,2.58055934701339,2.58216034386374,2.58355182420388,2.59981241283934,2.6004104557134,2.60089421809223,2.60308726635712,2.60929094780083,2.61591475964101,2.62577864649961,2.6273422179704,2.62882791851514,2.63278226984012,2.66240119276147,2.66399534134504,2.66557818227384,2.67531918411518,2.67553156393015,2.67971639580876,2.69171511419138,2.69370271786663,2.69596522483297,2.71279968637717,2.73333180445284,2.74515591247363,2.76389849179254,2.76598241334086,2.78205788189416,2.78720413257814,2.81114006946558,2.82652954394306,2.83184869093686,2.83664394734437,2.84430906495892,2.8613187713283,2.86277717893406,2.87606941015,2.87872246099597,2.88329461484827,2.894432379704,2.90597878468371,2.90857573468183,2.92118591797054,2.92863658125028,2.94017984163379,2.97282699606303,2.97639733449023,3.03990160880213,3.04175118954253,3.04626467765329,3.04725789539492,3.04972805379401,3.07222688980633,3.07426339218733,3.07577656480184,3.10692500065642,3.12278360339361,3.16028157941314,3.1639929816614,3.16400245247995,3.16673590682393,3.16800103447259,3.17701484772975,3.18454527343861,3.20731973635455,3.2434050073374,3.25147914430459,3.25312449039869,3.28797041839698,3.29418180158206,3.29831027081233,3.32335823408366,3.36695868951072,3.37690587044714,3.39927874879608,3.41331435360436,3.50761759282414,3.51503809870662,3.52469636875327,3.53286239904294,3.5481121277546,3.57583583270703,3.57788624233396,3.59909596327138,3.60936679163614,3.6350486326847,3.66706679974464,3.66817497635389,3.67333426996896,3.68442987236766,3.69976795024191,3.70011871983419,3.71458532922639,3.7190895060851,3.72150093949588,3.7227182960896,3.77172795121953,3.77390625979149,3.81406762887154,3.84538550726899,3.8506157664763,3.85977092637756,3.88146123130472,3.93337338839219,3.94669870357063,3.98827009174983,4.05399509002682,4.05593794726139,4.10190210606757,4.10645178320774,4.11092442614219,4.12281937306264,4.12356901644297,4.13014378981128,4.15006157645799,4.15423157762682,4.15937533849185,4.16650323754961,4.17534613850156,4.19630273149514,4.19995757674169,4.20083506972067,4.21207813324155,4.23169682968375,4.23551840436992,4.24885427172951,4.29476670321422,4.30305287573727,4.35558176186636,4.43755432604092,4.43786913607224,4.45093540451652,4.47365963505051,4.4797453294823,4.48008421871056,4.48330908897347,4.51025543871143,4.55749000607362,4.57958969605246,4.58163668686538,4.59853436217258,4.62114411417071,4.62545801063221,4.67106078271619,4.70645776944762,4.72188839635251,4.770094163346,4.77545069083959,4.79325111997681,4.80552497172347,4.86164569335249,4.87067328327157,4.88760038017272,4.89356732858663,4.91135236178864,4.92475807397587,4.92650001152228,4.95315955612041,4.96664389123943,4.98869972464642,4.99399474922013,5.03895330744063,5.09908122725748,5.19440534065112,5.28063031538382,5.33128756527608,5.33963920438035,5.39740332541934,5.73792989060081,5.82539869642723,6.02558914801752,6.04815434303131,6.11315445609744,6.13790113658745,6.16311529348146,6.17385569064731,6.30859381572157,6.3910794952137,6.50122232997997,6.6461977858349,6.6670065029303,6.80903627677101,6.85741086647214,6.9156556257296,6.92860194070912,7.00561515721937,7.05341557654305,7.17115970113234,7.21859313863329,7.34874149593573,7.47629183662241,7.61856665054742,7.70344248162788,7.78597023788843,7.7997719160753,7.93652008573604,8.13610812634908,8.19690687426542,8.20587697144449,8.24397674111505,8.37388493141669,8.72222396444854,8.81002431852695,8.98289631285285,9.15488172961112,9.25305349115031,9.49152221637672,9.91535536436513,10.0515968865464,10.1391572699686,10.1934268765139],\"xaxis\":\"x\",\"y\":[350.42469780533946,351.77954320196113,352.9449577850537,352.99980753589205,353.3578808132504,353.67166510874245,361.43485401548213,367.16068809157196,368.378979959895,368.9511127078339,370.30412954375436,372.4666373013689,372.6170932577409,378.0873186669239,379.295211178056,383.49484361103146,384.76526811604003,385.3174844513418,385.78549370963503,387.6935687734172,389.3563507116835,390.1534625743386,395.9060868611565,396.54387247151385,397.14748715610204,397.9954518782824,398.3380024038968,400.17626220609344,402.7848429576129,403.53120490948965,403.870473231475,408.3015510782602,408.78297413170503,410.23887895936036,413.83329480213166,417.84699892485986,418.14747552130166,421.1090969768022,422.1191220345903,422.9608715685156,423.63078550338975,425.10127666037215,425.3840304147913,425.39858923045387,426.26802773243605,427.5523048265897,427.75232501839423,429.38965975594795,430.5629650492247,431.212563303388,431.7709870880848,432.50257806797686,435.2796311940389,436.6605537950404,441.2568077090143,441.49739636597224,442.8903926370714,443.0057296010662,444.86382986319563,445.04218762144626,445.8219381484239,446.9577287518058,447.5138979358049,447.61285059428945,449.1927518198745,449.3318116731488,452.30208032735743,453.49692784186004,453.7261369329449,454.2754948779224,454.39768928758724,456.6203516333386,456.8483101392229,456.933609742724,457.57693945419976,458.014360129896,458.40153669371705,459.12164660626934,459.43715946896407,461.23203512882037,462.17910126973027,462.412717905755,462.66960365726976,462.8060556751874,463.56199310344533,465.00886975509957,465.1430633797362,466.70224706420106,469.45397761400824,470.62037205550644,470.95537867109067,471.53190589793246,472.97929840061624,473.3052264078424,474.17363191377797,475.00882569884214,478.3423480220622,481.6429996126501,482.3793017786255,484.1255733145638,484.33302081302486,487.5127925711769,487.9147460537447,487.97167406559714,488.2822201728459,488.3253137957703,488.3394891060131,488.3493770521753,488.48413456491437,489.3354781881596,489.688517405916,490.02782743588557,490.4525371019888,492.85897373373166,493.92759943712946,494.27760606969764,494.72692215190466,494.8551740408895,495.22971615898166,495.3096194426726,498.3799115964411,498.84618538785816,498.930563620305,499.6105027408988,500.1010105971262,500.74578586885815,501.52530474867257,502.0565175600584,502.0903467626468,503.36481506131923,503.70002525437593,503.8285995146478,504.19047823151976,505.1389342467466,505.6429442053659,506.00568016233314,506.12417613867353,506.54897994184955,506.96811759782224,508.287779751529,508.6173297541183,511.4285668491616,511.75170357400873,513.5221812376708,515.461411977831,519.3633144167728,519.8318303400731,520.263778846641,521.1040106450494,521.9032594958708,523.1148439036343,523.4430840689784,523.6206835767238,523.7750412966607,525.5788378104862,525.645179052832,525.6988430936619,525.9421192076786,526.6302971827764,527.3650804660518,528.4592871474454,528.6327350361631,528.7975446579592,529.2362031404009,532.5218474123611,532.6986872379067,532.8742726987605,533.9548476740267,533.9784070898904,534.4426329136174,535.7736576922498,535.994143718965,536.245124926957,538.1125814948786,540.390221243146,541.7018763932238,543.7810015708833,544.0121721950358,545.7954332309445,546.3663097995081,549.0215371397139,550.7287004555333,551.3187565118694,551.8506970820836,552.7009930179292,554.5878895957921,554.7496715960617,556.2241865023666,556.5184909690896,557.025682643656,558.2612013489729,559.5420507398861,559.8301319070692,561.228986841833,562.0554932341278,563.3359937931635,566.9575615399403,567.35362124925,574.398187173944,574.6033622365674,575.1040460864513,575.2142243057019,575.4882404073799,577.9840493152847,578.2099597037459,578.3778168181504,581.8331308455337,583.5923348308744,587.7520070257692,588.1637150264387,588.1647656298251,588.467989303144,588.6083306458443,589.6082381703532,590.4435926551006,592.9699770150393,596.9729370221187,597.8686057116154,598.0511249066526,601.9166038787522,602.6056362124802,603.0636096949875,605.8421947659317,610.6788185354449,611.7822650771265,614.2641014284906,615.8210791978806,626.2821921354622,627.1053531502148,628.1767506395862,629.082613108561,630.7742743456513,633.8496809907999,634.077134118106,636.4299407442265,637.5692896825578,640.4181911824085,643.969984996063,644.0929156690712,644.6652390975338,645.8960806970762,647.5975425579354,647.6364536319375,649.2412429894164,649.7408939367183,650.0083956414353,650.1434377133469,655.5801071383626,655.8217481697068,660.2768720991738,663.7509824859617,664.3311781686675,665.3467653582602,667.7528834446684,673.5115290926706,674.9897140220944,679.601252186771,686.8921643069322,687.1076865850702,692.2065173392476,692.7112156591212,693.2073685299437,694.5268818801835,694.6100402544814,695.3393836716741,697.5488752787682,698.0114559232709,698.5820562947765,699.3727582650145,700.3537063885312,702.6784333852556,703.0838674849733,703.181208289287,704.4284078365075,706.6047211940123,707.02865068702,708.5080061760095,713.6010987884613,714.5202887049593,720.3473484626957,729.4406124768266,729.4755345359072,730.9249832610969,733.4457953138162,734.1208849213557,734.1584780996969,734.5162148254814,737.5053890065232,742.7451469175115,745.1966783247772,745.4237522010652,747.2982211083233,749.8063339907654,750.2848770234136,755.3436189392188,759.2702271757033,760.9819555541266,766.329449202636,766.9236518994609,768.8982638118671,770.2598092939019,776.4853134436746,777.4867492212683,779.3644818829813,780.0263989259914,781.9993029583891,783.4864063745558,783.6796405153337,786.6369992361255,788.1328243396463,790.5794907119994,791.1668708543056,796.154149753171,802.8241747184852,813.3985338193604,822.9635201992734,828.5829582653952,829.5094104276595,835.9172178256715,873.6920268999166,883.3949921833578,905.6022349084009,908.1054050587671,915.315905242707,918.061068840247,920.8580898659978,922.049528343361,936.9961065845905,946.1462907780442,958.3644992222951,974.4467104954543,976.7550335331587,992.5104785946384,997.8766998438714,1004.3378247177955,1005.7739669356744,1014.3170876414491,1019.61961583821,1032.6810397644294,1037.942858455076,1052.3802910994464,1066.5295242561215,1082.3121517560548,1091.727476849337,1100.8823286430784,1102.4133567968888,1117.5829104481118,1139.7233273745928,1146.467767689459,1147.4628257641093,1151.6892552772113,1166.1000460571024,1204.7414967141842,1214.4812408372177,1233.658031277825,1252.736473155439,1263.6267235141709,1290.0801973005869,1337.0962538483818,1352.2096048013082,1361.9227288404813,1367.942887722038],\"yaxis\":\"y\",\"type\":\"scatter\"}],                        {\"template\":{\"data\":{\"bar\":[{\"error_x\":{\"color\":\"#2a3f5f\"},\"error_y\":{\"color\":\"#2a3f5f\"},\"marker\":{\"line\":{\"color\":\"#E5ECF6\",\"width\":0.5},\"pattern\":{\"fillmode\":\"overlay\",\"size\":10,\"solidity\":0.2}},\"type\":\"bar\"}],\"barpolar\":[{\"marker\":{\"line\":{\"color\":\"#E5ECF6\",\"width\":0.5},\"pattern\":{\"fillmode\":\"overlay\",\"size\":10,\"solidity\":0.2}},\"type\":\"barpolar\"}],\"carpet\":[{\"aaxis\":{\"endlinecolor\":\"#2a3f5f\",\"gridcolor\":\"white\",\"linecolor\":\"white\",\"minorgridcolor\":\"white\",\"startlinecolor\":\"#2a3f5f\"},\"baxis\":{\"endlinecolor\":\"#2a3f5f\",\"gridcolor\":\"white\",\"linecolor\":\"white\",\"minorgridcolor\":\"white\",\"startlinecolor\":\"#2a3f5f\"},\"type\":\"carpet\"}],\"choropleth\":[{\"colorbar\":{\"outlinewidth\":0,\"ticks\":\"\"},\"type\":\"choropleth\"}],\"contour\":[{\"colorbar\":{\"outlinewidth\":0,\"ticks\":\"\"},\"colorscale\":[[0.0,\"#0d0887\"],[0.1111111111111111,\"#46039f\"],[0.2222222222222222,\"#7201a8\"],[0.3333333333333333,\"#9c179e\"],[0.4444444444444444,\"#bd3786\"],[0.5555555555555556,\"#d8576b\"],[0.6666666666666666,\"#ed7953\"],[0.7777777777777778,\"#fb9f3a\"],[0.8888888888888888,\"#fdca26\"],[1.0,\"#f0f921\"]],\"type\":\"contour\"}],\"contourcarpet\":[{\"colorbar\":{\"outlinewidth\":0,\"ticks\":\"\"},\"type\":\"contourcarpet\"}],\"heatmap\":[{\"colorbar\":{\"outlinewidth\":0,\"ticks\":\"\"},\"colorscale\":[[0.0,\"#0d0887\"],[0.1111111111111111,\"#46039f\"],[0.2222222222222222,\"#7201a8\"],[0.3333333333333333,\"#9c179e\"],[0.4444444444444444,\"#bd3786\"],[0.5555555555555556,\"#d8576b\"],[0.6666666666666666,\"#ed7953\"],[0.7777777777777778,\"#fb9f3a\"],[0.8888888888888888,\"#fdca26\"],[1.0,\"#f0f921\"]],\"type\":\"heatmap\"}],\"heatmapgl\":[{\"colorbar\":{\"outlinewidth\":0,\"ticks\":\"\"},\"colorscale\":[[0.0,\"#0d0887\"],[0.1111111111111111,\"#46039f\"],[0.2222222222222222,\"#7201a8\"],[0.3333333333333333,\"#9c179e\"],[0.4444444444444444,\"#bd3786\"],[0.5555555555555556,\"#d8576b\"],[0.6666666666666666,\"#ed7953\"],[0.7777777777777778,\"#fb9f3a\"],[0.8888888888888888,\"#fdca26\"],[1.0,\"#f0f921\"]],\"type\":\"heatmapgl\"}],\"histogram\":[{\"marker\":{\"pattern\":{\"fillmode\":\"overlay\",\"size\":10,\"solidity\":0.2}},\"type\":\"histogram\"}],\"histogram2d\":[{\"colorbar\":{\"outlinewidth\":0,\"ticks\":\"\"},\"colorscale\":[[0.0,\"#0d0887\"],[0.1111111111111111,\"#46039f\"],[0.2222222222222222,\"#7201a8\"],[0.3333333333333333,\"#9c179e\"],[0.4444444444444444,\"#bd3786\"],[0.5555555555555556,\"#d8576b\"],[0.6666666666666666,\"#ed7953\"],[0.7777777777777778,\"#fb9f3a\"],[0.8888888888888888,\"#fdca26\"],[1.0,\"#f0f921\"]],\"type\":\"histogram2d\"}],\"histogram2dcontour\":[{\"colorbar\":{\"outlinewidth\":0,\"ticks\":\"\"},\"colorscale\":[[0.0,\"#0d0887\"],[0.1111111111111111,\"#46039f\"],[0.2222222222222222,\"#7201a8\"],[0.3333333333333333,\"#9c179e\"],[0.4444444444444444,\"#bd3786\"],[0.5555555555555556,\"#d8576b\"],[0.6666666666666666,\"#ed7953\"],[0.7777777777777778,\"#fb9f3a\"],[0.8888888888888888,\"#fdca26\"],[1.0,\"#f0f921\"]],\"type\":\"histogram2dcontour\"}],\"mesh3d\":[{\"colorbar\":{\"outlinewidth\":0,\"ticks\":\"\"},\"type\":\"mesh3d\"}],\"parcoords\":[{\"line\":{\"colorbar\":{\"outlinewidth\":0,\"ticks\":\"\"}},\"type\":\"parcoords\"}],\"pie\":[{\"automargin\":true,\"type\":\"pie\"}],\"scatter\":[{\"marker\":{\"colorbar\":{\"outlinewidth\":0,\"ticks\":\"\"}},\"type\":\"scatter\"}],\"scatter3d\":[{\"line\":{\"colorbar\":{\"outlinewidth\":0,\"ticks\":\"\"}},\"marker\":{\"colorbar\":{\"outlinewidth\":0,\"ticks\":\"\"}},\"type\":\"scatter3d\"}],\"scattercarpet\":[{\"marker\":{\"colorbar\":{\"outlinewidth\":0,\"ticks\":\"\"}},\"type\":\"scattercarpet\"}],\"scattergeo\":[{\"marker\":{\"colorbar\":{\"outlinewidth\":0,\"ticks\":\"\"}},\"type\":\"scattergeo\"}],\"scattergl\":[{\"marker\":{\"colorbar\":{\"outlinewidth\":0,\"ticks\":\"\"}},\"type\":\"scattergl\"}],\"scattermapbox\":[{\"marker\":{\"colorbar\":{\"outlinewidth\":0,\"ticks\":\"\"}},\"type\":\"scattermapbox\"}],\"scatterpolar\":[{\"marker\":{\"colorbar\":{\"outlinewidth\":0,\"ticks\":\"\"}},\"type\":\"scatterpolar\"}],\"scatterpolargl\":[{\"marker\":{\"colorbar\":{\"outlinewidth\":0,\"ticks\":\"\"}},\"type\":\"scatterpolargl\"}],\"scatterternary\":[{\"marker\":{\"colorbar\":{\"outlinewidth\":0,\"ticks\":\"\"}},\"type\":\"scatterternary\"}],\"surface\":[{\"colorbar\":{\"outlinewidth\":0,\"ticks\":\"\"},\"colorscale\":[[0.0,\"#0d0887\"],[0.1111111111111111,\"#46039f\"],[0.2222222222222222,\"#7201a8\"],[0.3333333333333333,\"#9c179e\"],[0.4444444444444444,\"#bd3786\"],[0.5555555555555556,\"#d8576b\"],[0.6666666666666666,\"#ed7953\"],[0.7777777777777778,\"#fb9f3a\"],[0.8888888888888888,\"#fdca26\"],[1.0,\"#f0f921\"]],\"type\":\"surface\"}],\"table\":[{\"cells\":{\"fill\":{\"color\":\"#EBF0F8\"},\"line\":{\"color\":\"white\"}},\"header\":{\"fill\":{\"color\":\"#C8D4E3\"},\"line\":{\"color\":\"white\"}},\"type\":\"table\"}]},\"layout\":{\"annotationdefaults\":{\"arrowcolor\":\"#2a3f5f\",\"arrowhead\":0,\"arrowwidth\":1},\"autotypenumbers\":\"strict\",\"coloraxis\":{\"colorbar\":{\"outlinewidth\":0,\"ticks\":\"\"}},\"colorscale\":{\"diverging\":[[0,\"#8e0152\"],[0.1,\"#c51b7d\"],[0.2,\"#de77ae\"],[0.3,\"#f1b6da\"],[0.4,\"#fde0ef\"],[0.5,\"#f7f7f7\"],[0.6,\"#e6f5d0\"],[0.7,\"#b8e186\"],[0.8,\"#7fbc41\"],[0.9,\"#4d9221\"],[1,\"#276419\"]],\"sequential\":[[0.0,\"#0d0887\"],[0.1111111111111111,\"#46039f\"],[0.2222222222222222,\"#7201a8\"],[0.3333333333333333,\"#9c179e\"],[0.4444444444444444,\"#bd3786\"],[0.5555555555555556,\"#d8576b\"],[0.6666666666666666,\"#ed7953\"],[0.7777777777777778,\"#fb9f3a\"],[0.8888888888888888,\"#fdca26\"],[1.0,\"#f0f921\"]],\"sequentialminus\":[[0.0,\"#0d0887\"],[0.1111111111111111,\"#46039f\"],[0.2222222222222222,\"#7201a8\"],[0.3333333333333333,\"#9c179e\"],[0.4444444444444444,\"#bd3786\"],[0.5555555555555556,\"#d8576b\"],[0.6666666666666666,\"#ed7953\"],[0.7777777777777778,\"#fb9f3a\"],[0.8888888888888888,\"#fdca26\"],[1.0,\"#f0f921\"]]},\"colorway\":[\"#636efa\",\"#EF553B\",\"#00cc96\",\"#ab63fa\",\"#FFA15A\",\"#19d3f3\",\"#FF6692\",\"#B6E880\",\"#FF97FF\",\"#FECB52\"],\"font\":{\"color\":\"#2a3f5f\"},\"geo\":{\"bgcolor\":\"white\",\"lakecolor\":\"white\",\"landcolor\":\"#E5ECF6\",\"showlakes\":true,\"showland\":true,\"subunitcolor\":\"white\"},\"hoverlabel\":{\"align\":\"left\"},\"hovermode\":\"closest\",\"mapbox\":{\"style\":\"light\"},\"paper_bgcolor\":\"white\",\"plot_bgcolor\":\"#E5ECF6\",\"polar\":{\"angularaxis\":{\"gridcolor\":\"white\",\"linecolor\":\"white\",\"ticks\":\"\"},\"bgcolor\":\"#E5ECF6\",\"radialaxis\":{\"gridcolor\":\"white\",\"linecolor\":\"white\",\"ticks\":\"\"}},\"scene\":{\"xaxis\":{\"backgroundcolor\":\"#E5ECF6\",\"gridcolor\":\"white\",\"gridwidth\":2,\"linecolor\":\"white\",\"showbackground\":true,\"ticks\":\"\",\"zerolinecolor\":\"white\"},\"yaxis\":{\"backgroundcolor\":\"#E5ECF6\",\"gridcolor\":\"white\",\"gridwidth\":2,\"linecolor\":\"white\",\"showbackground\":true,\"ticks\":\"\",\"zerolinecolor\":\"white\"},\"zaxis\":{\"backgroundcolor\":\"#E5ECF6\",\"gridcolor\":\"white\",\"gridwidth\":2,\"linecolor\":\"white\",\"showbackground\":true,\"ticks\":\"\",\"zerolinecolor\":\"white\"}},\"shapedefaults\":{\"line\":{\"color\":\"#2a3f5f\"}},\"ternary\":{\"aaxis\":{\"gridcolor\":\"white\",\"linecolor\":\"white\",\"ticks\":\"\"},\"baxis\":{\"gridcolor\":\"white\",\"linecolor\":\"white\",\"ticks\":\"\"},\"bgcolor\":\"#E5ECF6\",\"caxis\":{\"gridcolor\":\"white\",\"linecolor\":\"white\",\"ticks\":\"\"}},\"title\":{\"x\":0.05},\"xaxis\":{\"automargin\":true,\"gridcolor\":\"white\",\"linecolor\":\"white\",\"ticks\":\"\",\"title\":{\"standoff\":15},\"zerolinecolor\":\"white\",\"zerolinewidth\":2},\"yaxis\":{\"automargin\":true,\"gridcolor\":\"white\",\"linecolor\":\"white\",\"ticks\":\"\",\"title\":{\"standoff\":15},\"zerolinecolor\":\"white\",\"zerolinewidth\":2}}},\"xaxis\":{\"anchor\":\"y\",\"domain\":[0.0,1.0],\"title\":{\"text\":\"miles\"}},\"yaxis\":{\"anchor\":\"x\",\"domain\":[0.0,1.0],\"title\":{\"text\":\"calories\"},\"range\":[0,1650]},\"legend\":{\"tracegroupgap\":0},\"title\":{\"text\":\"Miles vs. Calories\\nTrednline: R^2: 0.8634 Calories = 110.93*miles + 237.18\"}},                        {\"responsive\": true}                    ).then(function(){\n",
       "                            \n",
       "var gd = document.getElementById('dee29068-9b50-42e4-a0a8-6e2b64e8d710');\n",
       "var x = new MutationObserver(function (mutations, observer) {{\n",
       "        var display = window.getComputedStyle(gd).display;\n",
       "        if (!display || display === 'none') {{\n",
       "            console.log([gd, 'removed!']);\n",
       "            Plotly.purge(gd);\n",
       "            observer.disconnect();\n",
       "        }}\n",
       "}});\n",
       "\n",
       "// Listen for the removal of the full notebook cells\n",
       "var notebookContainer = gd.closest('#notebook-container');\n",
       "if (notebookContainer) {{\n",
       "    x.observe(notebookContainer, {childList: true});\n",
       "}}\n",
       "\n",
       "// Listen for the clearing of the current output cell\n",
       "var outputEl = gd.closest('.output');\n",
       "if (outputEl) {{\n",
       "    x.observe(outputEl, {childList: true});\n",
       "}}\n",
       "\n",
       "                        })                };                });            </script>        </div>"
      ]
     },
     "metadata": {},
     "output_type": "display_data"
    }
   ],
   "source": [
    "(slope, intercept), r = (np.round(np.polyfit(health['miles'], health['calories'], 1), 2), \n",
    "                        np.round(np.corrcoef(health['miles'], health['calories'])[0][1], 4))\n",
    "px.scatter(data_frame = health, x = 'miles', y = 'calories' , range_y = (0, 1650), \n",
    "           trendline = 'ols', title=f\"Miles vs. Calories\\nTrednline: R^2: {r} Calories = {slope}*miles + {intercept}\")"
   ]
  },
  {
   "cell_type": "markdown",
   "id": "fcd92001",
   "metadata": {},
   "source": [
    "## Data Visualization Explorations\n",
    "Lastly, lets get a little fancy and look at the data by `month` or even how far into the year we were! Ya know what, lets do them all!"
   ]
  },
  {
   "cell_type": "code",
   "execution_count": 61,
   "id": "b6e94cce",
   "metadata": {},
   "outputs": [],
   "source": [
    "def my_year(colorize):\n",
    "    rep = 'index'\n",
    "    if type(colorize) == str:\n",
    "        rep = colorize\n",
    "    display(px.scatter(data_frame = health, x = 'miles', y = 'calories' , range_y = (0, 1650),\n",
    "               title=f\"Miles vs. Calories [Colored by {rep}]\\nTrednline: R^2: {r} Calories = {slope}*miles + {intercept}\",\n",
    "              color = colorize))\n",
    "color_cols = [health.index, 'date', 'month', 'day', 'calories', 'miles']"
   ]
  },
  {
   "cell_type": "code",
   "execution_count": 62,
   "id": "c03c70cb",
   "metadata": {},
   "outputs": [
    {
     "data": {
      "application/vnd.plotly.v1+json": {
       "config": {
        "plotlyServerURL": "https://plot.ly"
       },
       "data": [
        {
         "hovertemplate": "miles=%{x}<br>calories=%{y}<br>index=%{marker.color}<extra></extra>",
         "legendgroup": "",
         "marker": {
          "color": [
           0,
           1,
           2,
           3,
           4,
           5,
           6,
           7,
           8,
           9,
           10,
           11,
           12,
           13,
           14,
           15,
           16,
           17,
           18,
           19,
           20,
           21,
           22,
           23,
           24,
           25,
           26,
           27,
           28,
           29,
           30,
           31,
           32,
           33,
           34,
           35,
           36,
           37,
           38,
           39,
           40,
           41,
           42,
           43,
           44,
           45,
           46,
           47,
           48,
           49,
           50,
           51,
           52,
           53,
           54,
           55,
           56,
           57,
           58,
           59,
           60,
           61,
           62,
           63,
           64,
           65,
           66,
           67,
           68,
           69,
           70,
           71,
           72,
           73,
           74,
           75,
           76,
           77,
           78,
           79,
           80,
           81,
           82,
           84,
           85,
           86,
           87,
           88,
           89,
           90,
           91,
           92,
           93,
           94,
           95,
           96,
           97,
           98,
           99,
           100,
           101,
           102,
           103,
           104,
           105,
           106,
           107,
           108,
           109,
           110,
           111,
           112,
           113,
           114,
           115,
           116,
           117,
           118,
           119,
           120,
           121,
           122,
           123,
           124,
           125,
           126,
           127,
           128,
           129,
           130,
           131,
           132,
           133,
           134,
           135,
           136,
           137,
           138,
           139,
           140,
           141,
           142,
           143,
           144,
           145,
           146,
           147,
           148,
           149,
           150,
           151,
           152,
           153,
           154,
           155,
           156,
           157,
           158,
           159,
           160,
           161,
           162,
           163,
           164,
           165,
           166,
           167,
           168,
           169,
           170,
           171,
           172,
           173,
           174,
           175,
           176,
           177,
           178,
           179,
           180,
           181,
           182,
           183,
           184,
           185,
           186,
           187,
           188,
           189,
           190,
           191,
           192,
           193,
           194,
           195,
           196,
           197,
           198,
           199,
           200,
           201,
           202,
           203,
           204,
           205,
           206,
           207,
           208,
           209,
           210,
           211,
           212,
           213,
           214,
           215,
           216,
           217,
           218,
           219,
           220,
           221,
           222,
           223,
           224,
           225,
           226,
           227,
           228,
           229,
           230,
           231,
           232,
           233,
           234,
           235,
           236,
           237,
           238,
           239,
           240,
           241,
           242,
           243,
           245,
           246,
           247,
           248,
           249,
           250,
           251,
           252,
           253,
           254,
           255,
           256,
           257,
           258,
           259,
           260,
           261,
           262,
           263,
           264,
           265,
           266,
           267,
           268,
           269,
           270,
           271,
           272,
           273,
           274,
           275,
           276,
           277,
           278,
           279,
           280,
           281,
           282,
           283,
           284,
           285,
           286,
           287,
           288,
           289,
           290,
           291,
           292,
           293,
           294,
           295,
           296,
           297,
           298,
           299,
           300,
           301,
           302,
           303,
           304,
           305,
           306,
           307,
           308,
           309,
           310,
           311,
           312,
           313,
           314,
           315,
           316,
           317,
           318,
           319,
           320,
           321,
           322,
           323,
           324,
           325,
           326,
           327,
           328,
           329,
           330,
           331,
           332,
           333,
           334,
           335,
           336,
           337,
           338,
           339,
           340,
           341,
           342,
           343,
           344,
           345,
           346,
           347,
           348,
           349,
           350,
           351,
           352,
           353,
           354,
           355,
           356,
           357,
           358,
           359,
           361,
           362,
           363,
           364
          ],
          "coloraxis": "coloraxis",
          "symbol": "circle"
         },
         "mode": "markers",
         "name": "",
         "orientation": "v",
         "showlegend": false,
         "type": "scatter",
         "x": [
          3.7227182960896,
          1.89697656857255,
          1.69672284643189,
          1.50265448247135,
          2.17399213702361,
          2.8613187713283,
          2.03039214641993,
          1.91121882024395,
          2.31448767523881,
          1.95208568625946,
          6.92860194070912,
          4.15937533849185,
          1.89107087649194,
          6.6670065029303,
          6.13790113658745,
          4.21207813324155,
          6.17385569064731,
          2.58355182420388,
          1.83967908633737,
          3.50761759282414,
          2.22612587092695,
          3.57788624233396,
          2.35958763075875,
          2.90857573468183,
          2.32284943275682,
          2.62577864649961,
          2.26028392517989,
          2.69171511419138,
          3.39927874879608,
          1.75416776296777,
          1.54259908460691,
          2.27627384758519,
          2.55947342604441,
          2.35882699078795,
          3.16028157941314,
          2.78205788189416,
          4.72188839635251,
          3.51503809870662,
          2.00356853780855,
          3.77172795121953,
          1.95001944723911,
          2.66399534134504,
          3.53286239904294,
          3.69976795024191,
          2.37595121835825,
          3.5481121277546,
          2.82652954394306,
          1.98679931123577,
          4.70645776944762,
          1.49286790889824,
          4.92650001152228,
          1.93924831880721,
          2.67971639580876,
          1.65805458842329,
          3.16673590682393,
          1.88083212526027,
          1.91247239571794,
          4.95315955612041,
          2.09386661635807,
          2.56667837221265,
          2.26359657460519,
          2.32694609758516,
          2.54800516981329,
          2.12564613842705,
          9.91535536436513,
          1.84184790812584,
          1.87380294959645,
          1.95813949360542,
          1.89608454529738,
          1.98099992105229,
          1.43085835163897,
          3.71458532922639,
          2.22799593687401,
          3.07577656480184,
          2.21038384965456,
          1.87219511738554,
          2.11259840610259,
          3.25147914430459,
          3.59909596327138,
          2.73333180445284,
          6.6461977858349,
          5.33128756527608,
          3.93337338839219,
          2.39956084172566,
          2.60089421809223,
          3.07426339218733,
          2.6004104557134,
          1.59246580096944,
          2.38807196003928,
          2.86277717893406,
          1.68078672005971,
          8.98289631285285,
          4.62545801063221,
          2.05500524675847,
          3.04972805379401,
          2.50860739151148,
          2.81114006946558,
          3.88146123130472,
          3.68442987236766,
          10.1391572699686,
          2.47516568018223,
          1.74913376973316,
          2.40258264325035,
          3.7190895060851,
          4.770094163346,
          1.44969323949489,
          2.27933260769196,
          2.41555389972494,
          2.31764286144094,
          2.74515591247363,
          2.42443550748294,
          4.48008421871056,
          3.67333426996896,
          3.66706679974464,
          2.66240119276147,
          2.04075245650776,
          4.79325111997681,
          2.1285842643241,
          2.67531918411518,
          3.32335823408366,
          2.27309132369842,
          2.26398504839911,
          3.12278360339361,
          3.98827009174983,
          5.33963920438035,
          2.55189903307512,
          2.67553156393015,
          2.59981241283934,
          1.22091629785606,
          2.03393794752028,
          2.92118591797054,
          1.37181479302187,
          3.94669870357063,
          4.17534613850156,
          4.30305287573727,
          2.78720413257814,
          2.94017984163379,
          3.04725789539492,
          1.62864792636102,
          4.51025543871143,
          3.70011871983419,
          2.38776700172334,
          2.32622579769725,
          3.20731973635455,
          3.16800103447259,
          3.04175118954253,
          6.04815434303131,
          4.35558176186636,
          2.63278226984012,
          4.96664389123943,
          3.03990160880213,
          2.90597878468371,
          2.36571704183832,
          4.16650323754961,
          4.10190210606757,
          4.43755432604092,
          2.60929094780083,
          3.25312449039869,
          6.16311529348146,
          2.32169328726451,
          2.13641263331836,
          2.20374634562317,
          4.13014378981128,
          3.29418180158206,
          1.95703795415023,
          3.37690587044714,
          7.47629183662241,
          7.7997719160753,
          2.44393963006505,
          3.72150093949588,
          3.36695868951072,
          4.59853436217258,
          4.99399474922013,
          8.81002431852695,
          2.69370271786663,
          2.894432379704,
          1.04357894297672,
          10.0515968865464,
          1.85440527763036,
          2.83184869093686,
          6.11315445609744,
          2.06906073711222,
          8.13610812634908,
          9.25305349115031,
          7.78597023788843,
          2.87606941015,
          1.69659160384954,
          4.98869972464642,
          3.10692500065642,
          6.85741086647214,
          6.9156556257296,
          9.49152221637672,
          3.2434050073374,
          1.66715960767037,
          2.58055934701339,
          2.87872246099597,
          10.1934268765139,
          6.80903627677101,
          8.37388493141669,
          1.74327787085083,
          2.97282699606303,
          2.43204334173389,
          7.00561515721937,
          7.34874149593573,
          7.17115970113234,
          1.79824548028125,
          5.03895330744063,
          2.10740121672953,
          3.85977092637756,
          3.28797041839698,
          3.52469636875327,
          2.42336730809822,
          4.92475807397587,
          3.41331435360436,
          1.70456052752075,
          2.58216034386374,
          1.98023097524678,
          1.35682540099157,
          8.72222396444854,
          6.50122232997997,
          1.85544499963426,
          4.19630273149514,
          4.77545069083959,
          9.15488172961112,
          7.61856665054742,
          7.93652008573604,
          1.71794094343502,
          6.02558914801752,
          4.47365963505051,
          2.69596522483297,
          1.33962477804994,
          8.19690687426542,
          7.21859313863329,
          1.67474768248942,
          1.43660776370854,
          8.20587697144449,
          1.73270093793653,
          1.99423276417736,
          8.24397674111505,
          7.05341557654305,
          4.23169682968375,
          2.76389849179254,
          4.12356901644297,
          4.24885427172951,
          2.4722527167102,
          2.05379553861734,
          4.15006157645799,
          3.57583583270703,
          4.58163668686538,
          2.38297830580469,
          4.45093540451652,
          2.2831612153631,
          1.71613783203482,
          1.97817600981042,
          2.42826496376655,
          5.19440534065112,
          2.71279968637717,
          1.18271120299168,
          1.37900047499638,
          2.5437816642019,
          1.54693894343893,
          3.60936679163614,
          4.91135236178864,
          1.20006574670264,
          4.05593794726139,
          2.40374169480598,
          4.80552497172347,
          3.07222688980633,
          1.99074250417002,
          6.3910794952137,
          1.02085968918593,
          3.77390625979149,
          5.09908122725748,
          2.6273422179704,
          2.00072430076177,
          2.40700390365597,
          4.20083506972067,
          1.12011235963576,
          1.27022844833434,
          2.35462369720377,
          4.15423157762682,
          2.66557818227384,
          2.14394161037632,
          3.6350486326847,
          1.31897537626006,
          4.62114411417071,
          3.18454527343861,
          5.39740332541934,
          2.26079711110495,
          2.26420197015865,
          4.88760038017272,
          1.18786877768916,
          4.10645178320774,
          3.66817497635389,
          1.21955999053671,
          2.60308726635712,
          2.01974870809551,
          2.26411283381552,
          2.44691040697134,
          1.45278121152565,
          2.26541676155191,
          2.61591475964101,
          1.78579695064934,
          3.29831027081233,
          4.57958969605246,
          2.49112591114865,
          1.05012995289292,
          3.84538550726899,
          3.1639929816614,
          1.04407339411259,
          1.33540583984468,
          4.19995757674169,
          1.03307314202845,
          4.4797453294823,
          3.81406762887154,
          5.28063031538382,
          1.46935247453648,
          4.43786913607224,
          3.8506157664763,
          4.55749000607362,
          2.97639733449023,
          4.05399509002682,
          1.44204913694836,
          1.33042780457446,
          2.10438125038387,
          2.3701387969595,
          1.28111717280455,
          1.63135661677697,
          2.84430906495892,
          4.48330908897347,
          2.25666045646791,
          5.82539869642723,
          2.30485439186397,
          2.62882791851514,
          1.49959609834733,
          7.70344248162788,
          2.57760037782735,
          4.86164569335249,
          3.16400245247995,
          4.67106078271619,
          4.12281937306264,
          4.89356732858663,
          6.30859381572157,
          3.04626467765329,
          4.11092442614219,
          4.87067328327157,
          2.76598241334086,
          1.76076279732018,
          1.0473012982691,
          2.88329461484827,
          4.29476670321422,
          2.02828617493829,
          4.23551840436992,
          1.1717287319885,
          2.83664394734437,
          3.17701484772975,
          1.56006341136723,
          2.03270788076118,
          1.69404267859633,
          5.73792989060081,
          2.42009737153147,
          2.92863658125028
         ],
         "xaxis": "x",
         "y": [
          692.881761274166,
          536.691407956743,
          276.350999999999,
          270.923146762041,
          397.484041234037,
          702.107462456384,
          519.341933890192,
          581.203987582989,
          527.071428074356,
          411.312179296951,
          1079.65282070305,
          829.228614293344,
          341.860385706658,
          962.018,
          950.258562819967,
          782.377880005755,
          863.036557174281,
          601.390587040521,
          492.184507807422,
          847.532824984648,
          526.002080167403,
          740.463040158474,
          443.602185651039,
          578.325922047423,
          562.67506105348,
          804.732100452362,
          625.442690637212,
          599.247000000001,
          942.563408961203,
          519.651591038795,
          346.525003615485,
          730.10611961992,
          625.839986220131,
          649.155890544466,
          738.649016125774,
          667.74798387423,
          868.244999999995,
          780.348999999994,
          524.527,
          729.921999999999,
          555.046,
          602.153999999999,
          853.013405611315,
          705.983594388686,
          364.538323219297,
          727.747711180903,
          740.778859978545,
          581.65610562125,
          984.971133534053,
          155.542866465948,
          1014.957,
          416.307999999999,
          635.235,
          360.860429151479,
          805.50064114854,
          272.074929699984,
          349.804545181544,
          887.250396414423,
          607.351058404035,
          566.378928260796,
          730.352262013146,
          595.26380972606,
          697.87973010914,
          725.171269890861,
          1500.07696169728,
          478.416038302721,
          489.886000000002,
          449.428000000002,
          489.258640602509,
          522.488359397494,
          360.299000000001,
          759.501,
          383.644000000001,
          625.488000000002,
          590.134000000003,
          522.654,
          631.001360707732,
          474.761639292269,
          613.390000000001,
          522.688180287642,
          642.310819712365,
          874.482543178304,
          191.519456821696,
          684.538090706095,
          553.755000000001,
          479.437000000001,
          724.016652267443,
          475.901347732558,
          618.385603417631,
          717.536429880361,
          482.332966702008,
          1535.93199999995,
          812.251000000002,
          492.491395118112,
          716.233325308533,
          521.111279573353,
          661.526402369546,
          801.419597630454,
          565.346,
          1625.688,
          540.542126153119,
          411.100873846882,
          670.561999999999,
          678.925000000001,
          995.140506432119,
          386.344337030111,
          472.877156537772,
          536.63,
          612.783437700391,
          538.090562299611,
          335.021391714572,
          837.034179979101,
          631.833428306328,
          808.075,
          634.446,
          587.592,
          616.007,
          536.116141402322,
          491.464858597676,
          622.062,
          566.847547364073,
          592.330297460266,
          440.162771034808,
          603.014384140851,
          799.475909382761,
          475.292090617239,
          491.172,
          569.617245538077,
          163.189414172474,
          515.060243889038,
          609.084531973524,
          263.783970592476,
          772.215473035205,
          780.594397650478,
          534.94972314873,
          515.984000000001,
          520.177803481137,
          548.641196518863,
          372.587999999999,
          708.202000000001,
          692.314146984756,
          299.498853015245,
          414.976062800549,
          605.166743715387,
          633.522193484066,
          550.957,
          963.982000000002,
          769.025828518746,
          415.53518421234,
          573.321987268914,
          415.857607961909,
          706.426392038091,
          571.292014001682,
          800.056985998318,
          693.977540662708,
          706.132459337292,
          515.119183178456,
          652.695816821545,
          886.734124816746,
          458.061273121753,
          411.964602061503,
          439.290226740476,
          638.679394862505,
          654.890378397021,
          327.140631450129,
          600.059159172363,
          1051.88220937751,
          1319.18843597884,
          556.875000745648,
          572.513563275512,
          530.767227956033,
          629.142590744154,
          503.782181299813,
          858.383926285102,
          420.1420737149,
          741.233639167498,
          386.271360832504,
          1267.95233365905,
          359.063666340958,
          509.083,
          875.847246858773,
          407.535753141229,
          922.402000000002,
          1141.341,
          935.110000000001,
          681.737000000001,
          238.928319188135,
          689.745035431451,
          669.211645380416,
          849.433000000001,
          989.361999999999,
          1167.15537836289,
          563.163425613793,
          471.128079716367,
          434.875116306951,
          559.684,
          1150.779,
          962.661,
          1100.40480626053,
          295.962193114774,
          425.090460407364,
          430.582540217333,
          802.961000000001,
          866.812000000002,
          954.993000000001,
          270.808095283988,
          894.935904716012,
          271.646485089344,
          708.64851491065,
          734.148621888718,
          491.831378111282,
          520.3214667327,
          755.1325332673,
          584.794000000001,
          362.208058756678,
          381.753984479676,
          387.073956763646,
          161.317,
          1057.698,
          749.900000000001,
          332.339682542849,
          714.56631745715,
          713.007000000001,
          1181.71100000001,
          1019.355,
          1024.422,
          327.134999999999,
          838.405704195417,
          682.317937334437,
          293.052358470147,
          208.5,
          1035.6,
          802.842000000001,
          303.27,
          178.928,
          1065.429,
          317.534,
          263.256,
          1065.797,
          927.361999999999,
          665.81214709,
          415.45385291,
          831.212820510729,
          838.724552739307,
          436.867690406995,
          492.795688283335,
          561.622068570364,
          533.654,
          936.481840421691,
          585.403224631292,
          719.102934947018,
          464.363136640531,
          303.336248001888,
          540.651169798052,
          481.521697444488,
          975.905013194923,
          333.441734920119,
          196.908,
          356.646125167151,
          563.89887483285,
          341.504,
          567.63,
          862.275,
          269.899,
          667.8412218068,
          458.821250731451,
          715.62552746175,
          691.691333241874,
          160.526666758125,
          1024.1,
          285.064507253552,
          745.704492746449,
          649.546999999999,
          488.426083384419,
          265.409606491852,
          517.753310123729,
          796.453000000001,
          217.564,
          464.531723979791,
          610.616276020211,
          776.645,
          559.893230554547,
          434.490769445454,
          822.387650935921,
          373.579812993424,
          751.915536070656,
          484.869616983316,
          1016.48180783251,
          327.947617844774,
          479.530957339406,
          1030.531,
          326.091,
          804.604000000001,
          748.010000000001,
          382.493663980595,
          530.759336019406,
          456.064,
          557.356955357338,
          468.778885528117,
          351.981159114545,
          435.88,
          418.333,
          424.648999999999,
          574.641638299425,
          845.967361700576,
          651.637999999999,
          337.185876202426,
          593.449800298204,
          773.532260875062,
          405.154963006032,
          274.974613200867,
          843.053486417406,
          319.371,
          854.113280254247,
          683.842601700457,
          1044.02130415731,
          394.634923515958,
          725.498890372028,
          818.168189301097,
          748.643656321222,
          472.197902696585,
          728.177382409826,
          222.75686927127,
          356.612670266377,
          515.536329733624,
          342.808217873511,
          413.39116800725,
          516.142227413798,
          398.659386705442,
          950.043650956611,
          422.79534904339,
          951.573000000001,
          283.96837800639,
          572.892361969579,
          391.25226002403,
          1094.03,
          521.041689294737,
          835.955310705261,
          563.320167629931,
          927.321832370071,
          757.837139103892,
          918.40286089611,
          1177.927,
          443.46746830442,
          714.43553169558,
          825.161,
          583.287370466208,
          380.660629533794,
          257.043679849332,
          693.562427499041,
          786.448892651628,
          318.467,
          595.229999999999,
          284.751678736759,
          651.449321263242,
          572.449999999999,
          393.324374344616,
          262.894625655384,
          372.944,
          1043.59054542223,
          542.194505474998,
          615.976073397627
         ],
         "yaxis": "y"
        }
       ],
       "layout": {
        "coloraxis": {
         "colorbar": {
          "title": {
           "text": "index"
          }
         },
         "colorscale": [
          [
           0,
           "#0d0887"
          ],
          [
           0.1111111111111111,
           "#46039f"
          ],
          [
           0.2222222222222222,
           "#7201a8"
          ],
          [
           0.3333333333333333,
           "#9c179e"
          ],
          [
           0.4444444444444444,
           "#bd3786"
          ],
          [
           0.5555555555555556,
           "#d8576b"
          ],
          [
           0.6666666666666666,
           "#ed7953"
          ],
          [
           0.7777777777777778,
           "#fb9f3a"
          ],
          [
           0.8888888888888888,
           "#fdca26"
          ],
          [
           1,
           "#f0f921"
          ]
         ]
        },
        "legend": {
         "tracegroupgap": 0
        },
        "template": {
         "data": {
          "bar": [
           {
            "error_x": {
             "color": "#2a3f5f"
            },
            "error_y": {
             "color": "#2a3f5f"
            },
            "marker": {
             "line": {
              "color": "#E5ECF6",
              "width": 0.5
             },
             "pattern": {
              "fillmode": "overlay",
              "size": 10,
              "solidity": 0.2
             }
            },
            "type": "bar"
           }
          ],
          "barpolar": [
           {
            "marker": {
             "line": {
              "color": "#E5ECF6",
              "width": 0.5
             },
             "pattern": {
              "fillmode": "overlay",
              "size": 10,
              "solidity": 0.2
             }
            },
            "type": "barpolar"
           }
          ],
          "carpet": [
           {
            "aaxis": {
             "endlinecolor": "#2a3f5f",
             "gridcolor": "white",
             "linecolor": "white",
             "minorgridcolor": "white",
             "startlinecolor": "#2a3f5f"
            },
            "baxis": {
             "endlinecolor": "#2a3f5f",
             "gridcolor": "white",
             "linecolor": "white",
             "minorgridcolor": "white",
             "startlinecolor": "#2a3f5f"
            },
            "type": "carpet"
           }
          ],
          "choropleth": [
           {
            "colorbar": {
             "outlinewidth": 0,
             "ticks": ""
            },
            "type": "choropleth"
           }
          ],
          "contour": [
           {
            "colorbar": {
             "outlinewidth": 0,
             "ticks": ""
            },
            "colorscale": [
             [
              0,
              "#0d0887"
             ],
             [
              0.1111111111111111,
              "#46039f"
             ],
             [
              0.2222222222222222,
              "#7201a8"
             ],
             [
              0.3333333333333333,
              "#9c179e"
             ],
             [
              0.4444444444444444,
              "#bd3786"
             ],
             [
              0.5555555555555556,
              "#d8576b"
             ],
             [
              0.6666666666666666,
              "#ed7953"
             ],
             [
              0.7777777777777778,
              "#fb9f3a"
             ],
             [
              0.8888888888888888,
              "#fdca26"
             ],
             [
              1,
              "#f0f921"
             ]
            ],
            "type": "contour"
           }
          ],
          "contourcarpet": [
           {
            "colorbar": {
             "outlinewidth": 0,
             "ticks": ""
            },
            "type": "contourcarpet"
           }
          ],
          "heatmap": [
           {
            "colorbar": {
             "outlinewidth": 0,
             "ticks": ""
            },
            "colorscale": [
             [
              0,
              "#0d0887"
             ],
             [
              0.1111111111111111,
              "#46039f"
             ],
             [
              0.2222222222222222,
              "#7201a8"
             ],
             [
              0.3333333333333333,
              "#9c179e"
             ],
             [
              0.4444444444444444,
              "#bd3786"
             ],
             [
              0.5555555555555556,
              "#d8576b"
             ],
             [
              0.6666666666666666,
              "#ed7953"
             ],
             [
              0.7777777777777778,
              "#fb9f3a"
             ],
             [
              0.8888888888888888,
              "#fdca26"
             ],
             [
              1,
              "#f0f921"
             ]
            ],
            "type": "heatmap"
           }
          ],
          "heatmapgl": [
           {
            "colorbar": {
             "outlinewidth": 0,
             "ticks": ""
            },
            "colorscale": [
             [
              0,
              "#0d0887"
             ],
             [
              0.1111111111111111,
              "#46039f"
             ],
             [
              0.2222222222222222,
              "#7201a8"
             ],
             [
              0.3333333333333333,
              "#9c179e"
             ],
             [
              0.4444444444444444,
              "#bd3786"
             ],
             [
              0.5555555555555556,
              "#d8576b"
             ],
             [
              0.6666666666666666,
              "#ed7953"
             ],
             [
              0.7777777777777778,
              "#fb9f3a"
             ],
             [
              0.8888888888888888,
              "#fdca26"
             ],
             [
              1,
              "#f0f921"
             ]
            ],
            "type": "heatmapgl"
           }
          ],
          "histogram": [
           {
            "marker": {
             "pattern": {
              "fillmode": "overlay",
              "size": 10,
              "solidity": 0.2
             }
            },
            "type": "histogram"
           }
          ],
          "histogram2d": [
           {
            "colorbar": {
             "outlinewidth": 0,
             "ticks": ""
            },
            "colorscale": [
             [
              0,
              "#0d0887"
             ],
             [
              0.1111111111111111,
              "#46039f"
             ],
             [
              0.2222222222222222,
              "#7201a8"
             ],
             [
              0.3333333333333333,
              "#9c179e"
             ],
             [
              0.4444444444444444,
              "#bd3786"
             ],
             [
              0.5555555555555556,
              "#d8576b"
             ],
             [
              0.6666666666666666,
              "#ed7953"
             ],
             [
              0.7777777777777778,
              "#fb9f3a"
             ],
             [
              0.8888888888888888,
              "#fdca26"
             ],
             [
              1,
              "#f0f921"
             ]
            ],
            "type": "histogram2d"
           }
          ],
          "histogram2dcontour": [
           {
            "colorbar": {
             "outlinewidth": 0,
             "ticks": ""
            },
            "colorscale": [
             [
              0,
              "#0d0887"
             ],
             [
              0.1111111111111111,
              "#46039f"
             ],
             [
              0.2222222222222222,
              "#7201a8"
             ],
             [
              0.3333333333333333,
              "#9c179e"
             ],
             [
              0.4444444444444444,
              "#bd3786"
             ],
             [
              0.5555555555555556,
              "#d8576b"
             ],
             [
              0.6666666666666666,
              "#ed7953"
             ],
             [
              0.7777777777777778,
              "#fb9f3a"
             ],
             [
              0.8888888888888888,
              "#fdca26"
             ],
             [
              1,
              "#f0f921"
             ]
            ],
            "type": "histogram2dcontour"
           }
          ],
          "mesh3d": [
           {
            "colorbar": {
             "outlinewidth": 0,
             "ticks": ""
            },
            "type": "mesh3d"
           }
          ],
          "parcoords": [
           {
            "line": {
             "colorbar": {
              "outlinewidth": 0,
              "ticks": ""
             }
            },
            "type": "parcoords"
           }
          ],
          "pie": [
           {
            "automargin": true,
            "type": "pie"
           }
          ],
          "scatter": [
           {
            "marker": {
             "colorbar": {
              "outlinewidth": 0,
              "ticks": ""
             }
            },
            "type": "scatter"
           }
          ],
          "scatter3d": [
           {
            "line": {
             "colorbar": {
              "outlinewidth": 0,
              "ticks": ""
             }
            },
            "marker": {
             "colorbar": {
              "outlinewidth": 0,
              "ticks": ""
             }
            },
            "type": "scatter3d"
           }
          ],
          "scattercarpet": [
           {
            "marker": {
             "colorbar": {
              "outlinewidth": 0,
              "ticks": ""
             }
            },
            "type": "scattercarpet"
           }
          ],
          "scattergeo": [
           {
            "marker": {
             "colorbar": {
              "outlinewidth": 0,
              "ticks": ""
             }
            },
            "type": "scattergeo"
           }
          ],
          "scattergl": [
           {
            "marker": {
             "colorbar": {
              "outlinewidth": 0,
              "ticks": ""
             }
            },
            "type": "scattergl"
           }
          ],
          "scattermapbox": [
           {
            "marker": {
             "colorbar": {
              "outlinewidth": 0,
              "ticks": ""
             }
            },
            "type": "scattermapbox"
           }
          ],
          "scatterpolar": [
           {
            "marker": {
             "colorbar": {
              "outlinewidth": 0,
              "ticks": ""
             }
            },
            "type": "scatterpolar"
           }
          ],
          "scatterpolargl": [
           {
            "marker": {
             "colorbar": {
              "outlinewidth": 0,
              "ticks": ""
             }
            },
            "type": "scatterpolargl"
           }
          ],
          "scatterternary": [
           {
            "marker": {
             "colorbar": {
              "outlinewidth": 0,
              "ticks": ""
             }
            },
            "type": "scatterternary"
           }
          ],
          "surface": [
           {
            "colorbar": {
             "outlinewidth": 0,
             "ticks": ""
            },
            "colorscale": [
             [
              0,
              "#0d0887"
             ],
             [
              0.1111111111111111,
              "#46039f"
             ],
             [
              0.2222222222222222,
              "#7201a8"
             ],
             [
              0.3333333333333333,
              "#9c179e"
             ],
             [
              0.4444444444444444,
              "#bd3786"
             ],
             [
              0.5555555555555556,
              "#d8576b"
             ],
             [
              0.6666666666666666,
              "#ed7953"
             ],
             [
              0.7777777777777778,
              "#fb9f3a"
             ],
             [
              0.8888888888888888,
              "#fdca26"
             ],
             [
              1,
              "#f0f921"
             ]
            ],
            "type": "surface"
           }
          ],
          "table": [
           {
            "cells": {
             "fill": {
              "color": "#EBF0F8"
             },
             "line": {
              "color": "white"
             }
            },
            "header": {
             "fill": {
              "color": "#C8D4E3"
             },
             "line": {
              "color": "white"
             }
            },
            "type": "table"
           }
          ]
         },
         "layout": {
          "annotationdefaults": {
           "arrowcolor": "#2a3f5f",
           "arrowhead": 0,
           "arrowwidth": 1
          },
          "autotypenumbers": "strict",
          "coloraxis": {
           "colorbar": {
            "outlinewidth": 0,
            "ticks": ""
           }
          },
          "colorscale": {
           "diverging": [
            [
             0,
             "#8e0152"
            ],
            [
             0.1,
             "#c51b7d"
            ],
            [
             0.2,
             "#de77ae"
            ],
            [
             0.3,
             "#f1b6da"
            ],
            [
             0.4,
             "#fde0ef"
            ],
            [
             0.5,
             "#f7f7f7"
            ],
            [
             0.6,
             "#e6f5d0"
            ],
            [
             0.7,
             "#b8e186"
            ],
            [
             0.8,
             "#7fbc41"
            ],
            [
             0.9,
             "#4d9221"
            ],
            [
             1,
             "#276419"
            ]
           ],
           "sequential": [
            [
             0,
             "#0d0887"
            ],
            [
             0.1111111111111111,
             "#46039f"
            ],
            [
             0.2222222222222222,
             "#7201a8"
            ],
            [
             0.3333333333333333,
             "#9c179e"
            ],
            [
             0.4444444444444444,
             "#bd3786"
            ],
            [
             0.5555555555555556,
             "#d8576b"
            ],
            [
             0.6666666666666666,
             "#ed7953"
            ],
            [
             0.7777777777777778,
             "#fb9f3a"
            ],
            [
             0.8888888888888888,
             "#fdca26"
            ],
            [
             1,
             "#f0f921"
            ]
           ],
           "sequentialminus": [
            [
             0,
             "#0d0887"
            ],
            [
             0.1111111111111111,
             "#46039f"
            ],
            [
             0.2222222222222222,
             "#7201a8"
            ],
            [
             0.3333333333333333,
             "#9c179e"
            ],
            [
             0.4444444444444444,
             "#bd3786"
            ],
            [
             0.5555555555555556,
             "#d8576b"
            ],
            [
             0.6666666666666666,
             "#ed7953"
            ],
            [
             0.7777777777777778,
             "#fb9f3a"
            ],
            [
             0.8888888888888888,
             "#fdca26"
            ],
            [
             1,
             "#f0f921"
            ]
           ]
          },
          "colorway": [
           "#636efa",
           "#EF553B",
           "#00cc96",
           "#ab63fa",
           "#FFA15A",
           "#19d3f3",
           "#FF6692",
           "#B6E880",
           "#FF97FF",
           "#FECB52"
          ],
          "font": {
           "color": "#2a3f5f"
          },
          "geo": {
           "bgcolor": "white",
           "lakecolor": "white",
           "landcolor": "#E5ECF6",
           "showlakes": true,
           "showland": true,
           "subunitcolor": "white"
          },
          "hoverlabel": {
           "align": "left"
          },
          "hovermode": "closest",
          "mapbox": {
           "style": "light"
          },
          "paper_bgcolor": "white",
          "plot_bgcolor": "#E5ECF6",
          "polar": {
           "angularaxis": {
            "gridcolor": "white",
            "linecolor": "white",
            "ticks": ""
           },
           "bgcolor": "#E5ECF6",
           "radialaxis": {
            "gridcolor": "white",
            "linecolor": "white",
            "ticks": ""
           }
          },
          "scene": {
           "xaxis": {
            "backgroundcolor": "#E5ECF6",
            "gridcolor": "white",
            "gridwidth": 2,
            "linecolor": "white",
            "showbackground": true,
            "ticks": "",
            "zerolinecolor": "white"
           },
           "yaxis": {
            "backgroundcolor": "#E5ECF6",
            "gridcolor": "white",
            "gridwidth": 2,
            "linecolor": "white",
            "showbackground": true,
            "ticks": "",
            "zerolinecolor": "white"
           },
           "zaxis": {
            "backgroundcolor": "#E5ECF6",
            "gridcolor": "white",
            "gridwidth": 2,
            "linecolor": "white",
            "showbackground": true,
            "ticks": "",
            "zerolinecolor": "white"
           }
          },
          "shapedefaults": {
           "line": {
            "color": "#2a3f5f"
           }
          },
          "ternary": {
           "aaxis": {
            "gridcolor": "white",
            "linecolor": "white",
            "ticks": ""
           },
           "baxis": {
            "gridcolor": "white",
            "linecolor": "white",
            "ticks": ""
           },
           "bgcolor": "#E5ECF6",
           "caxis": {
            "gridcolor": "white",
            "linecolor": "white",
            "ticks": ""
           }
          },
          "title": {
           "x": 0.05
          },
          "xaxis": {
           "automargin": true,
           "gridcolor": "white",
           "linecolor": "white",
           "ticks": "",
           "title": {
            "standoff": 15
           },
           "zerolinecolor": "white",
           "zerolinewidth": 2
          },
          "yaxis": {
           "automargin": true,
           "gridcolor": "white",
           "linecolor": "white",
           "ticks": "",
           "title": {
            "standoff": 15
           },
           "zerolinecolor": "white",
           "zerolinewidth": 2
          }
         }
        },
        "title": {
         "text": "Miles vs. Calories [Colored by index]\nTrednline: R^2: 0.8634 Calories = 110.93*miles + 237.18"
        },
        "xaxis": {
         "anchor": "y",
         "domain": [
          0,
          1
         ],
         "title": {
          "text": "miles"
         }
        },
        "yaxis": {
         "anchor": "x",
         "domain": [
          0,
          1
         ],
         "range": [
          0,
          1650
         ],
         "title": {
          "text": "calories"
         }
        }
       }
      },
      "text/html": [
       "<div>                            <div id=\"22e12ed7-a872-4813-8985-47b0eb8cbc1e\" class=\"plotly-graph-div\" style=\"height:525px; width:100%;\"></div>            <script type=\"text/javascript\">                require([\"plotly\"], function(Plotly) {                    window.PLOTLYENV=window.PLOTLYENV || {};                                    if (document.getElementById(\"22e12ed7-a872-4813-8985-47b0eb8cbc1e\")) {                    Plotly.newPlot(                        \"22e12ed7-a872-4813-8985-47b0eb8cbc1e\",                        [{\"hovertemplate\":\"miles=%{x}<br>calories=%{y}<br>index=%{marker.color}<extra></extra>\",\"legendgroup\":\"\",\"marker\":{\"color\":[0,1,2,3,4,5,6,7,8,9,10,11,12,13,14,15,16,17,18,19,20,21,22,23,24,25,26,27,28,29,30,31,32,33,34,35,36,37,38,39,40,41,42,43,44,45,46,47,48,49,50,51,52,53,54,55,56,57,58,59,60,61,62,63,64,65,66,67,68,69,70,71,72,73,74,75,76,77,78,79,80,81,82,84,85,86,87,88,89,90,91,92,93,94,95,96,97,98,99,100,101,102,103,104,105,106,107,108,109,110,111,112,113,114,115,116,117,118,119,120,121,122,123,124,125,126,127,128,129,130,131,132,133,134,135,136,137,138,139,140,141,142,143,144,145,146,147,148,149,150,151,152,153,154,155,156,157,158,159,160,161,162,163,164,165,166,167,168,169,170,171,172,173,174,175,176,177,178,179,180,181,182,183,184,185,186,187,188,189,190,191,192,193,194,195,196,197,198,199,200,201,202,203,204,205,206,207,208,209,210,211,212,213,214,215,216,217,218,219,220,221,222,223,224,225,226,227,228,229,230,231,232,233,234,235,236,237,238,239,240,241,242,243,245,246,247,248,249,250,251,252,253,254,255,256,257,258,259,260,261,262,263,264,265,266,267,268,269,270,271,272,273,274,275,276,277,278,279,280,281,282,283,284,285,286,287,288,289,290,291,292,293,294,295,296,297,298,299,300,301,302,303,304,305,306,307,308,309,310,311,312,313,314,315,316,317,318,319,320,321,322,323,324,325,326,327,328,329,330,331,332,333,334,335,336,337,338,339,340,341,342,343,344,345,346,347,348,349,350,351,352,353,354,355,356,357,358,359,361,362,363,364],\"coloraxis\":\"coloraxis\",\"symbol\":\"circle\"},\"mode\":\"markers\",\"name\":\"\",\"orientation\":\"v\",\"showlegend\":false,\"x\":[3.7227182960896,1.89697656857255,1.69672284643189,1.50265448247135,2.17399213702361,2.8613187713283,2.03039214641993,1.91121882024395,2.31448767523881,1.95208568625946,6.92860194070912,4.15937533849185,1.89107087649194,6.6670065029303,6.13790113658745,4.21207813324155,6.17385569064731,2.58355182420388,1.83967908633737,3.50761759282414,2.22612587092695,3.57788624233396,2.35958763075875,2.90857573468183,2.32284943275682,2.62577864649961,2.26028392517989,2.69171511419138,3.39927874879608,1.75416776296777,1.54259908460691,2.27627384758519,2.55947342604441,2.35882699078795,3.16028157941314,2.78205788189416,4.72188839635251,3.51503809870662,2.00356853780855,3.77172795121953,1.95001944723911,2.66399534134504,3.53286239904294,3.69976795024191,2.37595121835825,3.5481121277546,2.82652954394306,1.98679931123577,4.70645776944762,1.49286790889824,4.92650001152228,1.93924831880721,2.67971639580876,1.65805458842329,3.16673590682393,1.88083212526027,1.91247239571794,4.95315955612041,2.09386661635807,2.56667837221265,2.26359657460519,2.32694609758516,2.54800516981329,2.12564613842705,9.91535536436513,1.84184790812584,1.87380294959645,1.95813949360542,1.89608454529738,1.98099992105229,1.43085835163897,3.71458532922639,2.22799593687401,3.07577656480184,2.21038384965456,1.87219511738554,2.11259840610259,3.25147914430459,3.59909596327138,2.73333180445284,6.6461977858349,5.33128756527608,3.93337338839219,2.39956084172566,2.60089421809223,3.07426339218733,2.6004104557134,1.59246580096944,2.38807196003928,2.86277717893406,1.68078672005971,8.98289631285285,4.62545801063221,2.05500524675847,3.04972805379401,2.50860739151148,2.81114006946558,3.88146123130472,3.68442987236766,10.1391572699686,2.47516568018223,1.74913376973316,2.40258264325035,3.7190895060851,4.770094163346,1.44969323949489,2.27933260769196,2.41555389972494,2.31764286144094,2.74515591247363,2.42443550748294,4.48008421871056,3.67333426996896,3.66706679974464,2.66240119276147,2.04075245650776,4.79325111997681,2.1285842643241,2.67531918411518,3.32335823408366,2.27309132369842,2.26398504839911,3.12278360339361,3.98827009174983,5.33963920438035,2.55189903307512,2.67553156393015,2.59981241283934,1.22091629785606,2.03393794752028,2.92118591797054,1.37181479302187,3.94669870357063,4.17534613850156,4.30305287573727,2.78720413257814,2.94017984163379,3.04725789539492,1.62864792636102,4.51025543871143,3.70011871983419,2.38776700172334,2.32622579769725,3.20731973635455,3.16800103447259,3.04175118954253,6.04815434303131,4.35558176186636,2.63278226984012,4.96664389123943,3.03990160880213,2.90597878468371,2.36571704183832,4.16650323754961,4.10190210606757,4.43755432604092,2.60929094780083,3.25312449039869,6.16311529348146,2.32169328726451,2.13641263331836,2.20374634562317,4.13014378981128,3.29418180158206,1.95703795415023,3.37690587044714,7.47629183662241,7.7997719160753,2.44393963006505,3.72150093949588,3.36695868951072,4.59853436217258,4.99399474922013,8.81002431852695,2.69370271786663,2.894432379704,1.04357894297672,10.0515968865464,1.85440527763036,2.83184869093686,6.11315445609744,2.06906073711222,8.13610812634908,9.25305349115031,7.78597023788843,2.87606941015,1.69659160384954,4.98869972464642,3.10692500065642,6.85741086647214,6.9156556257296,9.49152221637672,3.2434050073374,1.66715960767037,2.58055934701339,2.87872246099597,10.1934268765139,6.80903627677101,8.37388493141669,1.74327787085083,2.97282699606303,2.43204334173389,7.00561515721937,7.34874149593573,7.17115970113234,1.79824548028125,5.03895330744063,2.10740121672953,3.85977092637756,3.28797041839698,3.52469636875327,2.42336730809822,4.92475807397587,3.41331435360436,1.70456052752075,2.58216034386374,1.98023097524678,1.35682540099157,8.72222396444854,6.50122232997997,1.85544499963426,4.19630273149514,4.77545069083959,9.15488172961112,7.61856665054742,7.93652008573604,1.71794094343502,6.02558914801752,4.47365963505051,2.69596522483297,1.33962477804994,8.19690687426542,7.21859313863329,1.67474768248942,1.43660776370854,8.20587697144449,1.73270093793653,1.99423276417736,8.24397674111505,7.05341557654305,4.23169682968375,2.76389849179254,4.12356901644297,4.24885427172951,2.4722527167102,2.05379553861734,4.15006157645799,3.57583583270703,4.58163668686538,2.38297830580469,4.45093540451652,2.2831612153631,1.71613783203482,1.97817600981042,2.42826496376655,5.19440534065112,2.71279968637717,1.18271120299168,1.37900047499638,2.5437816642019,1.54693894343893,3.60936679163614,4.91135236178864,1.20006574670264,4.05593794726139,2.40374169480598,4.80552497172347,3.07222688980633,1.99074250417002,6.3910794952137,1.02085968918593,3.77390625979149,5.09908122725748,2.6273422179704,2.00072430076177,2.40700390365597,4.20083506972067,1.12011235963576,1.27022844833434,2.35462369720377,4.15423157762682,2.66557818227384,2.14394161037632,3.6350486326847,1.31897537626006,4.62114411417071,3.18454527343861,5.39740332541934,2.26079711110495,2.26420197015865,4.88760038017272,1.18786877768916,4.10645178320774,3.66817497635389,1.21955999053671,2.60308726635712,2.01974870809551,2.26411283381552,2.44691040697134,1.45278121152565,2.26541676155191,2.61591475964101,1.78579695064934,3.29831027081233,4.57958969605246,2.49112591114865,1.05012995289292,3.84538550726899,3.1639929816614,1.04407339411259,1.33540583984468,4.19995757674169,1.03307314202845,4.4797453294823,3.81406762887154,5.28063031538382,1.46935247453648,4.43786913607224,3.8506157664763,4.55749000607362,2.97639733449023,4.05399509002682,1.44204913694836,1.33042780457446,2.10438125038387,2.3701387969595,1.28111717280455,1.63135661677697,2.84430906495892,4.48330908897347,2.25666045646791,5.82539869642723,2.30485439186397,2.62882791851514,1.49959609834733,7.70344248162788,2.57760037782735,4.86164569335249,3.16400245247995,4.67106078271619,4.12281937306264,4.89356732858663,6.30859381572157,3.04626467765329,4.11092442614219,4.87067328327157,2.76598241334086,1.76076279732018,1.0473012982691,2.88329461484827,4.29476670321422,2.02828617493829,4.23551840436992,1.1717287319885,2.83664394734437,3.17701484772975,1.56006341136723,2.03270788076118,1.69404267859633,5.73792989060081,2.42009737153147,2.92863658125028],\"xaxis\":\"x\",\"y\":[692.881761274166,536.691407956743,276.350999999999,270.923146762041,397.484041234037,702.107462456384,519.341933890192,581.203987582989,527.071428074356,411.312179296951,1079.65282070305,829.228614293344,341.860385706658,962.018,950.258562819967,782.377880005755,863.036557174281,601.390587040521,492.184507807422,847.532824984648,526.002080167403,740.463040158474,443.602185651039,578.325922047423,562.67506105348,804.732100452362,625.442690637212,599.247000000001,942.563408961203,519.651591038795,346.525003615485,730.10611961992,625.839986220131,649.155890544466,738.649016125774,667.74798387423,868.244999999995,780.348999999994,524.527,729.921999999999,555.046,602.153999999999,853.013405611315,705.983594388686,364.538323219297,727.747711180903,740.778859978545,581.65610562125,984.971133534053,155.542866465948,1014.957,416.307999999999,635.235,360.860429151479,805.50064114854,272.074929699984,349.804545181544,887.250396414423,607.351058404035,566.378928260796,730.352262013146,595.26380972606,697.87973010914,725.171269890861,1500.07696169728,478.416038302721,489.886000000002,449.428000000002,489.258640602509,522.488359397494,360.299000000001,759.501,383.644000000001,625.488000000002,590.134000000003,522.654,631.001360707732,474.761639292269,613.390000000001,522.688180287642,642.310819712365,874.482543178304,191.519456821696,684.538090706095,553.755000000001,479.437000000001,724.016652267443,475.901347732558,618.385603417631,717.536429880361,482.332966702008,1535.93199999995,812.251000000002,492.491395118112,716.233325308533,521.111279573353,661.526402369546,801.419597630454,565.346,1625.688,540.542126153119,411.100873846882,670.561999999999,678.925000000001,995.140506432119,386.344337030111,472.877156537772,536.63,612.783437700391,538.090562299611,335.021391714572,837.034179979101,631.833428306328,808.075,634.446,587.592,616.007,536.116141402322,491.464858597676,622.062,566.847547364073,592.330297460266,440.162771034808,603.014384140851,799.475909382761,475.292090617239,491.172,569.617245538077,163.189414172474,515.060243889038,609.084531973524,263.783970592476,772.215473035205,780.594397650478,534.94972314873,515.984000000001,520.177803481137,548.641196518863,372.587999999999,708.202000000001,692.314146984756,299.498853015245,414.976062800549,605.166743715387,633.522193484066,550.957,963.982000000002,769.025828518746,415.53518421234,573.321987268914,415.857607961909,706.426392038091,571.292014001682,800.056985998318,693.977540662708,706.132459337292,515.119183178456,652.695816821545,886.734124816746,458.061273121753,411.964602061503,439.290226740476,638.679394862505,654.890378397021,327.140631450129,600.059159172363,1051.88220937751,1319.18843597884,556.875000745648,572.513563275512,530.767227956033,629.142590744154,503.782181299813,858.383926285102,420.1420737149,741.233639167498,386.271360832504,1267.95233365905,359.063666340958,509.083,875.847246858773,407.535753141229,922.402000000002,1141.341,935.110000000001,681.737000000001,238.928319188135,689.745035431451,669.211645380416,849.433000000001,989.361999999999,1167.15537836289,563.163425613793,471.128079716367,434.875116306951,559.684,1150.779,962.661,1100.40480626053,295.962193114774,425.090460407364,430.582540217333,802.961000000001,866.812000000002,954.993000000001,270.808095283988,894.935904716012,271.646485089344,708.64851491065,734.148621888718,491.831378111282,520.3214667327,755.1325332673,584.794000000001,362.208058756678,381.753984479676,387.073956763646,161.317,1057.698,749.900000000001,332.339682542849,714.56631745715,713.007000000001,1181.71100000001,1019.355,1024.422,327.134999999999,838.405704195417,682.317937334437,293.052358470147,208.5,1035.6,802.842000000001,303.27,178.928,1065.429,317.534,263.256,1065.797,927.361999999999,665.81214709,415.45385291,831.212820510729,838.724552739307,436.867690406995,492.795688283335,561.622068570364,533.654,936.481840421691,585.403224631292,719.102934947018,464.363136640531,303.336248001888,540.651169798052,481.521697444488,975.905013194923,333.441734920119,196.908,356.646125167151,563.89887483285,341.504,567.63,862.275,269.899,667.8412218068,458.821250731451,715.62552746175,691.691333241874,160.526666758125,1024.1,285.064507253552,745.704492746449,649.546999999999,488.426083384419,265.409606491852,517.753310123729,796.453000000001,217.564,464.531723979791,610.616276020211,776.645,559.893230554547,434.490769445454,822.387650935921,373.579812993424,751.915536070656,484.869616983316,1016.48180783251,327.947617844774,479.530957339406,1030.531,326.091,804.604000000001,748.010000000001,382.493663980595,530.759336019406,456.064,557.356955357338,468.778885528117,351.981159114545,435.88,418.333,424.648999999999,574.641638299425,845.967361700576,651.637999999999,337.185876202426,593.449800298204,773.532260875062,405.154963006032,274.974613200867,843.053486417406,319.371,854.113280254247,683.842601700457,1044.02130415731,394.634923515958,725.498890372028,818.168189301097,748.643656321222,472.197902696585,728.177382409826,222.75686927127,356.612670266377,515.536329733624,342.808217873511,413.39116800725,516.142227413798,398.659386705442,950.043650956611,422.79534904339,951.573000000001,283.96837800639,572.892361969579,391.25226002403,1094.03,521.041689294737,835.955310705261,563.320167629931,927.321832370071,757.837139103892,918.40286089611,1177.927,443.46746830442,714.43553169558,825.161,583.287370466208,380.660629533794,257.043679849332,693.562427499041,786.448892651628,318.467,595.229999999999,284.751678736759,651.449321263242,572.449999999999,393.324374344616,262.894625655384,372.944,1043.59054542223,542.194505474998,615.976073397627],\"yaxis\":\"y\",\"type\":\"scatter\"}],                        {\"template\":{\"data\":{\"bar\":[{\"error_x\":{\"color\":\"#2a3f5f\"},\"error_y\":{\"color\":\"#2a3f5f\"},\"marker\":{\"line\":{\"color\":\"#E5ECF6\",\"width\":0.5},\"pattern\":{\"fillmode\":\"overlay\",\"size\":10,\"solidity\":0.2}},\"type\":\"bar\"}],\"barpolar\":[{\"marker\":{\"line\":{\"color\":\"#E5ECF6\",\"width\":0.5},\"pattern\":{\"fillmode\":\"overlay\",\"size\":10,\"solidity\":0.2}},\"type\":\"barpolar\"}],\"carpet\":[{\"aaxis\":{\"endlinecolor\":\"#2a3f5f\",\"gridcolor\":\"white\",\"linecolor\":\"white\",\"minorgridcolor\":\"white\",\"startlinecolor\":\"#2a3f5f\"},\"baxis\":{\"endlinecolor\":\"#2a3f5f\",\"gridcolor\":\"white\",\"linecolor\":\"white\",\"minorgridcolor\":\"white\",\"startlinecolor\":\"#2a3f5f\"},\"type\":\"carpet\"}],\"choropleth\":[{\"colorbar\":{\"outlinewidth\":0,\"ticks\":\"\"},\"type\":\"choropleth\"}],\"contour\":[{\"colorbar\":{\"outlinewidth\":0,\"ticks\":\"\"},\"colorscale\":[[0.0,\"#0d0887\"],[0.1111111111111111,\"#46039f\"],[0.2222222222222222,\"#7201a8\"],[0.3333333333333333,\"#9c179e\"],[0.4444444444444444,\"#bd3786\"],[0.5555555555555556,\"#d8576b\"],[0.6666666666666666,\"#ed7953\"],[0.7777777777777778,\"#fb9f3a\"],[0.8888888888888888,\"#fdca26\"],[1.0,\"#f0f921\"]],\"type\":\"contour\"}],\"contourcarpet\":[{\"colorbar\":{\"outlinewidth\":0,\"ticks\":\"\"},\"type\":\"contourcarpet\"}],\"heatmap\":[{\"colorbar\":{\"outlinewidth\":0,\"ticks\":\"\"},\"colorscale\":[[0.0,\"#0d0887\"],[0.1111111111111111,\"#46039f\"],[0.2222222222222222,\"#7201a8\"],[0.3333333333333333,\"#9c179e\"],[0.4444444444444444,\"#bd3786\"],[0.5555555555555556,\"#d8576b\"],[0.6666666666666666,\"#ed7953\"],[0.7777777777777778,\"#fb9f3a\"],[0.8888888888888888,\"#fdca26\"],[1.0,\"#f0f921\"]],\"type\":\"heatmap\"}],\"heatmapgl\":[{\"colorbar\":{\"outlinewidth\":0,\"ticks\":\"\"},\"colorscale\":[[0.0,\"#0d0887\"],[0.1111111111111111,\"#46039f\"],[0.2222222222222222,\"#7201a8\"],[0.3333333333333333,\"#9c179e\"],[0.4444444444444444,\"#bd3786\"],[0.5555555555555556,\"#d8576b\"],[0.6666666666666666,\"#ed7953\"],[0.7777777777777778,\"#fb9f3a\"],[0.8888888888888888,\"#fdca26\"],[1.0,\"#f0f921\"]],\"type\":\"heatmapgl\"}],\"histogram\":[{\"marker\":{\"pattern\":{\"fillmode\":\"overlay\",\"size\":10,\"solidity\":0.2}},\"type\":\"histogram\"}],\"histogram2d\":[{\"colorbar\":{\"outlinewidth\":0,\"ticks\":\"\"},\"colorscale\":[[0.0,\"#0d0887\"],[0.1111111111111111,\"#46039f\"],[0.2222222222222222,\"#7201a8\"],[0.3333333333333333,\"#9c179e\"],[0.4444444444444444,\"#bd3786\"],[0.5555555555555556,\"#d8576b\"],[0.6666666666666666,\"#ed7953\"],[0.7777777777777778,\"#fb9f3a\"],[0.8888888888888888,\"#fdca26\"],[1.0,\"#f0f921\"]],\"type\":\"histogram2d\"}],\"histogram2dcontour\":[{\"colorbar\":{\"outlinewidth\":0,\"ticks\":\"\"},\"colorscale\":[[0.0,\"#0d0887\"],[0.1111111111111111,\"#46039f\"],[0.2222222222222222,\"#7201a8\"],[0.3333333333333333,\"#9c179e\"],[0.4444444444444444,\"#bd3786\"],[0.5555555555555556,\"#d8576b\"],[0.6666666666666666,\"#ed7953\"],[0.7777777777777778,\"#fb9f3a\"],[0.8888888888888888,\"#fdca26\"],[1.0,\"#f0f921\"]],\"type\":\"histogram2dcontour\"}],\"mesh3d\":[{\"colorbar\":{\"outlinewidth\":0,\"ticks\":\"\"},\"type\":\"mesh3d\"}],\"parcoords\":[{\"line\":{\"colorbar\":{\"outlinewidth\":0,\"ticks\":\"\"}},\"type\":\"parcoords\"}],\"pie\":[{\"automargin\":true,\"type\":\"pie\"}],\"scatter\":[{\"marker\":{\"colorbar\":{\"outlinewidth\":0,\"ticks\":\"\"}},\"type\":\"scatter\"}],\"scatter3d\":[{\"line\":{\"colorbar\":{\"outlinewidth\":0,\"ticks\":\"\"}},\"marker\":{\"colorbar\":{\"outlinewidth\":0,\"ticks\":\"\"}},\"type\":\"scatter3d\"}],\"scattercarpet\":[{\"marker\":{\"colorbar\":{\"outlinewidth\":0,\"ticks\":\"\"}},\"type\":\"scattercarpet\"}],\"scattergeo\":[{\"marker\":{\"colorbar\":{\"outlinewidth\":0,\"ticks\":\"\"}},\"type\":\"scattergeo\"}],\"scattergl\":[{\"marker\":{\"colorbar\":{\"outlinewidth\":0,\"ticks\":\"\"}},\"type\":\"scattergl\"}],\"scattermapbox\":[{\"marker\":{\"colorbar\":{\"outlinewidth\":0,\"ticks\":\"\"}},\"type\":\"scattermapbox\"}],\"scatterpolar\":[{\"marker\":{\"colorbar\":{\"outlinewidth\":0,\"ticks\":\"\"}},\"type\":\"scatterpolar\"}],\"scatterpolargl\":[{\"marker\":{\"colorbar\":{\"outlinewidth\":0,\"ticks\":\"\"}},\"type\":\"scatterpolargl\"}],\"scatterternary\":[{\"marker\":{\"colorbar\":{\"outlinewidth\":0,\"ticks\":\"\"}},\"type\":\"scatterternary\"}],\"surface\":[{\"colorbar\":{\"outlinewidth\":0,\"ticks\":\"\"},\"colorscale\":[[0.0,\"#0d0887\"],[0.1111111111111111,\"#46039f\"],[0.2222222222222222,\"#7201a8\"],[0.3333333333333333,\"#9c179e\"],[0.4444444444444444,\"#bd3786\"],[0.5555555555555556,\"#d8576b\"],[0.6666666666666666,\"#ed7953\"],[0.7777777777777778,\"#fb9f3a\"],[0.8888888888888888,\"#fdca26\"],[1.0,\"#f0f921\"]],\"type\":\"surface\"}],\"table\":[{\"cells\":{\"fill\":{\"color\":\"#EBF0F8\"},\"line\":{\"color\":\"white\"}},\"header\":{\"fill\":{\"color\":\"#C8D4E3\"},\"line\":{\"color\":\"white\"}},\"type\":\"table\"}]},\"layout\":{\"annotationdefaults\":{\"arrowcolor\":\"#2a3f5f\",\"arrowhead\":0,\"arrowwidth\":1},\"autotypenumbers\":\"strict\",\"coloraxis\":{\"colorbar\":{\"outlinewidth\":0,\"ticks\":\"\"}},\"colorscale\":{\"diverging\":[[0,\"#8e0152\"],[0.1,\"#c51b7d\"],[0.2,\"#de77ae\"],[0.3,\"#f1b6da\"],[0.4,\"#fde0ef\"],[0.5,\"#f7f7f7\"],[0.6,\"#e6f5d0\"],[0.7,\"#b8e186\"],[0.8,\"#7fbc41\"],[0.9,\"#4d9221\"],[1,\"#276419\"]],\"sequential\":[[0.0,\"#0d0887\"],[0.1111111111111111,\"#46039f\"],[0.2222222222222222,\"#7201a8\"],[0.3333333333333333,\"#9c179e\"],[0.4444444444444444,\"#bd3786\"],[0.5555555555555556,\"#d8576b\"],[0.6666666666666666,\"#ed7953\"],[0.7777777777777778,\"#fb9f3a\"],[0.8888888888888888,\"#fdca26\"],[1.0,\"#f0f921\"]],\"sequentialminus\":[[0.0,\"#0d0887\"],[0.1111111111111111,\"#46039f\"],[0.2222222222222222,\"#7201a8\"],[0.3333333333333333,\"#9c179e\"],[0.4444444444444444,\"#bd3786\"],[0.5555555555555556,\"#d8576b\"],[0.6666666666666666,\"#ed7953\"],[0.7777777777777778,\"#fb9f3a\"],[0.8888888888888888,\"#fdca26\"],[1.0,\"#f0f921\"]]},\"colorway\":[\"#636efa\",\"#EF553B\",\"#00cc96\",\"#ab63fa\",\"#FFA15A\",\"#19d3f3\",\"#FF6692\",\"#B6E880\",\"#FF97FF\",\"#FECB52\"],\"font\":{\"color\":\"#2a3f5f\"},\"geo\":{\"bgcolor\":\"white\",\"lakecolor\":\"white\",\"landcolor\":\"#E5ECF6\",\"showlakes\":true,\"showland\":true,\"subunitcolor\":\"white\"},\"hoverlabel\":{\"align\":\"left\"},\"hovermode\":\"closest\",\"mapbox\":{\"style\":\"light\"},\"paper_bgcolor\":\"white\",\"plot_bgcolor\":\"#E5ECF6\",\"polar\":{\"angularaxis\":{\"gridcolor\":\"white\",\"linecolor\":\"white\",\"ticks\":\"\"},\"bgcolor\":\"#E5ECF6\",\"radialaxis\":{\"gridcolor\":\"white\",\"linecolor\":\"white\",\"ticks\":\"\"}},\"scene\":{\"xaxis\":{\"backgroundcolor\":\"#E5ECF6\",\"gridcolor\":\"white\",\"gridwidth\":2,\"linecolor\":\"white\",\"showbackground\":true,\"ticks\":\"\",\"zerolinecolor\":\"white\"},\"yaxis\":{\"backgroundcolor\":\"#E5ECF6\",\"gridcolor\":\"white\",\"gridwidth\":2,\"linecolor\":\"white\",\"showbackground\":true,\"ticks\":\"\",\"zerolinecolor\":\"white\"},\"zaxis\":{\"backgroundcolor\":\"#E5ECF6\",\"gridcolor\":\"white\",\"gridwidth\":2,\"linecolor\":\"white\",\"showbackground\":true,\"ticks\":\"\",\"zerolinecolor\":\"white\"}},\"shapedefaults\":{\"line\":{\"color\":\"#2a3f5f\"}},\"ternary\":{\"aaxis\":{\"gridcolor\":\"white\",\"linecolor\":\"white\",\"ticks\":\"\"},\"baxis\":{\"gridcolor\":\"white\",\"linecolor\":\"white\",\"ticks\":\"\"},\"bgcolor\":\"#E5ECF6\",\"caxis\":{\"gridcolor\":\"white\",\"linecolor\":\"white\",\"ticks\":\"\"}},\"title\":{\"x\":0.05},\"xaxis\":{\"automargin\":true,\"gridcolor\":\"white\",\"linecolor\":\"white\",\"ticks\":\"\",\"title\":{\"standoff\":15},\"zerolinecolor\":\"white\",\"zerolinewidth\":2},\"yaxis\":{\"automargin\":true,\"gridcolor\":\"white\",\"linecolor\":\"white\",\"ticks\":\"\",\"title\":{\"standoff\":15},\"zerolinecolor\":\"white\",\"zerolinewidth\":2}}},\"xaxis\":{\"anchor\":\"y\",\"domain\":[0.0,1.0],\"title\":{\"text\":\"miles\"}},\"yaxis\":{\"anchor\":\"x\",\"domain\":[0.0,1.0],\"title\":{\"text\":\"calories\"},\"range\":[0,1650]},\"coloraxis\":{\"colorbar\":{\"title\":{\"text\":\"index\"}},\"colorscale\":[[0.0,\"#0d0887\"],[0.1111111111111111,\"#46039f\"],[0.2222222222222222,\"#7201a8\"],[0.3333333333333333,\"#9c179e\"],[0.4444444444444444,\"#bd3786\"],[0.5555555555555556,\"#d8576b\"],[0.6666666666666666,\"#ed7953\"],[0.7777777777777778,\"#fb9f3a\"],[0.8888888888888888,\"#fdca26\"],[1.0,\"#f0f921\"]]},\"legend\":{\"tracegroupgap\":0},\"title\":{\"text\":\"Miles vs. Calories [Colored by index]\\nTrednline: R^2: 0.8634 Calories = 110.93*miles + 237.18\"}},                        {\"responsive\": true}                    ).then(function(){\n",
       "                            \n",
       "var gd = document.getElementById('22e12ed7-a872-4813-8985-47b0eb8cbc1e');\n",
       "var x = new MutationObserver(function (mutations, observer) {{\n",
       "        var display = window.getComputedStyle(gd).display;\n",
       "        if (!display || display === 'none') {{\n",
       "            console.log([gd, 'removed!']);\n",
       "            Plotly.purge(gd);\n",
       "            observer.disconnect();\n",
       "        }}\n",
       "}});\n",
       "\n",
       "// Listen for the removal of the full notebook cells\n",
       "var notebookContainer = gd.closest('#notebook-container');\n",
       "if (notebookContainer) {{\n",
       "    x.observe(notebookContainer, {childList: true});\n",
       "}}\n",
       "\n",
       "// Listen for the clearing of the current output cell\n",
       "var outputEl = gd.closest('.output');\n",
       "if (outputEl) {{\n",
       "    x.observe(outputEl, {childList: true});\n",
       "}}\n",
       "\n",
       "                        })                };                });            </script>        </div>"
      ]
     },
     "metadata": {},
     "output_type": "display_data"
    },
    {
     "data": {
      "application/vnd.plotly.v1+json": {
       "config": {
        "plotlyServerURL": "https://plot.ly"
       },
       "data": [
        {
         "hovertemplate": "miles=%{x}<br>calories=%{y}<br>date=%{marker.color}<extra></extra>",
         "legendgroup": "",
         "marker": {
          "color": [
           1,
           2,
           3,
           4,
           5,
           6,
           7,
           8,
           9,
           10,
           11,
           12,
           13,
           14,
           15,
           16,
           17,
           18,
           19,
           20,
           21,
           22,
           23,
           24,
           25,
           26,
           27,
           28,
           29,
           30,
           31,
           1,
           2,
           3,
           4,
           5,
           6,
           7,
           8,
           9,
           10,
           11,
           12,
           13,
           14,
           15,
           16,
           17,
           18,
           19,
           20,
           21,
           22,
           23,
           24,
           25,
           26,
           27,
           28,
           1,
           2,
           3,
           4,
           5,
           6,
           7,
           8,
           9,
           10,
           11,
           12,
           13,
           14,
           15,
           16,
           17,
           18,
           19,
           20,
           21,
           22,
           23,
           24,
           26,
           27,
           28,
           29,
           30,
           31,
           1,
           2,
           3,
           4,
           5,
           6,
           7,
           8,
           9,
           10,
           11,
           12,
           13,
           14,
           15,
           16,
           17,
           18,
           19,
           20,
           21,
           22,
           23,
           24,
           25,
           26,
           27,
           28,
           29,
           30,
           1,
           2,
           3,
           4,
           5,
           6,
           7,
           8,
           9,
           10,
           11,
           12,
           13,
           14,
           15,
           16,
           17,
           18,
           19,
           20,
           21,
           22,
           23,
           24,
           25,
           26,
           27,
           28,
           29,
           30,
           31,
           1,
           2,
           3,
           4,
           5,
           6,
           7,
           8,
           9,
           10,
           11,
           12,
           13,
           14,
           15,
           16,
           17,
           18,
           19,
           20,
           21,
           22,
           23,
           24,
           25,
           26,
           27,
           28,
           29,
           30,
           1,
           2,
           3,
           4,
           5,
           6,
           7,
           8,
           9,
           10,
           11,
           12,
           13,
           14,
           15,
           16,
           17,
           18,
           19,
           20,
           21,
           22,
           23,
           24,
           25,
           26,
           27,
           28,
           29,
           30,
           31,
           1,
           2,
           3,
           4,
           5,
           6,
           7,
           8,
           9,
           10,
           11,
           12,
           13,
           14,
           15,
           16,
           17,
           18,
           19,
           20,
           21,
           22,
           23,
           24,
           25,
           26,
           27,
           28,
           29,
           30,
           31,
           1,
           3,
           4,
           5,
           6,
           7,
           8,
           9,
           10,
           11,
           12,
           13,
           14,
           15,
           16,
           17,
           18,
           19,
           20,
           21,
           22,
           23,
           24,
           25,
           26,
           27,
           28,
           29,
           30,
           1,
           2,
           3,
           4,
           5,
           6,
           7,
           8,
           9,
           10,
           11,
           12,
           13,
           14,
           15,
           16,
           17,
           18,
           19,
           20,
           21,
           22,
           23,
           24,
           25,
           26,
           27,
           28,
           29,
           30,
           31,
           1,
           2,
           3,
           4,
           5,
           6,
           7,
           8,
           9,
           10,
           11,
           12,
           13,
           14,
           15,
           16,
           17,
           18,
           19,
           20,
           21,
           22,
           23,
           24,
           25,
           26,
           27,
           28,
           29,
           30,
           1,
           2,
           3,
           4,
           5,
           6,
           7,
           8,
           9,
           10,
           11,
           12,
           13,
           14,
           15,
           16,
           17,
           18,
           19,
           20,
           21,
           22,
           23,
           24,
           25,
           26,
           28,
           29,
           30,
           31
          ],
          "coloraxis": "coloraxis",
          "symbol": "circle"
         },
         "mode": "markers",
         "name": "",
         "orientation": "v",
         "showlegend": false,
         "type": "scatter",
         "x": [
          3.7227182960896,
          1.89697656857255,
          1.69672284643189,
          1.50265448247135,
          2.17399213702361,
          2.8613187713283,
          2.03039214641993,
          1.91121882024395,
          2.31448767523881,
          1.95208568625946,
          6.92860194070912,
          4.15937533849185,
          1.89107087649194,
          6.6670065029303,
          6.13790113658745,
          4.21207813324155,
          6.17385569064731,
          2.58355182420388,
          1.83967908633737,
          3.50761759282414,
          2.22612587092695,
          3.57788624233396,
          2.35958763075875,
          2.90857573468183,
          2.32284943275682,
          2.62577864649961,
          2.26028392517989,
          2.69171511419138,
          3.39927874879608,
          1.75416776296777,
          1.54259908460691,
          2.27627384758519,
          2.55947342604441,
          2.35882699078795,
          3.16028157941314,
          2.78205788189416,
          4.72188839635251,
          3.51503809870662,
          2.00356853780855,
          3.77172795121953,
          1.95001944723911,
          2.66399534134504,
          3.53286239904294,
          3.69976795024191,
          2.37595121835825,
          3.5481121277546,
          2.82652954394306,
          1.98679931123577,
          4.70645776944762,
          1.49286790889824,
          4.92650001152228,
          1.93924831880721,
          2.67971639580876,
          1.65805458842329,
          3.16673590682393,
          1.88083212526027,
          1.91247239571794,
          4.95315955612041,
          2.09386661635807,
          2.56667837221265,
          2.26359657460519,
          2.32694609758516,
          2.54800516981329,
          2.12564613842705,
          9.91535536436513,
          1.84184790812584,
          1.87380294959645,
          1.95813949360542,
          1.89608454529738,
          1.98099992105229,
          1.43085835163897,
          3.71458532922639,
          2.22799593687401,
          3.07577656480184,
          2.21038384965456,
          1.87219511738554,
          2.11259840610259,
          3.25147914430459,
          3.59909596327138,
          2.73333180445284,
          6.6461977858349,
          5.33128756527608,
          3.93337338839219,
          2.39956084172566,
          2.60089421809223,
          3.07426339218733,
          2.6004104557134,
          1.59246580096944,
          2.38807196003928,
          2.86277717893406,
          1.68078672005971,
          8.98289631285285,
          4.62545801063221,
          2.05500524675847,
          3.04972805379401,
          2.50860739151148,
          2.81114006946558,
          3.88146123130472,
          3.68442987236766,
          10.1391572699686,
          2.47516568018223,
          1.74913376973316,
          2.40258264325035,
          3.7190895060851,
          4.770094163346,
          1.44969323949489,
          2.27933260769196,
          2.41555389972494,
          2.31764286144094,
          2.74515591247363,
          2.42443550748294,
          4.48008421871056,
          3.67333426996896,
          3.66706679974464,
          2.66240119276147,
          2.04075245650776,
          4.79325111997681,
          2.1285842643241,
          2.67531918411518,
          3.32335823408366,
          2.27309132369842,
          2.26398504839911,
          3.12278360339361,
          3.98827009174983,
          5.33963920438035,
          2.55189903307512,
          2.67553156393015,
          2.59981241283934,
          1.22091629785606,
          2.03393794752028,
          2.92118591797054,
          1.37181479302187,
          3.94669870357063,
          4.17534613850156,
          4.30305287573727,
          2.78720413257814,
          2.94017984163379,
          3.04725789539492,
          1.62864792636102,
          4.51025543871143,
          3.70011871983419,
          2.38776700172334,
          2.32622579769725,
          3.20731973635455,
          3.16800103447259,
          3.04175118954253,
          6.04815434303131,
          4.35558176186636,
          2.63278226984012,
          4.96664389123943,
          3.03990160880213,
          2.90597878468371,
          2.36571704183832,
          4.16650323754961,
          4.10190210606757,
          4.43755432604092,
          2.60929094780083,
          3.25312449039869,
          6.16311529348146,
          2.32169328726451,
          2.13641263331836,
          2.20374634562317,
          4.13014378981128,
          3.29418180158206,
          1.95703795415023,
          3.37690587044714,
          7.47629183662241,
          7.7997719160753,
          2.44393963006505,
          3.72150093949588,
          3.36695868951072,
          4.59853436217258,
          4.99399474922013,
          8.81002431852695,
          2.69370271786663,
          2.894432379704,
          1.04357894297672,
          10.0515968865464,
          1.85440527763036,
          2.83184869093686,
          6.11315445609744,
          2.06906073711222,
          8.13610812634908,
          9.25305349115031,
          7.78597023788843,
          2.87606941015,
          1.69659160384954,
          4.98869972464642,
          3.10692500065642,
          6.85741086647214,
          6.9156556257296,
          9.49152221637672,
          3.2434050073374,
          1.66715960767037,
          2.58055934701339,
          2.87872246099597,
          10.1934268765139,
          6.80903627677101,
          8.37388493141669,
          1.74327787085083,
          2.97282699606303,
          2.43204334173389,
          7.00561515721937,
          7.34874149593573,
          7.17115970113234,
          1.79824548028125,
          5.03895330744063,
          2.10740121672953,
          3.85977092637756,
          3.28797041839698,
          3.52469636875327,
          2.42336730809822,
          4.92475807397587,
          3.41331435360436,
          1.70456052752075,
          2.58216034386374,
          1.98023097524678,
          1.35682540099157,
          8.72222396444854,
          6.50122232997997,
          1.85544499963426,
          4.19630273149514,
          4.77545069083959,
          9.15488172961112,
          7.61856665054742,
          7.93652008573604,
          1.71794094343502,
          6.02558914801752,
          4.47365963505051,
          2.69596522483297,
          1.33962477804994,
          8.19690687426542,
          7.21859313863329,
          1.67474768248942,
          1.43660776370854,
          8.20587697144449,
          1.73270093793653,
          1.99423276417736,
          8.24397674111505,
          7.05341557654305,
          4.23169682968375,
          2.76389849179254,
          4.12356901644297,
          4.24885427172951,
          2.4722527167102,
          2.05379553861734,
          4.15006157645799,
          3.57583583270703,
          4.58163668686538,
          2.38297830580469,
          4.45093540451652,
          2.2831612153631,
          1.71613783203482,
          1.97817600981042,
          2.42826496376655,
          5.19440534065112,
          2.71279968637717,
          1.18271120299168,
          1.37900047499638,
          2.5437816642019,
          1.54693894343893,
          3.60936679163614,
          4.91135236178864,
          1.20006574670264,
          4.05593794726139,
          2.40374169480598,
          4.80552497172347,
          3.07222688980633,
          1.99074250417002,
          6.3910794952137,
          1.02085968918593,
          3.77390625979149,
          5.09908122725748,
          2.6273422179704,
          2.00072430076177,
          2.40700390365597,
          4.20083506972067,
          1.12011235963576,
          1.27022844833434,
          2.35462369720377,
          4.15423157762682,
          2.66557818227384,
          2.14394161037632,
          3.6350486326847,
          1.31897537626006,
          4.62114411417071,
          3.18454527343861,
          5.39740332541934,
          2.26079711110495,
          2.26420197015865,
          4.88760038017272,
          1.18786877768916,
          4.10645178320774,
          3.66817497635389,
          1.21955999053671,
          2.60308726635712,
          2.01974870809551,
          2.26411283381552,
          2.44691040697134,
          1.45278121152565,
          2.26541676155191,
          2.61591475964101,
          1.78579695064934,
          3.29831027081233,
          4.57958969605246,
          2.49112591114865,
          1.05012995289292,
          3.84538550726899,
          3.1639929816614,
          1.04407339411259,
          1.33540583984468,
          4.19995757674169,
          1.03307314202845,
          4.4797453294823,
          3.81406762887154,
          5.28063031538382,
          1.46935247453648,
          4.43786913607224,
          3.8506157664763,
          4.55749000607362,
          2.97639733449023,
          4.05399509002682,
          1.44204913694836,
          1.33042780457446,
          2.10438125038387,
          2.3701387969595,
          1.28111717280455,
          1.63135661677697,
          2.84430906495892,
          4.48330908897347,
          2.25666045646791,
          5.82539869642723,
          2.30485439186397,
          2.62882791851514,
          1.49959609834733,
          7.70344248162788,
          2.57760037782735,
          4.86164569335249,
          3.16400245247995,
          4.67106078271619,
          4.12281937306264,
          4.89356732858663,
          6.30859381572157,
          3.04626467765329,
          4.11092442614219,
          4.87067328327157,
          2.76598241334086,
          1.76076279732018,
          1.0473012982691,
          2.88329461484827,
          4.29476670321422,
          2.02828617493829,
          4.23551840436992,
          1.1717287319885,
          2.83664394734437,
          3.17701484772975,
          1.56006341136723,
          2.03270788076118,
          1.69404267859633,
          5.73792989060081,
          2.42009737153147,
          2.92863658125028
         ],
         "xaxis": "x",
         "y": [
          692.881761274166,
          536.691407956743,
          276.350999999999,
          270.923146762041,
          397.484041234037,
          702.107462456384,
          519.341933890192,
          581.203987582989,
          527.071428074356,
          411.312179296951,
          1079.65282070305,
          829.228614293344,
          341.860385706658,
          962.018,
          950.258562819967,
          782.377880005755,
          863.036557174281,
          601.390587040521,
          492.184507807422,
          847.532824984648,
          526.002080167403,
          740.463040158474,
          443.602185651039,
          578.325922047423,
          562.67506105348,
          804.732100452362,
          625.442690637212,
          599.247000000001,
          942.563408961203,
          519.651591038795,
          346.525003615485,
          730.10611961992,
          625.839986220131,
          649.155890544466,
          738.649016125774,
          667.74798387423,
          868.244999999995,
          780.348999999994,
          524.527,
          729.921999999999,
          555.046,
          602.153999999999,
          853.013405611315,
          705.983594388686,
          364.538323219297,
          727.747711180903,
          740.778859978545,
          581.65610562125,
          984.971133534053,
          155.542866465948,
          1014.957,
          416.307999999999,
          635.235,
          360.860429151479,
          805.50064114854,
          272.074929699984,
          349.804545181544,
          887.250396414423,
          607.351058404035,
          566.378928260796,
          730.352262013146,
          595.26380972606,
          697.87973010914,
          725.171269890861,
          1500.07696169728,
          478.416038302721,
          489.886000000002,
          449.428000000002,
          489.258640602509,
          522.488359397494,
          360.299000000001,
          759.501,
          383.644000000001,
          625.488000000002,
          590.134000000003,
          522.654,
          631.001360707732,
          474.761639292269,
          613.390000000001,
          522.688180287642,
          642.310819712365,
          874.482543178304,
          191.519456821696,
          684.538090706095,
          553.755000000001,
          479.437000000001,
          724.016652267443,
          475.901347732558,
          618.385603417631,
          717.536429880361,
          482.332966702008,
          1535.93199999995,
          812.251000000002,
          492.491395118112,
          716.233325308533,
          521.111279573353,
          661.526402369546,
          801.419597630454,
          565.346,
          1625.688,
          540.542126153119,
          411.100873846882,
          670.561999999999,
          678.925000000001,
          995.140506432119,
          386.344337030111,
          472.877156537772,
          536.63,
          612.783437700391,
          538.090562299611,
          335.021391714572,
          837.034179979101,
          631.833428306328,
          808.075,
          634.446,
          587.592,
          616.007,
          536.116141402322,
          491.464858597676,
          622.062,
          566.847547364073,
          592.330297460266,
          440.162771034808,
          603.014384140851,
          799.475909382761,
          475.292090617239,
          491.172,
          569.617245538077,
          163.189414172474,
          515.060243889038,
          609.084531973524,
          263.783970592476,
          772.215473035205,
          780.594397650478,
          534.94972314873,
          515.984000000001,
          520.177803481137,
          548.641196518863,
          372.587999999999,
          708.202000000001,
          692.314146984756,
          299.498853015245,
          414.976062800549,
          605.166743715387,
          633.522193484066,
          550.957,
          963.982000000002,
          769.025828518746,
          415.53518421234,
          573.321987268914,
          415.857607961909,
          706.426392038091,
          571.292014001682,
          800.056985998318,
          693.977540662708,
          706.132459337292,
          515.119183178456,
          652.695816821545,
          886.734124816746,
          458.061273121753,
          411.964602061503,
          439.290226740476,
          638.679394862505,
          654.890378397021,
          327.140631450129,
          600.059159172363,
          1051.88220937751,
          1319.18843597884,
          556.875000745648,
          572.513563275512,
          530.767227956033,
          629.142590744154,
          503.782181299813,
          858.383926285102,
          420.1420737149,
          741.233639167498,
          386.271360832504,
          1267.95233365905,
          359.063666340958,
          509.083,
          875.847246858773,
          407.535753141229,
          922.402000000002,
          1141.341,
          935.110000000001,
          681.737000000001,
          238.928319188135,
          689.745035431451,
          669.211645380416,
          849.433000000001,
          989.361999999999,
          1167.15537836289,
          563.163425613793,
          471.128079716367,
          434.875116306951,
          559.684,
          1150.779,
          962.661,
          1100.40480626053,
          295.962193114774,
          425.090460407364,
          430.582540217333,
          802.961000000001,
          866.812000000002,
          954.993000000001,
          270.808095283988,
          894.935904716012,
          271.646485089344,
          708.64851491065,
          734.148621888718,
          491.831378111282,
          520.3214667327,
          755.1325332673,
          584.794000000001,
          362.208058756678,
          381.753984479676,
          387.073956763646,
          161.317,
          1057.698,
          749.900000000001,
          332.339682542849,
          714.56631745715,
          713.007000000001,
          1181.71100000001,
          1019.355,
          1024.422,
          327.134999999999,
          838.405704195417,
          682.317937334437,
          293.052358470147,
          208.5,
          1035.6,
          802.842000000001,
          303.27,
          178.928,
          1065.429,
          317.534,
          263.256,
          1065.797,
          927.361999999999,
          665.81214709,
          415.45385291,
          831.212820510729,
          838.724552739307,
          436.867690406995,
          492.795688283335,
          561.622068570364,
          533.654,
          936.481840421691,
          585.403224631292,
          719.102934947018,
          464.363136640531,
          303.336248001888,
          540.651169798052,
          481.521697444488,
          975.905013194923,
          333.441734920119,
          196.908,
          356.646125167151,
          563.89887483285,
          341.504,
          567.63,
          862.275,
          269.899,
          667.8412218068,
          458.821250731451,
          715.62552746175,
          691.691333241874,
          160.526666758125,
          1024.1,
          285.064507253552,
          745.704492746449,
          649.546999999999,
          488.426083384419,
          265.409606491852,
          517.753310123729,
          796.453000000001,
          217.564,
          464.531723979791,
          610.616276020211,
          776.645,
          559.893230554547,
          434.490769445454,
          822.387650935921,
          373.579812993424,
          751.915536070656,
          484.869616983316,
          1016.48180783251,
          327.947617844774,
          479.530957339406,
          1030.531,
          326.091,
          804.604000000001,
          748.010000000001,
          382.493663980595,
          530.759336019406,
          456.064,
          557.356955357338,
          468.778885528117,
          351.981159114545,
          435.88,
          418.333,
          424.648999999999,
          574.641638299425,
          845.967361700576,
          651.637999999999,
          337.185876202426,
          593.449800298204,
          773.532260875062,
          405.154963006032,
          274.974613200867,
          843.053486417406,
          319.371,
          854.113280254247,
          683.842601700457,
          1044.02130415731,
          394.634923515958,
          725.498890372028,
          818.168189301097,
          748.643656321222,
          472.197902696585,
          728.177382409826,
          222.75686927127,
          356.612670266377,
          515.536329733624,
          342.808217873511,
          413.39116800725,
          516.142227413798,
          398.659386705442,
          950.043650956611,
          422.79534904339,
          951.573000000001,
          283.96837800639,
          572.892361969579,
          391.25226002403,
          1094.03,
          521.041689294737,
          835.955310705261,
          563.320167629931,
          927.321832370071,
          757.837139103892,
          918.40286089611,
          1177.927,
          443.46746830442,
          714.43553169558,
          825.161,
          583.287370466208,
          380.660629533794,
          257.043679849332,
          693.562427499041,
          786.448892651628,
          318.467,
          595.229999999999,
          284.751678736759,
          651.449321263242,
          572.449999999999,
          393.324374344616,
          262.894625655384,
          372.944,
          1043.59054542223,
          542.194505474998,
          615.976073397627
         ],
         "yaxis": "y"
        }
       ],
       "layout": {
        "coloraxis": {
         "colorbar": {
          "title": {
           "text": "date"
          }
         },
         "colorscale": [
          [
           0,
           "#0d0887"
          ],
          [
           0.1111111111111111,
           "#46039f"
          ],
          [
           0.2222222222222222,
           "#7201a8"
          ],
          [
           0.3333333333333333,
           "#9c179e"
          ],
          [
           0.4444444444444444,
           "#bd3786"
          ],
          [
           0.5555555555555556,
           "#d8576b"
          ],
          [
           0.6666666666666666,
           "#ed7953"
          ],
          [
           0.7777777777777778,
           "#fb9f3a"
          ],
          [
           0.8888888888888888,
           "#fdca26"
          ],
          [
           1,
           "#f0f921"
          ]
         ]
        },
        "legend": {
         "tracegroupgap": 0
        },
        "template": {
         "data": {
          "bar": [
           {
            "error_x": {
             "color": "#2a3f5f"
            },
            "error_y": {
             "color": "#2a3f5f"
            },
            "marker": {
             "line": {
              "color": "#E5ECF6",
              "width": 0.5
             },
             "pattern": {
              "fillmode": "overlay",
              "size": 10,
              "solidity": 0.2
             }
            },
            "type": "bar"
           }
          ],
          "barpolar": [
           {
            "marker": {
             "line": {
              "color": "#E5ECF6",
              "width": 0.5
             },
             "pattern": {
              "fillmode": "overlay",
              "size": 10,
              "solidity": 0.2
             }
            },
            "type": "barpolar"
           }
          ],
          "carpet": [
           {
            "aaxis": {
             "endlinecolor": "#2a3f5f",
             "gridcolor": "white",
             "linecolor": "white",
             "minorgridcolor": "white",
             "startlinecolor": "#2a3f5f"
            },
            "baxis": {
             "endlinecolor": "#2a3f5f",
             "gridcolor": "white",
             "linecolor": "white",
             "minorgridcolor": "white",
             "startlinecolor": "#2a3f5f"
            },
            "type": "carpet"
           }
          ],
          "choropleth": [
           {
            "colorbar": {
             "outlinewidth": 0,
             "ticks": ""
            },
            "type": "choropleth"
           }
          ],
          "contour": [
           {
            "colorbar": {
             "outlinewidth": 0,
             "ticks": ""
            },
            "colorscale": [
             [
              0,
              "#0d0887"
             ],
             [
              0.1111111111111111,
              "#46039f"
             ],
             [
              0.2222222222222222,
              "#7201a8"
             ],
             [
              0.3333333333333333,
              "#9c179e"
             ],
             [
              0.4444444444444444,
              "#bd3786"
             ],
             [
              0.5555555555555556,
              "#d8576b"
             ],
             [
              0.6666666666666666,
              "#ed7953"
             ],
             [
              0.7777777777777778,
              "#fb9f3a"
             ],
             [
              0.8888888888888888,
              "#fdca26"
             ],
             [
              1,
              "#f0f921"
             ]
            ],
            "type": "contour"
           }
          ],
          "contourcarpet": [
           {
            "colorbar": {
             "outlinewidth": 0,
             "ticks": ""
            },
            "type": "contourcarpet"
           }
          ],
          "heatmap": [
           {
            "colorbar": {
             "outlinewidth": 0,
             "ticks": ""
            },
            "colorscale": [
             [
              0,
              "#0d0887"
             ],
             [
              0.1111111111111111,
              "#46039f"
             ],
             [
              0.2222222222222222,
              "#7201a8"
             ],
             [
              0.3333333333333333,
              "#9c179e"
             ],
             [
              0.4444444444444444,
              "#bd3786"
             ],
             [
              0.5555555555555556,
              "#d8576b"
             ],
             [
              0.6666666666666666,
              "#ed7953"
             ],
             [
              0.7777777777777778,
              "#fb9f3a"
             ],
             [
              0.8888888888888888,
              "#fdca26"
             ],
             [
              1,
              "#f0f921"
             ]
            ],
            "type": "heatmap"
           }
          ],
          "heatmapgl": [
           {
            "colorbar": {
             "outlinewidth": 0,
             "ticks": ""
            },
            "colorscale": [
             [
              0,
              "#0d0887"
             ],
             [
              0.1111111111111111,
              "#46039f"
             ],
             [
              0.2222222222222222,
              "#7201a8"
             ],
             [
              0.3333333333333333,
              "#9c179e"
             ],
             [
              0.4444444444444444,
              "#bd3786"
             ],
             [
              0.5555555555555556,
              "#d8576b"
             ],
             [
              0.6666666666666666,
              "#ed7953"
             ],
             [
              0.7777777777777778,
              "#fb9f3a"
             ],
             [
              0.8888888888888888,
              "#fdca26"
             ],
             [
              1,
              "#f0f921"
             ]
            ],
            "type": "heatmapgl"
           }
          ],
          "histogram": [
           {
            "marker": {
             "pattern": {
              "fillmode": "overlay",
              "size": 10,
              "solidity": 0.2
             }
            },
            "type": "histogram"
           }
          ],
          "histogram2d": [
           {
            "colorbar": {
             "outlinewidth": 0,
             "ticks": ""
            },
            "colorscale": [
             [
              0,
              "#0d0887"
             ],
             [
              0.1111111111111111,
              "#46039f"
             ],
             [
              0.2222222222222222,
              "#7201a8"
             ],
             [
              0.3333333333333333,
              "#9c179e"
             ],
             [
              0.4444444444444444,
              "#bd3786"
             ],
             [
              0.5555555555555556,
              "#d8576b"
             ],
             [
              0.6666666666666666,
              "#ed7953"
             ],
             [
              0.7777777777777778,
              "#fb9f3a"
             ],
             [
              0.8888888888888888,
              "#fdca26"
             ],
             [
              1,
              "#f0f921"
             ]
            ],
            "type": "histogram2d"
           }
          ],
          "histogram2dcontour": [
           {
            "colorbar": {
             "outlinewidth": 0,
             "ticks": ""
            },
            "colorscale": [
             [
              0,
              "#0d0887"
             ],
             [
              0.1111111111111111,
              "#46039f"
             ],
             [
              0.2222222222222222,
              "#7201a8"
             ],
             [
              0.3333333333333333,
              "#9c179e"
             ],
             [
              0.4444444444444444,
              "#bd3786"
             ],
             [
              0.5555555555555556,
              "#d8576b"
             ],
             [
              0.6666666666666666,
              "#ed7953"
             ],
             [
              0.7777777777777778,
              "#fb9f3a"
             ],
             [
              0.8888888888888888,
              "#fdca26"
             ],
             [
              1,
              "#f0f921"
             ]
            ],
            "type": "histogram2dcontour"
           }
          ],
          "mesh3d": [
           {
            "colorbar": {
             "outlinewidth": 0,
             "ticks": ""
            },
            "type": "mesh3d"
           }
          ],
          "parcoords": [
           {
            "line": {
             "colorbar": {
              "outlinewidth": 0,
              "ticks": ""
             }
            },
            "type": "parcoords"
           }
          ],
          "pie": [
           {
            "automargin": true,
            "type": "pie"
           }
          ],
          "scatter": [
           {
            "marker": {
             "colorbar": {
              "outlinewidth": 0,
              "ticks": ""
             }
            },
            "type": "scatter"
           }
          ],
          "scatter3d": [
           {
            "line": {
             "colorbar": {
              "outlinewidth": 0,
              "ticks": ""
             }
            },
            "marker": {
             "colorbar": {
              "outlinewidth": 0,
              "ticks": ""
             }
            },
            "type": "scatter3d"
           }
          ],
          "scattercarpet": [
           {
            "marker": {
             "colorbar": {
              "outlinewidth": 0,
              "ticks": ""
             }
            },
            "type": "scattercarpet"
           }
          ],
          "scattergeo": [
           {
            "marker": {
             "colorbar": {
              "outlinewidth": 0,
              "ticks": ""
             }
            },
            "type": "scattergeo"
           }
          ],
          "scattergl": [
           {
            "marker": {
             "colorbar": {
              "outlinewidth": 0,
              "ticks": ""
             }
            },
            "type": "scattergl"
           }
          ],
          "scattermapbox": [
           {
            "marker": {
             "colorbar": {
              "outlinewidth": 0,
              "ticks": ""
             }
            },
            "type": "scattermapbox"
           }
          ],
          "scatterpolar": [
           {
            "marker": {
             "colorbar": {
              "outlinewidth": 0,
              "ticks": ""
             }
            },
            "type": "scatterpolar"
           }
          ],
          "scatterpolargl": [
           {
            "marker": {
             "colorbar": {
              "outlinewidth": 0,
              "ticks": ""
             }
            },
            "type": "scatterpolargl"
           }
          ],
          "scatterternary": [
           {
            "marker": {
             "colorbar": {
              "outlinewidth": 0,
              "ticks": ""
             }
            },
            "type": "scatterternary"
           }
          ],
          "surface": [
           {
            "colorbar": {
             "outlinewidth": 0,
             "ticks": ""
            },
            "colorscale": [
             [
              0,
              "#0d0887"
             ],
             [
              0.1111111111111111,
              "#46039f"
             ],
             [
              0.2222222222222222,
              "#7201a8"
             ],
             [
              0.3333333333333333,
              "#9c179e"
             ],
             [
              0.4444444444444444,
              "#bd3786"
             ],
             [
              0.5555555555555556,
              "#d8576b"
             ],
             [
              0.6666666666666666,
              "#ed7953"
             ],
             [
              0.7777777777777778,
              "#fb9f3a"
             ],
             [
              0.8888888888888888,
              "#fdca26"
             ],
             [
              1,
              "#f0f921"
             ]
            ],
            "type": "surface"
           }
          ],
          "table": [
           {
            "cells": {
             "fill": {
              "color": "#EBF0F8"
             },
             "line": {
              "color": "white"
             }
            },
            "header": {
             "fill": {
              "color": "#C8D4E3"
             },
             "line": {
              "color": "white"
             }
            },
            "type": "table"
           }
          ]
         },
         "layout": {
          "annotationdefaults": {
           "arrowcolor": "#2a3f5f",
           "arrowhead": 0,
           "arrowwidth": 1
          },
          "autotypenumbers": "strict",
          "coloraxis": {
           "colorbar": {
            "outlinewidth": 0,
            "ticks": ""
           }
          },
          "colorscale": {
           "diverging": [
            [
             0,
             "#8e0152"
            ],
            [
             0.1,
             "#c51b7d"
            ],
            [
             0.2,
             "#de77ae"
            ],
            [
             0.3,
             "#f1b6da"
            ],
            [
             0.4,
             "#fde0ef"
            ],
            [
             0.5,
             "#f7f7f7"
            ],
            [
             0.6,
             "#e6f5d0"
            ],
            [
             0.7,
             "#b8e186"
            ],
            [
             0.8,
             "#7fbc41"
            ],
            [
             0.9,
             "#4d9221"
            ],
            [
             1,
             "#276419"
            ]
           ],
           "sequential": [
            [
             0,
             "#0d0887"
            ],
            [
             0.1111111111111111,
             "#46039f"
            ],
            [
             0.2222222222222222,
             "#7201a8"
            ],
            [
             0.3333333333333333,
             "#9c179e"
            ],
            [
             0.4444444444444444,
             "#bd3786"
            ],
            [
             0.5555555555555556,
             "#d8576b"
            ],
            [
             0.6666666666666666,
             "#ed7953"
            ],
            [
             0.7777777777777778,
             "#fb9f3a"
            ],
            [
             0.8888888888888888,
             "#fdca26"
            ],
            [
             1,
             "#f0f921"
            ]
           ],
           "sequentialminus": [
            [
             0,
             "#0d0887"
            ],
            [
             0.1111111111111111,
             "#46039f"
            ],
            [
             0.2222222222222222,
             "#7201a8"
            ],
            [
             0.3333333333333333,
             "#9c179e"
            ],
            [
             0.4444444444444444,
             "#bd3786"
            ],
            [
             0.5555555555555556,
             "#d8576b"
            ],
            [
             0.6666666666666666,
             "#ed7953"
            ],
            [
             0.7777777777777778,
             "#fb9f3a"
            ],
            [
             0.8888888888888888,
             "#fdca26"
            ],
            [
             1,
             "#f0f921"
            ]
           ]
          },
          "colorway": [
           "#636efa",
           "#EF553B",
           "#00cc96",
           "#ab63fa",
           "#FFA15A",
           "#19d3f3",
           "#FF6692",
           "#B6E880",
           "#FF97FF",
           "#FECB52"
          ],
          "font": {
           "color": "#2a3f5f"
          },
          "geo": {
           "bgcolor": "white",
           "lakecolor": "white",
           "landcolor": "#E5ECF6",
           "showlakes": true,
           "showland": true,
           "subunitcolor": "white"
          },
          "hoverlabel": {
           "align": "left"
          },
          "hovermode": "closest",
          "mapbox": {
           "style": "light"
          },
          "paper_bgcolor": "white",
          "plot_bgcolor": "#E5ECF6",
          "polar": {
           "angularaxis": {
            "gridcolor": "white",
            "linecolor": "white",
            "ticks": ""
           },
           "bgcolor": "#E5ECF6",
           "radialaxis": {
            "gridcolor": "white",
            "linecolor": "white",
            "ticks": ""
           }
          },
          "scene": {
           "xaxis": {
            "backgroundcolor": "#E5ECF6",
            "gridcolor": "white",
            "gridwidth": 2,
            "linecolor": "white",
            "showbackground": true,
            "ticks": "",
            "zerolinecolor": "white"
           },
           "yaxis": {
            "backgroundcolor": "#E5ECF6",
            "gridcolor": "white",
            "gridwidth": 2,
            "linecolor": "white",
            "showbackground": true,
            "ticks": "",
            "zerolinecolor": "white"
           },
           "zaxis": {
            "backgroundcolor": "#E5ECF6",
            "gridcolor": "white",
            "gridwidth": 2,
            "linecolor": "white",
            "showbackground": true,
            "ticks": "",
            "zerolinecolor": "white"
           }
          },
          "shapedefaults": {
           "line": {
            "color": "#2a3f5f"
           }
          },
          "ternary": {
           "aaxis": {
            "gridcolor": "white",
            "linecolor": "white",
            "ticks": ""
           },
           "baxis": {
            "gridcolor": "white",
            "linecolor": "white",
            "ticks": ""
           },
           "bgcolor": "#E5ECF6",
           "caxis": {
            "gridcolor": "white",
            "linecolor": "white",
            "ticks": ""
           }
          },
          "title": {
           "x": 0.05
          },
          "xaxis": {
           "automargin": true,
           "gridcolor": "white",
           "linecolor": "white",
           "ticks": "",
           "title": {
            "standoff": 15
           },
           "zerolinecolor": "white",
           "zerolinewidth": 2
          },
          "yaxis": {
           "automargin": true,
           "gridcolor": "white",
           "linecolor": "white",
           "ticks": "",
           "title": {
            "standoff": 15
           },
           "zerolinecolor": "white",
           "zerolinewidth": 2
          }
         }
        },
        "title": {
         "text": "Miles vs. Calories [Colored by date]\nTrednline: R^2: 0.8634 Calories = 110.93*miles + 237.18"
        },
        "xaxis": {
         "anchor": "y",
         "domain": [
          0,
          1
         ],
         "title": {
          "text": "miles"
         }
        },
        "yaxis": {
         "anchor": "x",
         "domain": [
          0,
          1
         ],
         "range": [
          0,
          1650
         ],
         "title": {
          "text": "calories"
         }
        }
       }
      },
      "text/html": [
       "<div>                            <div id=\"c27b7ce3-3bfc-4caa-9a32-d6b2ef1785dd\" class=\"plotly-graph-div\" style=\"height:525px; width:100%;\"></div>            <script type=\"text/javascript\">                require([\"plotly\"], function(Plotly) {                    window.PLOTLYENV=window.PLOTLYENV || {};                                    if (document.getElementById(\"c27b7ce3-3bfc-4caa-9a32-d6b2ef1785dd\")) {                    Plotly.newPlot(                        \"c27b7ce3-3bfc-4caa-9a32-d6b2ef1785dd\",                        [{\"hovertemplate\":\"miles=%{x}<br>calories=%{y}<br>date=%{marker.color}<extra></extra>\",\"legendgroup\":\"\",\"marker\":{\"color\":[1,2,3,4,5,6,7,8,9,10,11,12,13,14,15,16,17,18,19,20,21,22,23,24,25,26,27,28,29,30,31,1,2,3,4,5,6,7,8,9,10,11,12,13,14,15,16,17,18,19,20,21,22,23,24,25,26,27,28,1,2,3,4,5,6,7,8,9,10,11,12,13,14,15,16,17,18,19,20,21,22,23,24,26,27,28,29,30,31,1,2,3,4,5,6,7,8,9,10,11,12,13,14,15,16,17,18,19,20,21,22,23,24,25,26,27,28,29,30,1,2,3,4,5,6,7,8,9,10,11,12,13,14,15,16,17,18,19,20,21,22,23,24,25,26,27,28,29,30,31,1,2,3,4,5,6,7,8,9,10,11,12,13,14,15,16,17,18,19,20,21,22,23,24,25,26,27,28,29,30,1,2,3,4,5,6,7,8,9,10,11,12,13,14,15,16,17,18,19,20,21,22,23,24,25,26,27,28,29,30,31,1,2,3,4,5,6,7,8,9,10,11,12,13,14,15,16,17,18,19,20,21,22,23,24,25,26,27,28,29,30,31,1,3,4,5,6,7,8,9,10,11,12,13,14,15,16,17,18,19,20,21,22,23,24,25,26,27,28,29,30,1,2,3,4,5,6,7,8,9,10,11,12,13,14,15,16,17,18,19,20,21,22,23,24,25,26,27,28,29,30,31,1,2,3,4,5,6,7,8,9,10,11,12,13,14,15,16,17,18,19,20,21,22,23,24,25,26,27,28,29,30,1,2,3,4,5,6,7,8,9,10,11,12,13,14,15,16,17,18,19,20,21,22,23,24,25,26,28,29,30,31],\"coloraxis\":\"coloraxis\",\"symbol\":\"circle\"},\"mode\":\"markers\",\"name\":\"\",\"orientation\":\"v\",\"showlegend\":false,\"x\":[3.7227182960896,1.89697656857255,1.69672284643189,1.50265448247135,2.17399213702361,2.8613187713283,2.03039214641993,1.91121882024395,2.31448767523881,1.95208568625946,6.92860194070912,4.15937533849185,1.89107087649194,6.6670065029303,6.13790113658745,4.21207813324155,6.17385569064731,2.58355182420388,1.83967908633737,3.50761759282414,2.22612587092695,3.57788624233396,2.35958763075875,2.90857573468183,2.32284943275682,2.62577864649961,2.26028392517989,2.69171511419138,3.39927874879608,1.75416776296777,1.54259908460691,2.27627384758519,2.55947342604441,2.35882699078795,3.16028157941314,2.78205788189416,4.72188839635251,3.51503809870662,2.00356853780855,3.77172795121953,1.95001944723911,2.66399534134504,3.53286239904294,3.69976795024191,2.37595121835825,3.5481121277546,2.82652954394306,1.98679931123577,4.70645776944762,1.49286790889824,4.92650001152228,1.93924831880721,2.67971639580876,1.65805458842329,3.16673590682393,1.88083212526027,1.91247239571794,4.95315955612041,2.09386661635807,2.56667837221265,2.26359657460519,2.32694609758516,2.54800516981329,2.12564613842705,9.91535536436513,1.84184790812584,1.87380294959645,1.95813949360542,1.89608454529738,1.98099992105229,1.43085835163897,3.71458532922639,2.22799593687401,3.07577656480184,2.21038384965456,1.87219511738554,2.11259840610259,3.25147914430459,3.59909596327138,2.73333180445284,6.6461977858349,5.33128756527608,3.93337338839219,2.39956084172566,2.60089421809223,3.07426339218733,2.6004104557134,1.59246580096944,2.38807196003928,2.86277717893406,1.68078672005971,8.98289631285285,4.62545801063221,2.05500524675847,3.04972805379401,2.50860739151148,2.81114006946558,3.88146123130472,3.68442987236766,10.1391572699686,2.47516568018223,1.74913376973316,2.40258264325035,3.7190895060851,4.770094163346,1.44969323949489,2.27933260769196,2.41555389972494,2.31764286144094,2.74515591247363,2.42443550748294,4.48008421871056,3.67333426996896,3.66706679974464,2.66240119276147,2.04075245650776,4.79325111997681,2.1285842643241,2.67531918411518,3.32335823408366,2.27309132369842,2.26398504839911,3.12278360339361,3.98827009174983,5.33963920438035,2.55189903307512,2.67553156393015,2.59981241283934,1.22091629785606,2.03393794752028,2.92118591797054,1.37181479302187,3.94669870357063,4.17534613850156,4.30305287573727,2.78720413257814,2.94017984163379,3.04725789539492,1.62864792636102,4.51025543871143,3.70011871983419,2.38776700172334,2.32622579769725,3.20731973635455,3.16800103447259,3.04175118954253,6.04815434303131,4.35558176186636,2.63278226984012,4.96664389123943,3.03990160880213,2.90597878468371,2.36571704183832,4.16650323754961,4.10190210606757,4.43755432604092,2.60929094780083,3.25312449039869,6.16311529348146,2.32169328726451,2.13641263331836,2.20374634562317,4.13014378981128,3.29418180158206,1.95703795415023,3.37690587044714,7.47629183662241,7.7997719160753,2.44393963006505,3.72150093949588,3.36695868951072,4.59853436217258,4.99399474922013,8.81002431852695,2.69370271786663,2.894432379704,1.04357894297672,10.0515968865464,1.85440527763036,2.83184869093686,6.11315445609744,2.06906073711222,8.13610812634908,9.25305349115031,7.78597023788843,2.87606941015,1.69659160384954,4.98869972464642,3.10692500065642,6.85741086647214,6.9156556257296,9.49152221637672,3.2434050073374,1.66715960767037,2.58055934701339,2.87872246099597,10.1934268765139,6.80903627677101,8.37388493141669,1.74327787085083,2.97282699606303,2.43204334173389,7.00561515721937,7.34874149593573,7.17115970113234,1.79824548028125,5.03895330744063,2.10740121672953,3.85977092637756,3.28797041839698,3.52469636875327,2.42336730809822,4.92475807397587,3.41331435360436,1.70456052752075,2.58216034386374,1.98023097524678,1.35682540099157,8.72222396444854,6.50122232997997,1.85544499963426,4.19630273149514,4.77545069083959,9.15488172961112,7.61856665054742,7.93652008573604,1.71794094343502,6.02558914801752,4.47365963505051,2.69596522483297,1.33962477804994,8.19690687426542,7.21859313863329,1.67474768248942,1.43660776370854,8.20587697144449,1.73270093793653,1.99423276417736,8.24397674111505,7.05341557654305,4.23169682968375,2.76389849179254,4.12356901644297,4.24885427172951,2.4722527167102,2.05379553861734,4.15006157645799,3.57583583270703,4.58163668686538,2.38297830580469,4.45093540451652,2.2831612153631,1.71613783203482,1.97817600981042,2.42826496376655,5.19440534065112,2.71279968637717,1.18271120299168,1.37900047499638,2.5437816642019,1.54693894343893,3.60936679163614,4.91135236178864,1.20006574670264,4.05593794726139,2.40374169480598,4.80552497172347,3.07222688980633,1.99074250417002,6.3910794952137,1.02085968918593,3.77390625979149,5.09908122725748,2.6273422179704,2.00072430076177,2.40700390365597,4.20083506972067,1.12011235963576,1.27022844833434,2.35462369720377,4.15423157762682,2.66557818227384,2.14394161037632,3.6350486326847,1.31897537626006,4.62114411417071,3.18454527343861,5.39740332541934,2.26079711110495,2.26420197015865,4.88760038017272,1.18786877768916,4.10645178320774,3.66817497635389,1.21955999053671,2.60308726635712,2.01974870809551,2.26411283381552,2.44691040697134,1.45278121152565,2.26541676155191,2.61591475964101,1.78579695064934,3.29831027081233,4.57958969605246,2.49112591114865,1.05012995289292,3.84538550726899,3.1639929816614,1.04407339411259,1.33540583984468,4.19995757674169,1.03307314202845,4.4797453294823,3.81406762887154,5.28063031538382,1.46935247453648,4.43786913607224,3.8506157664763,4.55749000607362,2.97639733449023,4.05399509002682,1.44204913694836,1.33042780457446,2.10438125038387,2.3701387969595,1.28111717280455,1.63135661677697,2.84430906495892,4.48330908897347,2.25666045646791,5.82539869642723,2.30485439186397,2.62882791851514,1.49959609834733,7.70344248162788,2.57760037782735,4.86164569335249,3.16400245247995,4.67106078271619,4.12281937306264,4.89356732858663,6.30859381572157,3.04626467765329,4.11092442614219,4.87067328327157,2.76598241334086,1.76076279732018,1.0473012982691,2.88329461484827,4.29476670321422,2.02828617493829,4.23551840436992,1.1717287319885,2.83664394734437,3.17701484772975,1.56006341136723,2.03270788076118,1.69404267859633,5.73792989060081,2.42009737153147,2.92863658125028],\"xaxis\":\"x\",\"y\":[692.881761274166,536.691407956743,276.350999999999,270.923146762041,397.484041234037,702.107462456384,519.341933890192,581.203987582989,527.071428074356,411.312179296951,1079.65282070305,829.228614293344,341.860385706658,962.018,950.258562819967,782.377880005755,863.036557174281,601.390587040521,492.184507807422,847.532824984648,526.002080167403,740.463040158474,443.602185651039,578.325922047423,562.67506105348,804.732100452362,625.442690637212,599.247000000001,942.563408961203,519.651591038795,346.525003615485,730.10611961992,625.839986220131,649.155890544466,738.649016125774,667.74798387423,868.244999999995,780.348999999994,524.527,729.921999999999,555.046,602.153999999999,853.013405611315,705.983594388686,364.538323219297,727.747711180903,740.778859978545,581.65610562125,984.971133534053,155.542866465948,1014.957,416.307999999999,635.235,360.860429151479,805.50064114854,272.074929699984,349.804545181544,887.250396414423,607.351058404035,566.378928260796,730.352262013146,595.26380972606,697.87973010914,725.171269890861,1500.07696169728,478.416038302721,489.886000000002,449.428000000002,489.258640602509,522.488359397494,360.299000000001,759.501,383.644000000001,625.488000000002,590.134000000003,522.654,631.001360707732,474.761639292269,613.390000000001,522.688180287642,642.310819712365,874.482543178304,191.519456821696,684.538090706095,553.755000000001,479.437000000001,724.016652267443,475.901347732558,618.385603417631,717.536429880361,482.332966702008,1535.93199999995,812.251000000002,492.491395118112,716.233325308533,521.111279573353,661.526402369546,801.419597630454,565.346,1625.688,540.542126153119,411.100873846882,670.561999999999,678.925000000001,995.140506432119,386.344337030111,472.877156537772,536.63,612.783437700391,538.090562299611,335.021391714572,837.034179979101,631.833428306328,808.075,634.446,587.592,616.007,536.116141402322,491.464858597676,622.062,566.847547364073,592.330297460266,440.162771034808,603.014384140851,799.475909382761,475.292090617239,491.172,569.617245538077,163.189414172474,515.060243889038,609.084531973524,263.783970592476,772.215473035205,780.594397650478,534.94972314873,515.984000000001,520.177803481137,548.641196518863,372.587999999999,708.202000000001,692.314146984756,299.498853015245,414.976062800549,605.166743715387,633.522193484066,550.957,963.982000000002,769.025828518746,415.53518421234,573.321987268914,415.857607961909,706.426392038091,571.292014001682,800.056985998318,693.977540662708,706.132459337292,515.119183178456,652.695816821545,886.734124816746,458.061273121753,411.964602061503,439.290226740476,638.679394862505,654.890378397021,327.140631450129,600.059159172363,1051.88220937751,1319.18843597884,556.875000745648,572.513563275512,530.767227956033,629.142590744154,503.782181299813,858.383926285102,420.1420737149,741.233639167498,386.271360832504,1267.95233365905,359.063666340958,509.083,875.847246858773,407.535753141229,922.402000000002,1141.341,935.110000000001,681.737000000001,238.928319188135,689.745035431451,669.211645380416,849.433000000001,989.361999999999,1167.15537836289,563.163425613793,471.128079716367,434.875116306951,559.684,1150.779,962.661,1100.40480626053,295.962193114774,425.090460407364,430.582540217333,802.961000000001,866.812000000002,954.993000000001,270.808095283988,894.935904716012,271.646485089344,708.64851491065,734.148621888718,491.831378111282,520.3214667327,755.1325332673,584.794000000001,362.208058756678,381.753984479676,387.073956763646,161.317,1057.698,749.900000000001,332.339682542849,714.56631745715,713.007000000001,1181.71100000001,1019.355,1024.422,327.134999999999,838.405704195417,682.317937334437,293.052358470147,208.5,1035.6,802.842000000001,303.27,178.928,1065.429,317.534,263.256,1065.797,927.361999999999,665.81214709,415.45385291,831.212820510729,838.724552739307,436.867690406995,492.795688283335,561.622068570364,533.654,936.481840421691,585.403224631292,719.102934947018,464.363136640531,303.336248001888,540.651169798052,481.521697444488,975.905013194923,333.441734920119,196.908,356.646125167151,563.89887483285,341.504,567.63,862.275,269.899,667.8412218068,458.821250731451,715.62552746175,691.691333241874,160.526666758125,1024.1,285.064507253552,745.704492746449,649.546999999999,488.426083384419,265.409606491852,517.753310123729,796.453000000001,217.564,464.531723979791,610.616276020211,776.645,559.893230554547,434.490769445454,822.387650935921,373.579812993424,751.915536070656,484.869616983316,1016.48180783251,327.947617844774,479.530957339406,1030.531,326.091,804.604000000001,748.010000000001,382.493663980595,530.759336019406,456.064,557.356955357338,468.778885528117,351.981159114545,435.88,418.333,424.648999999999,574.641638299425,845.967361700576,651.637999999999,337.185876202426,593.449800298204,773.532260875062,405.154963006032,274.974613200867,843.053486417406,319.371,854.113280254247,683.842601700457,1044.02130415731,394.634923515958,725.498890372028,818.168189301097,748.643656321222,472.197902696585,728.177382409826,222.75686927127,356.612670266377,515.536329733624,342.808217873511,413.39116800725,516.142227413798,398.659386705442,950.043650956611,422.79534904339,951.573000000001,283.96837800639,572.892361969579,391.25226002403,1094.03,521.041689294737,835.955310705261,563.320167629931,927.321832370071,757.837139103892,918.40286089611,1177.927,443.46746830442,714.43553169558,825.161,583.287370466208,380.660629533794,257.043679849332,693.562427499041,786.448892651628,318.467,595.229999999999,284.751678736759,651.449321263242,572.449999999999,393.324374344616,262.894625655384,372.944,1043.59054542223,542.194505474998,615.976073397627],\"yaxis\":\"y\",\"type\":\"scatter\"}],                        {\"template\":{\"data\":{\"bar\":[{\"error_x\":{\"color\":\"#2a3f5f\"},\"error_y\":{\"color\":\"#2a3f5f\"},\"marker\":{\"line\":{\"color\":\"#E5ECF6\",\"width\":0.5},\"pattern\":{\"fillmode\":\"overlay\",\"size\":10,\"solidity\":0.2}},\"type\":\"bar\"}],\"barpolar\":[{\"marker\":{\"line\":{\"color\":\"#E5ECF6\",\"width\":0.5},\"pattern\":{\"fillmode\":\"overlay\",\"size\":10,\"solidity\":0.2}},\"type\":\"barpolar\"}],\"carpet\":[{\"aaxis\":{\"endlinecolor\":\"#2a3f5f\",\"gridcolor\":\"white\",\"linecolor\":\"white\",\"minorgridcolor\":\"white\",\"startlinecolor\":\"#2a3f5f\"},\"baxis\":{\"endlinecolor\":\"#2a3f5f\",\"gridcolor\":\"white\",\"linecolor\":\"white\",\"minorgridcolor\":\"white\",\"startlinecolor\":\"#2a3f5f\"},\"type\":\"carpet\"}],\"choropleth\":[{\"colorbar\":{\"outlinewidth\":0,\"ticks\":\"\"},\"type\":\"choropleth\"}],\"contour\":[{\"colorbar\":{\"outlinewidth\":0,\"ticks\":\"\"},\"colorscale\":[[0.0,\"#0d0887\"],[0.1111111111111111,\"#46039f\"],[0.2222222222222222,\"#7201a8\"],[0.3333333333333333,\"#9c179e\"],[0.4444444444444444,\"#bd3786\"],[0.5555555555555556,\"#d8576b\"],[0.6666666666666666,\"#ed7953\"],[0.7777777777777778,\"#fb9f3a\"],[0.8888888888888888,\"#fdca26\"],[1.0,\"#f0f921\"]],\"type\":\"contour\"}],\"contourcarpet\":[{\"colorbar\":{\"outlinewidth\":0,\"ticks\":\"\"},\"type\":\"contourcarpet\"}],\"heatmap\":[{\"colorbar\":{\"outlinewidth\":0,\"ticks\":\"\"},\"colorscale\":[[0.0,\"#0d0887\"],[0.1111111111111111,\"#46039f\"],[0.2222222222222222,\"#7201a8\"],[0.3333333333333333,\"#9c179e\"],[0.4444444444444444,\"#bd3786\"],[0.5555555555555556,\"#d8576b\"],[0.6666666666666666,\"#ed7953\"],[0.7777777777777778,\"#fb9f3a\"],[0.8888888888888888,\"#fdca26\"],[1.0,\"#f0f921\"]],\"type\":\"heatmap\"}],\"heatmapgl\":[{\"colorbar\":{\"outlinewidth\":0,\"ticks\":\"\"},\"colorscale\":[[0.0,\"#0d0887\"],[0.1111111111111111,\"#46039f\"],[0.2222222222222222,\"#7201a8\"],[0.3333333333333333,\"#9c179e\"],[0.4444444444444444,\"#bd3786\"],[0.5555555555555556,\"#d8576b\"],[0.6666666666666666,\"#ed7953\"],[0.7777777777777778,\"#fb9f3a\"],[0.8888888888888888,\"#fdca26\"],[1.0,\"#f0f921\"]],\"type\":\"heatmapgl\"}],\"histogram\":[{\"marker\":{\"pattern\":{\"fillmode\":\"overlay\",\"size\":10,\"solidity\":0.2}},\"type\":\"histogram\"}],\"histogram2d\":[{\"colorbar\":{\"outlinewidth\":0,\"ticks\":\"\"},\"colorscale\":[[0.0,\"#0d0887\"],[0.1111111111111111,\"#46039f\"],[0.2222222222222222,\"#7201a8\"],[0.3333333333333333,\"#9c179e\"],[0.4444444444444444,\"#bd3786\"],[0.5555555555555556,\"#d8576b\"],[0.6666666666666666,\"#ed7953\"],[0.7777777777777778,\"#fb9f3a\"],[0.8888888888888888,\"#fdca26\"],[1.0,\"#f0f921\"]],\"type\":\"histogram2d\"}],\"histogram2dcontour\":[{\"colorbar\":{\"outlinewidth\":0,\"ticks\":\"\"},\"colorscale\":[[0.0,\"#0d0887\"],[0.1111111111111111,\"#46039f\"],[0.2222222222222222,\"#7201a8\"],[0.3333333333333333,\"#9c179e\"],[0.4444444444444444,\"#bd3786\"],[0.5555555555555556,\"#d8576b\"],[0.6666666666666666,\"#ed7953\"],[0.7777777777777778,\"#fb9f3a\"],[0.8888888888888888,\"#fdca26\"],[1.0,\"#f0f921\"]],\"type\":\"histogram2dcontour\"}],\"mesh3d\":[{\"colorbar\":{\"outlinewidth\":0,\"ticks\":\"\"},\"type\":\"mesh3d\"}],\"parcoords\":[{\"line\":{\"colorbar\":{\"outlinewidth\":0,\"ticks\":\"\"}},\"type\":\"parcoords\"}],\"pie\":[{\"automargin\":true,\"type\":\"pie\"}],\"scatter\":[{\"marker\":{\"colorbar\":{\"outlinewidth\":0,\"ticks\":\"\"}},\"type\":\"scatter\"}],\"scatter3d\":[{\"line\":{\"colorbar\":{\"outlinewidth\":0,\"ticks\":\"\"}},\"marker\":{\"colorbar\":{\"outlinewidth\":0,\"ticks\":\"\"}},\"type\":\"scatter3d\"}],\"scattercarpet\":[{\"marker\":{\"colorbar\":{\"outlinewidth\":0,\"ticks\":\"\"}},\"type\":\"scattercarpet\"}],\"scattergeo\":[{\"marker\":{\"colorbar\":{\"outlinewidth\":0,\"ticks\":\"\"}},\"type\":\"scattergeo\"}],\"scattergl\":[{\"marker\":{\"colorbar\":{\"outlinewidth\":0,\"ticks\":\"\"}},\"type\":\"scattergl\"}],\"scattermapbox\":[{\"marker\":{\"colorbar\":{\"outlinewidth\":0,\"ticks\":\"\"}},\"type\":\"scattermapbox\"}],\"scatterpolar\":[{\"marker\":{\"colorbar\":{\"outlinewidth\":0,\"ticks\":\"\"}},\"type\":\"scatterpolar\"}],\"scatterpolargl\":[{\"marker\":{\"colorbar\":{\"outlinewidth\":0,\"ticks\":\"\"}},\"type\":\"scatterpolargl\"}],\"scatterternary\":[{\"marker\":{\"colorbar\":{\"outlinewidth\":0,\"ticks\":\"\"}},\"type\":\"scatterternary\"}],\"surface\":[{\"colorbar\":{\"outlinewidth\":0,\"ticks\":\"\"},\"colorscale\":[[0.0,\"#0d0887\"],[0.1111111111111111,\"#46039f\"],[0.2222222222222222,\"#7201a8\"],[0.3333333333333333,\"#9c179e\"],[0.4444444444444444,\"#bd3786\"],[0.5555555555555556,\"#d8576b\"],[0.6666666666666666,\"#ed7953\"],[0.7777777777777778,\"#fb9f3a\"],[0.8888888888888888,\"#fdca26\"],[1.0,\"#f0f921\"]],\"type\":\"surface\"}],\"table\":[{\"cells\":{\"fill\":{\"color\":\"#EBF0F8\"},\"line\":{\"color\":\"white\"}},\"header\":{\"fill\":{\"color\":\"#C8D4E3\"},\"line\":{\"color\":\"white\"}},\"type\":\"table\"}]},\"layout\":{\"annotationdefaults\":{\"arrowcolor\":\"#2a3f5f\",\"arrowhead\":0,\"arrowwidth\":1},\"autotypenumbers\":\"strict\",\"coloraxis\":{\"colorbar\":{\"outlinewidth\":0,\"ticks\":\"\"}},\"colorscale\":{\"diverging\":[[0,\"#8e0152\"],[0.1,\"#c51b7d\"],[0.2,\"#de77ae\"],[0.3,\"#f1b6da\"],[0.4,\"#fde0ef\"],[0.5,\"#f7f7f7\"],[0.6,\"#e6f5d0\"],[0.7,\"#b8e186\"],[0.8,\"#7fbc41\"],[0.9,\"#4d9221\"],[1,\"#276419\"]],\"sequential\":[[0.0,\"#0d0887\"],[0.1111111111111111,\"#46039f\"],[0.2222222222222222,\"#7201a8\"],[0.3333333333333333,\"#9c179e\"],[0.4444444444444444,\"#bd3786\"],[0.5555555555555556,\"#d8576b\"],[0.6666666666666666,\"#ed7953\"],[0.7777777777777778,\"#fb9f3a\"],[0.8888888888888888,\"#fdca26\"],[1.0,\"#f0f921\"]],\"sequentialminus\":[[0.0,\"#0d0887\"],[0.1111111111111111,\"#46039f\"],[0.2222222222222222,\"#7201a8\"],[0.3333333333333333,\"#9c179e\"],[0.4444444444444444,\"#bd3786\"],[0.5555555555555556,\"#d8576b\"],[0.6666666666666666,\"#ed7953\"],[0.7777777777777778,\"#fb9f3a\"],[0.8888888888888888,\"#fdca26\"],[1.0,\"#f0f921\"]]},\"colorway\":[\"#636efa\",\"#EF553B\",\"#00cc96\",\"#ab63fa\",\"#FFA15A\",\"#19d3f3\",\"#FF6692\",\"#B6E880\",\"#FF97FF\",\"#FECB52\"],\"font\":{\"color\":\"#2a3f5f\"},\"geo\":{\"bgcolor\":\"white\",\"lakecolor\":\"white\",\"landcolor\":\"#E5ECF6\",\"showlakes\":true,\"showland\":true,\"subunitcolor\":\"white\"},\"hoverlabel\":{\"align\":\"left\"},\"hovermode\":\"closest\",\"mapbox\":{\"style\":\"light\"},\"paper_bgcolor\":\"white\",\"plot_bgcolor\":\"#E5ECF6\",\"polar\":{\"angularaxis\":{\"gridcolor\":\"white\",\"linecolor\":\"white\",\"ticks\":\"\"},\"bgcolor\":\"#E5ECF6\",\"radialaxis\":{\"gridcolor\":\"white\",\"linecolor\":\"white\",\"ticks\":\"\"}},\"scene\":{\"xaxis\":{\"backgroundcolor\":\"#E5ECF6\",\"gridcolor\":\"white\",\"gridwidth\":2,\"linecolor\":\"white\",\"showbackground\":true,\"ticks\":\"\",\"zerolinecolor\":\"white\"},\"yaxis\":{\"backgroundcolor\":\"#E5ECF6\",\"gridcolor\":\"white\",\"gridwidth\":2,\"linecolor\":\"white\",\"showbackground\":true,\"ticks\":\"\",\"zerolinecolor\":\"white\"},\"zaxis\":{\"backgroundcolor\":\"#E5ECF6\",\"gridcolor\":\"white\",\"gridwidth\":2,\"linecolor\":\"white\",\"showbackground\":true,\"ticks\":\"\",\"zerolinecolor\":\"white\"}},\"shapedefaults\":{\"line\":{\"color\":\"#2a3f5f\"}},\"ternary\":{\"aaxis\":{\"gridcolor\":\"white\",\"linecolor\":\"white\",\"ticks\":\"\"},\"baxis\":{\"gridcolor\":\"white\",\"linecolor\":\"white\",\"ticks\":\"\"},\"bgcolor\":\"#E5ECF6\",\"caxis\":{\"gridcolor\":\"white\",\"linecolor\":\"white\",\"ticks\":\"\"}},\"title\":{\"x\":0.05},\"xaxis\":{\"automargin\":true,\"gridcolor\":\"white\",\"linecolor\":\"white\",\"ticks\":\"\",\"title\":{\"standoff\":15},\"zerolinecolor\":\"white\",\"zerolinewidth\":2},\"yaxis\":{\"automargin\":true,\"gridcolor\":\"white\",\"linecolor\":\"white\",\"ticks\":\"\",\"title\":{\"standoff\":15},\"zerolinecolor\":\"white\",\"zerolinewidth\":2}}},\"xaxis\":{\"anchor\":\"y\",\"domain\":[0.0,1.0],\"title\":{\"text\":\"miles\"}},\"yaxis\":{\"anchor\":\"x\",\"domain\":[0.0,1.0],\"title\":{\"text\":\"calories\"},\"range\":[0,1650]},\"coloraxis\":{\"colorbar\":{\"title\":{\"text\":\"date\"}},\"colorscale\":[[0.0,\"#0d0887\"],[0.1111111111111111,\"#46039f\"],[0.2222222222222222,\"#7201a8\"],[0.3333333333333333,\"#9c179e\"],[0.4444444444444444,\"#bd3786\"],[0.5555555555555556,\"#d8576b\"],[0.6666666666666666,\"#ed7953\"],[0.7777777777777778,\"#fb9f3a\"],[0.8888888888888888,\"#fdca26\"],[1.0,\"#f0f921\"]]},\"legend\":{\"tracegroupgap\":0},\"title\":{\"text\":\"Miles vs. Calories [Colored by date]\\nTrednline: R^2: 0.8634 Calories = 110.93*miles + 237.18\"}},                        {\"responsive\": true}                    ).then(function(){\n",
       "                            \n",
       "var gd = document.getElementById('c27b7ce3-3bfc-4caa-9a32-d6b2ef1785dd');\n",
       "var x = new MutationObserver(function (mutations, observer) {{\n",
       "        var display = window.getComputedStyle(gd).display;\n",
       "        if (!display || display === 'none') {{\n",
       "            console.log([gd, 'removed!']);\n",
       "            Plotly.purge(gd);\n",
       "            observer.disconnect();\n",
       "        }}\n",
       "}});\n",
       "\n",
       "// Listen for the removal of the full notebook cells\n",
       "var notebookContainer = gd.closest('#notebook-container');\n",
       "if (notebookContainer) {{\n",
       "    x.observe(notebookContainer, {childList: true});\n",
       "}}\n",
       "\n",
       "// Listen for the clearing of the current output cell\n",
       "var outputEl = gd.closest('.output');\n",
       "if (outputEl) {{\n",
       "    x.observe(outputEl, {childList: true});\n",
       "}}\n",
       "\n",
       "                        })                };                });            </script>        </div>"
      ]
     },
     "metadata": {},
     "output_type": "display_data"
    },
    {
     "data": {
      "application/vnd.plotly.v1+json": {
       "config": {
        "plotlyServerURL": "https://plot.ly"
       },
       "data": [
        {
         "hovertemplate": "month=Jan<br>miles=%{x}<br>calories=%{y}<extra></extra>",
         "legendgroup": "Jan",
         "marker": {
          "color": "#636efa",
          "symbol": "circle"
         },
         "mode": "markers",
         "name": "Jan",
         "orientation": "v",
         "showlegend": true,
         "type": "scatter",
         "x": [
          3.7227182960896,
          1.89697656857255,
          1.69672284643189,
          1.50265448247135,
          2.17399213702361,
          2.8613187713283,
          2.03039214641993,
          1.91121882024395,
          2.31448767523881,
          1.95208568625946,
          6.92860194070912,
          4.15937533849185,
          1.89107087649194,
          6.6670065029303,
          6.13790113658745,
          4.21207813324155,
          6.17385569064731,
          2.58355182420388,
          1.83967908633737,
          3.50761759282414,
          2.22612587092695,
          3.57788624233396,
          2.35958763075875,
          2.90857573468183,
          2.32284943275682,
          2.62577864649961,
          2.26028392517989,
          2.69171511419138,
          3.39927874879608,
          1.75416776296777,
          1.54259908460691
         ],
         "xaxis": "x",
         "y": [
          692.881761274166,
          536.691407956743,
          276.350999999999,
          270.923146762041,
          397.484041234037,
          702.107462456384,
          519.341933890192,
          581.203987582989,
          527.071428074356,
          411.312179296951,
          1079.65282070305,
          829.228614293344,
          341.860385706658,
          962.018,
          950.258562819967,
          782.377880005755,
          863.036557174281,
          601.390587040521,
          492.184507807422,
          847.532824984648,
          526.002080167403,
          740.463040158474,
          443.602185651039,
          578.325922047423,
          562.67506105348,
          804.732100452362,
          625.442690637212,
          599.247000000001,
          942.563408961203,
          519.651591038795,
          346.525003615485
         ],
         "yaxis": "y"
        },
        {
         "hovertemplate": "month=Feb<br>miles=%{x}<br>calories=%{y}<extra></extra>",
         "legendgroup": "Feb",
         "marker": {
          "color": "#EF553B",
          "symbol": "circle"
         },
         "mode": "markers",
         "name": "Feb",
         "orientation": "v",
         "showlegend": true,
         "type": "scatter",
         "x": [
          2.27627384758519,
          2.55947342604441,
          2.35882699078795,
          3.16028157941314,
          2.78205788189416,
          4.72188839635251,
          3.51503809870662,
          2.00356853780855,
          3.77172795121953,
          1.95001944723911,
          2.66399534134504,
          3.53286239904294,
          3.69976795024191,
          2.37595121835825,
          3.5481121277546,
          2.82652954394306,
          1.98679931123577,
          4.70645776944762,
          1.49286790889824,
          4.92650001152228,
          1.93924831880721,
          2.67971639580876,
          1.65805458842329,
          3.16673590682393,
          1.88083212526027,
          1.91247239571794,
          4.95315955612041,
          2.09386661635807
         ],
         "xaxis": "x",
         "y": [
          730.10611961992,
          625.839986220131,
          649.155890544466,
          738.649016125774,
          667.74798387423,
          868.244999999995,
          780.348999999994,
          524.527,
          729.921999999999,
          555.046,
          602.153999999999,
          853.013405611315,
          705.983594388686,
          364.538323219297,
          727.747711180903,
          740.778859978545,
          581.65610562125,
          984.971133534053,
          155.542866465948,
          1014.957,
          416.307999999999,
          635.235,
          360.860429151479,
          805.50064114854,
          272.074929699984,
          349.804545181544,
          887.250396414423,
          607.351058404035
         ],
         "yaxis": "y"
        },
        {
         "hovertemplate": "month=Mar<br>miles=%{x}<br>calories=%{y}<extra></extra>",
         "legendgroup": "Mar",
         "marker": {
          "color": "#00cc96",
          "symbol": "circle"
         },
         "mode": "markers",
         "name": "Mar",
         "orientation": "v",
         "showlegend": true,
         "type": "scatter",
         "x": [
          2.56667837221265,
          2.26359657460519,
          2.32694609758516,
          2.54800516981329,
          2.12564613842705,
          9.91535536436513,
          1.84184790812584,
          1.87380294959645,
          1.95813949360542,
          1.89608454529738,
          1.98099992105229,
          1.43085835163897,
          3.71458532922639,
          2.22799593687401,
          3.07577656480184,
          2.21038384965456,
          1.87219511738554,
          2.11259840610259,
          3.25147914430459,
          3.59909596327138,
          2.73333180445284,
          6.6461977858349,
          5.33128756527608,
          3.93337338839219,
          2.39956084172566,
          2.60089421809223,
          3.07426339218733,
          2.6004104557134,
          1.59246580096944,
          2.38807196003928
         ],
         "xaxis": "x",
         "y": [
          566.378928260796,
          730.352262013146,
          595.26380972606,
          697.87973010914,
          725.171269890861,
          1500.07696169728,
          478.416038302721,
          489.886000000002,
          449.428000000002,
          489.258640602509,
          522.488359397494,
          360.299000000001,
          759.501,
          383.644000000001,
          625.488000000002,
          590.134000000003,
          522.654,
          631.001360707732,
          474.761639292269,
          613.390000000001,
          522.688180287642,
          642.310819712365,
          874.482543178304,
          191.519456821696,
          684.538090706095,
          553.755000000001,
          479.437000000001,
          724.016652267443,
          475.901347732558,
          618.385603417631
         ],
         "yaxis": "y"
        },
        {
         "hovertemplate": "month=Apr<br>miles=%{x}<br>calories=%{y}<extra></extra>",
         "legendgroup": "Apr",
         "marker": {
          "color": "#ab63fa",
          "symbol": "circle"
         },
         "mode": "markers",
         "name": "Apr",
         "orientation": "v",
         "showlegend": true,
         "type": "scatter",
         "x": [
          2.86277717893406,
          1.68078672005971,
          8.98289631285285,
          4.62545801063221,
          2.05500524675847,
          3.04972805379401,
          2.50860739151148,
          2.81114006946558,
          3.88146123130472,
          3.68442987236766,
          10.1391572699686,
          2.47516568018223,
          1.74913376973316,
          2.40258264325035,
          3.7190895060851,
          4.770094163346,
          1.44969323949489,
          2.27933260769196,
          2.41555389972494,
          2.31764286144094,
          2.74515591247363,
          2.42443550748294,
          4.48008421871056,
          3.67333426996896,
          3.66706679974464,
          2.66240119276147,
          2.04075245650776,
          4.79325111997681,
          2.1285842643241,
          2.67531918411518
         ],
         "xaxis": "x",
         "y": [
          717.536429880361,
          482.332966702008,
          1535.93199999995,
          812.251000000002,
          492.491395118112,
          716.233325308533,
          521.111279573353,
          661.526402369546,
          801.419597630454,
          565.346,
          1625.688,
          540.542126153119,
          411.100873846882,
          670.561999999999,
          678.925000000001,
          995.140506432119,
          386.344337030111,
          472.877156537772,
          536.63,
          612.783437700391,
          538.090562299611,
          335.021391714572,
          837.034179979101,
          631.833428306328,
          808.075,
          634.446,
          587.592,
          616.007,
          536.116141402322,
          491.464858597676
         ],
         "yaxis": "y"
        },
        {
         "hovertemplate": "month=May<br>miles=%{x}<br>calories=%{y}<extra></extra>",
         "legendgroup": "May",
         "marker": {
          "color": "#FFA15A",
          "symbol": "circle"
         },
         "mode": "markers",
         "name": "May",
         "orientation": "v",
         "showlegend": true,
         "type": "scatter",
         "x": [
          3.32335823408366,
          2.27309132369842,
          2.26398504839911,
          3.12278360339361,
          3.98827009174983,
          5.33963920438035,
          2.55189903307512,
          2.67553156393015,
          2.59981241283934,
          1.22091629785606,
          2.03393794752028,
          2.92118591797054,
          1.37181479302187,
          3.94669870357063,
          4.17534613850156,
          4.30305287573727,
          2.78720413257814,
          2.94017984163379,
          3.04725789539492,
          1.62864792636102,
          4.51025543871143,
          3.70011871983419,
          2.38776700172334,
          2.32622579769725,
          3.20731973635455,
          3.16800103447259,
          3.04175118954253,
          6.04815434303131,
          4.35558176186636,
          2.63278226984012,
          4.96664389123943
         ],
         "xaxis": "x",
         "y": [
          622.062,
          566.847547364073,
          592.330297460266,
          440.162771034808,
          603.014384140851,
          799.475909382761,
          475.292090617239,
          491.172,
          569.617245538077,
          163.189414172474,
          515.060243889038,
          609.084531973524,
          263.783970592476,
          772.215473035205,
          780.594397650478,
          534.94972314873,
          515.984000000001,
          520.177803481137,
          548.641196518863,
          372.587999999999,
          708.202000000001,
          692.314146984756,
          299.498853015245,
          414.976062800549,
          605.166743715387,
          633.522193484066,
          550.957,
          963.982000000002,
          769.025828518746,
          415.53518421234,
          573.321987268914
         ],
         "yaxis": "y"
        },
        {
         "hovertemplate": "month=Jun<br>miles=%{x}<br>calories=%{y}<extra></extra>",
         "legendgroup": "Jun",
         "marker": {
          "color": "#19d3f3",
          "symbol": "circle"
         },
         "mode": "markers",
         "name": "Jun",
         "orientation": "v",
         "showlegend": true,
         "type": "scatter",
         "x": [
          3.03990160880213,
          2.90597878468371,
          2.36571704183832,
          4.16650323754961,
          4.10190210606757,
          4.43755432604092,
          2.60929094780083,
          3.25312449039869,
          6.16311529348146,
          2.32169328726451,
          2.13641263331836,
          2.20374634562317,
          4.13014378981128,
          3.29418180158206,
          1.95703795415023,
          3.37690587044714,
          7.47629183662241,
          7.7997719160753,
          2.44393963006505,
          3.72150093949588,
          3.36695868951072,
          4.59853436217258,
          4.99399474922013,
          8.81002431852695,
          2.69370271786663,
          2.894432379704,
          1.04357894297672,
          10.0515968865464,
          1.85440527763036,
          2.83184869093686
         ],
         "xaxis": "x",
         "y": [
          415.857607961909,
          706.426392038091,
          571.292014001682,
          800.056985998318,
          693.977540662708,
          706.132459337292,
          515.119183178456,
          652.695816821545,
          886.734124816746,
          458.061273121753,
          411.964602061503,
          439.290226740476,
          638.679394862505,
          654.890378397021,
          327.140631450129,
          600.059159172363,
          1051.88220937751,
          1319.18843597884,
          556.875000745648,
          572.513563275512,
          530.767227956033,
          629.142590744154,
          503.782181299813,
          858.383926285102,
          420.1420737149,
          741.233639167498,
          386.271360832504,
          1267.95233365905,
          359.063666340958,
          509.083
         ],
         "yaxis": "y"
        },
        {
         "hovertemplate": "month=Jul<br>miles=%{x}<br>calories=%{y}<extra></extra>",
         "legendgroup": "Jul",
         "marker": {
          "color": "#FF6692",
          "symbol": "circle"
         },
         "mode": "markers",
         "name": "Jul",
         "orientation": "v",
         "showlegend": true,
         "type": "scatter",
         "x": [
          6.11315445609744,
          2.06906073711222,
          8.13610812634908,
          9.25305349115031,
          7.78597023788843,
          2.87606941015,
          1.69659160384954,
          4.98869972464642,
          3.10692500065642,
          6.85741086647214,
          6.9156556257296,
          9.49152221637672,
          3.2434050073374,
          1.66715960767037,
          2.58055934701339,
          2.87872246099597,
          10.1934268765139,
          6.80903627677101,
          8.37388493141669,
          1.74327787085083,
          2.97282699606303,
          2.43204334173389,
          7.00561515721937,
          7.34874149593573,
          7.17115970113234,
          1.79824548028125,
          5.03895330744063,
          2.10740121672953,
          3.85977092637756,
          3.28797041839698,
          3.52469636875327
         ],
         "xaxis": "x",
         "y": [
          875.847246858773,
          407.535753141229,
          922.402000000002,
          1141.341,
          935.110000000001,
          681.737000000001,
          238.928319188135,
          689.745035431451,
          669.211645380416,
          849.433000000001,
          989.361999999999,
          1167.15537836289,
          563.163425613793,
          471.128079716367,
          434.875116306951,
          559.684,
          1150.779,
          962.661,
          1100.40480626053,
          295.962193114774,
          425.090460407364,
          430.582540217333,
          802.961000000001,
          866.812000000002,
          954.993000000001,
          270.808095283988,
          894.935904716012,
          271.646485089344,
          708.64851491065,
          734.148621888718,
          491.831378111282
         ],
         "yaxis": "y"
        },
        {
         "hovertemplate": "month=Aug<br>miles=%{x}<br>calories=%{y}<extra></extra>",
         "legendgroup": "Aug",
         "marker": {
          "color": "#B6E880",
          "symbol": "circle"
         },
         "mode": "markers",
         "name": "Aug",
         "orientation": "v",
         "showlegend": true,
         "type": "scatter",
         "x": [
          2.42336730809822,
          4.92475807397587,
          3.41331435360436,
          1.70456052752075,
          2.58216034386374,
          1.98023097524678,
          1.35682540099157,
          8.72222396444854,
          6.50122232997997,
          1.85544499963426,
          4.19630273149514,
          4.77545069083959,
          9.15488172961112,
          7.61856665054742,
          7.93652008573604,
          1.71794094343502,
          6.02558914801752,
          4.47365963505051,
          2.69596522483297,
          1.33962477804994,
          8.19690687426542,
          7.21859313863329,
          1.67474768248942,
          1.43660776370854,
          8.20587697144449,
          1.73270093793653,
          1.99423276417736,
          8.24397674111505,
          7.05341557654305,
          4.23169682968375,
          2.76389849179254
         ],
         "xaxis": "x",
         "y": [
          520.3214667327,
          755.1325332673,
          584.794000000001,
          362.208058756678,
          381.753984479676,
          387.073956763646,
          161.317,
          1057.698,
          749.900000000001,
          332.339682542849,
          714.56631745715,
          713.007000000001,
          1181.71100000001,
          1019.355,
          1024.422,
          327.134999999999,
          838.405704195417,
          682.317937334437,
          293.052358470147,
          208.5,
          1035.6,
          802.842000000001,
          303.27,
          178.928,
          1065.429,
          317.534,
          263.256,
          1065.797,
          927.361999999999,
          665.81214709,
          415.45385291
         ],
         "yaxis": "y"
        },
        {
         "hovertemplate": "month=Sep<br>miles=%{x}<br>calories=%{y}<extra></extra>",
         "legendgroup": "Sep",
         "marker": {
          "color": "#FF97FF",
          "symbol": "circle"
         },
         "mode": "markers",
         "name": "Sep",
         "orientation": "v",
         "showlegend": true,
         "type": "scatter",
         "x": [
          4.12356901644297,
          4.24885427172951,
          2.4722527167102,
          2.05379553861734,
          4.15006157645799,
          3.57583583270703,
          4.58163668686538,
          2.38297830580469,
          4.45093540451652,
          2.2831612153631,
          1.71613783203482,
          1.97817600981042,
          2.42826496376655,
          5.19440534065112,
          2.71279968637717,
          1.18271120299168,
          1.37900047499638,
          2.5437816642019,
          1.54693894343893,
          3.60936679163614,
          4.91135236178864,
          1.20006574670264,
          4.05593794726139,
          2.40374169480598,
          4.80552497172347,
          3.07222688980633,
          1.99074250417002,
          6.3910794952137,
          1.02085968918593
         ],
         "xaxis": "x",
         "y": [
          831.212820510729,
          838.724552739307,
          436.867690406995,
          492.795688283335,
          561.622068570364,
          533.654,
          936.481840421691,
          585.403224631292,
          719.102934947018,
          464.363136640531,
          303.336248001888,
          540.651169798052,
          481.521697444488,
          975.905013194923,
          333.441734920119,
          196.908,
          356.646125167151,
          563.89887483285,
          341.504,
          567.63,
          862.275,
          269.899,
          667.8412218068,
          458.821250731451,
          715.62552746175,
          691.691333241874,
          160.526666758125,
          1024.1,
          285.064507253552
         ],
         "yaxis": "y"
        },
        {
         "hovertemplate": "month=Oct<br>miles=%{x}<br>calories=%{y}<extra></extra>",
         "legendgroup": "Oct",
         "marker": {
          "color": "#FECB52",
          "symbol": "circle"
         },
         "mode": "markers",
         "name": "Oct",
         "orientation": "v",
         "showlegend": true,
         "type": "scatter",
         "x": [
          3.77390625979149,
          5.09908122725748,
          2.6273422179704,
          2.00072430076177,
          2.40700390365597,
          4.20083506972067,
          1.12011235963576,
          1.27022844833434,
          2.35462369720377,
          4.15423157762682,
          2.66557818227384,
          2.14394161037632,
          3.6350486326847,
          1.31897537626006,
          4.62114411417071,
          3.18454527343861,
          5.39740332541934,
          2.26079711110495,
          2.26420197015865,
          4.88760038017272,
          1.18786877768916,
          4.10645178320774,
          3.66817497635389,
          1.21955999053671,
          2.60308726635712,
          2.01974870809551,
          2.26411283381552,
          2.44691040697134,
          1.45278121152565,
          2.26541676155191,
          2.61591475964101
         ],
         "xaxis": "x",
         "y": [
          745.704492746449,
          649.546999999999,
          488.426083384419,
          265.409606491852,
          517.753310123729,
          796.453000000001,
          217.564,
          464.531723979791,
          610.616276020211,
          776.645,
          559.893230554547,
          434.490769445454,
          822.387650935921,
          373.579812993424,
          751.915536070656,
          484.869616983316,
          1016.48180783251,
          327.947617844774,
          479.530957339406,
          1030.531,
          326.091,
          804.604000000001,
          748.010000000001,
          382.493663980595,
          530.759336019406,
          456.064,
          557.356955357338,
          468.778885528117,
          351.981159114545,
          435.88,
          418.333
         ],
         "yaxis": "y"
        },
        {
         "hovertemplate": "month=Nov<br>miles=%{x}<br>calories=%{y}<extra></extra>",
         "legendgroup": "Nov",
         "marker": {
          "color": "#636efa",
          "symbol": "circle"
         },
         "mode": "markers",
         "name": "Nov",
         "orientation": "v",
         "showlegend": true,
         "type": "scatter",
         "x": [
          1.78579695064934,
          3.29831027081233,
          4.57958969605246,
          2.49112591114865,
          1.05012995289292,
          3.84538550726899,
          3.1639929816614,
          1.04407339411259,
          1.33540583984468,
          4.19995757674169,
          1.03307314202845,
          4.4797453294823,
          3.81406762887154,
          5.28063031538382,
          1.46935247453648,
          4.43786913607224,
          3.8506157664763,
          4.55749000607362,
          2.97639733449023,
          4.05399509002682,
          1.44204913694836,
          1.33042780457446,
          2.10438125038387,
          2.3701387969595,
          1.28111717280455,
          1.63135661677697,
          2.84430906495892,
          4.48330908897347,
          2.25666045646791,
          5.82539869642723
         ],
         "xaxis": "x",
         "y": [
          424.648999999999,
          574.641638299425,
          845.967361700576,
          651.637999999999,
          337.185876202426,
          593.449800298204,
          773.532260875062,
          405.154963006032,
          274.974613200867,
          843.053486417406,
          319.371,
          854.113280254247,
          683.842601700457,
          1044.02130415731,
          394.634923515958,
          725.498890372028,
          818.168189301097,
          748.643656321222,
          472.197902696585,
          728.177382409826,
          222.75686927127,
          356.612670266377,
          515.536329733624,
          342.808217873511,
          413.39116800725,
          516.142227413798,
          398.659386705442,
          950.043650956611,
          422.79534904339,
          951.573000000001
         ],
         "yaxis": "y"
        },
        {
         "hovertemplate": "month=Dec<br>miles=%{x}<br>calories=%{y}<extra></extra>",
         "legendgroup": "Dec",
         "marker": {
          "color": "#EF553B",
          "symbol": "circle"
         },
         "mode": "markers",
         "name": "Dec",
         "orientation": "v",
         "showlegend": true,
         "type": "scatter",
         "x": [
          2.30485439186397,
          2.62882791851514,
          1.49959609834733,
          7.70344248162788,
          2.57760037782735,
          4.86164569335249,
          3.16400245247995,
          4.67106078271619,
          4.12281937306264,
          4.89356732858663,
          6.30859381572157,
          3.04626467765329,
          4.11092442614219,
          4.87067328327157,
          2.76598241334086,
          1.76076279732018,
          1.0473012982691,
          2.88329461484827,
          4.29476670321422,
          2.02828617493829,
          4.23551840436992,
          1.1717287319885,
          2.83664394734437,
          3.17701484772975,
          1.56006341136723,
          2.03270788076118,
          1.69404267859633,
          5.73792989060081,
          2.42009737153147,
          2.92863658125028
         ],
         "xaxis": "x",
         "y": [
          283.96837800639,
          572.892361969579,
          391.25226002403,
          1094.03,
          521.041689294737,
          835.955310705261,
          563.320167629931,
          927.321832370071,
          757.837139103892,
          918.40286089611,
          1177.927,
          443.46746830442,
          714.43553169558,
          825.161,
          583.287370466208,
          380.660629533794,
          257.043679849332,
          693.562427499041,
          786.448892651628,
          318.467,
          595.229999999999,
          284.751678736759,
          651.449321263242,
          572.449999999999,
          393.324374344616,
          262.894625655384,
          372.944,
          1043.59054542223,
          542.194505474998,
          615.976073397627
         ],
         "yaxis": "y"
        }
       ],
       "layout": {
        "legend": {
         "title": {
          "text": "month"
         },
         "tracegroupgap": 0
        },
        "template": {
         "data": {
          "bar": [
           {
            "error_x": {
             "color": "#2a3f5f"
            },
            "error_y": {
             "color": "#2a3f5f"
            },
            "marker": {
             "line": {
              "color": "#E5ECF6",
              "width": 0.5
             },
             "pattern": {
              "fillmode": "overlay",
              "size": 10,
              "solidity": 0.2
             }
            },
            "type": "bar"
           }
          ],
          "barpolar": [
           {
            "marker": {
             "line": {
              "color": "#E5ECF6",
              "width": 0.5
             },
             "pattern": {
              "fillmode": "overlay",
              "size": 10,
              "solidity": 0.2
             }
            },
            "type": "barpolar"
           }
          ],
          "carpet": [
           {
            "aaxis": {
             "endlinecolor": "#2a3f5f",
             "gridcolor": "white",
             "linecolor": "white",
             "minorgridcolor": "white",
             "startlinecolor": "#2a3f5f"
            },
            "baxis": {
             "endlinecolor": "#2a3f5f",
             "gridcolor": "white",
             "linecolor": "white",
             "minorgridcolor": "white",
             "startlinecolor": "#2a3f5f"
            },
            "type": "carpet"
           }
          ],
          "choropleth": [
           {
            "colorbar": {
             "outlinewidth": 0,
             "ticks": ""
            },
            "type": "choropleth"
           }
          ],
          "contour": [
           {
            "colorbar": {
             "outlinewidth": 0,
             "ticks": ""
            },
            "colorscale": [
             [
              0,
              "#0d0887"
             ],
             [
              0.1111111111111111,
              "#46039f"
             ],
             [
              0.2222222222222222,
              "#7201a8"
             ],
             [
              0.3333333333333333,
              "#9c179e"
             ],
             [
              0.4444444444444444,
              "#bd3786"
             ],
             [
              0.5555555555555556,
              "#d8576b"
             ],
             [
              0.6666666666666666,
              "#ed7953"
             ],
             [
              0.7777777777777778,
              "#fb9f3a"
             ],
             [
              0.8888888888888888,
              "#fdca26"
             ],
             [
              1,
              "#f0f921"
             ]
            ],
            "type": "contour"
           }
          ],
          "contourcarpet": [
           {
            "colorbar": {
             "outlinewidth": 0,
             "ticks": ""
            },
            "type": "contourcarpet"
           }
          ],
          "heatmap": [
           {
            "colorbar": {
             "outlinewidth": 0,
             "ticks": ""
            },
            "colorscale": [
             [
              0,
              "#0d0887"
             ],
             [
              0.1111111111111111,
              "#46039f"
             ],
             [
              0.2222222222222222,
              "#7201a8"
             ],
             [
              0.3333333333333333,
              "#9c179e"
             ],
             [
              0.4444444444444444,
              "#bd3786"
             ],
             [
              0.5555555555555556,
              "#d8576b"
             ],
             [
              0.6666666666666666,
              "#ed7953"
             ],
             [
              0.7777777777777778,
              "#fb9f3a"
             ],
             [
              0.8888888888888888,
              "#fdca26"
             ],
             [
              1,
              "#f0f921"
             ]
            ],
            "type": "heatmap"
           }
          ],
          "heatmapgl": [
           {
            "colorbar": {
             "outlinewidth": 0,
             "ticks": ""
            },
            "colorscale": [
             [
              0,
              "#0d0887"
             ],
             [
              0.1111111111111111,
              "#46039f"
             ],
             [
              0.2222222222222222,
              "#7201a8"
             ],
             [
              0.3333333333333333,
              "#9c179e"
             ],
             [
              0.4444444444444444,
              "#bd3786"
             ],
             [
              0.5555555555555556,
              "#d8576b"
             ],
             [
              0.6666666666666666,
              "#ed7953"
             ],
             [
              0.7777777777777778,
              "#fb9f3a"
             ],
             [
              0.8888888888888888,
              "#fdca26"
             ],
             [
              1,
              "#f0f921"
             ]
            ],
            "type": "heatmapgl"
           }
          ],
          "histogram": [
           {
            "marker": {
             "pattern": {
              "fillmode": "overlay",
              "size": 10,
              "solidity": 0.2
             }
            },
            "type": "histogram"
           }
          ],
          "histogram2d": [
           {
            "colorbar": {
             "outlinewidth": 0,
             "ticks": ""
            },
            "colorscale": [
             [
              0,
              "#0d0887"
             ],
             [
              0.1111111111111111,
              "#46039f"
             ],
             [
              0.2222222222222222,
              "#7201a8"
             ],
             [
              0.3333333333333333,
              "#9c179e"
             ],
             [
              0.4444444444444444,
              "#bd3786"
             ],
             [
              0.5555555555555556,
              "#d8576b"
             ],
             [
              0.6666666666666666,
              "#ed7953"
             ],
             [
              0.7777777777777778,
              "#fb9f3a"
             ],
             [
              0.8888888888888888,
              "#fdca26"
             ],
             [
              1,
              "#f0f921"
             ]
            ],
            "type": "histogram2d"
           }
          ],
          "histogram2dcontour": [
           {
            "colorbar": {
             "outlinewidth": 0,
             "ticks": ""
            },
            "colorscale": [
             [
              0,
              "#0d0887"
             ],
             [
              0.1111111111111111,
              "#46039f"
             ],
             [
              0.2222222222222222,
              "#7201a8"
             ],
             [
              0.3333333333333333,
              "#9c179e"
             ],
             [
              0.4444444444444444,
              "#bd3786"
             ],
             [
              0.5555555555555556,
              "#d8576b"
             ],
             [
              0.6666666666666666,
              "#ed7953"
             ],
             [
              0.7777777777777778,
              "#fb9f3a"
             ],
             [
              0.8888888888888888,
              "#fdca26"
             ],
             [
              1,
              "#f0f921"
             ]
            ],
            "type": "histogram2dcontour"
           }
          ],
          "mesh3d": [
           {
            "colorbar": {
             "outlinewidth": 0,
             "ticks": ""
            },
            "type": "mesh3d"
           }
          ],
          "parcoords": [
           {
            "line": {
             "colorbar": {
              "outlinewidth": 0,
              "ticks": ""
             }
            },
            "type": "parcoords"
           }
          ],
          "pie": [
           {
            "automargin": true,
            "type": "pie"
           }
          ],
          "scatter": [
           {
            "marker": {
             "colorbar": {
              "outlinewidth": 0,
              "ticks": ""
             }
            },
            "type": "scatter"
           }
          ],
          "scatter3d": [
           {
            "line": {
             "colorbar": {
              "outlinewidth": 0,
              "ticks": ""
             }
            },
            "marker": {
             "colorbar": {
              "outlinewidth": 0,
              "ticks": ""
             }
            },
            "type": "scatter3d"
           }
          ],
          "scattercarpet": [
           {
            "marker": {
             "colorbar": {
              "outlinewidth": 0,
              "ticks": ""
             }
            },
            "type": "scattercarpet"
           }
          ],
          "scattergeo": [
           {
            "marker": {
             "colorbar": {
              "outlinewidth": 0,
              "ticks": ""
             }
            },
            "type": "scattergeo"
           }
          ],
          "scattergl": [
           {
            "marker": {
             "colorbar": {
              "outlinewidth": 0,
              "ticks": ""
             }
            },
            "type": "scattergl"
           }
          ],
          "scattermapbox": [
           {
            "marker": {
             "colorbar": {
              "outlinewidth": 0,
              "ticks": ""
             }
            },
            "type": "scattermapbox"
           }
          ],
          "scatterpolar": [
           {
            "marker": {
             "colorbar": {
              "outlinewidth": 0,
              "ticks": ""
             }
            },
            "type": "scatterpolar"
           }
          ],
          "scatterpolargl": [
           {
            "marker": {
             "colorbar": {
              "outlinewidth": 0,
              "ticks": ""
             }
            },
            "type": "scatterpolargl"
           }
          ],
          "scatterternary": [
           {
            "marker": {
             "colorbar": {
              "outlinewidth": 0,
              "ticks": ""
             }
            },
            "type": "scatterternary"
           }
          ],
          "surface": [
           {
            "colorbar": {
             "outlinewidth": 0,
             "ticks": ""
            },
            "colorscale": [
             [
              0,
              "#0d0887"
             ],
             [
              0.1111111111111111,
              "#46039f"
             ],
             [
              0.2222222222222222,
              "#7201a8"
             ],
             [
              0.3333333333333333,
              "#9c179e"
             ],
             [
              0.4444444444444444,
              "#bd3786"
             ],
             [
              0.5555555555555556,
              "#d8576b"
             ],
             [
              0.6666666666666666,
              "#ed7953"
             ],
             [
              0.7777777777777778,
              "#fb9f3a"
             ],
             [
              0.8888888888888888,
              "#fdca26"
             ],
             [
              1,
              "#f0f921"
             ]
            ],
            "type": "surface"
           }
          ],
          "table": [
           {
            "cells": {
             "fill": {
              "color": "#EBF0F8"
             },
             "line": {
              "color": "white"
             }
            },
            "header": {
             "fill": {
              "color": "#C8D4E3"
             },
             "line": {
              "color": "white"
             }
            },
            "type": "table"
           }
          ]
         },
         "layout": {
          "annotationdefaults": {
           "arrowcolor": "#2a3f5f",
           "arrowhead": 0,
           "arrowwidth": 1
          },
          "autotypenumbers": "strict",
          "coloraxis": {
           "colorbar": {
            "outlinewidth": 0,
            "ticks": ""
           }
          },
          "colorscale": {
           "diverging": [
            [
             0,
             "#8e0152"
            ],
            [
             0.1,
             "#c51b7d"
            ],
            [
             0.2,
             "#de77ae"
            ],
            [
             0.3,
             "#f1b6da"
            ],
            [
             0.4,
             "#fde0ef"
            ],
            [
             0.5,
             "#f7f7f7"
            ],
            [
             0.6,
             "#e6f5d0"
            ],
            [
             0.7,
             "#b8e186"
            ],
            [
             0.8,
             "#7fbc41"
            ],
            [
             0.9,
             "#4d9221"
            ],
            [
             1,
             "#276419"
            ]
           ],
           "sequential": [
            [
             0,
             "#0d0887"
            ],
            [
             0.1111111111111111,
             "#46039f"
            ],
            [
             0.2222222222222222,
             "#7201a8"
            ],
            [
             0.3333333333333333,
             "#9c179e"
            ],
            [
             0.4444444444444444,
             "#bd3786"
            ],
            [
             0.5555555555555556,
             "#d8576b"
            ],
            [
             0.6666666666666666,
             "#ed7953"
            ],
            [
             0.7777777777777778,
             "#fb9f3a"
            ],
            [
             0.8888888888888888,
             "#fdca26"
            ],
            [
             1,
             "#f0f921"
            ]
           ],
           "sequentialminus": [
            [
             0,
             "#0d0887"
            ],
            [
             0.1111111111111111,
             "#46039f"
            ],
            [
             0.2222222222222222,
             "#7201a8"
            ],
            [
             0.3333333333333333,
             "#9c179e"
            ],
            [
             0.4444444444444444,
             "#bd3786"
            ],
            [
             0.5555555555555556,
             "#d8576b"
            ],
            [
             0.6666666666666666,
             "#ed7953"
            ],
            [
             0.7777777777777778,
             "#fb9f3a"
            ],
            [
             0.8888888888888888,
             "#fdca26"
            ],
            [
             1,
             "#f0f921"
            ]
           ]
          },
          "colorway": [
           "#636efa",
           "#EF553B",
           "#00cc96",
           "#ab63fa",
           "#FFA15A",
           "#19d3f3",
           "#FF6692",
           "#B6E880",
           "#FF97FF",
           "#FECB52"
          ],
          "font": {
           "color": "#2a3f5f"
          },
          "geo": {
           "bgcolor": "white",
           "lakecolor": "white",
           "landcolor": "#E5ECF6",
           "showlakes": true,
           "showland": true,
           "subunitcolor": "white"
          },
          "hoverlabel": {
           "align": "left"
          },
          "hovermode": "closest",
          "mapbox": {
           "style": "light"
          },
          "paper_bgcolor": "white",
          "plot_bgcolor": "#E5ECF6",
          "polar": {
           "angularaxis": {
            "gridcolor": "white",
            "linecolor": "white",
            "ticks": ""
           },
           "bgcolor": "#E5ECF6",
           "radialaxis": {
            "gridcolor": "white",
            "linecolor": "white",
            "ticks": ""
           }
          },
          "scene": {
           "xaxis": {
            "backgroundcolor": "#E5ECF6",
            "gridcolor": "white",
            "gridwidth": 2,
            "linecolor": "white",
            "showbackground": true,
            "ticks": "",
            "zerolinecolor": "white"
           },
           "yaxis": {
            "backgroundcolor": "#E5ECF6",
            "gridcolor": "white",
            "gridwidth": 2,
            "linecolor": "white",
            "showbackground": true,
            "ticks": "",
            "zerolinecolor": "white"
           },
           "zaxis": {
            "backgroundcolor": "#E5ECF6",
            "gridcolor": "white",
            "gridwidth": 2,
            "linecolor": "white",
            "showbackground": true,
            "ticks": "",
            "zerolinecolor": "white"
           }
          },
          "shapedefaults": {
           "line": {
            "color": "#2a3f5f"
           }
          },
          "ternary": {
           "aaxis": {
            "gridcolor": "white",
            "linecolor": "white",
            "ticks": ""
           },
           "baxis": {
            "gridcolor": "white",
            "linecolor": "white",
            "ticks": ""
           },
           "bgcolor": "#E5ECF6",
           "caxis": {
            "gridcolor": "white",
            "linecolor": "white",
            "ticks": ""
           }
          },
          "title": {
           "x": 0.05
          },
          "xaxis": {
           "automargin": true,
           "gridcolor": "white",
           "linecolor": "white",
           "ticks": "",
           "title": {
            "standoff": 15
           },
           "zerolinecolor": "white",
           "zerolinewidth": 2
          },
          "yaxis": {
           "automargin": true,
           "gridcolor": "white",
           "linecolor": "white",
           "ticks": "",
           "title": {
            "standoff": 15
           },
           "zerolinecolor": "white",
           "zerolinewidth": 2
          }
         }
        },
        "title": {
         "text": "Miles vs. Calories [Colored by month]\nTrednline: R^2: 0.8634 Calories = 110.93*miles + 237.18"
        },
        "xaxis": {
         "anchor": "y",
         "domain": [
          0,
          1
         ],
         "title": {
          "text": "miles"
         }
        },
        "yaxis": {
         "anchor": "x",
         "domain": [
          0,
          1
         ],
         "range": [
          0,
          1650
         ],
         "title": {
          "text": "calories"
         }
        }
       }
      },
      "text/html": [
       "<div>                            <div id=\"0bb1337a-e681-4f4c-ad08-f192c68b476e\" class=\"plotly-graph-div\" style=\"height:525px; width:100%;\"></div>            <script type=\"text/javascript\">                require([\"plotly\"], function(Plotly) {                    window.PLOTLYENV=window.PLOTLYENV || {};                                    if (document.getElementById(\"0bb1337a-e681-4f4c-ad08-f192c68b476e\")) {                    Plotly.newPlot(                        \"0bb1337a-e681-4f4c-ad08-f192c68b476e\",                        [{\"hovertemplate\":\"month=Jan<br>miles=%{x}<br>calories=%{y}<extra></extra>\",\"legendgroup\":\"Jan\",\"marker\":{\"color\":\"#636efa\",\"symbol\":\"circle\"},\"mode\":\"markers\",\"name\":\"Jan\",\"orientation\":\"v\",\"showlegend\":true,\"x\":[3.7227182960896,1.89697656857255,1.69672284643189,1.50265448247135,2.17399213702361,2.8613187713283,2.03039214641993,1.91121882024395,2.31448767523881,1.95208568625946,6.92860194070912,4.15937533849185,1.89107087649194,6.6670065029303,6.13790113658745,4.21207813324155,6.17385569064731,2.58355182420388,1.83967908633737,3.50761759282414,2.22612587092695,3.57788624233396,2.35958763075875,2.90857573468183,2.32284943275682,2.62577864649961,2.26028392517989,2.69171511419138,3.39927874879608,1.75416776296777,1.54259908460691],\"xaxis\":\"x\",\"y\":[692.881761274166,536.691407956743,276.350999999999,270.923146762041,397.484041234037,702.107462456384,519.341933890192,581.203987582989,527.071428074356,411.312179296951,1079.65282070305,829.228614293344,341.860385706658,962.018,950.258562819967,782.377880005755,863.036557174281,601.390587040521,492.184507807422,847.532824984648,526.002080167403,740.463040158474,443.602185651039,578.325922047423,562.67506105348,804.732100452362,625.442690637212,599.247000000001,942.563408961203,519.651591038795,346.525003615485],\"yaxis\":\"y\",\"type\":\"scatter\"},{\"hovertemplate\":\"month=Feb<br>miles=%{x}<br>calories=%{y}<extra></extra>\",\"legendgroup\":\"Feb\",\"marker\":{\"color\":\"#EF553B\",\"symbol\":\"circle\"},\"mode\":\"markers\",\"name\":\"Feb\",\"orientation\":\"v\",\"showlegend\":true,\"x\":[2.27627384758519,2.55947342604441,2.35882699078795,3.16028157941314,2.78205788189416,4.72188839635251,3.51503809870662,2.00356853780855,3.77172795121953,1.95001944723911,2.66399534134504,3.53286239904294,3.69976795024191,2.37595121835825,3.5481121277546,2.82652954394306,1.98679931123577,4.70645776944762,1.49286790889824,4.92650001152228,1.93924831880721,2.67971639580876,1.65805458842329,3.16673590682393,1.88083212526027,1.91247239571794,4.95315955612041,2.09386661635807],\"xaxis\":\"x\",\"y\":[730.10611961992,625.839986220131,649.155890544466,738.649016125774,667.74798387423,868.244999999995,780.348999999994,524.527,729.921999999999,555.046,602.153999999999,853.013405611315,705.983594388686,364.538323219297,727.747711180903,740.778859978545,581.65610562125,984.971133534053,155.542866465948,1014.957,416.307999999999,635.235,360.860429151479,805.50064114854,272.074929699984,349.804545181544,887.250396414423,607.351058404035],\"yaxis\":\"y\",\"type\":\"scatter\"},{\"hovertemplate\":\"month=Mar<br>miles=%{x}<br>calories=%{y}<extra></extra>\",\"legendgroup\":\"Mar\",\"marker\":{\"color\":\"#00cc96\",\"symbol\":\"circle\"},\"mode\":\"markers\",\"name\":\"Mar\",\"orientation\":\"v\",\"showlegend\":true,\"x\":[2.56667837221265,2.26359657460519,2.32694609758516,2.54800516981329,2.12564613842705,9.91535536436513,1.84184790812584,1.87380294959645,1.95813949360542,1.89608454529738,1.98099992105229,1.43085835163897,3.71458532922639,2.22799593687401,3.07577656480184,2.21038384965456,1.87219511738554,2.11259840610259,3.25147914430459,3.59909596327138,2.73333180445284,6.6461977858349,5.33128756527608,3.93337338839219,2.39956084172566,2.60089421809223,3.07426339218733,2.6004104557134,1.59246580096944,2.38807196003928],\"xaxis\":\"x\",\"y\":[566.378928260796,730.352262013146,595.26380972606,697.87973010914,725.171269890861,1500.07696169728,478.416038302721,489.886000000002,449.428000000002,489.258640602509,522.488359397494,360.299000000001,759.501,383.644000000001,625.488000000002,590.134000000003,522.654,631.001360707732,474.761639292269,613.390000000001,522.688180287642,642.310819712365,874.482543178304,191.519456821696,684.538090706095,553.755000000001,479.437000000001,724.016652267443,475.901347732558,618.385603417631],\"yaxis\":\"y\",\"type\":\"scatter\"},{\"hovertemplate\":\"month=Apr<br>miles=%{x}<br>calories=%{y}<extra></extra>\",\"legendgroup\":\"Apr\",\"marker\":{\"color\":\"#ab63fa\",\"symbol\":\"circle\"},\"mode\":\"markers\",\"name\":\"Apr\",\"orientation\":\"v\",\"showlegend\":true,\"x\":[2.86277717893406,1.68078672005971,8.98289631285285,4.62545801063221,2.05500524675847,3.04972805379401,2.50860739151148,2.81114006946558,3.88146123130472,3.68442987236766,10.1391572699686,2.47516568018223,1.74913376973316,2.40258264325035,3.7190895060851,4.770094163346,1.44969323949489,2.27933260769196,2.41555389972494,2.31764286144094,2.74515591247363,2.42443550748294,4.48008421871056,3.67333426996896,3.66706679974464,2.66240119276147,2.04075245650776,4.79325111997681,2.1285842643241,2.67531918411518],\"xaxis\":\"x\",\"y\":[717.536429880361,482.332966702008,1535.93199999995,812.251000000002,492.491395118112,716.233325308533,521.111279573353,661.526402369546,801.419597630454,565.346,1625.688,540.542126153119,411.100873846882,670.561999999999,678.925000000001,995.140506432119,386.344337030111,472.877156537772,536.63,612.783437700391,538.090562299611,335.021391714572,837.034179979101,631.833428306328,808.075,634.446,587.592,616.007,536.116141402322,491.464858597676],\"yaxis\":\"y\",\"type\":\"scatter\"},{\"hovertemplate\":\"month=May<br>miles=%{x}<br>calories=%{y}<extra></extra>\",\"legendgroup\":\"May\",\"marker\":{\"color\":\"#FFA15A\",\"symbol\":\"circle\"},\"mode\":\"markers\",\"name\":\"May\",\"orientation\":\"v\",\"showlegend\":true,\"x\":[3.32335823408366,2.27309132369842,2.26398504839911,3.12278360339361,3.98827009174983,5.33963920438035,2.55189903307512,2.67553156393015,2.59981241283934,1.22091629785606,2.03393794752028,2.92118591797054,1.37181479302187,3.94669870357063,4.17534613850156,4.30305287573727,2.78720413257814,2.94017984163379,3.04725789539492,1.62864792636102,4.51025543871143,3.70011871983419,2.38776700172334,2.32622579769725,3.20731973635455,3.16800103447259,3.04175118954253,6.04815434303131,4.35558176186636,2.63278226984012,4.96664389123943],\"xaxis\":\"x\",\"y\":[622.062,566.847547364073,592.330297460266,440.162771034808,603.014384140851,799.475909382761,475.292090617239,491.172,569.617245538077,163.189414172474,515.060243889038,609.084531973524,263.783970592476,772.215473035205,780.594397650478,534.94972314873,515.984000000001,520.177803481137,548.641196518863,372.587999999999,708.202000000001,692.314146984756,299.498853015245,414.976062800549,605.166743715387,633.522193484066,550.957,963.982000000002,769.025828518746,415.53518421234,573.321987268914],\"yaxis\":\"y\",\"type\":\"scatter\"},{\"hovertemplate\":\"month=Jun<br>miles=%{x}<br>calories=%{y}<extra></extra>\",\"legendgroup\":\"Jun\",\"marker\":{\"color\":\"#19d3f3\",\"symbol\":\"circle\"},\"mode\":\"markers\",\"name\":\"Jun\",\"orientation\":\"v\",\"showlegend\":true,\"x\":[3.03990160880213,2.90597878468371,2.36571704183832,4.16650323754961,4.10190210606757,4.43755432604092,2.60929094780083,3.25312449039869,6.16311529348146,2.32169328726451,2.13641263331836,2.20374634562317,4.13014378981128,3.29418180158206,1.95703795415023,3.37690587044714,7.47629183662241,7.7997719160753,2.44393963006505,3.72150093949588,3.36695868951072,4.59853436217258,4.99399474922013,8.81002431852695,2.69370271786663,2.894432379704,1.04357894297672,10.0515968865464,1.85440527763036,2.83184869093686],\"xaxis\":\"x\",\"y\":[415.857607961909,706.426392038091,571.292014001682,800.056985998318,693.977540662708,706.132459337292,515.119183178456,652.695816821545,886.734124816746,458.061273121753,411.964602061503,439.290226740476,638.679394862505,654.890378397021,327.140631450129,600.059159172363,1051.88220937751,1319.18843597884,556.875000745648,572.513563275512,530.767227956033,629.142590744154,503.782181299813,858.383926285102,420.1420737149,741.233639167498,386.271360832504,1267.95233365905,359.063666340958,509.083],\"yaxis\":\"y\",\"type\":\"scatter\"},{\"hovertemplate\":\"month=Jul<br>miles=%{x}<br>calories=%{y}<extra></extra>\",\"legendgroup\":\"Jul\",\"marker\":{\"color\":\"#FF6692\",\"symbol\":\"circle\"},\"mode\":\"markers\",\"name\":\"Jul\",\"orientation\":\"v\",\"showlegend\":true,\"x\":[6.11315445609744,2.06906073711222,8.13610812634908,9.25305349115031,7.78597023788843,2.87606941015,1.69659160384954,4.98869972464642,3.10692500065642,6.85741086647214,6.9156556257296,9.49152221637672,3.2434050073374,1.66715960767037,2.58055934701339,2.87872246099597,10.1934268765139,6.80903627677101,8.37388493141669,1.74327787085083,2.97282699606303,2.43204334173389,7.00561515721937,7.34874149593573,7.17115970113234,1.79824548028125,5.03895330744063,2.10740121672953,3.85977092637756,3.28797041839698,3.52469636875327],\"xaxis\":\"x\",\"y\":[875.847246858773,407.535753141229,922.402000000002,1141.341,935.110000000001,681.737000000001,238.928319188135,689.745035431451,669.211645380416,849.433000000001,989.361999999999,1167.15537836289,563.163425613793,471.128079716367,434.875116306951,559.684,1150.779,962.661,1100.40480626053,295.962193114774,425.090460407364,430.582540217333,802.961000000001,866.812000000002,954.993000000001,270.808095283988,894.935904716012,271.646485089344,708.64851491065,734.148621888718,491.831378111282],\"yaxis\":\"y\",\"type\":\"scatter\"},{\"hovertemplate\":\"month=Aug<br>miles=%{x}<br>calories=%{y}<extra></extra>\",\"legendgroup\":\"Aug\",\"marker\":{\"color\":\"#B6E880\",\"symbol\":\"circle\"},\"mode\":\"markers\",\"name\":\"Aug\",\"orientation\":\"v\",\"showlegend\":true,\"x\":[2.42336730809822,4.92475807397587,3.41331435360436,1.70456052752075,2.58216034386374,1.98023097524678,1.35682540099157,8.72222396444854,6.50122232997997,1.85544499963426,4.19630273149514,4.77545069083959,9.15488172961112,7.61856665054742,7.93652008573604,1.71794094343502,6.02558914801752,4.47365963505051,2.69596522483297,1.33962477804994,8.19690687426542,7.21859313863329,1.67474768248942,1.43660776370854,8.20587697144449,1.73270093793653,1.99423276417736,8.24397674111505,7.05341557654305,4.23169682968375,2.76389849179254],\"xaxis\":\"x\",\"y\":[520.3214667327,755.1325332673,584.794000000001,362.208058756678,381.753984479676,387.073956763646,161.317,1057.698,749.900000000001,332.339682542849,714.56631745715,713.007000000001,1181.71100000001,1019.355,1024.422,327.134999999999,838.405704195417,682.317937334437,293.052358470147,208.5,1035.6,802.842000000001,303.27,178.928,1065.429,317.534,263.256,1065.797,927.361999999999,665.81214709,415.45385291],\"yaxis\":\"y\",\"type\":\"scatter\"},{\"hovertemplate\":\"month=Sep<br>miles=%{x}<br>calories=%{y}<extra></extra>\",\"legendgroup\":\"Sep\",\"marker\":{\"color\":\"#FF97FF\",\"symbol\":\"circle\"},\"mode\":\"markers\",\"name\":\"Sep\",\"orientation\":\"v\",\"showlegend\":true,\"x\":[4.12356901644297,4.24885427172951,2.4722527167102,2.05379553861734,4.15006157645799,3.57583583270703,4.58163668686538,2.38297830580469,4.45093540451652,2.2831612153631,1.71613783203482,1.97817600981042,2.42826496376655,5.19440534065112,2.71279968637717,1.18271120299168,1.37900047499638,2.5437816642019,1.54693894343893,3.60936679163614,4.91135236178864,1.20006574670264,4.05593794726139,2.40374169480598,4.80552497172347,3.07222688980633,1.99074250417002,6.3910794952137,1.02085968918593],\"xaxis\":\"x\",\"y\":[831.212820510729,838.724552739307,436.867690406995,492.795688283335,561.622068570364,533.654,936.481840421691,585.403224631292,719.102934947018,464.363136640531,303.336248001888,540.651169798052,481.521697444488,975.905013194923,333.441734920119,196.908,356.646125167151,563.89887483285,341.504,567.63,862.275,269.899,667.8412218068,458.821250731451,715.62552746175,691.691333241874,160.526666758125,1024.1,285.064507253552],\"yaxis\":\"y\",\"type\":\"scatter\"},{\"hovertemplate\":\"month=Oct<br>miles=%{x}<br>calories=%{y}<extra></extra>\",\"legendgroup\":\"Oct\",\"marker\":{\"color\":\"#FECB52\",\"symbol\":\"circle\"},\"mode\":\"markers\",\"name\":\"Oct\",\"orientation\":\"v\",\"showlegend\":true,\"x\":[3.77390625979149,5.09908122725748,2.6273422179704,2.00072430076177,2.40700390365597,4.20083506972067,1.12011235963576,1.27022844833434,2.35462369720377,4.15423157762682,2.66557818227384,2.14394161037632,3.6350486326847,1.31897537626006,4.62114411417071,3.18454527343861,5.39740332541934,2.26079711110495,2.26420197015865,4.88760038017272,1.18786877768916,4.10645178320774,3.66817497635389,1.21955999053671,2.60308726635712,2.01974870809551,2.26411283381552,2.44691040697134,1.45278121152565,2.26541676155191,2.61591475964101],\"xaxis\":\"x\",\"y\":[745.704492746449,649.546999999999,488.426083384419,265.409606491852,517.753310123729,796.453000000001,217.564,464.531723979791,610.616276020211,776.645,559.893230554547,434.490769445454,822.387650935921,373.579812993424,751.915536070656,484.869616983316,1016.48180783251,327.947617844774,479.530957339406,1030.531,326.091,804.604000000001,748.010000000001,382.493663980595,530.759336019406,456.064,557.356955357338,468.778885528117,351.981159114545,435.88,418.333],\"yaxis\":\"y\",\"type\":\"scatter\"},{\"hovertemplate\":\"month=Nov<br>miles=%{x}<br>calories=%{y}<extra></extra>\",\"legendgroup\":\"Nov\",\"marker\":{\"color\":\"#636efa\",\"symbol\":\"circle\"},\"mode\":\"markers\",\"name\":\"Nov\",\"orientation\":\"v\",\"showlegend\":true,\"x\":[1.78579695064934,3.29831027081233,4.57958969605246,2.49112591114865,1.05012995289292,3.84538550726899,3.1639929816614,1.04407339411259,1.33540583984468,4.19995757674169,1.03307314202845,4.4797453294823,3.81406762887154,5.28063031538382,1.46935247453648,4.43786913607224,3.8506157664763,4.55749000607362,2.97639733449023,4.05399509002682,1.44204913694836,1.33042780457446,2.10438125038387,2.3701387969595,1.28111717280455,1.63135661677697,2.84430906495892,4.48330908897347,2.25666045646791,5.82539869642723],\"xaxis\":\"x\",\"y\":[424.648999999999,574.641638299425,845.967361700576,651.637999999999,337.185876202426,593.449800298204,773.532260875062,405.154963006032,274.974613200867,843.053486417406,319.371,854.113280254247,683.842601700457,1044.02130415731,394.634923515958,725.498890372028,818.168189301097,748.643656321222,472.197902696585,728.177382409826,222.75686927127,356.612670266377,515.536329733624,342.808217873511,413.39116800725,516.142227413798,398.659386705442,950.043650956611,422.79534904339,951.573000000001],\"yaxis\":\"y\",\"type\":\"scatter\"},{\"hovertemplate\":\"month=Dec<br>miles=%{x}<br>calories=%{y}<extra></extra>\",\"legendgroup\":\"Dec\",\"marker\":{\"color\":\"#EF553B\",\"symbol\":\"circle\"},\"mode\":\"markers\",\"name\":\"Dec\",\"orientation\":\"v\",\"showlegend\":true,\"x\":[2.30485439186397,2.62882791851514,1.49959609834733,7.70344248162788,2.57760037782735,4.86164569335249,3.16400245247995,4.67106078271619,4.12281937306264,4.89356732858663,6.30859381572157,3.04626467765329,4.11092442614219,4.87067328327157,2.76598241334086,1.76076279732018,1.0473012982691,2.88329461484827,4.29476670321422,2.02828617493829,4.23551840436992,1.1717287319885,2.83664394734437,3.17701484772975,1.56006341136723,2.03270788076118,1.69404267859633,5.73792989060081,2.42009737153147,2.92863658125028],\"xaxis\":\"x\",\"y\":[283.96837800639,572.892361969579,391.25226002403,1094.03,521.041689294737,835.955310705261,563.320167629931,927.321832370071,757.837139103892,918.40286089611,1177.927,443.46746830442,714.43553169558,825.161,583.287370466208,380.660629533794,257.043679849332,693.562427499041,786.448892651628,318.467,595.229999999999,284.751678736759,651.449321263242,572.449999999999,393.324374344616,262.894625655384,372.944,1043.59054542223,542.194505474998,615.976073397627],\"yaxis\":\"y\",\"type\":\"scatter\"}],                        {\"template\":{\"data\":{\"bar\":[{\"error_x\":{\"color\":\"#2a3f5f\"},\"error_y\":{\"color\":\"#2a3f5f\"},\"marker\":{\"line\":{\"color\":\"#E5ECF6\",\"width\":0.5},\"pattern\":{\"fillmode\":\"overlay\",\"size\":10,\"solidity\":0.2}},\"type\":\"bar\"}],\"barpolar\":[{\"marker\":{\"line\":{\"color\":\"#E5ECF6\",\"width\":0.5},\"pattern\":{\"fillmode\":\"overlay\",\"size\":10,\"solidity\":0.2}},\"type\":\"barpolar\"}],\"carpet\":[{\"aaxis\":{\"endlinecolor\":\"#2a3f5f\",\"gridcolor\":\"white\",\"linecolor\":\"white\",\"minorgridcolor\":\"white\",\"startlinecolor\":\"#2a3f5f\"},\"baxis\":{\"endlinecolor\":\"#2a3f5f\",\"gridcolor\":\"white\",\"linecolor\":\"white\",\"minorgridcolor\":\"white\",\"startlinecolor\":\"#2a3f5f\"},\"type\":\"carpet\"}],\"choropleth\":[{\"colorbar\":{\"outlinewidth\":0,\"ticks\":\"\"},\"type\":\"choropleth\"}],\"contour\":[{\"colorbar\":{\"outlinewidth\":0,\"ticks\":\"\"},\"colorscale\":[[0.0,\"#0d0887\"],[0.1111111111111111,\"#46039f\"],[0.2222222222222222,\"#7201a8\"],[0.3333333333333333,\"#9c179e\"],[0.4444444444444444,\"#bd3786\"],[0.5555555555555556,\"#d8576b\"],[0.6666666666666666,\"#ed7953\"],[0.7777777777777778,\"#fb9f3a\"],[0.8888888888888888,\"#fdca26\"],[1.0,\"#f0f921\"]],\"type\":\"contour\"}],\"contourcarpet\":[{\"colorbar\":{\"outlinewidth\":0,\"ticks\":\"\"},\"type\":\"contourcarpet\"}],\"heatmap\":[{\"colorbar\":{\"outlinewidth\":0,\"ticks\":\"\"},\"colorscale\":[[0.0,\"#0d0887\"],[0.1111111111111111,\"#46039f\"],[0.2222222222222222,\"#7201a8\"],[0.3333333333333333,\"#9c179e\"],[0.4444444444444444,\"#bd3786\"],[0.5555555555555556,\"#d8576b\"],[0.6666666666666666,\"#ed7953\"],[0.7777777777777778,\"#fb9f3a\"],[0.8888888888888888,\"#fdca26\"],[1.0,\"#f0f921\"]],\"type\":\"heatmap\"}],\"heatmapgl\":[{\"colorbar\":{\"outlinewidth\":0,\"ticks\":\"\"},\"colorscale\":[[0.0,\"#0d0887\"],[0.1111111111111111,\"#46039f\"],[0.2222222222222222,\"#7201a8\"],[0.3333333333333333,\"#9c179e\"],[0.4444444444444444,\"#bd3786\"],[0.5555555555555556,\"#d8576b\"],[0.6666666666666666,\"#ed7953\"],[0.7777777777777778,\"#fb9f3a\"],[0.8888888888888888,\"#fdca26\"],[1.0,\"#f0f921\"]],\"type\":\"heatmapgl\"}],\"histogram\":[{\"marker\":{\"pattern\":{\"fillmode\":\"overlay\",\"size\":10,\"solidity\":0.2}},\"type\":\"histogram\"}],\"histogram2d\":[{\"colorbar\":{\"outlinewidth\":0,\"ticks\":\"\"},\"colorscale\":[[0.0,\"#0d0887\"],[0.1111111111111111,\"#46039f\"],[0.2222222222222222,\"#7201a8\"],[0.3333333333333333,\"#9c179e\"],[0.4444444444444444,\"#bd3786\"],[0.5555555555555556,\"#d8576b\"],[0.6666666666666666,\"#ed7953\"],[0.7777777777777778,\"#fb9f3a\"],[0.8888888888888888,\"#fdca26\"],[1.0,\"#f0f921\"]],\"type\":\"histogram2d\"}],\"histogram2dcontour\":[{\"colorbar\":{\"outlinewidth\":0,\"ticks\":\"\"},\"colorscale\":[[0.0,\"#0d0887\"],[0.1111111111111111,\"#46039f\"],[0.2222222222222222,\"#7201a8\"],[0.3333333333333333,\"#9c179e\"],[0.4444444444444444,\"#bd3786\"],[0.5555555555555556,\"#d8576b\"],[0.6666666666666666,\"#ed7953\"],[0.7777777777777778,\"#fb9f3a\"],[0.8888888888888888,\"#fdca26\"],[1.0,\"#f0f921\"]],\"type\":\"histogram2dcontour\"}],\"mesh3d\":[{\"colorbar\":{\"outlinewidth\":0,\"ticks\":\"\"},\"type\":\"mesh3d\"}],\"parcoords\":[{\"line\":{\"colorbar\":{\"outlinewidth\":0,\"ticks\":\"\"}},\"type\":\"parcoords\"}],\"pie\":[{\"automargin\":true,\"type\":\"pie\"}],\"scatter\":[{\"marker\":{\"colorbar\":{\"outlinewidth\":0,\"ticks\":\"\"}},\"type\":\"scatter\"}],\"scatter3d\":[{\"line\":{\"colorbar\":{\"outlinewidth\":0,\"ticks\":\"\"}},\"marker\":{\"colorbar\":{\"outlinewidth\":0,\"ticks\":\"\"}},\"type\":\"scatter3d\"}],\"scattercarpet\":[{\"marker\":{\"colorbar\":{\"outlinewidth\":0,\"ticks\":\"\"}},\"type\":\"scattercarpet\"}],\"scattergeo\":[{\"marker\":{\"colorbar\":{\"outlinewidth\":0,\"ticks\":\"\"}},\"type\":\"scattergeo\"}],\"scattergl\":[{\"marker\":{\"colorbar\":{\"outlinewidth\":0,\"ticks\":\"\"}},\"type\":\"scattergl\"}],\"scattermapbox\":[{\"marker\":{\"colorbar\":{\"outlinewidth\":0,\"ticks\":\"\"}},\"type\":\"scattermapbox\"}],\"scatterpolar\":[{\"marker\":{\"colorbar\":{\"outlinewidth\":0,\"ticks\":\"\"}},\"type\":\"scatterpolar\"}],\"scatterpolargl\":[{\"marker\":{\"colorbar\":{\"outlinewidth\":0,\"ticks\":\"\"}},\"type\":\"scatterpolargl\"}],\"scatterternary\":[{\"marker\":{\"colorbar\":{\"outlinewidth\":0,\"ticks\":\"\"}},\"type\":\"scatterternary\"}],\"surface\":[{\"colorbar\":{\"outlinewidth\":0,\"ticks\":\"\"},\"colorscale\":[[0.0,\"#0d0887\"],[0.1111111111111111,\"#46039f\"],[0.2222222222222222,\"#7201a8\"],[0.3333333333333333,\"#9c179e\"],[0.4444444444444444,\"#bd3786\"],[0.5555555555555556,\"#d8576b\"],[0.6666666666666666,\"#ed7953\"],[0.7777777777777778,\"#fb9f3a\"],[0.8888888888888888,\"#fdca26\"],[1.0,\"#f0f921\"]],\"type\":\"surface\"}],\"table\":[{\"cells\":{\"fill\":{\"color\":\"#EBF0F8\"},\"line\":{\"color\":\"white\"}},\"header\":{\"fill\":{\"color\":\"#C8D4E3\"},\"line\":{\"color\":\"white\"}},\"type\":\"table\"}]},\"layout\":{\"annotationdefaults\":{\"arrowcolor\":\"#2a3f5f\",\"arrowhead\":0,\"arrowwidth\":1},\"autotypenumbers\":\"strict\",\"coloraxis\":{\"colorbar\":{\"outlinewidth\":0,\"ticks\":\"\"}},\"colorscale\":{\"diverging\":[[0,\"#8e0152\"],[0.1,\"#c51b7d\"],[0.2,\"#de77ae\"],[0.3,\"#f1b6da\"],[0.4,\"#fde0ef\"],[0.5,\"#f7f7f7\"],[0.6,\"#e6f5d0\"],[0.7,\"#b8e186\"],[0.8,\"#7fbc41\"],[0.9,\"#4d9221\"],[1,\"#276419\"]],\"sequential\":[[0.0,\"#0d0887\"],[0.1111111111111111,\"#46039f\"],[0.2222222222222222,\"#7201a8\"],[0.3333333333333333,\"#9c179e\"],[0.4444444444444444,\"#bd3786\"],[0.5555555555555556,\"#d8576b\"],[0.6666666666666666,\"#ed7953\"],[0.7777777777777778,\"#fb9f3a\"],[0.8888888888888888,\"#fdca26\"],[1.0,\"#f0f921\"]],\"sequentialminus\":[[0.0,\"#0d0887\"],[0.1111111111111111,\"#46039f\"],[0.2222222222222222,\"#7201a8\"],[0.3333333333333333,\"#9c179e\"],[0.4444444444444444,\"#bd3786\"],[0.5555555555555556,\"#d8576b\"],[0.6666666666666666,\"#ed7953\"],[0.7777777777777778,\"#fb9f3a\"],[0.8888888888888888,\"#fdca26\"],[1.0,\"#f0f921\"]]},\"colorway\":[\"#636efa\",\"#EF553B\",\"#00cc96\",\"#ab63fa\",\"#FFA15A\",\"#19d3f3\",\"#FF6692\",\"#B6E880\",\"#FF97FF\",\"#FECB52\"],\"font\":{\"color\":\"#2a3f5f\"},\"geo\":{\"bgcolor\":\"white\",\"lakecolor\":\"white\",\"landcolor\":\"#E5ECF6\",\"showlakes\":true,\"showland\":true,\"subunitcolor\":\"white\"},\"hoverlabel\":{\"align\":\"left\"},\"hovermode\":\"closest\",\"mapbox\":{\"style\":\"light\"},\"paper_bgcolor\":\"white\",\"plot_bgcolor\":\"#E5ECF6\",\"polar\":{\"angularaxis\":{\"gridcolor\":\"white\",\"linecolor\":\"white\",\"ticks\":\"\"},\"bgcolor\":\"#E5ECF6\",\"radialaxis\":{\"gridcolor\":\"white\",\"linecolor\":\"white\",\"ticks\":\"\"}},\"scene\":{\"xaxis\":{\"backgroundcolor\":\"#E5ECF6\",\"gridcolor\":\"white\",\"gridwidth\":2,\"linecolor\":\"white\",\"showbackground\":true,\"ticks\":\"\",\"zerolinecolor\":\"white\"},\"yaxis\":{\"backgroundcolor\":\"#E5ECF6\",\"gridcolor\":\"white\",\"gridwidth\":2,\"linecolor\":\"white\",\"showbackground\":true,\"ticks\":\"\",\"zerolinecolor\":\"white\"},\"zaxis\":{\"backgroundcolor\":\"#E5ECF6\",\"gridcolor\":\"white\",\"gridwidth\":2,\"linecolor\":\"white\",\"showbackground\":true,\"ticks\":\"\",\"zerolinecolor\":\"white\"}},\"shapedefaults\":{\"line\":{\"color\":\"#2a3f5f\"}},\"ternary\":{\"aaxis\":{\"gridcolor\":\"white\",\"linecolor\":\"white\",\"ticks\":\"\"},\"baxis\":{\"gridcolor\":\"white\",\"linecolor\":\"white\",\"ticks\":\"\"},\"bgcolor\":\"#E5ECF6\",\"caxis\":{\"gridcolor\":\"white\",\"linecolor\":\"white\",\"ticks\":\"\"}},\"title\":{\"x\":0.05},\"xaxis\":{\"automargin\":true,\"gridcolor\":\"white\",\"linecolor\":\"white\",\"ticks\":\"\",\"title\":{\"standoff\":15},\"zerolinecolor\":\"white\",\"zerolinewidth\":2},\"yaxis\":{\"automargin\":true,\"gridcolor\":\"white\",\"linecolor\":\"white\",\"ticks\":\"\",\"title\":{\"standoff\":15},\"zerolinecolor\":\"white\",\"zerolinewidth\":2}}},\"xaxis\":{\"anchor\":\"y\",\"domain\":[0.0,1.0],\"title\":{\"text\":\"miles\"}},\"yaxis\":{\"anchor\":\"x\",\"domain\":[0.0,1.0],\"title\":{\"text\":\"calories\"},\"range\":[0,1650]},\"legend\":{\"title\":{\"text\":\"month\"},\"tracegroupgap\":0},\"title\":{\"text\":\"Miles vs. Calories [Colored by month]\\nTrednline: R^2: 0.8634 Calories = 110.93*miles + 237.18\"}},                        {\"responsive\": true}                    ).then(function(){\n",
       "                            \n",
       "var gd = document.getElementById('0bb1337a-e681-4f4c-ad08-f192c68b476e');\n",
       "var x = new MutationObserver(function (mutations, observer) {{\n",
       "        var display = window.getComputedStyle(gd).display;\n",
       "        if (!display || display === 'none') {{\n",
       "            console.log([gd, 'removed!']);\n",
       "            Plotly.purge(gd);\n",
       "            observer.disconnect();\n",
       "        }}\n",
       "}});\n",
       "\n",
       "// Listen for the removal of the full notebook cells\n",
       "var notebookContainer = gd.closest('#notebook-container');\n",
       "if (notebookContainer) {{\n",
       "    x.observe(notebookContainer, {childList: true});\n",
       "}}\n",
       "\n",
       "// Listen for the clearing of the current output cell\n",
       "var outputEl = gd.closest('.output');\n",
       "if (outputEl) {{\n",
       "    x.observe(outputEl, {childList: true});\n",
       "}}\n",
       "\n",
       "                        })                };                });            </script>        </div>"
      ]
     },
     "metadata": {},
     "output_type": "display_data"
    },
    {
     "data": {
      "application/vnd.plotly.v1+json": {
       "config": {
        "plotlyServerURL": "https://plot.ly"
       },
       "data": [
        {
         "hovertemplate": "day=Friday<br>miles=%{x}<br>calories=%{y}<extra></extra>",
         "legendgroup": "Friday",
         "marker": {
          "color": "#636efa",
          "symbol": "circle"
         },
         "mode": "markers",
         "name": "Friday",
         "orientation": "v",
         "showlegend": true,
         "type": "scatter",
         "x": [
          3.7227182960896,
          1.91121882024395,
          6.13790113658745,
          3.57788624233396,
          3.39927874879608,
          2.78205788189416,
          3.53286239904294,
          1.49286790889824,
          1.91247239571794,
          2.12564613842705,
          1.43085835163897,
          3.25147914430459,
          2.39956084172566,
          1.68078672005971,
          3.88146123130472,
          4.770094163346,
          4.48008421871056,
          2.67531918411518,
          2.55189903307512,
          3.94669870357063,
          4.51025543871143,
          6.04815434303131,
          4.16650323754961,
          2.13641263331836,
          7.7997719160753,
          2.69370271786663,
          2.06906073711222,
          3.10692500065642,
          2.87872246099597,
          7.00561515721937,
          3.28797041839698,
          1.98023097524678,
          9.15488172961112,
          1.33962477804994,
          1.99423276417736,
          4.24885427172951,
          4.45093540451652,
          1.18271120299168,
          4.05593794726139,
          3.77390625979149,
          1.27022844833434,
          4.62114411417071,
          4.10645178320774,
          1.45278121152565,
          1.05012995289292,
          4.4797453294823,
          2.97639733449023,
          1.63135661677697,
          1.49959609834733,
          4.89356732858663,
          1.0473012982691,
          3.17701484772975,
          2.92863658125028
         ],
         "xaxis": "x",
         "y": [
          692.881761274166,
          581.203987582989,
          950.258562819967,
          740.463040158474,
          942.563408961203,
          667.74798387423,
          853.013405611315,
          155.542866465948,
          349.804545181544,
          725.171269890861,
          360.299000000001,
          474.761639292269,
          684.538090706095,
          482.332966702008,
          801.419597630454,
          995.140506432119,
          837.034179979101,
          491.464858597676,
          475.292090617239,
          772.215473035205,
          708.202000000001,
          963.982000000002,
          800.056985998318,
          411.964602061503,
          1319.18843597884,
          420.1420737149,
          407.535753141229,
          669.211645380416,
          559.684,
          802.961000000001,
          734.148621888718,
          387.073956763646,
          1181.71100000001,
          208.5,
          263.256,
          838.724552739307,
          719.102934947018,
          196.908,
          667.8412218068,
          745.704492746449,
          464.531723979791,
          751.915536070656,
          804.604000000001,
          351.981159114545,
          337.185876202426,
          854.113280254247,
          472.197902696585,
          516.142227413798,
          391.25226002403,
          918.40286089611,
          257.043679849332,
          572.449999999999,
          615.976073397627
         ],
         "yaxis": "y"
        },
        {
         "hovertemplate": "day=Saturday<br>miles=%{x}<br>calories=%{y}<extra></extra>",
         "legendgroup": "Saturday",
         "marker": {
          "color": "#EF553B",
          "symbol": "circle"
         },
         "mode": "markers",
         "name": "Saturday",
         "orientation": "v",
         "showlegend": true,
         "type": "scatter",
         "x": [
          1.89697656857255,
          2.31448767523881,
          4.21207813324155,
          2.35958763075875,
          1.75416776296777,
          4.72188839635251,
          3.69976795024191,
          4.92650001152228,
          4.95315955612041,
          9.91535536436513,
          3.71458532922639,
          3.59909596327138,
          2.60089421809223,
          8.98289631285285,
          3.68442987236766,
          1.44969323949489,
          3.67333426996896,
          3.32335823408366,
          2.67553156393015,
          4.17534613850156,
          3.70011871983419,
          4.35558176186636,
          4.10190210606757,
          2.20374634562317,
          2.44393963006505,
          2.894432379704,
          8.13610812634908,
          6.85741086647214,
          10.1934268765139,
          7.34874149593573,
          3.52469636875327,
          1.35682540099157,
          7.61856665054742,
          8.19690687426542,
          8.24397674111505,
          2.4722527167102,
          2.2831612153631,
          1.37900047499638,
          2.40374169480598,
          5.09908122725748,
          2.35462369720377,
          3.18454527343861,
          3.66817497635389,
          2.26541676155191,
          3.84538550726899,
          3.81406762887154,
          4.05399509002682,
          2.84430906495892,
          7.70344248162788,
          6.30859381572157,
          2.88329461484827,
          1.56006341136723
         ],
         "xaxis": "x",
         "y": [
          536.691407956743,
          527.071428074356,
          782.377880005755,
          443.602185651039,
          519.651591038795,
          868.244999999995,
          705.983594388686,
          1014.957,
          887.250396414423,
          1500.07696169728,
          759.501,
          613.390000000001,
          553.755000000001,
          1535.93199999995,
          565.346,
          386.344337030111,
          631.833428306328,
          622.062,
          491.172,
          780.594397650478,
          692.314146984756,
          769.025828518746,
          693.977540662708,
          439.290226740476,
          556.875000745648,
          741.233639167498,
          922.402000000002,
          849.433000000001,
          1150.779,
          866.812000000002,
          491.831378111282,
          161.317,
          1019.355,
          1035.6,
          1065.797,
          436.867690406995,
          464.363136640531,
          356.646125167151,
          458.821250731451,
          649.546999999999,
          610.616276020211,
          484.869616983316,
          748.010000000001,
          435.88,
          593.449800298204,
          683.842601700457,
          728.177382409826,
          398.659386705442,
          1094.03,
          1177.927,
          693.562427499041,
          393.324374344616
         ],
         "yaxis": "y"
        },
        {
         "hovertemplate": "day=Sunday<br>miles=%{x}<br>calories=%{y}<extra></extra>",
         "legendgroup": "Sunday",
         "marker": {
          "color": "#00cc96",
          "symbol": "circle"
         },
         "mode": "markers",
         "name": "Sunday",
         "orientation": "v",
         "showlegend": true,
         "type": "scatter",
         "x": [
          1.69672284643189,
          1.95208568625946,
          6.17385569064731,
          2.90857573468183,
          1.54259908460691,
          3.51503809870662,
          2.37595121835825,
          1.93924831880721,
          2.09386661635807,
          1.84184790812584,
          2.22799593687401,
          2.73333180445284,
          3.07426339218733,
          4.62545801063221,
          10.1391572699686,
          2.27933260769196,
          3.66706679974464,
          2.27309132369842,
          2.59981241283934,
          4.30305287573727,
          2.38776700172334,
          2.63278226984012,
          4.43755432604092,
          4.13014378981128,
          3.72150093949588,
          1.04357894297672,
          9.25305349115031,
          6.9156556257296,
          6.80903627677101,
          7.17115970113234,
          2.42336730809822,
          8.72222396444854,
          7.93652008573604,
          7.21859313863329,
          7.05341557654305,
          2.05379553861734,
          1.71613783203482,
          2.5437816642019,
          4.80552497172347,
          2.6273422179704,
          4.15423157762682,
          5.39740332541934,
          1.21955999053671,
          2.61591475964101,
          3.1639929816614,
          5.28063031538382,
          1.44204913694836,
          4.48330908897347,
          2.57760037782735,
          3.04626467765329,
          4.29476670321422,
          2.03270788076118
         ],
         "xaxis": "x",
         "y": [
          276.350999999999,
          411.312179296951,
          863.036557174281,
          578.325922047423,
          346.525003615485,
          780.348999999994,
          364.538323219297,
          416.307999999999,
          607.351058404035,
          478.416038302721,
          383.644000000001,
          522.688180287642,
          479.437000000001,
          812.251000000002,
          1625.688,
          472.877156537772,
          808.075,
          566.847547364073,
          569.617245538077,
          534.94972314873,
          299.498853015245,
          415.53518421234,
          706.132459337292,
          638.679394862505,
          572.513563275512,
          386.271360832504,
          1141.341,
          989.361999999999,
          962.661,
          954.993000000001,
          520.3214667327,
          1057.698,
          1024.422,
          802.842000000001,
          927.361999999999,
          492.795688283335,
          303.336248001888,
          563.89887483285,
          715.62552746175,
          488.426083384419,
          776.645,
          1016.48180783251,
          382.493663980595,
          418.333,
          773.532260875062,
          1044.02130415731,
          222.75686927127,
          950.043650956611,
          521.041689294737,
          443.46746830442,
          786.448892651628,
          262.894625655384
         ],
         "yaxis": "y"
        },
        {
         "hovertemplate": "day=Monday<br>miles=%{x}<br>calories=%{y}<extra></extra>",
         "legendgroup": "Monday",
         "marker": {
          "color": "#ab63fa",
          "symbol": "circle"
         },
         "mode": "markers",
         "name": "Monday",
         "orientation": "v",
         "showlegend": true,
         "type": "scatter",
         "x": [
          1.50265448247135,
          6.92860194070912,
          2.58355182420388,
          2.32284943275682,
          2.27627384758519,
          2.00356853780855,
          3.5481121277546,
          2.67971639580876,
          2.56667837221265,
          1.87380294959645,
          3.07577656480184,
          6.6461977858349,
          2.6004104557134,
          2.05500524675847,
          2.47516568018223,
          2.41555389972494,
          2.66240119276147,
          2.26398504839911,
          1.22091629785606,
          2.78720413257814,
          2.32622579769725,
          4.96664389123943,
          2.60929094780083,
          3.29418180158206,
          3.36695868951072,
          10.0515968865464,
          7.78597023788843,
          9.49152221637672,
          8.37388493141669,
          1.79824548028125,
          4.92475807397587,
          6.50122232997997,
          1.71794094343502,
          1.67474768248942,
          4.23169682968375,
          4.15006157645799,
          1.97817600981042,
          1.54693894343893,
          3.07222688980633,
          2.00072430076177,
          2.66557818227384,
          2.26079711110495,
          2.60308726635712,
          1.78579695064934,
          1.04407339411259,
          1.46935247453648,
          1.33042780457446,
          2.25666045646791,
          4.86164569335249,
          4.11092442614219,
          2.02828617493829
         ],
         "xaxis": "x",
         "y": [
          270.923146762041,
          1079.65282070305,
          601.390587040521,
          562.67506105348,
          730.10611961992,
          524.527,
          727.747711180903,
          635.235,
          566.378928260796,
          489.886000000002,
          625.488000000002,
          642.310819712365,
          724.016652267443,
          492.491395118112,
          540.542126153119,
          536.63,
          634.446,
          592.330297460266,
          163.189414172474,
          515.984000000001,
          414.976062800549,
          573.321987268914,
          515.119183178456,
          654.890378397021,
          530.767227956033,
          1267.95233365905,
          935.110000000001,
          1167.15537836289,
          1100.40480626053,
          270.808095283988,
          755.1325332673,
          749.900000000001,
          327.134999999999,
          303.27,
          665.81214709,
          561.622068570364,
          540.651169798052,
          341.504,
          691.691333241874,
          265.409606491852,
          559.893230554547,
          327.947617844774,
          530.759336019406,
          424.648999999999,
          405.154963006032,
          394.634923515958,
          356.612670266377,
          422.79534904339,
          835.955310705261,
          714.43553169558,
          318.467
         ],
         "yaxis": "y"
        },
        {
         "hovertemplate": "day=Tuesday<br>miles=%{x}<br>calories=%{y}<extra></extra>",
         "legendgroup": "Tuesday",
         "marker": {
          "color": "#FFA15A",
          "symbol": "circle"
         },
         "mode": "markers",
         "name": "Tuesday",
         "orientation": "v",
         "showlegend": true,
         "type": "scatter",
         "x": [
          2.17399213702361,
          4.15937533849185,
          1.83967908633737,
          2.62577864649961,
          2.55947342604441,
          3.77172795121953,
          2.82652954394306,
          1.65805458842329,
          2.26359657460519,
          1.95813949360542,
          2.21038384965456,
          5.33128756527608,
          1.59246580096944,
          3.04972805379401,
          1.74913376973316,
          2.31764286144094,
          2.04075245650776,
          3.12278360339361,
          2.03393794752028,
          2.94017984163379,
          3.20731973635455,
          3.03990160880213,
          3.25312449039869,
          1.95703795415023,
          4.59853436217258,
          1.85440527763036,
          2.87606941015,
          3.2434050073374,
          1.74327787085083,
          5.03895330744063,
          3.41331435360436,
          1.85544499963426,
          6.02558914801752,
          1.43660776370854,
          2.76389849179254,
          3.57583583270703,
          2.42826496376655,
          3.60936679163614,
          1.99074250417002,
          2.40700390365597,
          2.14394161037632,
          2.26420197015865,
          2.01974870809551,
          3.29831027081233,
          1.33540583984468,
          4.43786913607224,
          2.10438125038387,
          5.82539869642723,
          3.16400245247995,
          4.87067328327157,
          4.23551840436992,
          1.69404267859633
         ],
         "xaxis": "x",
         "y": [
          397.484041234037,
          829.228614293344,
          492.184507807422,
          804.732100452362,
          625.839986220131,
          729.921999999999,
          740.778859978545,
          360.860429151479,
          730.352262013146,
          449.428000000002,
          590.134000000003,
          874.482543178304,
          475.901347732558,
          716.233325308533,
          411.100873846882,
          612.783437700391,
          587.592,
          440.162771034808,
          515.060243889038,
          520.177803481137,
          605.166743715387,
          415.857607961909,
          652.695816821545,
          327.140631450129,
          629.142590744154,
          359.063666340958,
          681.737000000001,
          563.163425613793,
          295.962193114774,
          894.935904716012,
          584.794000000001,
          332.339682542849,
          838.405704195417,
          178.928,
          415.45385291,
          533.654,
          481.521697444488,
          567.63,
          160.526666758125,
          517.753310123729,
          434.490769445454,
          479.530957339406,
          456.064,
          574.641638299425,
          274.974613200867,
          725.498890372028,
          515.536329733624,
          951.573000000001,
          563.320167629931,
          825.161,
          595.229999999999,
          372.944
         ],
         "yaxis": "y"
        },
        {
         "hovertemplate": "day=Wednesday<br>miles=%{x}<br>calories=%{y}<extra></extra>",
         "legendgroup": "Wednesday",
         "marker": {
          "color": "#19d3f3",
          "symbol": "circle"
         },
         "mode": "markers",
         "name": "Wednesday",
         "orientation": "v",
         "showlegend": true,
         "type": "scatter",
         "x": [
          2.8613187713283,
          1.89107087649194,
          3.50761759282414,
          2.26028392517989,
          2.35882699078795,
          1.95001944723911,
          1.98679931123577,
          3.16673590682393,
          2.32694609758516,
          1.89608454529738,
          1.87219511738554,
          3.93337338839219,
          2.38807196003928,
          2.50860739151148,
          2.40258264325035,
          2.74515591247363,
          4.79325111997681,
          3.98827009174983,
          2.92118591797054,
          3.04725789539492,
          3.16800103447259,
          2.90597878468371,
          6.16311529348146,
          3.37690587044714,
          4.99399474922013,
          2.83184869093686,
          1.69659160384954,
          1.66715960767037,
          2.97282699606303,
          2.10740121672953,
          1.70456052752075,
          4.19630273149514,
          4.47365963505051,
          8.20587697144449,
          4.12356901644297,
          4.58163668686538,
          5.19440534065112,
          4.91135236178864,
          6.3910794952137,
          4.20083506972067,
          3.6350486326847,
          4.88760038017272,
          2.26411283381552,
          4.57958969605246,
          4.19995757674169,
          3.8506157664763,
          2.3701387969595,
          2.30485439186397,
          4.67106078271619,
          2.76598241334086,
          1.1717287319885,
          5.73792989060081
         ],
         "xaxis": "x",
         "y": [
          702.107462456384,
          341.860385706658,
          847.532824984648,
          625.442690637212,
          649.155890544466,
          555.046,
          581.65610562125,
          805.50064114854,
          595.26380972606,
          489.258640602509,
          522.654,
          191.519456821696,
          618.385603417631,
          521.111279573353,
          670.561999999999,
          538.090562299611,
          616.007,
          603.014384140851,
          609.084531973524,
          548.641196518863,
          633.522193484066,
          706.426392038091,
          886.734124816746,
          600.059159172363,
          503.782181299813,
          509.083,
          238.928319188135,
          471.128079716367,
          425.090460407364,
          271.646485089344,
          362.208058756678,
          714.56631745715,
          682.317937334437,
          1065.429,
          831.212820510729,
          936.481840421691,
          975.905013194923,
          862.275,
          1024.1,
          796.453000000001,
          822.387650935921,
          1030.531,
          557.356955357338,
          845.967361700576,
          843.053486417406,
          818.168189301097,
          342.808217873511,
          283.96837800639,
          927.321832370071,
          583.287370466208,
          284.751678736759,
          1043.59054542223
         ],
         "yaxis": "y"
        },
        {
         "hovertemplate": "day=Thursday<br>miles=%{x}<br>calories=%{y}<extra></extra>",
         "legendgroup": "Thursday",
         "marker": {
          "color": "#FF6692",
          "symbol": "circle"
         },
         "mode": "markers",
         "name": "Thursday",
         "orientation": "v",
         "showlegend": true,
         "type": "scatter",
         "x": [
          2.03039214641993,
          6.6670065029303,
          2.22612587092695,
          2.69171511419138,
          3.16028157941314,
          2.66399534134504,
          4.70645776944762,
          1.88083212526027,
          2.54800516981329,
          1.98099992105229,
          2.11259840610259,
          2.86277717893406,
          2.81114006946558,
          3.7190895060851,
          2.42443550748294,
          2.1285842643241,
          5.33963920438035,
          1.37181479302187,
          1.62864792636102,
          3.04175118954253,
          2.36571704183832,
          2.32169328726451,
          7.47629183662241,
          8.81002431852695,
          6.11315445609744,
          4.98869972464642,
          2.58055934701339,
          2.43204334173389,
          3.85977092637756,
          2.58216034386374,
          4.77545069083959,
          2.69596522483297,
          1.73270093793653,
          2.38297830580469,
          2.71279968637717,
          1.20006574670264,
          1.02085968918593,
          1.12011235963576,
          1.31897537626006,
          1.18786877768916,
          2.44691040697134,
          2.49112591114865,
          1.03307314202845,
          4.55749000607362,
          1.28111717280455,
          2.62882791851514,
          4.12281937306264,
          1.76076279732018,
          2.83664394734437,
          2.42009737153147
         ],
         "xaxis": "x",
         "y": [
          519.341933890192,
          962.018,
          526.002080167403,
          599.247000000001,
          738.649016125774,
          602.153999999999,
          984.971133534053,
          272.074929699984,
          697.87973010914,
          522.488359397494,
          631.001360707732,
          717.536429880361,
          661.526402369546,
          678.925000000001,
          335.021391714572,
          536.116141402322,
          799.475909382761,
          263.783970592476,
          372.587999999999,
          550.957,
          571.292014001682,
          458.061273121753,
          1051.88220937751,
          858.383926285102,
          875.847246858773,
          689.745035431451,
          434.875116306951,
          430.582540217333,
          708.64851491065,
          381.753984479676,
          713.007000000001,
          293.052358470147,
          317.534,
          585.403224631292,
          333.441734920119,
          269.899,
          285.064507253552,
          217.564,
          373.579812993424,
          326.091,
          468.778885528117,
          651.637999999999,
          319.371,
          748.643656321222,
          413.39116800725,
          572.892361969579,
          757.837139103892,
          380.660629533794,
          651.449321263242,
          542.194505474998
         ],
         "yaxis": "y"
        }
       ],
       "layout": {
        "legend": {
         "title": {
          "text": "day"
         },
         "tracegroupgap": 0
        },
        "template": {
         "data": {
          "bar": [
           {
            "error_x": {
             "color": "#2a3f5f"
            },
            "error_y": {
             "color": "#2a3f5f"
            },
            "marker": {
             "line": {
              "color": "#E5ECF6",
              "width": 0.5
             },
             "pattern": {
              "fillmode": "overlay",
              "size": 10,
              "solidity": 0.2
             }
            },
            "type": "bar"
           }
          ],
          "barpolar": [
           {
            "marker": {
             "line": {
              "color": "#E5ECF6",
              "width": 0.5
             },
             "pattern": {
              "fillmode": "overlay",
              "size": 10,
              "solidity": 0.2
             }
            },
            "type": "barpolar"
           }
          ],
          "carpet": [
           {
            "aaxis": {
             "endlinecolor": "#2a3f5f",
             "gridcolor": "white",
             "linecolor": "white",
             "minorgridcolor": "white",
             "startlinecolor": "#2a3f5f"
            },
            "baxis": {
             "endlinecolor": "#2a3f5f",
             "gridcolor": "white",
             "linecolor": "white",
             "minorgridcolor": "white",
             "startlinecolor": "#2a3f5f"
            },
            "type": "carpet"
           }
          ],
          "choropleth": [
           {
            "colorbar": {
             "outlinewidth": 0,
             "ticks": ""
            },
            "type": "choropleth"
           }
          ],
          "contour": [
           {
            "colorbar": {
             "outlinewidth": 0,
             "ticks": ""
            },
            "colorscale": [
             [
              0,
              "#0d0887"
             ],
             [
              0.1111111111111111,
              "#46039f"
             ],
             [
              0.2222222222222222,
              "#7201a8"
             ],
             [
              0.3333333333333333,
              "#9c179e"
             ],
             [
              0.4444444444444444,
              "#bd3786"
             ],
             [
              0.5555555555555556,
              "#d8576b"
             ],
             [
              0.6666666666666666,
              "#ed7953"
             ],
             [
              0.7777777777777778,
              "#fb9f3a"
             ],
             [
              0.8888888888888888,
              "#fdca26"
             ],
             [
              1,
              "#f0f921"
             ]
            ],
            "type": "contour"
           }
          ],
          "contourcarpet": [
           {
            "colorbar": {
             "outlinewidth": 0,
             "ticks": ""
            },
            "type": "contourcarpet"
           }
          ],
          "heatmap": [
           {
            "colorbar": {
             "outlinewidth": 0,
             "ticks": ""
            },
            "colorscale": [
             [
              0,
              "#0d0887"
             ],
             [
              0.1111111111111111,
              "#46039f"
             ],
             [
              0.2222222222222222,
              "#7201a8"
             ],
             [
              0.3333333333333333,
              "#9c179e"
             ],
             [
              0.4444444444444444,
              "#bd3786"
             ],
             [
              0.5555555555555556,
              "#d8576b"
             ],
             [
              0.6666666666666666,
              "#ed7953"
             ],
             [
              0.7777777777777778,
              "#fb9f3a"
             ],
             [
              0.8888888888888888,
              "#fdca26"
             ],
             [
              1,
              "#f0f921"
             ]
            ],
            "type": "heatmap"
           }
          ],
          "heatmapgl": [
           {
            "colorbar": {
             "outlinewidth": 0,
             "ticks": ""
            },
            "colorscale": [
             [
              0,
              "#0d0887"
             ],
             [
              0.1111111111111111,
              "#46039f"
             ],
             [
              0.2222222222222222,
              "#7201a8"
             ],
             [
              0.3333333333333333,
              "#9c179e"
             ],
             [
              0.4444444444444444,
              "#bd3786"
             ],
             [
              0.5555555555555556,
              "#d8576b"
             ],
             [
              0.6666666666666666,
              "#ed7953"
             ],
             [
              0.7777777777777778,
              "#fb9f3a"
             ],
             [
              0.8888888888888888,
              "#fdca26"
             ],
             [
              1,
              "#f0f921"
             ]
            ],
            "type": "heatmapgl"
           }
          ],
          "histogram": [
           {
            "marker": {
             "pattern": {
              "fillmode": "overlay",
              "size": 10,
              "solidity": 0.2
             }
            },
            "type": "histogram"
           }
          ],
          "histogram2d": [
           {
            "colorbar": {
             "outlinewidth": 0,
             "ticks": ""
            },
            "colorscale": [
             [
              0,
              "#0d0887"
             ],
             [
              0.1111111111111111,
              "#46039f"
             ],
             [
              0.2222222222222222,
              "#7201a8"
             ],
             [
              0.3333333333333333,
              "#9c179e"
             ],
             [
              0.4444444444444444,
              "#bd3786"
             ],
             [
              0.5555555555555556,
              "#d8576b"
             ],
             [
              0.6666666666666666,
              "#ed7953"
             ],
             [
              0.7777777777777778,
              "#fb9f3a"
             ],
             [
              0.8888888888888888,
              "#fdca26"
             ],
             [
              1,
              "#f0f921"
             ]
            ],
            "type": "histogram2d"
           }
          ],
          "histogram2dcontour": [
           {
            "colorbar": {
             "outlinewidth": 0,
             "ticks": ""
            },
            "colorscale": [
             [
              0,
              "#0d0887"
             ],
             [
              0.1111111111111111,
              "#46039f"
             ],
             [
              0.2222222222222222,
              "#7201a8"
             ],
             [
              0.3333333333333333,
              "#9c179e"
             ],
             [
              0.4444444444444444,
              "#bd3786"
             ],
             [
              0.5555555555555556,
              "#d8576b"
             ],
             [
              0.6666666666666666,
              "#ed7953"
             ],
             [
              0.7777777777777778,
              "#fb9f3a"
             ],
             [
              0.8888888888888888,
              "#fdca26"
             ],
             [
              1,
              "#f0f921"
             ]
            ],
            "type": "histogram2dcontour"
           }
          ],
          "mesh3d": [
           {
            "colorbar": {
             "outlinewidth": 0,
             "ticks": ""
            },
            "type": "mesh3d"
           }
          ],
          "parcoords": [
           {
            "line": {
             "colorbar": {
              "outlinewidth": 0,
              "ticks": ""
             }
            },
            "type": "parcoords"
           }
          ],
          "pie": [
           {
            "automargin": true,
            "type": "pie"
           }
          ],
          "scatter": [
           {
            "marker": {
             "colorbar": {
              "outlinewidth": 0,
              "ticks": ""
             }
            },
            "type": "scatter"
           }
          ],
          "scatter3d": [
           {
            "line": {
             "colorbar": {
              "outlinewidth": 0,
              "ticks": ""
             }
            },
            "marker": {
             "colorbar": {
              "outlinewidth": 0,
              "ticks": ""
             }
            },
            "type": "scatter3d"
           }
          ],
          "scattercarpet": [
           {
            "marker": {
             "colorbar": {
              "outlinewidth": 0,
              "ticks": ""
             }
            },
            "type": "scattercarpet"
           }
          ],
          "scattergeo": [
           {
            "marker": {
             "colorbar": {
              "outlinewidth": 0,
              "ticks": ""
             }
            },
            "type": "scattergeo"
           }
          ],
          "scattergl": [
           {
            "marker": {
             "colorbar": {
              "outlinewidth": 0,
              "ticks": ""
             }
            },
            "type": "scattergl"
           }
          ],
          "scattermapbox": [
           {
            "marker": {
             "colorbar": {
              "outlinewidth": 0,
              "ticks": ""
             }
            },
            "type": "scattermapbox"
           }
          ],
          "scatterpolar": [
           {
            "marker": {
             "colorbar": {
              "outlinewidth": 0,
              "ticks": ""
             }
            },
            "type": "scatterpolar"
           }
          ],
          "scatterpolargl": [
           {
            "marker": {
             "colorbar": {
              "outlinewidth": 0,
              "ticks": ""
             }
            },
            "type": "scatterpolargl"
           }
          ],
          "scatterternary": [
           {
            "marker": {
             "colorbar": {
              "outlinewidth": 0,
              "ticks": ""
             }
            },
            "type": "scatterternary"
           }
          ],
          "surface": [
           {
            "colorbar": {
             "outlinewidth": 0,
             "ticks": ""
            },
            "colorscale": [
             [
              0,
              "#0d0887"
             ],
             [
              0.1111111111111111,
              "#46039f"
             ],
             [
              0.2222222222222222,
              "#7201a8"
             ],
             [
              0.3333333333333333,
              "#9c179e"
             ],
             [
              0.4444444444444444,
              "#bd3786"
             ],
             [
              0.5555555555555556,
              "#d8576b"
             ],
             [
              0.6666666666666666,
              "#ed7953"
             ],
             [
              0.7777777777777778,
              "#fb9f3a"
             ],
             [
              0.8888888888888888,
              "#fdca26"
             ],
             [
              1,
              "#f0f921"
             ]
            ],
            "type": "surface"
           }
          ],
          "table": [
           {
            "cells": {
             "fill": {
              "color": "#EBF0F8"
             },
             "line": {
              "color": "white"
             }
            },
            "header": {
             "fill": {
              "color": "#C8D4E3"
             },
             "line": {
              "color": "white"
             }
            },
            "type": "table"
           }
          ]
         },
         "layout": {
          "annotationdefaults": {
           "arrowcolor": "#2a3f5f",
           "arrowhead": 0,
           "arrowwidth": 1
          },
          "autotypenumbers": "strict",
          "coloraxis": {
           "colorbar": {
            "outlinewidth": 0,
            "ticks": ""
           }
          },
          "colorscale": {
           "diverging": [
            [
             0,
             "#8e0152"
            ],
            [
             0.1,
             "#c51b7d"
            ],
            [
             0.2,
             "#de77ae"
            ],
            [
             0.3,
             "#f1b6da"
            ],
            [
             0.4,
             "#fde0ef"
            ],
            [
             0.5,
             "#f7f7f7"
            ],
            [
             0.6,
             "#e6f5d0"
            ],
            [
             0.7,
             "#b8e186"
            ],
            [
             0.8,
             "#7fbc41"
            ],
            [
             0.9,
             "#4d9221"
            ],
            [
             1,
             "#276419"
            ]
           ],
           "sequential": [
            [
             0,
             "#0d0887"
            ],
            [
             0.1111111111111111,
             "#46039f"
            ],
            [
             0.2222222222222222,
             "#7201a8"
            ],
            [
             0.3333333333333333,
             "#9c179e"
            ],
            [
             0.4444444444444444,
             "#bd3786"
            ],
            [
             0.5555555555555556,
             "#d8576b"
            ],
            [
             0.6666666666666666,
             "#ed7953"
            ],
            [
             0.7777777777777778,
             "#fb9f3a"
            ],
            [
             0.8888888888888888,
             "#fdca26"
            ],
            [
             1,
             "#f0f921"
            ]
           ],
           "sequentialminus": [
            [
             0,
             "#0d0887"
            ],
            [
             0.1111111111111111,
             "#46039f"
            ],
            [
             0.2222222222222222,
             "#7201a8"
            ],
            [
             0.3333333333333333,
             "#9c179e"
            ],
            [
             0.4444444444444444,
             "#bd3786"
            ],
            [
             0.5555555555555556,
             "#d8576b"
            ],
            [
             0.6666666666666666,
             "#ed7953"
            ],
            [
             0.7777777777777778,
             "#fb9f3a"
            ],
            [
             0.8888888888888888,
             "#fdca26"
            ],
            [
             1,
             "#f0f921"
            ]
           ]
          },
          "colorway": [
           "#636efa",
           "#EF553B",
           "#00cc96",
           "#ab63fa",
           "#FFA15A",
           "#19d3f3",
           "#FF6692",
           "#B6E880",
           "#FF97FF",
           "#FECB52"
          ],
          "font": {
           "color": "#2a3f5f"
          },
          "geo": {
           "bgcolor": "white",
           "lakecolor": "white",
           "landcolor": "#E5ECF6",
           "showlakes": true,
           "showland": true,
           "subunitcolor": "white"
          },
          "hoverlabel": {
           "align": "left"
          },
          "hovermode": "closest",
          "mapbox": {
           "style": "light"
          },
          "paper_bgcolor": "white",
          "plot_bgcolor": "#E5ECF6",
          "polar": {
           "angularaxis": {
            "gridcolor": "white",
            "linecolor": "white",
            "ticks": ""
           },
           "bgcolor": "#E5ECF6",
           "radialaxis": {
            "gridcolor": "white",
            "linecolor": "white",
            "ticks": ""
           }
          },
          "scene": {
           "xaxis": {
            "backgroundcolor": "#E5ECF6",
            "gridcolor": "white",
            "gridwidth": 2,
            "linecolor": "white",
            "showbackground": true,
            "ticks": "",
            "zerolinecolor": "white"
           },
           "yaxis": {
            "backgroundcolor": "#E5ECF6",
            "gridcolor": "white",
            "gridwidth": 2,
            "linecolor": "white",
            "showbackground": true,
            "ticks": "",
            "zerolinecolor": "white"
           },
           "zaxis": {
            "backgroundcolor": "#E5ECF6",
            "gridcolor": "white",
            "gridwidth": 2,
            "linecolor": "white",
            "showbackground": true,
            "ticks": "",
            "zerolinecolor": "white"
           }
          },
          "shapedefaults": {
           "line": {
            "color": "#2a3f5f"
           }
          },
          "ternary": {
           "aaxis": {
            "gridcolor": "white",
            "linecolor": "white",
            "ticks": ""
           },
           "baxis": {
            "gridcolor": "white",
            "linecolor": "white",
            "ticks": ""
           },
           "bgcolor": "#E5ECF6",
           "caxis": {
            "gridcolor": "white",
            "linecolor": "white",
            "ticks": ""
           }
          },
          "title": {
           "x": 0.05
          },
          "xaxis": {
           "automargin": true,
           "gridcolor": "white",
           "linecolor": "white",
           "ticks": "",
           "title": {
            "standoff": 15
           },
           "zerolinecolor": "white",
           "zerolinewidth": 2
          },
          "yaxis": {
           "automargin": true,
           "gridcolor": "white",
           "linecolor": "white",
           "ticks": "",
           "title": {
            "standoff": 15
           },
           "zerolinecolor": "white",
           "zerolinewidth": 2
          }
         }
        },
        "title": {
         "text": "Miles vs. Calories [Colored by day]\nTrednline: R^2: 0.8634 Calories = 110.93*miles + 237.18"
        },
        "xaxis": {
         "anchor": "y",
         "domain": [
          0,
          1
         ],
         "title": {
          "text": "miles"
         }
        },
        "yaxis": {
         "anchor": "x",
         "domain": [
          0,
          1
         ],
         "range": [
          0,
          1650
         ],
         "title": {
          "text": "calories"
         }
        }
       }
      },
      "text/html": [
       "<div>                            <div id=\"4ba77ba5-e8ad-486a-8727-9ccaf05edd3a\" class=\"plotly-graph-div\" style=\"height:525px; width:100%;\"></div>            <script type=\"text/javascript\">                require([\"plotly\"], function(Plotly) {                    window.PLOTLYENV=window.PLOTLYENV || {};                                    if (document.getElementById(\"4ba77ba5-e8ad-486a-8727-9ccaf05edd3a\")) {                    Plotly.newPlot(                        \"4ba77ba5-e8ad-486a-8727-9ccaf05edd3a\",                        [{\"hovertemplate\":\"day=Friday<br>miles=%{x}<br>calories=%{y}<extra></extra>\",\"legendgroup\":\"Friday\",\"marker\":{\"color\":\"#636efa\",\"symbol\":\"circle\"},\"mode\":\"markers\",\"name\":\"Friday\",\"orientation\":\"v\",\"showlegend\":true,\"x\":[3.7227182960896,1.91121882024395,6.13790113658745,3.57788624233396,3.39927874879608,2.78205788189416,3.53286239904294,1.49286790889824,1.91247239571794,2.12564613842705,1.43085835163897,3.25147914430459,2.39956084172566,1.68078672005971,3.88146123130472,4.770094163346,4.48008421871056,2.67531918411518,2.55189903307512,3.94669870357063,4.51025543871143,6.04815434303131,4.16650323754961,2.13641263331836,7.7997719160753,2.69370271786663,2.06906073711222,3.10692500065642,2.87872246099597,7.00561515721937,3.28797041839698,1.98023097524678,9.15488172961112,1.33962477804994,1.99423276417736,4.24885427172951,4.45093540451652,1.18271120299168,4.05593794726139,3.77390625979149,1.27022844833434,4.62114411417071,4.10645178320774,1.45278121152565,1.05012995289292,4.4797453294823,2.97639733449023,1.63135661677697,1.49959609834733,4.89356732858663,1.0473012982691,3.17701484772975,2.92863658125028],\"xaxis\":\"x\",\"y\":[692.881761274166,581.203987582989,950.258562819967,740.463040158474,942.563408961203,667.74798387423,853.013405611315,155.542866465948,349.804545181544,725.171269890861,360.299000000001,474.761639292269,684.538090706095,482.332966702008,801.419597630454,995.140506432119,837.034179979101,491.464858597676,475.292090617239,772.215473035205,708.202000000001,963.982000000002,800.056985998318,411.964602061503,1319.18843597884,420.1420737149,407.535753141229,669.211645380416,559.684,802.961000000001,734.148621888718,387.073956763646,1181.71100000001,208.5,263.256,838.724552739307,719.102934947018,196.908,667.8412218068,745.704492746449,464.531723979791,751.915536070656,804.604000000001,351.981159114545,337.185876202426,854.113280254247,472.197902696585,516.142227413798,391.25226002403,918.40286089611,257.043679849332,572.449999999999,615.976073397627],\"yaxis\":\"y\",\"type\":\"scatter\"},{\"hovertemplate\":\"day=Saturday<br>miles=%{x}<br>calories=%{y}<extra></extra>\",\"legendgroup\":\"Saturday\",\"marker\":{\"color\":\"#EF553B\",\"symbol\":\"circle\"},\"mode\":\"markers\",\"name\":\"Saturday\",\"orientation\":\"v\",\"showlegend\":true,\"x\":[1.89697656857255,2.31448767523881,4.21207813324155,2.35958763075875,1.75416776296777,4.72188839635251,3.69976795024191,4.92650001152228,4.95315955612041,9.91535536436513,3.71458532922639,3.59909596327138,2.60089421809223,8.98289631285285,3.68442987236766,1.44969323949489,3.67333426996896,3.32335823408366,2.67553156393015,4.17534613850156,3.70011871983419,4.35558176186636,4.10190210606757,2.20374634562317,2.44393963006505,2.894432379704,8.13610812634908,6.85741086647214,10.1934268765139,7.34874149593573,3.52469636875327,1.35682540099157,7.61856665054742,8.19690687426542,8.24397674111505,2.4722527167102,2.2831612153631,1.37900047499638,2.40374169480598,5.09908122725748,2.35462369720377,3.18454527343861,3.66817497635389,2.26541676155191,3.84538550726899,3.81406762887154,4.05399509002682,2.84430906495892,7.70344248162788,6.30859381572157,2.88329461484827,1.56006341136723],\"xaxis\":\"x\",\"y\":[536.691407956743,527.071428074356,782.377880005755,443.602185651039,519.651591038795,868.244999999995,705.983594388686,1014.957,887.250396414423,1500.07696169728,759.501,613.390000000001,553.755000000001,1535.93199999995,565.346,386.344337030111,631.833428306328,622.062,491.172,780.594397650478,692.314146984756,769.025828518746,693.977540662708,439.290226740476,556.875000745648,741.233639167498,922.402000000002,849.433000000001,1150.779,866.812000000002,491.831378111282,161.317,1019.355,1035.6,1065.797,436.867690406995,464.363136640531,356.646125167151,458.821250731451,649.546999999999,610.616276020211,484.869616983316,748.010000000001,435.88,593.449800298204,683.842601700457,728.177382409826,398.659386705442,1094.03,1177.927,693.562427499041,393.324374344616],\"yaxis\":\"y\",\"type\":\"scatter\"},{\"hovertemplate\":\"day=Sunday<br>miles=%{x}<br>calories=%{y}<extra></extra>\",\"legendgroup\":\"Sunday\",\"marker\":{\"color\":\"#00cc96\",\"symbol\":\"circle\"},\"mode\":\"markers\",\"name\":\"Sunday\",\"orientation\":\"v\",\"showlegend\":true,\"x\":[1.69672284643189,1.95208568625946,6.17385569064731,2.90857573468183,1.54259908460691,3.51503809870662,2.37595121835825,1.93924831880721,2.09386661635807,1.84184790812584,2.22799593687401,2.73333180445284,3.07426339218733,4.62545801063221,10.1391572699686,2.27933260769196,3.66706679974464,2.27309132369842,2.59981241283934,4.30305287573727,2.38776700172334,2.63278226984012,4.43755432604092,4.13014378981128,3.72150093949588,1.04357894297672,9.25305349115031,6.9156556257296,6.80903627677101,7.17115970113234,2.42336730809822,8.72222396444854,7.93652008573604,7.21859313863329,7.05341557654305,2.05379553861734,1.71613783203482,2.5437816642019,4.80552497172347,2.6273422179704,4.15423157762682,5.39740332541934,1.21955999053671,2.61591475964101,3.1639929816614,5.28063031538382,1.44204913694836,4.48330908897347,2.57760037782735,3.04626467765329,4.29476670321422,2.03270788076118],\"xaxis\":\"x\",\"y\":[276.350999999999,411.312179296951,863.036557174281,578.325922047423,346.525003615485,780.348999999994,364.538323219297,416.307999999999,607.351058404035,478.416038302721,383.644000000001,522.688180287642,479.437000000001,812.251000000002,1625.688,472.877156537772,808.075,566.847547364073,569.617245538077,534.94972314873,299.498853015245,415.53518421234,706.132459337292,638.679394862505,572.513563275512,386.271360832504,1141.341,989.361999999999,962.661,954.993000000001,520.3214667327,1057.698,1024.422,802.842000000001,927.361999999999,492.795688283335,303.336248001888,563.89887483285,715.62552746175,488.426083384419,776.645,1016.48180783251,382.493663980595,418.333,773.532260875062,1044.02130415731,222.75686927127,950.043650956611,521.041689294737,443.46746830442,786.448892651628,262.894625655384],\"yaxis\":\"y\",\"type\":\"scatter\"},{\"hovertemplate\":\"day=Monday<br>miles=%{x}<br>calories=%{y}<extra></extra>\",\"legendgroup\":\"Monday\",\"marker\":{\"color\":\"#ab63fa\",\"symbol\":\"circle\"},\"mode\":\"markers\",\"name\":\"Monday\",\"orientation\":\"v\",\"showlegend\":true,\"x\":[1.50265448247135,6.92860194070912,2.58355182420388,2.32284943275682,2.27627384758519,2.00356853780855,3.5481121277546,2.67971639580876,2.56667837221265,1.87380294959645,3.07577656480184,6.6461977858349,2.6004104557134,2.05500524675847,2.47516568018223,2.41555389972494,2.66240119276147,2.26398504839911,1.22091629785606,2.78720413257814,2.32622579769725,4.96664389123943,2.60929094780083,3.29418180158206,3.36695868951072,10.0515968865464,7.78597023788843,9.49152221637672,8.37388493141669,1.79824548028125,4.92475807397587,6.50122232997997,1.71794094343502,1.67474768248942,4.23169682968375,4.15006157645799,1.97817600981042,1.54693894343893,3.07222688980633,2.00072430076177,2.66557818227384,2.26079711110495,2.60308726635712,1.78579695064934,1.04407339411259,1.46935247453648,1.33042780457446,2.25666045646791,4.86164569335249,4.11092442614219,2.02828617493829],\"xaxis\":\"x\",\"y\":[270.923146762041,1079.65282070305,601.390587040521,562.67506105348,730.10611961992,524.527,727.747711180903,635.235,566.378928260796,489.886000000002,625.488000000002,642.310819712365,724.016652267443,492.491395118112,540.542126153119,536.63,634.446,592.330297460266,163.189414172474,515.984000000001,414.976062800549,573.321987268914,515.119183178456,654.890378397021,530.767227956033,1267.95233365905,935.110000000001,1167.15537836289,1100.40480626053,270.808095283988,755.1325332673,749.900000000001,327.134999999999,303.27,665.81214709,561.622068570364,540.651169798052,341.504,691.691333241874,265.409606491852,559.893230554547,327.947617844774,530.759336019406,424.648999999999,405.154963006032,394.634923515958,356.612670266377,422.79534904339,835.955310705261,714.43553169558,318.467],\"yaxis\":\"y\",\"type\":\"scatter\"},{\"hovertemplate\":\"day=Tuesday<br>miles=%{x}<br>calories=%{y}<extra></extra>\",\"legendgroup\":\"Tuesday\",\"marker\":{\"color\":\"#FFA15A\",\"symbol\":\"circle\"},\"mode\":\"markers\",\"name\":\"Tuesday\",\"orientation\":\"v\",\"showlegend\":true,\"x\":[2.17399213702361,4.15937533849185,1.83967908633737,2.62577864649961,2.55947342604441,3.77172795121953,2.82652954394306,1.65805458842329,2.26359657460519,1.95813949360542,2.21038384965456,5.33128756527608,1.59246580096944,3.04972805379401,1.74913376973316,2.31764286144094,2.04075245650776,3.12278360339361,2.03393794752028,2.94017984163379,3.20731973635455,3.03990160880213,3.25312449039869,1.95703795415023,4.59853436217258,1.85440527763036,2.87606941015,3.2434050073374,1.74327787085083,5.03895330744063,3.41331435360436,1.85544499963426,6.02558914801752,1.43660776370854,2.76389849179254,3.57583583270703,2.42826496376655,3.60936679163614,1.99074250417002,2.40700390365597,2.14394161037632,2.26420197015865,2.01974870809551,3.29831027081233,1.33540583984468,4.43786913607224,2.10438125038387,5.82539869642723,3.16400245247995,4.87067328327157,4.23551840436992,1.69404267859633],\"xaxis\":\"x\",\"y\":[397.484041234037,829.228614293344,492.184507807422,804.732100452362,625.839986220131,729.921999999999,740.778859978545,360.860429151479,730.352262013146,449.428000000002,590.134000000003,874.482543178304,475.901347732558,716.233325308533,411.100873846882,612.783437700391,587.592,440.162771034808,515.060243889038,520.177803481137,605.166743715387,415.857607961909,652.695816821545,327.140631450129,629.142590744154,359.063666340958,681.737000000001,563.163425613793,295.962193114774,894.935904716012,584.794000000001,332.339682542849,838.405704195417,178.928,415.45385291,533.654,481.521697444488,567.63,160.526666758125,517.753310123729,434.490769445454,479.530957339406,456.064,574.641638299425,274.974613200867,725.498890372028,515.536329733624,951.573000000001,563.320167629931,825.161,595.229999999999,372.944],\"yaxis\":\"y\",\"type\":\"scatter\"},{\"hovertemplate\":\"day=Wednesday<br>miles=%{x}<br>calories=%{y}<extra></extra>\",\"legendgroup\":\"Wednesday\",\"marker\":{\"color\":\"#19d3f3\",\"symbol\":\"circle\"},\"mode\":\"markers\",\"name\":\"Wednesday\",\"orientation\":\"v\",\"showlegend\":true,\"x\":[2.8613187713283,1.89107087649194,3.50761759282414,2.26028392517989,2.35882699078795,1.95001944723911,1.98679931123577,3.16673590682393,2.32694609758516,1.89608454529738,1.87219511738554,3.93337338839219,2.38807196003928,2.50860739151148,2.40258264325035,2.74515591247363,4.79325111997681,3.98827009174983,2.92118591797054,3.04725789539492,3.16800103447259,2.90597878468371,6.16311529348146,3.37690587044714,4.99399474922013,2.83184869093686,1.69659160384954,1.66715960767037,2.97282699606303,2.10740121672953,1.70456052752075,4.19630273149514,4.47365963505051,8.20587697144449,4.12356901644297,4.58163668686538,5.19440534065112,4.91135236178864,6.3910794952137,4.20083506972067,3.6350486326847,4.88760038017272,2.26411283381552,4.57958969605246,4.19995757674169,3.8506157664763,2.3701387969595,2.30485439186397,4.67106078271619,2.76598241334086,1.1717287319885,5.73792989060081],\"xaxis\":\"x\",\"y\":[702.107462456384,341.860385706658,847.532824984648,625.442690637212,649.155890544466,555.046,581.65610562125,805.50064114854,595.26380972606,489.258640602509,522.654,191.519456821696,618.385603417631,521.111279573353,670.561999999999,538.090562299611,616.007,603.014384140851,609.084531973524,548.641196518863,633.522193484066,706.426392038091,886.734124816746,600.059159172363,503.782181299813,509.083,238.928319188135,471.128079716367,425.090460407364,271.646485089344,362.208058756678,714.56631745715,682.317937334437,1065.429,831.212820510729,936.481840421691,975.905013194923,862.275,1024.1,796.453000000001,822.387650935921,1030.531,557.356955357338,845.967361700576,843.053486417406,818.168189301097,342.808217873511,283.96837800639,927.321832370071,583.287370466208,284.751678736759,1043.59054542223],\"yaxis\":\"y\",\"type\":\"scatter\"},{\"hovertemplate\":\"day=Thursday<br>miles=%{x}<br>calories=%{y}<extra></extra>\",\"legendgroup\":\"Thursday\",\"marker\":{\"color\":\"#FF6692\",\"symbol\":\"circle\"},\"mode\":\"markers\",\"name\":\"Thursday\",\"orientation\":\"v\",\"showlegend\":true,\"x\":[2.03039214641993,6.6670065029303,2.22612587092695,2.69171511419138,3.16028157941314,2.66399534134504,4.70645776944762,1.88083212526027,2.54800516981329,1.98099992105229,2.11259840610259,2.86277717893406,2.81114006946558,3.7190895060851,2.42443550748294,2.1285842643241,5.33963920438035,1.37181479302187,1.62864792636102,3.04175118954253,2.36571704183832,2.32169328726451,7.47629183662241,8.81002431852695,6.11315445609744,4.98869972464642,2.58055934701339,2.43204334173389,3.85977092637756,2.58216034386374,4.77545069083959,2.69596522483297,1.73270093793653,2.38297830580469,2.71279968637717,1.20006574670264,1.02085968918593,1.12011235963576,1.31897537626006,1.18786877768916,2.44691040697134,2.49112591114865,1.03307314202845,4.55749000607362,1.28111717280455,2.62882791851514,4.12281937306264,1.76076279732018,2.83664394734437,2.42009737153147],\"xaxis\":\"x\",\"y\":[519.341933890192,962.018,526.002080167403,599.247000000001,738.649016125774,602.153999999999,984.971133534053,272.074929699984,697.87973010914,522.488359397494,631.001360707732,717.536429880361,661.526402369546,678.925000000001,335.021391714572,536.116141402322,799.475909382761,263.783970592476,372.587999999999,550.957,571.292014001682,458.061273121753,1051.88220937751,858.383926285102,875.847246858773,689.745035431451,434.875116306951,430.582540217333,708.64851491065,381.753984479676,713.007000000001,293.052358470147,317.534,585.403224631292,333.441734920119,269.899,285.064507253552,217.564,373.579812993424,326.091,468.778885528117,651.637999999999,319.371,748.643656321222,413.39116800725,572.892361969579,757.837139103892,380.660629533794,651.449321263242,542.194505474998],\"yaxis\":\"y\",\"type\":\"scatter\"}],                        {\"template\":{\"data\":{\"bar\":[{\"error_x\":{\"color\":\"#2a3f5f\"},\"error_y\":{\"color\":\"#2a3f5f\"},\"marker\":{\"line\":{\"color\":\"#E5ECF6\",\"width\":0.5},\"pattern\":{\"fillmode\":\"overlay\",\"size\":10,\"solidity\":0.2}},\"type\":\"bar\"}],\"barpolar\":[{\"marker\":{\"line\":{\"color\":\"#E5ECF6\",\"width\":0.5},\"pattern\":{\"fillmode\":\"overlay\",\"size\":10,\"solidity\":0.2}},\"type\":\"barpolar\"}],\"carpet\":[{\"aaxis\":{\"endlinecolor\":\"#2a3f5f\",\"gridcolor\":\"white\",\"linecolor\":\"white\",\"minorgridcolor\":\"white\",\"startlinecolor\":\"#2a3f5f\"},\"baxis\":{\"endlinecolor\":\"#2a3f5f\",\"gridcolor\":\"white\",\"linecolor\":\"white\",\"minorgridcolor\":\"white\",\"startlinecolor\":\"#2a3f5f\"},\"type\":\"carpet\"}],\"choropleth\":[{\"colorbar\":{\"outlinewidth\":0,\"ticks\":\"\"},\"type\":\"choropleth\"}],\"contour\":[{\"colorbar\":{\"outlinewidth\":0,\"ticks\":\"\"},\"colorscale\":[[0.0,\"#0d0887\"],[0.1111111111111111,\"#46039f\"],[0.2222222222222222,\"#7201a8\"],[0.3333333333333333,\"#9c179e\"],[0.4444444444444444,\"#bd3786\"],[0.5555555555555556,\"#d8576b\"],[0.6666666666666666,\"#ed7953\"],[0.7777777777777778,\"#fb9f3a\"],[0.8888888888888888,\"#fdca26\"],[1.0,\"#f0f921\"]],\"type\":\"contour\"}],\"contourcarpet\":[{\"colorbar\":{\"outlinewidth\":0,\"ticks\":\"\"},\"type\":\"contourcarpet\"}],\"heatmap\":[{\"colorbar\":{\"outlinewidth\":0,\"ticks\":\"\"},\"colorscale\":[[0.0,\"#0d0887\"],[0.1111111111111111,\"#46039f\"],[0.2222222222222222,\"#7201a8\"],[0.3333333333333333,\"#9c179e\"],[0.4444444444444444,\"#bd3786\"],[0.5555555555555556,\"#d8576b\"],[0.6666666666666666,\"#ed7953\"],[0.7777777777777778,\"#fb9f3a\"],[0.8888888888888888,\"#fdca26\"],[1.0,\"#f0f921\"]],\"type\":\"heatmap\"}],\"heatmapgl\":[{\"colorbar\":{\"outlinewidth\":0,\"ticks\":\"\"},\"colorscale\":[[0.0,\"#0d0887\"],[0.1111111111111111,\"#46039f\"],[0.2222222222222222,\"#7201a8\"],[0.3333333333333333,\"#9c179e\"],[0.4444444444444444,\"#bd3786\"],[0.5555555555555556,\"#d8576b\"],[0.6666666666666666,\"#ed7953\"],[0.7777777777777778,\"#fb9f3a\"],[0.8888888888888888,\"#fdca26\"],[1.0,\"#f0f921\"]],\"type\":\"heatmapgl\"}],\"histogram\":[{\"marker\":{\"pattern\":{\"fillmode\":\"overlay\",\"size\":10,\"solidity\":0.2}},\"type\":\"histogram\"}],\"histogram2d\":[{\"colorbar\":{\"outlinewidth\":0,\"ticks\":\"\"},\"colorscale\":[[0.0,\"#0d0887\"],[0.1111111111111111,\"#46039f\"],[0.2222222222222222,\"#7201a8\"],[0.3333333333333333,\"#9c179e\"],[0.4444444444444444,\"#bd3786\"],[0.5555555555555556,\"#d8576b\"],[0.6666666666666666,\"#ed7953\"],[0.7777777777777778,\"#fb9f3a\"],[0.8888888888888888,\"#fdca26\"],[1.0,\"#f0f921\"]],\"type\":\"histogram2d\"}],\"histogram2dcontour\":[{\"colorbar\":{\"outlinewidth\":0,\"ticks\":\"\"},\"colorscale\":[[0.0,\"#0d0887\"],[0.1111111111111111,\"#46039f\"],[0.2222222222222222,\"#7201a8\"],[0.3333333333333333,\"#9c179e\"],[0.4444444444444444,\"#bd3786\"],[0.5555555555555556,\"#d8576b\"],[0.6666666666666666,\"#ed7953\"],[0.7777777777777778,\"#fb9f3a\"],[0.8888888888888888,\"#fdca26\"],[1.0,\"#f0f921\"]],\"type\":\"histogram2dcontour\"}],\"mesh3d\":[{\"colorbar\":{\"outlinewidth\":0,\"ticks\":\"\"},\"type\":\"mesh3d\"}],\"parcoords\":[{\"line\":{\"colorbar\":{\"outlinewidth\":0,\"ticks\":\"\"}},\"type\":\"parcoords\"}],\"pie\":[{\"automargin\":true,\"type\":\"pie\"}],\"scatter\":[{\"marker\":{\"colorbar\":{\"outlinewidth\":0,\"ticks\":\"\"}},\"type\":\"scatter\"}],\"scatter3d\":[{\"line\":{\"colorbar\":{\"outlinewidth\":0,\"ticks\":\"\"}},\"marker\":{\"colorbar\":{\"outlinewidth\":0,\"ticks\":\"\"}},\"type\":\"scatter3d\"}],\"scattercarpet\":[{\"marker\":{\"colorbar\":{\"outlinewidth\":0,\"ticks\":\"\"}},\"type\":\"scattercarpet\"}],\"scattergeo\":[{\"marker\":{\"colorbar\":{\"outlinewidth\":0,\"ticks\":\"\"}},\"type\":\"scattergeo\"}],\"scattergl\":[{\"marker\":{\"colorbar\":{\"outlinewidth\":0,\"ticks\":\"\"}},\"type\":\"scattergl\"}],\"scattermapbox\":[{\"marker\":{\"colorbar\":{\"outlinewidth\":0,\"ticks\":\"\"}},\"type\":\"scattermapbox\"}],\"scatterpolar\":[{\"marker\":{\"colorbar\":{\"outlinewidth\":0,\"ticks\":\"\"}},\"type\":\"scatterpolar\"}],\"scatterpolargl\":[{\"marker\":{\"colorbar\":{\"outlinewidth\":0,\"ticks\":\"\"}},\"type\":\"scatterpolargl\"}],\"scatterternary\":[{\"marker\":{\"colorbar\":{\"outlinewidth\":0,\"ticks\":\"\"}},\"type\":\"scatterternary\"}],\"surface\":[{\"colorbar\":{\"outlinewidth\":0,\"ticks\":\"\"},\"colorscale\":[[0.0,\"#0d0887\"],[0.1111111111111111,\"#46039f\"],[0.2222222222222222,\"#7201a8\"],[0.3333333333333333,\"#9c179e\"],[0.4444444444444444,\"#bd3786\"],[0.5555555555555556,\"#d8576b\"],[0.6666666666666666,\"#ed7953\"],[0.7777777777777778,\"#fb9f3a\"],[0.8888888888888888,\"#fdca26\"],[1.0,\"#f0f921\"]],\"type\":\"surface\"}],\"table\":[{\"cells\":{\"fill\":{\"color\":\"#EBF0F8\"},\"line\":{\"color\":\"white\"}},\"header\":{\"fill\":{\"color\":\"#C8D4E3\"},\"line\":{\"color\":\"white\"}},\"type\":\"table\"}]},\"layout\":{\"annotationdefaults\":{\"arrowcolor\":\"#2a3f5f\",\"arrowhead\":0,\"arrowwidth\":1},\"autotypenumbers\":\"strict\",\"coloraxis\":{\"colorbar\":{\"outlinewidth\":0,\"ticks\":\"\"}},\"colorscale\":{\"diverging\":[[0,\"#8e0152\"],[0.1,\"#c51b7d\"],[0.2,\"#de77ae\"],[0.3,\"#f1b6da\"],[0.4,\"#fde0ef\"],[0.5,\"#f7f7f7\"],[0.6,\"#e6f5d0\"],[0.7,\"#b8e186\"],[0.8,\"#7fbc41\"],[0.9,\"#4d9221\"],[1,\"#276419\"]],\"sequential\":[[0.0,\"#0d0887\"],[0.1111111111111111,\"#46039f\"],[0.2222222222222222,\"#7201a8\"],[0.3333333333333333,\"#9c179e\"],[0.4444444444444444,\"#bd3786\"],[0.5555555555555556,\"#d8576b\"],[0.6666666666666666,\"#ed7953\"],[0.7777777777777778,\"#fb9f3a\"],[0.8888888888888888,\"#fdca26\"],[1.0,\"#f0f921\"]],\"sequentialminus\":[[0.0,\"#0d0887\"],[0.1111111111111111,\"#46039f\"],[0.2222222222222222,\"#7201a8\"],[0.3333333333333333,\"#9c179e\"],[0.4444444444444444,\"#bd3786\"],[0.5555555555555556,\"#d8576b\"],[0.6666666666666666,\"#ed7953\"],[0.7777777777777778,\"#fb9f3a\"],[0.8888888888888888,\"#fdca26\"],[1.0,\"#f0f921\"]]},\"colorway\":[\"#636efa\",\"#EF553B\",\"#00cc96\",\"#ab63fa\",\"#FFA15A\",\"#19d3f3\",\"#FF6692\",\"#B6E880\",\"#FF97FF\",\"#FECB52\"],\"font\":{\"color\":\"#2a3f5f\"},\"geo\":{\"bgcolor\":\"white\",\"lakecolor\":\"white\",\"landcolor\":\"#E5ECF6\",\"showlakes\":true,\"showland\":true,\"subunitcolor\":\"white\"},\"hoverlabel\":{\"align\":\"left\"},\"hovermode\":\"closest\",\"mapbox\":{\"style\":\"light\"},\"paper_bgcolor\":\"white\",\"plot_bgcolor\":\"#E5ECF6\",\"polar\":{\"angularaxis\":{\"gridcolor\":\"white\",\"linecolor\":\"white\",\"ticks\":\"\"},\"bgcolor\":\"#E5ECF6\",\"radialaxis\":{\"gridcolor\":\"white\",\"linecolor\":\"white\",\"ticks\":\"\"}},\"scene\":{\"xaxis\":{\"backgroundcolor\":\"#E5ECF6\",\"gridcolor\":\"white\",\"gridwidth\":2,\"linecolor\":\"white\",\"showbackground\":true,\"ticks\":\"\",\"zerolinecolor\":\"white\"},\"yaxis\":{\"backgroundcolor\":\"#E5ECF6\",\"gridcolor\":\"white\",\"gridwidth\":2,\"linecolor\":\"white\",\"showbackground\":true,\"ticks\":\"\",\"zerolinecolor\":\"white\"},\"zaxis\":{\"backgroundcolor\":\"#E5ECF6\",\"gridcolor\":\"white\",\"gridwidth\":2,\"linecolor\":\"white\",\"showbackground\":true,\"ticks\":\"\",\"zerolinecolor\":\"white\"}},\"shapedefaults\":{\"line\":{\"color\":\"#2a3f5f\"}},\"ternary\":{\"aaxis\":{\"gridcolor\":\"white\",\"linecolor\":\"white\",\"ticks\":\"\"},\"baxis\":{\"gridcolor\":\"white\",\"linecolor\":\"white\",\"ticks\":\"\"},\"bgcolor\":\"#E5ECF6\",\"caxis\":{\"gridcolor\":\"white\",\"linecolor\":\"white\",\"ticks\":\"\"}},\"title\":{\"x\":0.05},\"xaxis\":{\"automargin\":true,\"gridcolor\":\"white\",\"linecolor\":\"white\",\"ticks\":\"\",\"title\":{\"standoff\":15},\"zerolinecolor\":\"white\",\"zerolinewidth\":2},\"yaxis\":{\"automargin\":true,\"gridcolor\":\"white\",\"linecolor\":\"white\",\"ticks\":\"\",\"title\":{\"standoff\":15},\"zerolinecolor\":\"white\",\"zerolinewidth\":2}}},\"xaxis\":{\"anchor\":\"y\",\"domain\":[0.0,1.0],\"title\":{\"text\":\"miles\"}},\"yaxis\":{\"anchor\":\"x\",\"domain\":[0.0,1.0],\"title\":{\"text\":\"calories\"},\"range\":[0,1650]},\"legend\":{\"title\":{\"text\":\"day\"},\"tracegroupgap\":0},\"title\":{\"text\":\"Miles vs. Calories [Colored by day]\\nTrednline: R^2: 0.8634 Calories = 110.93*miles + 237.18\"}},                        {\"responsive\": true}                    ).then(function(){\n",
       "                            \n",
       "var gd = document.getElementById('4ba77ba5-e8ad-486a-8727-9ccaf05edd3a');\n",
       "var x = new MutationObserver(function (mutations, observer) {{\n",
       "        var display = window.getComputedStyle(gd).display;\n",
       "        if (!display || display === 'none') {{\n",
       "            console.log([gd, 'removed!']);\n",
       "            Plotly.purge(gd);\n",
       "            observer.disconnect();\n",
       "        }}\n",
       "}});\n",
       "\n",
       "// Listen for the removal of the full notebook cells\n",
       "var notebookContainer = gd.closest('#notebook-container');\n",
       "if (notebookContainer) {{\n",
       "    x.observe(notebookContainer, {childList: true});\n",
       "}}\n",
       "\n",
       "// Listen for the clearing of the current output cell\n",
       "var outputEl = gd.closest('.output');\n",
       "if (outputEl) {{\n",
       "    x.observe(outputEl, {childList: true});\n",
       "}}\n",
       "\n",
       "                        })                };                });            </script>        </div>"
      ]
     },
     "metadata": {},
     "output_type": "display_data"
    },
    {
     "data": {
      "application/vnd.plotly.v1+json": {
       "config": {
        "plotlyServerURL": "https://plot.ly"
       },
       "data": [
        {
         "hovertemplate": "miles=%{x}<br>calories=%{marker.color}<extra></extra>",
         "legendgroup": "",
         "marker": {
          "color": [
           692.881761274166,
           536.691407956743,
           276.350999999999,
           270.923146762041,
           397.484041234037,
           702.107462456384,
           519.341933890192,
           581.203987582989,
           527.071428074356,
           411.312179296951,
           1079.65282070305,
           829.228614293344,
           341.860385706658,
           962.018,
           950.258562819967,
           782.377880005755,
           863.036557174281,
           601.390587040521,
           492.184507807422,
           847.532824984648,
           526.002080167403,
           740.463040158474,
           443.602185651039,
           578.325922047423,
           562.67506105348,
           804.732100452362,
           625.442690637212,
           599.247000000001,
           942.563408961203,
           519.651591038795,
           346.525003615485,
           730.10611961992,
           625.839986220131,
           649.155890544466,
           738.649016125774,
           667.74798387423,
           868.244999999995,
           780.348999999994,
           524.527,
           729.921999999999,
           555.046,
           602.153999999999,
           853.013405611315,
           705.983594388686,
           364.538323219297,
           727.747711180903,
           740.778859978545,
           581.65610562125,
           984.971133534053,
           155.542866465948,
           1014.957,
           416.307999999999,
           635.235,
           360.860429151479,
           805.50064114854,
           272.074929699984,
           349.804545181544,
           887.250396414423,
           607.351058404035,
           566.378928260796,
           730.352262013146,
           595.26380972606,
           697.87973010914,
           725.171269890861,
           1500.07696169728,
           478.416038302721,
           489.886000000002,
           449.428000000002,
           489.258640602509,
           522.488359397494,
           360.299000000001,
           759.501,
           383.644000000001,
           625.488000000002,
           590.134000000003,
           522.654,
           631.001360707732,
           474.761639292269,
           613.390000000001,
           522.688180287642,
           642.310819712365,
           874.482543178304,
           191.519456821696,
           684.538090706095,
           553.755000000001,
           479.437000000001,
           724.016652267443,
           475.901347732558,
           618.385603417631,
           717.536429880361,
           482.332966702008,
           1535.93199999995,
           812.251000000002,
           492.491395118112,
           716.233325308533,
           521.111279573353,
           661.526402369546,
           801.419597630454,
           565.346,
           1625.688,
           540.542126153119,
           411.100873846882,
           670.561999999999,
           678.925000000001,
           995.140506432119,
           386.344337030111,
           472.877156537772,
           536.63,
           612.783437700391,
           538.090562299611,
           335.021391714572,
           837.034179979101,
           631.833428306328,
           808.075,
           634.446,
           587.592,
           616.007,
           536.116141402322,
           491.464858597676,
           622.062,
           566.847547364073,
           592.330297460266,
           440.162771034808,
           603.014384140851,
           799.475909382761,
           475.292090617239,
           491.172,
           569.617245538077,
           163.189414172474,
           515.060243889038,
           609.084531973524,
           263.783970592476,
           772.215473035205,
           780.594397650478,
           534.94972314873,
           515.984000000001,
           520.177803481137,
           548.641196518863,
           372.587999999999,
           708.202000000001,
           692.314146984756,
           299.498853015245,
           414.976062800549,
           605.166743715387,
           633.522193484066,
           550.957,
           963.982000000002,
           769.025828518746,
           415.53518421234,
           573.321987268914,
           415.857607961909,
           706.426392038091,
           571.292014001682,
           800.056985998318,
           693.977540662708,
           706.132459337292,
           515.119183178456,
           652.695816821545,
           886.734124816746,
           458.061273121753,
           411.964602061503,
           439.290226740476,
           638.679394862505,
           654.890378397021,
           327.140631450129,
           600.059159172363,
           1051.88220937751,
           1319.18843597884,
           556.875000745648,
           572.513563275512,
           530.767227956033,
           629.142590744154,
           503.782181299813,
           858.383926285102,
           420.1420737149,
           741.233639167498,
           386.271360832504,
           1267.95233365905,
           359.063666340958,
           509.083,
           875.847246858773,
           407.535753141229,
           922.402000000002,
           1141.341,
           935.110000000001,
           681.737000000001,
           238.928319188135,
           689.745035431451,
           669.211645380416,
           849.433000000001,
           989.361999999999,
           1167.15537836289,
           563.163425613793,
           471.128079716367,
           434.875116306951,
           559.684,
           1150.779,
           962.661,
           1100.40480626053,
           295.962193114774,
           425.090460407364,
           430.582540217333,
           802.961000000001,
           866.812000000002,
           954.993000000001,
           270.808095283988,
           894.935904716012,
           271.646485089344,
           708.64851491065,
           734.148621888718,
           491.831378111282,
           520.3214667327,
           755.1325332673,
           584.794000000001,
           362.208058756678,
           381.753984479676,
           387.073956763646,
           161.317,
           1057.698,
           749.900000000001,
           332.339682542849,
           714.56631745715,
           713.007000000001,
           1181.71100000001,
           1019.355,
           1024.422,
           327.134999999999,
           838.405704195417,
           682.317937334437,
           293.052358470147,
           208.5,
           1035.6,
           802.842000000001,
           303.27,
           178.928,
           1065.429,
           317.534,
           263.256,
           1065.797,
           927.361999999999,
           665.81214709,
           415.45385291,
           831.212820510729,
           838.724552739307,
           436.867690406995,
           492.795688283335,
           561.622068570364,
           533.654,
           936.481840421691,
           585.403224631292,
           719.102934947018,
           464.363136640531,
           303.336248001888,
           540.651169798052,
           481.521697444488,
           975.905013194923,
           333.441734920119,
           196.908,
           356.646125167151,
           563.89887483285,
           341.504,
           567.63,
           862.275,
           269.899,
           667.8412218068,
           458.821250731451,
           715.62552746175,
           691.691333241874,
           160.526666758125,
           1024.1,
           285.064507253552,
           745.704492746449,
           649.546999999999,
           488.426083384419,
           265.409606491852,
           517.753310123729,
           796.453000000001,
           217.564,
           464.531723979791,
           610.616276020211,
           776.645,
           559.893230554547,
           434.490769445454,
           822.387650935921,
           373.579812993424,
           751.915536070656,
           484.869616983316,
           1016.48180783251,
           327.947617844774,
           479.530957339406,
           1030.531,
           326.091,
           804.604000000001,
           748.010000000001,
           382.493663980595,
           530.759336019406,
           456.064,
           557.356955357338,
           468.778885528117,
           351.981159114545,
           435.88,
           418.333,
           424.648999999999,
           574.641638299425,
           845.967361700576,
           651.637999999999,
           337.185876202426,
           593.449800298204,
           773.532260875062,
           405.154963006032,
           274.974613200867,
           843.053486417406,
           319.371,
           854.113280254247,
           683.842601700457,
           1044.02130415731,
           394.634923515958,
           725.498890372028,
           818.168189301097,
           748.643656321222,
           472.197902696585,
           728.177382409826,
           222.75686927127,
           356.612670266377,
           515.536329733624,
           342.808217873511,
           413.39116800725,
           516.142227413798,
           398.659386705442,
           950.043650956611,
           422.79534904339,
           951.573000000001,
           283.96837800639,
           572.892361969579,
           391.25226002403,
           1094.03,
           521.041689294737,
           835.955310705261,
           563.320167629931,
           927.321832370071,
           757.837139103892,
           918.40286089611,
           1177.927,
           443.46746830442,
           714.43553169558,
           825.161,
           583.287370466208,
           380.660629533794,
           257.043679849332,
           693.562427499041,
           786.448892651628,
           318.467,
           595.229999999999,
           284.751678736759,
           651.449321263242,
           572.449999999999,
           393.324374344616,
           262.894625655384,
           372.944,
           1043.59054542223,
           542.194505474998,
           615.976073397627
          ],
          "coloraxis": "coloraxis",
          "symbol": "circle"
         },
         "mode": "markers",
         "name": "",
         "orientation": "v",
         "showlegend": false,
         "type": "scatter",
         "x": [
          3.7227182960896,
          1.89697656857255,
          1.69672284643189,
          1.50265448247135,
          2.17399213702361,
          2.8613187713283,
          2.03039214641993,
          1.91121882024395,
          2.31448767523881,
          1.95208568625946,
          6.92860194070912,
          4.15937533849185,
          1.89107087649194,
          6.6670065029303,
          6.13790113658745,
          4.21207813324155,
          6.17385569064731,
          2.58355182420388,
          1.83967908633737,
          3.50761759282414,
          2.22612587092695,
          3.57788624233396,
          2.35958763075875,
          2.90857573468183,
          2.32284943275682,
          2.62577864649961,
          2.26028392517989,
          2.69171511419138,
          3.39927874879608,
          1.75416776296777,
          1.54259908460691,
          2.27627384758519,
          2.55947342604441,
          2.35882699078795,
          3.16028157941314,
          2.78205788189416,
          4.72188839635251,
          3.51503809870662,
          2.00356853780855,
          3.77172795121953,
          1.95001944723911,
          2.66399534134504,
          3.53286239904294,
          3.69976795024191,
          2.37595121835825,
          3.5481121277546,
          2.82652954394306,
          1.98679931123577,
          4.70645776944762,
          1.49286790889824,
          4.92650001152228,
          1.93924831880721,
          2.67971639580876,
          1.65805458842329,
          3.16673590682393,
          1.88083212526027,
          1.91247239571794,
          4.95315955612041,
          2.09386661635807,
          2.56667837221265,
          2.26359657460519,
          2.32694609758516,
          2.54800516981329,
          2.12564613842705,
          9.91535536436513,
          1.84184790812584,
          1.87380294959645,
          1.95813949360542,
          1.89608454529738,
          1.98099992105229,
          1.43085835163897,
          3.71458532922639,
          2.22799593687401,
          3.07577656480184,
          2.21038384965456,
          1.87219511738554,
          2.11259840610259,
          3.25147914430459,
          3.59909596327138,
          2.73333180445284,
          6.6461977858349,
          5.33128756527608,
          3.93337338839219,
          2.39956084172566,
          2.60089421809223,
          3.07426339218733,
          2.6004104557134,
          1.59246580096944,
          2.38807196003928,
          2.86277717893406,
          1.68078672005971,
          8.98289631285285,
          4.62545801063221,
          2.05500524675847,
          3.04972805379401,
          2.50860739151148,
          2.81114006946558,
          3.88146123130472,
          3.68442987236766,
          10.1391572699686,
          2.47516568018223,
          1.74913376973316,
          2.40258264325035,
          3.7190895060851,
          4.770094163346,
          1.44969323949489,
          2.27933260769196,
          2.41555389972494,
          2.31764286144094,
          2.74515591247363,
          2.42443550748294,
          4.48008421871056,
          3.67333426996896,
          3.66706679974464,
          2.66240119276147,
          2.04075245650776,
          4.79325111997681,
          2.1285842643241,
          2.67531918411518,
          3.32335823408366,
          2.27309132369842,
          2.26398504839911,
          3.12278360339361,
          3.98827009174983,
          5.33963920438035,
          2.55189903307512,
          2.67553156393015,
          2.59981241283934,
          1.22091629785606,
          2.03393794752028,
          2.92118591797054,
          1.37181479302187,
          3.94669870357063,
          4.17534613850156,
          4.30305287573727,
          2.78720413257814,
          2.94017984163379,
          3.04725789539492,
          1.62864792636102,
          4.51025543871143,
          3.70011871983419,
          2.38776700172334,
          2.32622579769725,
          3.20731973635455,
          3.16800103447259,
          3.04175118954253,
          6.04815434303131,
          4.35558176186636,
          2.63278226984012,
          4.96664389123943,
          3.03990160880213,
          2.90597878468371,
          2.36571704183832,
          4.16650323754961,
          4.10190210606757,
          4.43755432604092,
          2.60929094780083,
          3.25312449039869,
          6.16311529348146,
          2.32169328726451,
          2.13641263331836,
          2.20374634562317,
          4.13014378981128,
          3.29418180158206,
          1.95703795415023,
          3.37690587044714,
          7.47629183662241,
          7.7997719160753,
          2.44393963006505,
          3.72150093949588,
          3.36695868951072,
          4.59853436217258,
          4.99399474922013,
          8.81002431852695,
          2.69370271786663,
          2.894432379704,
          1.04357894297672,
          10.0515968865464,
          1.85440527763036,
          2.83184869093686,
          6.11315445609744,
          2.06906073711222,
          8.13610812634908,
          9.25305349115031,
          7.78597023788843,
          2.87606941015,
          1.69659160384954,
          4.98869972464642,
          3.10692500065642,
          6.85741086647214,
          6.9156556257296,
          9.49152221637672,
          3.2434050073374,
          1.66715960767037,
          2.58055934701339,
          2.87872246099597,
          10.1934268765139,
          6.80903627677101,
          8.37388493141669,
          1.74327787085083,
          2.97282699606303,
          2.43204334173389,
          7.00561515721937,
          7.34874149593573,
          7.17115970113234,
          1.79824548028125,
          5.03895330744063,
          2.10740121672953,
          3.85977092637756,
          3.28797041839698,
          3.52469636875327,
          2.42336730809822,
          4.92475807397587,
          3.41331435360436,
          1.70456052752075,
          2.58216034386374,
          1.98023097524678,
          1.35682540099157,
          8.72222396444854,
          6.50122232997997,
          1.85544499963426,
          4.19630273149514,
          4.77545069083959,
          9.15488172961112,
          7.61856665054742,
          7.93652008573604,
          1.71794094343502,
          6.02558914801752,
          4.47365963505051,
          2.69596522483297,
          1.33962477804994,
          8.19690687426542,
          7.21859313863329,
          1.67474768248942,
          1.43660776370854,
          8.20587697144449,
          1.73270093793653,
          1.99423276417736,
          8.24397674111505,
          7.05341557654305,
          4.23169682968375,
          2.76389849179254,
          4.12356901644297,
          4.24885427172951,
          2.4722527167102,
          2.05379553861734,
          4.15006157645799,
          3.57583583270703,
          4.58163668686538,
          2.38297830580469,
          4.45093540451652,
          2.2831612153631,
          1.71613783203482,
          1.97817600981042,
          2.42826496376655,
          5.19440534065112,
          2.71279968637717,
          1.18271120299168,
          1.37900047499638,
          2.5437816642019,
          1.54693894343893,
          3.60936679163614,
          4.91135236178864,
          1.20006574670264,
          4.05593794726139,
          2.40374169480598,
          4.80552497172347,
          3.07222688980633,
          1.99074250417002,
          6.3910794952137,
          1.02085968918593,
          3.77390625979149,
          5.09908122725748,
          2.6273422179704,
          2.00072430076177,
          2.40700390365597,
          4.20083506972067,
          1.12011235963576,
          1.27022844833434,
          2.35462369720377,
          4.15423157762682,
          2.66557818227384,
          2.14394161037632,
          3.6350486326847,
          1.31897537626006,
          4.62114411417071,
          3.18454527343861,
          5.39740332541934,
          2.26079711110495,
          2.26420197015865,
          4.88760038017272,
          1.18786877768916,
          4.10645178320774,
          3.66817497635389,
          1.21955999053671,
          2.60308726635712,
          2.01974870809551,
          2.26411283381552,
          2.44691040697134,
          1.45278121152565,
          2.26541676155191,
          2.61591475964101,
          1.78579695064934,
          3.29831027081233,
          4.57958969605246,
          2.49112591114865,
          1.05012995289292,
          3.84538550726899,
          3.1639929816614,
          1.04407339411259,
          1.33540583984468,
          4.19995757674169,
          1.03307314202845,
          4.4797453294823,
          3.81406762887154,
          5.28063031538382,
          1.46935247453648,
          4.43786913607224,
          3.8506157664763,
          4.55749000607362,
          2.97639733449023,
          4.05399509002682,
          1.44204913694836,
          1.33042780457446,
          2.10438125038387,
          2.3701387969595,
          1.28111717280455,
          1.63135661677697,
          2.84430906495892,
          4.48330908897347,
          2.25666045646791,
          5.82539869642723,
          2.30485439186397,
          2.62882791851514,
          1.49959609834733,
          7.70344248162788,
          2.57760037782735,
          4.86164569335249,
          3.16400245247995,
          4.67106078271619,
          4.12281937306264,
          4.89356732858663,
          6.30859381572157,
          3.04626467765329,
          4.11092442614219,
          4.87067328327157,
          2.76598241334086,
          1.76076279732018,
          1.0473012982691,
          2.88329461484827,
          4.29476670321422,
          2.02828617493829,
          4.23551840436992,
          1.1717287319885,
          2.83664394734437,
          3.17701484772975,
          1.56006341136723,
          2.03270788076118,
          1.69404267859633,
          5.73792989060081,
          2.42009737153147,
          2.92863658125028
         ],
         "xaxis": "x",
         "y": [
          692.881761274166,
          536.691407956743,
          276.350999999999,
          270.923146762041,
          397.484041234037,
          702.107462456384,
          519.341933890192,
          581.203987582989,
          527.071428074356,
          411.312179296951,
          1079.65282070305,
          829.228614293344,
          341.860385706658,
          962.018,
          950.258562819967,
          782.377880005755,
          863.036557174281,
          601.390587040521,
          492.184507807422,
          847.532824984648,
          526.002080167403,
          740.463040158474,
          443.602185651039,
          578.325922047423,
          562.67506105348,
          804.732100452362,
          625.442690637212,
          599.247000000001,
          942.563408961203,
          519.651591038795,
          346.525003615485,
          730.10611961992,
          625.839986220131,
          649.155890544466,
          738.649016125774,
          667.74798387423,
          868.244999999995,
          780.348999999994,
          524.527,
          729.921999999999,
          555.046,
          602.153999999999,
          853.013405611315,
          705.983594388686,
          364.538323219297,
          727.747711180903,
          740.778859978545,
          581.65610562125,
          984.971133534053,
          155.542866465948,
          1014.957,
          416.307999999999,
          635.235,
          360.860429151479,
          805.50064114854,
          272.074929699984,
          349.804545181544,
          887.250396414423,
          607.351058404035,
          566.378928260796,
          730.352262013146,
          595.26380972606,
          697.87973010914,
          725.171269890861,
          1500.07696169728,
          478.416038302721,
          489.886000000002,
          449.428000000002,
          489.258640602509,
          522.488359397494,
          360.299000000001,
          759.501,
          383.644000000001,
          625.488000000002,
          590.134000000003,
          522.654,
          631.001360707732,
          474.761639292269,
          613.390000000001,
          522.688180287642,
          642.310819712365,
          874.482543178304,
          191.519456821696,
          684.538090706095,
          553.755000000001,
          479.437000000001,
          724.016652267443,
          475.901347732558,
          618.385603417631,
          717.536429880361,
          482.332966702008,
          1535.93199999995,
          812.251000000002,
          492.491395118112,
          716.233325308533,
          521.111279573353,
          661.526402369546,
          801.419597630454,
          565.346,
          1625.688,
          540.542126153119,
          411.100873846882,
          670.561999999999,
          678.925000000001,
          995.140506432119,
          386.344337030111,
          472.877156537772,
          536.63,
          612.783437700391,
          538.090562299611,
          335.021391714572,
          837.034179979101,
          631.833428306328,
          808.075,
          634.446,
          587.592,
          616.007,
          536.116141402322,
          491.464858597676,
          622.062,
          566.847547364073,
          592.330297460266,
          440.162771034808,
          603.014384140851,
          799.475909382761,
          475.292090617239,
          491.172,
          569.617245538077,
          163.189414172474,
          515.060243889038,
          609.084531973524,
          263.783970592476,
          772.215473035205,
          780.594397650478,
          534.94972314873,
          515.984000000001,
          520.177803481137,
          548.641196518863,
          372.587999999999,
          708.202000000001,
          692.314146984756,
          299.498853015245,
          414.976062800549,
          605.166743715387,
          633.522193484066,
          550.957,
          963.982000000002,
          769.025828518746,
          415.53518421234,
          573.321987268914,
          415.857607961909,
          706.426392038091,
          571.292014001682,
          800.056985998318,
          693.977540662708,
          706.132459337292,
          515.119183178456,
          652.695816821545,
          886.734124816746,
          458.061273121753,
          411.964602061503,
          439.290226740476,
          638.679394862505,
          654.890378397021,
          327.140631450129,
          600.059159172363,
          1051.88220937751,
          1319.18843597884,
          556.875000745648,
          572.513563275512,
          530.767227956033,
          629.142590744154,
          503.782181299813,
          858.383926285102,
          420.1420737149,
          741.233639167498,
          386.271360832504,
          1267.95233365905,
          359.063666340958,
          509.083,
          875.847246858773,
          407.535753141229,
          922.402000000002,
          1141.341,
          935.110000000001,
          681.737000000001,
          238.928319188135,
          689.745035431451,
          669.211645380416,
          849.433000000001,
          989.361999999999,
          1167.15537836289,
          563.163425613793,
          471.128079716367,
          434.875116306951,
          559.684,
          1150.779,
          962.661,
          1100.40480626053,
          295.962193114774,
          425.090460407364,
          430.582540217333,
          802.961000000001,
          866.812000000002,
          954.993000000001,
          270.808095283988,
          894.935904716012,
          271.646485089344,
          708.64851491065,
          734.148621888718,
          491.831378111282,
          520.3214667327,
          755.1325332673,
          584.794000000001,
          362.208058756678,
          381.753984479676,
          387.073956763646,
          161.317,
          1057.698,
          749.900000000001,
          332.339682542849,
          714.56631745715,
          713.007000000001,
          1181.71100000001,
          1019.355,
          1024.422,
          327.134999999999,
          838.405704195417,
          682.317937334437,
          293.052358470147,
          208.5,
          1035.6,
          802.842000000001,
          303.27,
          178.928,
          1065.429,
          317.534,
          263.256,
          1065.797,
          927.361999999999,
          665.81214709,
          415.45385291,
          831.212820510729,
          838.724552739307,
          436.867690406995,
          492.795688283335,
          561.622068570364,
          533.654,
          936.481840421691,
          585.403224631292,
          719.102934947018,
          464.363136640531,
          303.336248001888,
          540.651169798052,
          481.521697444488,
          975.905013194923,
          333.441734920119,
          196.908,
          356.646125167151,
          563.89887483285,
          341.504,
          567.63,
          862.275,
          269.899,
          667.8412218068,
          458.821250731451,
          715.62552746175,
          691.691333241874,
          160.526666758125,
          1024.1,
          285.064507253552,
          745.704492746449,
          649.546999999999,
          488.426083384419,
          265.409606491852,
          517.753310123729,
          796.453000000001,
          217.564,
          464.531723979791,
          610.616276020211,
          776.645,
          559.893230554547,
          434.490769445454,
          822.387650935921,
          373.579812993424,
          751.915536070656,
          484.869616983316,
          1016.48180783251,
          327.947617844774,
          479.530957339406,
          1030.531,
          326.091,
          804.604000000001,
          748.010000000001,
          382.493663980595,
          530.759336019406,
          456.064,
          557.356955357338,
          468.778885528117,
          351.981159114545,
          435.88,
          418.333,
          424.648999999999,
          574.641638299425,
          845.967361700576,
          651.637999999999,
          337.185876202426,
          593.449800298204,
          773.532260875062,
          405.154963006032,
          274.974613200867,
          843.053486417406,
          319.371,
          854.113280254247,
          683.842601700457,
          1044.02130415731,
          394.634923515958,
          725.498890372028,
          818.168189301097,
          748.643656321222,
          472.197902696585,
          728.177382409826,
          222.75686927127,
          356.612670266377,
          515.536329733624,
          342.808217873511,
          413.39116800725,
          516.142227413798,
          398.659386705442,
          950.043650956611,
          422.79534904339,
          951.573000000001,
          283.96837800639,
          572.892361969579,
          391.25226002403,
          1094.03,
          521.041689294737,
          835.955310705261,
          563.320167629931,
          927.321832370071,
          757.837139103892,
          918.40286089611,
          1177.927,
          443.46746830442,
          714.43553169558,
          825.161,
          583.287370466208,
          380.660629533794,
          257.043679849332,
          693.562427499041,
          786.448892651628,
          318.467,
          595.229999999999,
          284.751678736759,
          651.449321263242,
          572.449999999999,
          393.324374344616,
          262.894625655384,
          372.944,
          1043.59054542223,
          542.194505474998,
          615.976073397627
         ],
         "yaxis": "y"
        }
       ],
       "layout": {
        "coloraxis": {
         "colorbar": {
          "title": {
           "text": "calories"
          }
         },
         "colorscale": [
          [
           0,
           "#0d0887"
          ],
          [
           0.1111111111111111,
           "#46039f"
          ],
          [
           0.2222222222222222,
           "#7201a8"
          ],
          [
           0.3333333333333333,
           "#9c179e"
          ],
          [
           0.4444444444444444,
           "#bd3786"
          ],
          [
           0.5555555555555556,
           "#d8576b"
          ],
          [
           0.6666666666666666,
           "#ed7953"
          ],
          [
           0.7777777777777778,
           "#fb9f3a"
          ],
          [
           0.8888888888888888,
           "#fdca26"
          ],
          [
           1,
           "#f0f921"
          ]
         ]
        },
        "legend": {
         "tracegroupgap": 0
        },
        "template": {
         "data": {
          "bar": [
           {
            "error_x": {
             "color": "#2a3f5f"
            },
            "error_y": {
             "color": "#2a3f5f"
            },
            "marker": {
             "line": {
              "color": "#E5ECF6",
              "width": 0.5
             },
             "pattern": {
              "fillmode": "overlay",
              "size": 10,
              "solidity": 0.2
             }
            },
            "type": "bar"
           }
          ],
          "barpolar": [
           {
            "marker": {
             "line": {
              "color": "#E5ECF6",
              "width": 0.5
             },
             "pattern": {
              "fillmode": "overlay",
              "size": 10,
              "solidity": 0.2
             }
            },
            "type": "barpolar"
           }
          ],
          "carpet": [
           {
            "aaxis": {
             "endlinecolor": "#2a3f5f",
             "gridcolor": "white",
             "linecolor": "white",
             "minorgridcolor": "white",
             "startlinecolor": "#2a3f5f"
            },
            "baxis": {
             "endlinecolor": "#2a3f5f",
             "gridcolor": "white",
             "linecolor": "white",
             "minorgridcolor": "white",
             "startlinecolor": "#2a3f5f"
            },
            "type": "carpet"
           }
          ],
          "choropleth": [
           {
            "colorbar": {
             "outlinewidth": 0,
             "ticks": ""
            },
            "type": "choropleth"
           }
          ],
          "contour": [
           {
            "colorbar": {
             "outlinewidth": 0,
             "ticks": ""
            },
            "colorscale": [
             [
              0,
              "#0d0887"
             ],
             [
              0.1111111111111111,
              "#46039f"
             ],
             [
              0.2222222222222222,
              "#7201a8"
             ],
             [
              0.3333333333333333,
              "#9c179e"
             ],
             [
              0.4444444444444444,
              "#bd3786"
             ],
             [
              0.5555555555555556,
              "#d8576b"
             ],
             [
              0.6666666666666666,
              "#ed7953"
             ],
             [
              0.7777777777777778,
              "#fb9f3a"
             ],
             [
              0.8888888888888888,
              "#fdca26"
             ],
             [
              1,
              "#f0f921"
             ]
            ],
            "type": "contour"
           }
          ],
          "contourcarpet": [
           {
            "colorbar": {
             "outlinewidth": 0,
             "ticks": ""
            },
            "type": "contourcarpet"
           }
          ],
          "heatmap": [
           {
            "colorbar": {
             "outlinewidth": 0,
             "ticks": ""
            },
            "colorscale": [
             [
              0,
              "#0d0887"
             ],
             [
              0.1111111111111111,
              "#46039f"
             ],
             [
              0.2222222222222222,
              "#7201a8"
             ],
             [
              0.3333333333333333,
              "#9c179e"
             ],
             [
              0.4444444444444444,
              "#bd3786"
             ],
             [
              0.5555555555555556,
              "#d8576b"
             ],
             [
              0.6666666666666666,
              "#ed7953"
             ],
             [
              0.7777777777777778,
              "#fb9f3a"
             ],
             [
              0.8888888888888888,
              "#fdca26"
             ],
             [
              1,
              "#f0f921"
             ]
            ],
            "type": "heatmap"
           }
          ],
          "heatmapgl": [
           {
            "colorbar": {
             "outlinewidth": 0,
             "ticks": ""
            },
            "colorscale": [
             [
              0,
              "#0d0887"
             ],
             [
              0.1111111111111111,
              "#46039f"
             ],
             [
              0.2222222222222222,
              "#7201a8"
             ],
             [
              0.3333333333333333,
              "#9c179e"
             ],
             [
              0.4444444444444444,
              "#bd3786"
             ],
             [
              0.5555555555555556,
              "#d8576b"
             ],
             [
              0.6666666666666666,
              "#ed7953"
             ],
             [
              0.7777777777777778,
              "#fb9f3a"
             ],
             [
              0.8888888888888888,
              "#fdca26"
             ],
             [
              1,
              "#f0f921"
             ]
            ],
            "type": "heatmapgl"
           }
          ],
          "histogram": [
           {
            "marker": {
             "pattern": {
              "fillmode": "overlay",
              "size": 10,
              "solidity": 0.2
             }
            },
            "type": "histogram"
           }
          ],
          "histogram2d": [
           {
            "colorbar": {
             "outlinewidth": 0,
             "ticks": ""
            },
            "colorscale": [
             [
              0,
              "#0d0887"
             ],
             [
              0.1111111111111111,
              "#46039f"
             ],
             [
              0.2222222222222222,
              "#7201a8"
             ],
             [
              0.3333333333333333,
              "#9c179e"
             ],
             [
              0.4444444444444444,
              "#bd3786"
             ],
             [
              0.5555555555555556,
              "#d8576b"
             ],
             [
              0.6666666666666666,
              "#ed7953"
             ],
             [
              0.7777777777777778,
              "#fb9f3a"
             ],
             [
              0.8888888888888888,
              "#fdca26"
             ],
             [
              1,
              "#f0f921"
             ]
            ],
            "type": "histogram2d"
           }
          ],
          "histogram2dcontour": [
           {
            "colorbar": {
             "outlinewidth": 0,
             "ticks": ""
            },
            "colorscale": [
             [
              0,
              "#0d0887"
             ],
             [
              0.1111111111111111,
              "#46039f"
             ],
             [
              0.2222222222222222,
              "#7201a8"
             ],
             [
              0.3333333333333333,
              "#9c179e"
             ],
             [
              0.4444444444444444,
              "#bd3786"
             ],
             [
              0.5555555555555556,
              "#d8576b"
             ],
             [
              0.6666666666666666,
              "#ed7953"
             ],
             [
              0.7777777777777778,
              "#fb9f3a"
             ],
             [
              0.8888888888888888,
              "#fdca26"
             ],
             [
              1,
              "#f0f921"
             ]
            ],
            "type": "histogram2dcontour"
           }
          ],
          "mesh3d": [
           {
            "colorbar": {
             "outlinewidth": 0,
             "ticks": ""
            },
            "type": "mesh3d"
           }
          ],
          "parcoords": [
           {
            "line": {
             "colorbar": {
              "outlinewidth": 0,
              "ticks": ""
             }
            },
            "type": "parcoords"
           }
          ],
          "pie": [
           {
            "automargin": true,
            "type": "pie"
           }
          ],
          "scatter": [
           {
            "marker": {
             "colorbar": {
              "outlinewidth": 0,
              "ticks": ""
             }
            },
            "type": "scatter"
           }
          ],
          "scatter3d": [
           {
            "line": {
             "colorbar": {
              "outlinewidth": 0,
              "ticks": ""
             }
            },
            "marker": {
             "colorbar": {
              "outlinewidth": 0,
              "ticks": ""
             }
            },
            "type": "scatter3d"
           }
          ],
          "scattercarpet": [
           {
            "marker": {
             "colorbar": {
              "outlinewidth": 0,
              "ticks": ""
             }
            },
            "type": "scattercarpet"
           }
          ],
          "scattergeo": [
           {
            "marker": {
             "colorbar": {
              "outlinewidth": 0,
              "ticks": ""
             }
            },
            "type": "scattergeo"
           }
          ],
          "scattergl": [
           {
            "marker": {
             "colorbar": {
              "outlinewidth": 0,
              "ticks": ""
             }
            },
            "type": "scattergl"
           }
          ],
          "scattermapbox": [
           {
            "marker": {
             "colorbar": {
              "outlinewidth": 0,
              "ticks": ""
             }
            },
            "type": "scattermapbox"
           }
          ],
          "scatterpolar": [
           {
            "marker": {
             "colorbar": {
              "outlinewidth": 0,
              "ticks": ""
             }
            },
            "type": "scatterpolar"
           }
          ],
          "scatterpolargl": [
           {
            "marker": {
             "colorbar": {
              "outlinewidth": 0,
              "ticks": ""
             }
            },
            "type": "scatterpolargl"
           }
          ],
          "scatterternary": [
           {
            "marker": {
             "colorbar": {
              "outlinewidth": 0,
              "ticks": ""
             }
            },
            "type": "scatterternary"
           }
          ],
          "surface": [
           {
            "colorbar": {
             "outlinewidth": 0,
             "ticks": ""
            },
            "colorscale": [
             [
              0,
              "#0d0887"
             ],
             [
              0.1111111111111111,
              "#46039f"
             ],
             [
              0.2222222222222222,
              "#7201a8"
             ],
             [
              0.3333333333333333,
              "#9c179e"
             ],
             [
              0.4444444444444444,
              "#bd3786"
             ],
             [
              0.5555555555555556,
              "#d8576b"
             ],
             [
              0.6666666666666666,
              "#ed7953"
             ],
             [
              0.7777777777777778,
              "#fb9f3a"
             ],
             [
              0.8888888888888888,
              "#fdca26"
             ],
             [
              1,
              "#f0f921"
             ]
            ],
            "type": "surface"
           }
          ],
          "table": [
           {
            "cells": {
             "fill": {
              "color": "#EBF0F8"
             },
             "line": {
              "color": "white"
             }
            },
            "header": {
             "fill": {
              "color": "#C8D4E3"
             },
             "line": {
              "color": "white"
             }
            },
            "type": "table"
           }
          ]
         },
         "layout": {
          "annotationdefaults": {
           "arrowcolor": "#2a3f5f",
           "arrowhead": 0,
           "arrowwidth": 1
          },
          "autotypenumbers": "strict",
          "coloraxis": {
           "colorbar": {
            "outlinewidth": 0,
            "ticks": ""
           }
          },
          "colorscale": {
           "diverging": [
            [
             0,
             "#8e0152"
            ],
            [
             0.1,
             "#c51b7d"
            ],
            [
             0.2,
             "#de77ae"
            ],
            [
             0.3,
             "#f1b6da"
            ],
            [
             0.4,
             "#fde0ef"
            ],
            [
             0.5,
             "#f7f7f7"
            ],
            [
             0.6,
             "#e6f5d0"
            ],
            [
             0.7,
             "#b8e186"
            ],
            [
             0.8,
             "#7fbc41"
            ],
            [
             0.9,
             "#4d9221"
            ],
            [
             1,
             "#276419"
            ]
           ],
           "sequential": [
            [
             0,
             "#0d0887"
            ],
            [
             0.1111111111111111,
             "#46039f"
            ],
            [
             0.2222222222222222,
             "#7201a8"
            ],
            [
             0.3333333333333333,
             "#9c179e"
            ],
            [
             0.4444444444444444,
             "#bd3786"
            ],
            [
             0.5555555555555556,
             "#d8576b"
            ],
            [
             0.6666666666666666,
             "#ed7953"
            ],
            [
             0.7777777777777778,
             "#fb9f3a"
            ],
            [
             0.8888888888888888,
             "#fdca26"
            ],
            [
             1,
             "#f0f921"
            ]
           ],
           "sequentialminus": [
            [
             0,
             "#0d0887"
            ],
            [
             0.1111111111111111,
             "#46039f"
            ],
            [
             0.2222222222222222,
             "#7201a8"
            ],
            [
             0.3333333333333333,
             "#9c179e"
            ],
            [
             0.4444444444444444,
             "#bd3786"
            ],
            [
             0.5555555555555556,
             "#d8576b"
            ],
            [
             0.6666666666666666,
             "#ed7953"
            ],
            [
             0.7777777777777778,
             "#fb9f3a"
            ],
            [
             0.8888888888888888,
             "#fdca26"
            ],
            [
             1,
             "#f0f921"
            ]
           ]
          },
          "colorway": [
           "#636efa",
           "#EF553B",
           "#00cc96",
           "#ab63fa",
           "#FFA15A",
           "#19d3f3",
           "#FF6692",
           "#B6E880",
           "#FF97FF",
           "#FECB52"
          ],
          "font": {
           "color": "#2a3f5f"
          },
          "geo": {
           "bgcolor": "white",
           "lakecolor": "white",
           "landcolor": "#E5ECF6",
           "showlakes": true,
           "showland": true,
           "subunitcolor": "white"
          },
          "hoverlabel": {
           "align": "left"
          },
          "hovermode": "closest",
          "mapbox": {
           "style": "light"
          },
          "paper_bgcolor": "white",
          "plot_bgcolor": "#E5ECF6",
          "polar": {
           "angularaxis": {
            "gridcolor": "white",
            "linecolor": "white",
            "ticks": ""
           },
           "bgcolor": "#E5ECF6",
           "radialaxis": {
            "gridcolor": "white",
            "linecolor": "white",
            "ticks": ""
           }
          },
          "scene": {
           "xaxis": {
            "backgroundcolor": "#E5ECF6",
            "gridcolor": "white",
            "gridwidth": 2,
            "linecolor": "white",
            "showbackground": true,
            "ticks": "",
            "zerolinecolor": "white"
           },
           "yaxis": {
            "backgroundcolor": "#E5ECF6",
            "gridcolor": "white",
            "gridwidth": 2,
            "linecolor": "white",
            "showbackground": true,
            "ticks": "",
            "zerolinecolor": "white"
           },
           "zaxis": {
            "backgroundcolor": "#E5ECF6",
            "gridcolor": "white",
            "gridwidth": 2,
            "linecolor": "white",
            "showbackground": true,
            "ticks": "",
            "zerolinecolor": "white"
           }
          },
          "shapedefaults": {
           "line": {
            "color": "#2a3f5f"
           }
          },
          "ternary": {
           "aaxis": {
            "gridcolor": "white",
            "linecolor": "white",
            "ticks": ""
           },
           "baxis": {
            "gridcolor": "white",
            "linecolor": "white",
            "ticks": ""
           },
           "bgcolor": "#E5ECF6",
           "caxis": {
            "gridcolor": "white",
            "linecolor": "white",
            "ticks": ""
           }
          },
          "title": {
           "x": 0.05
          },
          "xaxis": {
           "automargin": true,
           "gridcolor": "white",
           "linecolor": "white",
           "ticks": "",
           "title": {
            "standoff": 15
           },
           "zerolinecolor": "white",
           "zerolinewidth": 2
          },
          "yaxis": {
           "automargin": true,
           "gridcolor": "white",
           "linecolor": "white",
           "ticks": "",
           "title": {
            "standoff": 15
           },
           "zerolinecolor": "white",
           "zerolinewidth": 2
          }
         }
        },
        "title": {
         "text": "Miles vs. Calories [Colored by calories]\nTrednline: R^2: 0.8634 Calories = 110.93*miles + 237.18"
        },
        "xaxis": {
         "anchor": "y",
         "domain": [
          0,
          1
         ],
         "title": {
          "text": "miles"
         }
        },
        "yaxis": {
         "anchor": "x",
         "domain": [
          0,
          1
         ],
         "range": [
          0,
          1650
         ],
         "title": {
          "text": "calories"
         }
        }
       }
      },
      "text/html": [
       "<div>                            <div id=\"6e0cfca6-5a5e-40d6-be4e-64fca25b4569\" class=\"plotly-graph-div\" style=\"height:525px; width:100%;\"></div>            <script type=\"text/javascript\">                require([\"plotly\"], function(Plotly) {                    window.PLOTLYENV=window.PLOTLYENV || {};                                    if (document.getElementById(\"6e0cfca6-5a5e-40d6-be4e-64fca25b4569\")) {                    Plotly.newPlot(                        \"6e0cfca6-5a5e-40d6-be4e-64fca25b4569\",                        [{\"hovertemplate\":\"miles=%{x}<br>calories=%{marker.color}<extra></extra>\",\"legendgroup\":\"\",\"marker\":{\"color\":[692.881761274166,536.691407956743,276.350999999999,270.923146762041,397.484041234037,702.107462456384,519.341933890192,581.203987582989,527.071428074356,411.312179296951,1079.65282070305,829.228614293344,341.860385706658,962.018,950.258562819967,782.377880005755,863.036557174281,601.390587040521,492.184507807422,847.532824984648,526.002080167403,740.463040158474,443.602185651039,578.325922047423,562.67506105348,804.732100452362,625.442690637212,599.247000000001,942.563408961203,519.651591038795,346.525003615485,730.10611961992,625.839986220131,649.155890544466,738.649016125774,667.74798387423,868.244999999995,780.348999999994,524.527,729.921999999999,555.046,602.153999999999,853.013405611315,705.983594388686,364.538323219297,727.747711180903,740.778859978545,581.65610562125,984.971133534053,155.542866465948,1014.957,416.307999999999,635.235,360.860429151479,805.50064114854,272.074929699984,349.804545181544,887.250396414423,607.351058404035,566.378928260796,730.352262013146,595.26380972606,697.87973010914,725.171269890861,1500.07696169728,478.416038302721,489.886000000002,449.428000000002,489.258640602509,522.488359397494,360.299000000001,759.501,383.644000000001,625.488000000002,590.134000000003,522.654,631.001360707732,474.761639292269,613.390000000001,522.688180287642,642.310819712365,874.482543178304,191.519456821696,684.538090706095,553.755000000001,479.437000000001,724.016652267443,475.901347732558,618.385603417631,717.536429880361,482.332966702008,1535.93199999995,812.251000000002,492.491395118112,716.233325308533,521.111279573353,661.526402369546,801.419597630454,565.346,1625.688,540.542126153119,411.100873846882,670.561999999999,678.925000000001,995.140506432119,386.344337030111,472.877156537772,536.63,612.783437700391,538.090562299611,335.021391714572,837.034179979101,631.833428306328,808.075,634.446,587.592,616.007,536.116141402322,491.464858597676,622.062,566.847547364073,592.330297460266,440.162771034808,603.014384140851,799.475909382761,475.292090617239,491.172,569.617245538077,163.189414172474,515.060243889038,609.084531973524,263.783970592476,772.215473035205,780.594397650478,534.94972314873,515.984000000001,520.177803481137,548.641196518863,372.587999999999,708.202000000001,692.314146984756,299.498853015245,414.976062800549,605.166743715387,633.522193484066,550.957,963.982000000002,769.025828518746,415.53518421234,573.321987268914,415.857607961909,706.426392038091,571.292014001682,800.056985998318,693.977540662708,706.132459337292,515.119183178456,652.695816821545,886.734124816746,458.061273121753,411.964602061503,439.290226740476,638.679394862505,654.890378397021,327.140631450129,600.059159172363,1051.88220937751,1319.18843597884,556.875000745648,572.513563275512,530.767227956033,629.142590744154,503.782181299813,858.383926285102,420.1420737149,741.233639167498,386.271360832504,1267.95233365905,359.063666340958,509.083,875.847246858773,407.535753141229,922.402000000002,1141.341,935.110000000001,681.737000000001,238.928319188135,689.745035431451,669.211645380416,849.433000000001,989.361999999999,1167.15537836289,563.163425613793,471.128079716367,434.875116306951,559.684,1150.779,962.661,1100.40480626053,295.962193114774,425.090460407364,430.582540217333,802.961000000001,866.812000000002,954.993000000001,270.808095283988,894.935904716012,271.646485089344,708.64851491065,734.148621888718,491.831378111282,520.3214667327,755.1325332673,584.794000000001,362.208058756678,381.753984479676,387.073956763646,161.317,1057.698,749.900000000001,332.339682542849,714.56631745715,713.007000000001,1181.71100000001,1019.355,1024.422,327.134999999999,838.405704195417,682.317937334437,293.052358470147,208.5,1035.6,802.842000000001,303.27,178.928,1065.429,317.534,263.256,1065.797,927.361999999999,665.81214709,415.45385291,831.212820510729,838.724552739307,436.867690406995,492.795688283335,561.622068570364,533.654,936.481840421691,585.403224631292,719.102934947018,464.363136640531,303.336248001888,540.651169798052,481.521697444488,975.905013194923,333.441734920119,196.908,356.646125167151,563.89887483285,341.504,567.63,862.275,269.899,667.8412218068,458.821250731451,715.62552746175,691.691333241874,160.526666758125,1024.1,285.064507253552,745.704492746449,649.546999999999,488.426083384419,265.409606491852,517.753310123729,796.453000000001,217.564,464.531723979791,610.616276020211,776.645,559.893230554547,434.490769445454,822.387650935921,373.579812993424,751.915536070656,484.869616983316,1016.48180783251,327.947617844774,479.530957339406,1030.531,326.091,804.604000000001,748.010000000001,382.493663980595,530.759336019406,456.064,557.356955357338,468.778885528117,351.981159114545,435.88,418.333,424.648999999999,574.641638299425,845.967361700576,651.637999999999,337.185876202426,593.449800298204,773.532260875062,405.154963006032,274.974613200867,843.053486417406,319.371,854.113280254247,683.842601700457,1044.02130415731,394.634923515958,725.498890372028,818.168189301097,748.643656321222,472.197902696585,728.177382409826,222.75686927127,356.612670266377,515.536329733624,342.808217873511,413.39116800725,516.142227413798,398.659386705442,950.043650956611,422.79534904339,951.573000000001,283.96837800639,572.892361969579,391.25226002403,1094.03,521.041689294737,835.955310705261,563.320167629931,927.321832370071,757.837139103892,918.40286089611,1177.927,443.46746830442,714.43553169558,825.161,583.287370466208,380.660629533794,257.043679849332,693.562427499041,786.448892651628,318.467,595.229999999999,284.751678736759,651.449321263242,572.449999999999,393.324374344616,262.894625655384,372.944,1043.59054542223,542.194505474998,615.976073397627],\"coloraxis\":\"coloraxis\",\"symbol\":\"circle\"},\"mode\":\"markers\",\"name\":\"\",\"orientation\":\"v\",\"showlegend\":false,\"x\":[3.7227182960896,1.89697656857255,1.69672284643189,1.50265448247135,2.17399213702361,2.8613187713283,2.03039214641993,1.91121882024395,2.31448767523881,1.95208568625946,6.92860194070912,4.15937533849185,1.89107087649194,6.6670065029303,6.13790113658745,4.21207813324155,6.17385569064731,2.58355182420388,1.83967908633737,3.50761759282414,2.22612587092695,3.57788624233396,2.35958763075875,2.90857573468183,2.32284943275682,2.62577864649961,2.26028392517989,2.69171511419138,3.39927874879608,1.75416776296777,1.54259908460691,2.27627384758519,2.55947342604441,2.35882699078795,3.16028157941314,2.78205788189416,4.72188839635251,3.51503809870662,2.00356853780855,3.77172795121953,1.95001944723911,2.66399534134504,3.53286239904294,3.69976795024191,2.37595121835825,3.5481121277546,2.82652954394306,1.98679931123577,4.70645776944762,1.49286790889824,4.92650001152228,1.93924831880721,2.67971639580876,1.65805458842329,3.16673590682393,1.88083212526027,1.91247239571794,4.95315955612041,2.09386661635807,2.56667837221265,2.26359657460519,2.32694609758516,2.54800516981329,2.12564613842705,9.91535536436513,1.84184790812584,1.87380294959645,1.95813949360542,1.89608454529738,1.98099992105229,1.43085835163897,3.71458532922639,2.22799593687401,3.07577656480184,2.21038384965456,1.87219511738554,2.11259840610259,3.25147914430459,3.59909596327138,2.73333180445284,6.6461977858349,5.33128756527608,3.93337338839219,2.39956084172566,2.60089421809223,3.07426339218733,2.6004104557134,1.59246580096944,2.38807196003928,2.86277717893406,1.68078672005971,8.98289631285285,4.62545801063221,2.05500524675847,3.04972805379401,2.50860739151148,2.81114006946558,3.88146123130472,3.68442987236766,10.1391572699686,2.47516568018223,1.74913376973316,2.40258264325035,3.7190895060851,4.770094163346,1.44969323949489,2.27933260769196,2.41555389972494,2.31764286144094,2.74515591247363,2.42443550748294,4.48008421871056,3.67333426996896,3.66706679974464,2.66240119276147,2.04075245650776,4.79325111997681,2.1285842643241,2.67531918411518,3.32335823408366,2.27309132369842,2.26398504839911,3.12278360339361,3.98827009174983,5.33963920438035,2.55189903307512,2.67553156393015,2.59981241283934,1.22091629785606,2.03393794752028,2.92118591797054,1.37181479302187,3.94669870357063,4.17534613850156,4.30305287573727,2.78720413257814,2.94017984163379,3.04725789539492,1.62864792636102,4.51025543871143,3.70011871983419,2.38776700172334,2.32622579769725,3.20731973635455,3.16800103447259,3.04175118954253,6.04815434303131,4.35558176186636,2.63278226984012,4.96664389123943,3.03990160880213,2.90597878468371,2.36571704183832,4.16650323754961,4.10190210606757,4.43755432604092,2.60929094780083,3.25312449039869,6.16311529348146,2.32169328726451,2.13641263331836,2.20374634562317,4.13014378981128,3.29418180158206,1.95703795415023,3.37690587044714,7.47629183662241,7.7997719160753,2.44393963006505,3.72150093949588,3.36695868951072,4.59853436217258,4.99399474922013,8.81002431852695,2.69370271786663,2.894432379704,1.04357894297672,10.0515968865464,1.85440527763036,2.83184869093686,6.11315445609744,2.06906073711222,8.13610812634908,9.25305349115031,7.78597023788843,2.87606941015,1.69659160384954,4.98869972464642,3.10692500065642,6.85741086647214,6.9156556257296,9.49152221637672,3.2434050073374,1.66715960767037,2.58055934701339,2.87872246099597,10.1934268765139,6.80903627677101,8.37388493141669,1.74327787085083,2.97282699606303,2.43204334173389,7.00561515721937,7.34874149593573,7.17115970113234,1.79824548028125,5.03895330744063,2.10740121672953,3.85977092637756,3.28797041839698,3.52469636875327,2.42336730809822,4.92475807397587,3.41331435360436,1.70456052752075,2.58216034386374,1.98023097524678,1.35682540099157,8.72222396444854,6.50122232997997,1.85544499963426,4.19630273149514,4.77545069083959,9.15488172961112,7.61856665054742,7.93652008573604,1.71794094343502,6.02558914801752,4.47365963505051,2.69596522483297,1.33962477804994,8.19690687426542,7.21859313863329,1.67474768248942,1.43660776370854,8.20587697144449,1.73270093793653,1.99423276417736,8.24397674111505,7.05341557654305,4.23169682968375,2.76389849179254,4.12356901644297,4.24885427172951,2.4722527167102,2.05379553861734,4.15006157645799,3.57583583270703,4.58163668686538,2.38297830580469,4.45093540451652,2.2831612153631,1.71613783203482,1.97817600981042,2.42826496376655,5.19440534065112,2.71279968637717,1.18271120299168,1.37900047499638,2.5437816642019,1.54693894343893,3.60936679163614,4.91135236178864,1.20006574670264,4.05593794726139,2.40374169480598,4.80552497172347,3.07222688980633,1.99074250417002,6.3910794952137,1.02085968918593,3.77390625979149,5.09908122725748,2.6273422179704,2.00072430076177,2.40700390365597,4.20083506972067,1.12011235963576,1.27022844833434,2.35462369720377,4.15423157762682,2.66557818227384,2.14394161037632,3.6350486326847,1.31897537626006,4.62114411417071,3.18454527343861,5.39740332541934,2.26079711110495,2.26420197015865,4.88760038017272,1.18786877768916,4.10645178320774,3.66817497635389,1.21955999053671,2.60308726635712,2.01974870809551,2.26411283381552,2.44691040697134,1.45278121152565,2.26541676155191,2.61591475964101,1.78579695064934,3.29831027081233,4.57958969605246,2.49112591114865,1.05012995289292,3.84538550726899,3.1639929816614,1.04407339411259,1.33540583984468,4.19995757674169,1.03307314202845,4.4797453294823,3.81406762887154,5.28063031538382,1.46935247453648,4.43786913607224,3.8506157664763,4.55749000607362,2.97639733449023,4.05399509002682,1.44204913694836,1.33042780457446,2.10438125038387,2.3701387969595,1.28111717280455,1.63135661677697,2.84430906495892,4.48330908897347,2.25666045646791,5.82539869642723,2.30485439186397,2.62882791851514,1.49959609834733,7.70344248162788,2.57760037782735,4.86164569335249,3.16400245247995,4.67106078271619,4.12281937306264,4.89356732858663,6.30859381572157,3.04626467765329,4.11092442614219,4.87067328327157,2.76598241334086,1.76076279732018,1.0473012982691,2.88329461484827,4.29476670321422,2.02828617493829,4.23551840436992,1.1717287319885,2.83664394734437,3.17701484772975,1.56006341136723,2.03270788076118,1.69404267859633,5.73792989060081,2.42009737153147,2.92863658125028],\"xaxis\":\"x\",\"y\":[692.881761274166,536.691407956743,276.350999999999,270.923146762041,397.484041234037,702.107462456384,519.341933890192,581.203987582989,527.071428074356,411.312179296951,1079.65282070305,829.228614293344,341.860385706658,962.018,950.258562819967,782.377880005755,863.036557174281,601.390587040521,492.184507807422,847.532824984648,526.002080167403,740.463040158474,443.602185651039,578.325922047423,562.67506105348,804.732100452362,625.442690637212,599.247000000001,942.563408961203,519.651591038795,346.525003615485,730.10611961992,625.839986220131,649.155890544466,738.649016125774,667.74798387423,868.244999999995,780.348999999994,524.527,729.921999999999,555.046,602.153999999999,853.013405611315,705.983594388686,364.538323219297,727.747711180903,740.778859978545,581.65610562125,984.971133534053,155.542866465948,1014.957,416.307999999999,635.235,360.860429151479,805.50064114854,272.074929699984,349.804545181544,887.250396414423,607.351058404035,566.378928260796,730.352262013146,595.26380972606,697.87973010914,725.171269890861,1500.07696169728,478.416038302721,489.886000000002,449.428000000002,489.258640602509,522.488359397494,360.299000000001,759.501,383.644000000001,625.488000000002,590.134000000003,522.654,631.001360707732,474.761639292269,613.390000000001,522.688180287642,642.310819712365,874.482543178304,191.519456821696,684.538090706095,553.755000000001,479.437000000001,724.016652267443,475.901347732558,618.385603417631,717.536429880361,482.332966702008,1535.93199999995,812.251000000002,492.491395118112,716.233325308533,521.111279573353,661.526402369546,801.419597630454,565.346,1625.688,540.542126153119,411.100873846882,670.561999999999,678.925000000001,995.140506432119,386.344337030111,472.877156537772,536.63,612.783437700391,538.090562299611,335.021391714572,837.034179979101,631.833428306328,808.075,634.446,587.592,616.007,536.116141402322,491.464858597676,622.062,566.847547364073,592.330297460266,440.162771034808,603.014384140851,799.475909382761,475.292090617239,491.172,569.617245538077,163.189414172474,515.060243889038,609.084531973524,263.783970592476,772.215473035205,780.594397650478,534.94972314873,515.984000000001,520.177803481137,548.641196518863,372.587999999999,708.202000000001,692.314146984756,299.498853015245,414.976062800549,605.166743715387,633.522193484066,550.957,963.982000000002,769.025828518746,415.53518421234,573.321987268914,415.857607961909,706.426392038091,571.292014001682,800.056985998318,693.977540662708,706.132459337292,515.119183178456,652.695816821545,886.734124816746,458.061273121753,411.964602061503,439.290226740476,638.679394862505,654.890378397021,327.140631450129,600.059159172363,1051.88220937751,1319.18843597884,556.875000745648,572.513563275512,530.767227956033,629.142590744154,503.782181299813,858.383926285102,420.1420737149,741.233639167498,386.271360832504,1267.95233365905,359.063666340958,509.083,875.847246858773,407.535753141229,922.402000000002,1141.341,935.110000000001,681.737000000001,238.928319188135,689.745035431451,669.211645380416,849.433000000001,989.361999999999,1167.15537836289,563.163425613793,471.128079716367,434.875116306951,559.684,1150.779,962.661,1100.40480626053,295.962193114774,425.090460407364,430.582540217333,802.961000000001,866.812000000002,954.993000000001,270.808095283988,894.935904716012,271.646485089344,708.64851491065,734.148621888718,491.831378111282,520.3214667327,755.1325332673,584.794000000001,362.208058756678,381.753984479676,387.073956763646,161.317,1057.698,749.900000000001,332.339682542849,714.56631745715,713.007000000001,1181.71100000001,1019.355,1024.422,327.134999999999,838.405704195417,682.317937334437,293.052358470147,208.5,1035.6,802.842000000001,303.27,178.928,1065.429,317.534,263.256,1065.797,927.361999999999,665.81214709,415.45385291,831.212820510729,838.724552739307,436.867690406995,492.795688283335,561.622068570364,533.654,936.481840421691,585.403224631292,719.102934947018,464.363136640531,303.336248001888,540.651169798052,481.521697444488,975.905013194923,333.441734920119,196.908,356.646125167151,563.89887483285,341.504,567.63,862.275,269.899,667.8412218068,458.821250731451,715.62552746175,691.691333241874,160.526666758125,1024.1,285.064507253552,745.704492746449,649.546999999999,488.426083384419,265.409606491852,517.753310123729,796.453000000001,217.564,464.531723979791,610.616276020211,776.645,559.893230554547,434.490769445454,822.387650935921,373.579812993424,751.915536070656,484.869616983316,1016.48180783251,327.947617844774,479.530957339406,1030.531,326.091,804.604000000001,748.010000000001,382.493663980595,530.759336019406,456.064,557.356955357338,468.778885528117,351.981159114545,435.88,418.333,424.648999999999,574.641638299425,845.967361700576,651.637999999999,337.185876202426,593.449800298204,773.532260875062,405.154963006032,274.974613200867,843.053486417406,319.371,854.113280254247,683.842601700457,1044.02130415731,394.634923515958,725.498890372028,818.168189301097,748.643656321222,472.197902696585,728.177382409826,222.75686927127,356.612670266377,515.536329733624,342.808217873511,413.39116800725,516.142227413798,398.659386705442,950.043650956611,422.79534904339,951.573000000001,283.96837800639,572.892361969579,391.25226002403,1094.03,521.041689294737,835.955310705261,563.320167629931,927.321832370071,757.837139103892,918.40286089611,1177.927,443.46746830442,714.43553169558,825.161,583.287370466208,380.660629533794,257.043679849332,693.562427499041,786.448892651628,318.467,595.229999999999,284.751678736759,651.449321263242,572.449999999999,393.324374344616,262.894625655384,372.944,1043.59054542223,542.194505474998,615.976073397627],\"yaxis\":\"y\",\"type\":\"scatter\"}],                        {\"template\":{\"data\":{\"bar\":[{\"error_x\":{\"color\":\"#2a3f5f\"},\"error_y\":{\"color\":\"#2a3f5f\"},\"marker\":{\"line\":{\"color\":\"#E5ECF6\",\"width\":0.5},\"pattern\":{\"fillmode\":\"overlay\",\"size\":10,\"solidity\":0.2}},\"type\":\"bar\"}],\"barpolar\":[{\"marker\":{\"line\":{\"color\":\"#E5ECF6\",\"width\":0.5},\"pattern\":{\"fillmode\":\"overlay\",\"size\":10,\"solidity\":0.2}},\"type\":\"barpolar\"}],\"carpet\":[{\"aaxis\":{\"endlinecolor\":\"#2a3f5f\",\"gridcolor\":\"white\",\"linecolor\":\"white\",\"minorgridcolor\":\"white\",\"startlinecolor\":\"#2a3f5f\"},\"baxis\":{\"endlinecolor\":\"#2a3f5f\",\"gridcolor\":\"white\",\"linecolor\":\"white\",\"minorgridcolor\":\"white\",\"startlinecolor\":\"#2a3f5f\"},\"type\":\"carpet\"}],\"choropleth\":[{\"colorbar\":{\"outlinewidth\":0,\"ticks\":\"\"},\"type\":\"choropleth\"}],\"contour\":[{\"colorbar\":{\"outlinewidth\":0,\"ticks\":\"\"},\"colorscale\":[[0.0,\"#0d0887\"],[0.1111111111111111,\"#46039f\"],[0.2222222222222222,\"#7201a8\"],[0.3333333333333333,\"#9c179e\"],[0.4444444444444444,\"#bd3786\"],[0.5555555555555556,\"#d8576b\"],[0.6666666666666666,\"#ed7953\"],[0.7777777777777778,\"#fb9f3a\"],[0.8888888888888888,\"#fdca26\"],[1.0,\"#f0f921\"]],\"type\":\"contour\"}],\"contourcarpet\":[{\"colorbar\":{\"outlinewidth\":0,\"ticks\":\"\"},\"type\":\"contourcarpet\"}],\"heatmap\":[{\"colorbar\":{\"outlinewidth\":0,\"ticks\":\"\"},\"colorscale\":[[0.0,\"#0d0887\"],[0.1111111111111111,\"#46039f\"],[0.2222222222222222,\"#7201a8\"],[0.3333333333333333,\"#9c179e\"],[0.4444444444444444,\"#bd3786\"],[0.5555555555555556,\"#d8576b\"],[0.6666666666666666,\"#ed7953\"],[0.7777777777777778,\"#fb9f3a\"],[0.8888888888888888,\"#fdca26\"],[1.0,\"#f0f921\"]],\"type\":\"heatmap\"}],\"heatmapgl\":[{\"colorbar\":{\"outlinewidth\":0,\"ticks\":\"\"},\"colorscale\":[[0.0,\"#0d0887\"],[0.1111111111111111,\"#46039f\"],[0.2222222222222222,\"#7201a8\"],[0.3333333333333333,\"#9c179e\"],[0.4444444444444444,\"#bd3786\"],[0.5555555555555556,\"#d8576b\"],[0.6666666666666666,\"#ed7953\"],[0.7777777777777778,\"#fb9f3a\"],[0.8888888888888888,\"#fdca26\"],[1.0,\"#f0f921\"]],\"type\":\"heatmapgl\"}],\"histogram\":[{\"marker\":{\"pattern\":{\"fillmode\":\"overlay\",\"size\":10,\"solidity\":0.2}},\"type\":\"histogram\"}],\"histogram2d\":[{\"colorbar\":{\"outlinewidth\":0,\"ticks\":\"\"},\"colorscale\":[[0.0,\"#0d0887\"],[0.1111111111111111,\"#46039f\"],[0.2222222222222222,\"#7201a8\"],[0.3333333333333333,\"#9c179e\"],[0.4444444444444444,\"#bd3786\"],[0.5555555555555556,\"#d8576b\"],[0.6666666666666666,\"#ed7953\"],[0.7777777777777778,\"#fb9f3a\"],[0.8888888888888888,\"#fdca26\"],[1.0,\"#f0f921\"]],\"type\":\"histogram2d\"}],\"histogram2dcontour\":[{\"colorbar\":{\"outlinewidth\":0,\"ticks\":\"\"},\"colorscale\":[[0.0,\"#0d0887\"],[0.1111111111111111,\"#46039f\"],[0.2222222222222222,\"#7201a8\"],[0.3333333333333333,\"#9c179e\"],[0.4444444444444444,\"#bd3786\"],[0.5555555555555556,\"#d8576b\"],[0.6666666666666666,\"#ed7953\"],[0.7777777777777778,\"#fb9f3a\"],[0.8888888888888888,\"#fdca26\"],[1.0,\"#f0f921\"]],\"type\":\"histogram2dcontour\"}],\"mesh3d\":[{\"colorbar\":{\"outlinewidth\":0,\"ticks\":\"\"},\"type\":\"mesh3d\"}],\"parcoords\":[{\"line\":{\"colorbar\":{\"outlinewidth\":0,\"ticks\":\"\"}},\"type\":\"parcoords\"}],\"pie\":[{\"automargin\":true,\"type\":\"pie\"}],\"scatter\":[{\"marker\":{\"colorbar\":{\"outlinewidth\":0,\"ticks\":\"\"}},\"type\":\"scatter\"}],\"scatter3d\":[{\"line\":{\"colorbar\":{\"outlinewidth\":0,\"ticks\":\"\"}},\"marker\":{\"colorbar\":{\"outlinewidth\":0,\"ticks\":\"\"}},\"type\":\"scatter3d\"}],\"scattercarpet\":[{\"marker\":{\"colorbar\":{\"outlinewidth\":0,\"ticks\":\"\"}},\"type\":\"scattercarpet\"}],\"scattergeo\":[{\"marker\":{\"colorbar\":{\"outlinewidth\":0,\"ticks\":\"\"}},\"type\":\"scattergeo\"}],\"scattergl\":[{\"marker\":{\"colorbar\":{\"outlinewidth\":0,\"ticks\":\"\"}},\"type\":\"scattergl\"}],\"scattermapbox\":[{\"marker\":{\"colorbar\":{\"outlinewidth\":0,\"ticks\":\"\"}},\"type\":\"scattermapbox\"}],\"scatterpolar\":[{\"marker\":{\"colorbar\":{\"outlinewidth\":0,\"ticks\":\"\"}},\"type\":\"scatterpolar\"}],\"scatterpolargl\":[{\"marker\":{\"colorbar\":{\"outlinewidth\":0,\"ticks\":\"\"}},\"type\":\"scatterpolargl\"}],\"scatterternary\":[{\"marker\":{\"colorbar\":{\"outlinewidth\":0,\"ticks\":\"\"}},\"type\":\"scatterternary\"}],\"surface\":[{\"colorbar\":{\"outlinewidth\":0,\"ticks\":\"\"},\"colorscale\":[[0.0,\"#0d0887\"],[0.1111111111111111,\"#46039f\"],[0.2222222222222222,\"#7201a8\"],[0.3333333333333333,\"#9c179e\"],[0.4444444444444444,\"#bd3786\"],[0.5555555555555556,\"#d8576b\"],[0.6666666666666666,\"#ed7953\"],[0.7777777777777778,\"#fb9f3a\"],[0.8888888888888888,\"#fdca26\"],[1.0,\"#f0f921\"]],\"type\":\"surface\"}],\"table\":[{\"cells\":{\"fill\":{\"color\":\"#EBF0F8\"},\"line\":{\"color\":\"white\"}},\"header\":{\"fill\":{\"color\":\"#C8D4E3\"},\"line\":{\"color\":\"white\"}},\"type\":\"table\"}]},\"layout\":{\"annotationdefaults\":{\"arrowcolor\":\"#2a3f5f\",\"arrowhead\":0,\"arrowwidth\":1},\"autotypenumbers\":\"strict\",\"coloraxis\":{\"colorbar\":{\"outlinewidth\":0,\"ticks\":\"\"}},\"colorscale\":{\"diverging\":[[0,\"#8e0152\"],[0.1,\"#c51b7d\"],[0.2,\"#de77ae\"],[0.3,\"#f1b6da\"],[0.4,\"#fde0ef\"],[0.5,\"#f7f7f7\"],[0.6,\"#e6f5d0\"],[0.7,\"#b8e186\"],[0.8,\"#7fbc41\"],[0.9,\"#4d9221\"],[1,\"#276419\"]],\"sequential\":[[0.0,\"#0d0887\"],[0.1111111111111111,\"#46039f\"],[0.2222222222222222,\"#7201a8\"],[0.3333333333333333,\"#9c179e\"],[0.4444444444444444,\"#bd3786\"],[0.5555555555555556,\"#d8576b\"],[0.6666666666666666,\"#ed7953\"],[0.7777777777777778,\"#fb9f3a\"],[0.8888888888888888,\"#fdca26\"],[1.0,\"#f0f921\"]],\"sequentialminus\":[[0.0,\"#0d0887\"],[0.1111111111111111,\"#46039f\"],[0.2222222222222222,\"#7201a8\"],[0.3333333333333333,\"#9c179e\"],[0.4444444444444444,\"#bd3786\"],[0.5555555555555556,\"#d8576b\"],[0.6666666666666666,\"#ed7953\"],[0.7777777777777778,\"#fb9f3a\"],[0.8888888888888888,\"#fdca26\"],[1.0,\"#f0f921\"]]},\"colorway\":[\"#636efa\",\"#EF553B\",\"#00cc96\",\"#ab63fa\",\"#FFA15A\",\"#19d3f3\",\"#FF6692\",\"#B6E880\",\"#FF97FF\",\"#FECB52\"],\"font\":{\"color\":\"#2a3f5f\"},\"geo\":{\"bgcolor\":\"white\",\"lakecolor\":\"white\",\"landcolor\":\"#E5ECF6\",\"showlakes\":true,\"showland\":true,\"subunitcolor\":\"white\"},\"hoverlabel\":{\"align\":\"left\"},\"hovermode\":\"closest\",\"mapbox\":{\"style\":\"light\"},\"paper_bgcolor\":\"white\",\"plot_bgcolor\":\"#E5ECF6\",\"polar\":{\"angularaxis\":{\"gridcolor\":\"white\",\"linecolor\":\"white\",\"ticks\":\"\"},\"bgcolor\":\"#E5ECF6\",\"radialaxis\":{\"gridcolor\":\"white\",\"linecolor\":\"white\",\"ticks\":\"\"}},\"scene\":{\"xaxis\":{\"backgroundcolor\":\"#E5ECF6\",\"gridcolor\":\"white\",\"gridwidth\":2,\"linecolor\":\"white\",\"showbackground\":true,\"ticks\":\"\",\"zerolinecolor\":\"white\"},\"yaxis\":{\"backgroundcolor\":\"#E5ECF6\",\"gridcolor\":\"white\",\"gridwidth\":2,\"linecolor\":\"white\",\"showbackground\":true,\"ticks\":\"\",\"zerolinecolor\":\"white\"},\"zaxis\":{\"backgroundcolor\":\"#E5ECF6\",\"gridcolor\":\"white\",\"gridwidth\":2,\"linecolor\":\"white\",\"showbackground\":true,\"ticks\":\"\",\"zerolinecolor\":\"white\"}},\"shapedefaults\":{\"line\":{\"color\":\"#2a3f5f\"}},\"ternary\":{\"aaxis\":{\"gridcolor\":\"white\",\"linecolor\":\"white\",\"ticks\":\"\"},\"baxis\":{\"gridcolor\":\"white\",\"linecolor\":\"white\",\"ticks\":\"\"},\"bgcolor\":\"#E5ECF6\",\"caxis\":{\"gridcolor\":\"white\",\"linecolor\":\"white\",\"ticks\":\"\"}},\"title\":{\"x\":0.05},\"xaxis\":{\"automargin\":true,\"gridcolor\":\"white\",\"linecolor\":\"white\",\"ticks\":\"\",\"title\":{\"standoff\":15},\"zerolinecolor\":\"white\",\"zerolinewidth\":2},\"yaxis\":{\"automargin\":true,\"gridcolor\":\"white\",\"linecolor\":\"white\",\"ticks\":\"\",\"title\":{\"standoff\":15},\"zerolinecolor\":\"white\",\"zerolinewidth\":2}}},\"xaxis\":{\"anchor\":\"y\",\"domain\":[0.0,1.0],\"title\":{\"text\":\"miles\"}},\"yaxis\":{\"anchor\":\"x\",\"domain\":[0.0,1.0],\"title\":{\"text\":\"calories\"},\"range\":[0,1650]},\"coloraxis\":{\"colorbar\":{\"title\":{\"text\":\"calories\"}},\"colorscale\":[[0.0,\"#0d0887\"],[0.1111111111111111,\"#46039f\"],[0.2222222222222222,\"#7201a8\"],[0.3333333333333333,\"#9c179e\"],[0.4444444444444444,\"#bd3786\"],[0.5555555555555556,\"#d8576b\"],[0.6666666666666666,\"#ed7953\"],[0.7777777777777778,\"#fb9f3a\"],[0.8888888888888888,\"#fdca26\"],[1.0,\"#f0f921\"]]},\"legend\":{\"tracegroupgap\":0},\"title\":{\"text\":\"Miles vs. Calories [Colored by calories]\\nTrednline: R^2: 0.8634 Calories = 110.93*miles + 237.18\"}},                        {\"responsive\": true}                    ).then(function(){\n",
       "                            \n",
       "var gd = document.getElementById('6e0cfca6-5a5e-40d6-be4e-64fca25b4569');\n",
       "var x = new MutationObserver(function (mutations, observer) {{\n",
       "        var display = window.getComputedStyle(gd).display;\n",
       "        if (!display || display === 'none') {{\n",
       "            console.log([gd, 'removed!']);\n",
       "            Plotly.purge(gd);\n",
       "            observer.disconnect();\n",
       "        }}\n",
       "}});\n",
       "\n",
       "// Listen for the removal of the full notebook cells\n",
       "var notebookContainer = gd.closest('#notebook-container');\n",
       "if (notebookContainer) {{\n",
       "    x.observe(notebookContainer, {childList: true});\n",
       "}}\n",
       "\n",
       "// Listen for the clearing of the current output cell\n",
       "var outputEl = gd.closest('.output');\n",
       "if (outputEl) {{\n",
       "    x.observe(outputEl, {childList: true});\n",
       "}}\n",
       "\n",
       "                        })                };                });            </script>        </div>"
      ]
     },
     "metadata": {},
     "output_type": "display_data"
    },
    {
     "data": {
      "application/vnd.plotly.v1+json": {
       "config": {
        "plotlyServerURL": "https://plot.ly"
       },
       "data": [
        {
         "hovertemplate": "miles=%{marker.color}<br>calories=%{y}<extra></extra>",
         "legendgroup": "",
         "marker": {
          "color": [
           3.7227182960896,
           1.89697656857255,
           1.69672284643189,
           1.50265448247135,
           2.17399213702361,
           2.8613187713283,
           2.03039214641993,
           1.91121882024395,
           2.31448767523881,
           1.95208568625946,
           6.92860194070912,
           4.15937533849185,
           1.89107087649194,
           6.6670065029303,
           6.13790113658745,
           4.21207813324155,
           6.17385569064731,
           2.58355182420388,
           1.83967908633737,
           3.50761759282414,
           2.22612587092695,
           3.57788624233396,
           2.35958763075875,
           2.90857573468183,
           2.32284943275682,
           2.62577864649961,
           2.26028392517989,
           2.69171511419138,
           3.39927874879608,
           1.75416776296777,
           1.54259908460691,
           2.27627384758519,
           2.55947342604441,
           2.35882699078795,
           3.16028157941314,
           2.78205788189416,
           4.72188839635251,
           3.51503809870662,
           2.00356853780855,
           3.77172795121953,
           1.95001944723911,
           2.66399534134504,
           3.53286239904294,
           3.69976795024191,
           2.37595121835825,
           3.5481121277546,
           2.82652954394306,
           1.98679931123577,
           4.70645776944762,
           1.49286790889824,
           4.92650001152228,
           1.93924831880721,
           2.67971639580876,
           1.65805458842329,
           3.16673590682393,
           1.88083212526027,
           1.91247239571794,
           4.95315955612041,
           2.09386661635807,
           2.56667837221265,
           2.26359657460519,
           2.32694609758516,
           2.54800516981329,
           2.12564613842705,
           9.91535536436513,
           1.84184790812584,
           1.87380294959645,
           1.95813949360542,
           1.89608454529738,
           1.98099992105229,
           1.43085835163897,
           3.71458532922639,
           2.22799593687401,
           3.07577656480184,
           2.21038384965456,
           1.87219511738554,
           2.11259840610259,
           3.25147914430459,
           3.59909596327138,
           2.73333180445284,
           6.6461977858349,
           5.33128756527608,
           3.93337338839219,
           2.39956084172566,
           2.60089421809223,
           3.07426339218733,
           2.6004104557134,
           1.59246580096944,
           2.38807196003928,
           2.86277717893406,
           1.68078672005971,
           8.98289631285285,
           4.62545801063221,
           2.05500524675847,
           3.04972805379401,
           2.50860739151148,
           2.81114006946558,
           3.88146123130472,
           3.68442987236766,
           10.1391572699686,
           2.47516568018223,
           1.74913376973316,
           2.40258264325035,
           3.7190895060851,
           4.770094163346,
           1.44969323949489,
           2.27933260769196,
           2.41555389972494,
           2.31764286144094,
           2.74515591247363,
           2.42443550748294,
           4.48008421871056,
           3.67333426996896,
           3.66706679974464,
           2.66240119276147,
           2.04075245650776,
           4.79325111997681,
           2.1285842643241,
           2.67531918411518,
           3.32335823408366,
           2.27309132369842,
           2.26398504839911,
           3.12278360339361,
           3.98827009174983,
           5.33963920438035,
           2.55189903307512,
           2.67553156393015,
           2.59981241283934,
           1.22091629785606,
           2.03393794752028,
           2.92118591797054,
           1.37181479302187,
           3.94669870357063,
           4.17534613850156,
           4.30305287573727,
           2.78720413257814,
           2.94017984163379,
           3.04725789539492,
           1.62864792636102,
           4.51025543871143,
           3.70011871983419,
           2.38776700172334,
           2.32622579769725,
           3.20731973635455,
           3.16800103447259,
           3.04175118954253,
           6.04815434303131,
           4.35558176186636,
           2.63278226984012,
           4.96664389123943,
           3.03990160880213,
           2.90597878468371,
           2.36571704183832,
           4.16650323754961,
           4.10190210606757,
           4.43755432604092,
           2.60929094780083,
           3.25312449039869,
           6.16311529348146,
           2.32169328726451,
           2.13641263331836,
           2.20374634562317,
           4.13014378981128,
           3.29418180158206,
           1.95703795415023,
           3.37690587044714,
           7.47629183662241,
           7.7997719160753,
           2.44393963006505,
           3.72150093949588,
           3.36695868951072,
           4.59853436217258,
           4.99399474922013,
           8.81002431852695,
           2.69370271786663,
           2.894432379704,
           1.04357894297672,
           10.0515968865464,
           1.85440527763036,
           2.83184869093686,
           6.11315445609744,
           2.06906073711222,
           8.13610812634908,
           9.25305349115031,
           7.78597023788843,
           2.87606941015,
           1.69659160384954,
           4.98869972464642,
           3.10692500065642,
           6.85741086647214,
           6.9156556257296,
           9.49152221637672,
           3.2434050073374,
           1.66715960767037,
           2.58055934701339,
           2.87872246099597,
           10.1934268765139,
           6.80903627677101,
           8.37388493141669,
           1.74327787085083,
           2.97282699606303,
           2.43204334173389,
           7.00561515721937,
           7.34874149593573,
           7.17115970113234,
           1.79824548028125,
           5.03895330744063,
           2.10740121672953,
           3.85977092637756,
           3.28797041839698,
           3.52469636875327,
           2.42336730809822,
           4.92475807397587,
           3.41331435360436,
           1.70456052752075,
           2.58216034386374,
           1.98023097524678,
           1.35682540099157,
           8.72222396444854,
           6.50122232997997,
           1.85544499963426,
           4.19630273149514,
           4.77545069083959,
           9.15488172961112,
           7.61856665054742,
           7.93652008573604,
           1.71794094343502,
           6.02558914801752,
           4.47365963505051,
           2.69596522483297,
           1.33962477804994,
           8.19690687426542,
           7.21859313863329,
           1.67474768248942,
           1.43660776370854,
           8.20587697144449,
           1.73270093793653,
           1.99423276417736,
           8.24397674111505,
           7.05341557654305,
           4.23169682968375,
           2.76389849179254,
           4.12356901644297,
           4.24885427172951,
           2.4722527167102,
           2.05379553861734,
           4.15006157645799,
           3.57583583270703,
           4.58163668686538,
           2.38297830580469,
           4.45093540451652,
           2.2831612153631,
           1.71613783203482,
           1.97817600981042,
           2.42826496376655,
           5.19440534065112,
           2.71279968637717,
           1.18271120299168,
           1.37900047499638,
           2.5437816642019,
           1.54693894343893,
           3.60936679163614,
           4.91135236178864,
           1.20006574670264,
           4.05593794726139,
           2.40374169480598,
           4.80552497172347,
           3.07222688980633,
           1.99074250417002,
           6.3910794952137,
           1.02085968918593,
           3.77390625979149,
           5.09908122725748,
           2.6273422179704,
           2.00072430076177,
           2.40700390365597,
           4.20083506972067,
           1.12011235963576,
           1.27022844833434,
           2.35462369720377,
           4.15423157762682,
           2.66557818227384,
           2.14394161037632,
           3.6350486326847,
           1.31897537626006,
           4.62114411417071,
           3.18454527343861,
           5.39740332541934,
           2.26079711110495,
           2.26420197015865,
           4.88760038017272,
           1.18786877768916,
           4.10645178320774,
           3.66817497635389,
           1.21955999053671,
           2.60308726635712,
           2.01974870809551,
           2.26411283381552,
           2.44691040697134,
           1.45278121152565,
           2.26541676155191,
           2.61591475964101,
           1.78579695064934,
           3.29831027081233,
           4.57958969605246,
           2.49112591114865,
           1.05012995289292,
           3.84538550726899,
           3.1639929816614,
           1.04407339411259,
           1.33540583984468,
           4.19995757674169,
           1.03307314202845,
           4.4797453294823,
           3.81406762887154,
           5.28063031538382,
           1.46935247453648,
           4.43786913607224,
           3.8506157664763,
           4.55749000607362,
           2.97639733449023,
           4.05399509002682,
           1.44204913694836,
           1.33042780457446,
           2.10438125038387,
           2.3701387969595,
           1.28111717280455,
           1.63135661677697,
           2.84430906495892,
           4.48330908897347,
           2.25666045646791,
           5.82539869642723,
           2.30485439186397,
           2.62882791851514,
           1.49959609834733,
           7.70344248162788,
           2.57760037782735,
           4.86164569335249,
           3.16400245247995,
           4.67106078271619,
           4.12281937306264,
           4.89356732858663,
           6.30859381572157,
           3.04626467765329,
           4.11092442614219,
           4.87067328327157,
           2.76598241334086,
           1.76076279732018,
           1.0473012982691,
           2.88329461484827,
           4.29476670321422,
           2.02828617493829,
           4.23551840436992,
           1.1717287319885,
           2.83664394734437,
           3.17701484772975,
           1.56006341136723,
           2.03270788076118,
           1.69404267859633,
           5.73792989060081,
           2.42009737153147,
           2.92863658125028
          ],
          "coloraxis": "coloraxis",
          "symbol": "circle"
         },
         "mode": "markers",
         "name": "",
         "orientation": "v",
         "showlegend": false,
         "type": "scatter",
         "x": [
          3.7227182960896,
          1.89697656857255,
          1.69672284643189,
          1.50265448247135,
          2.17399213702361,
          2.8613187713283,
          2.03039214641993,
          1.91121882024395,
          2.31448767523881,
          1.95208568625946,
          6.92860194070912,
          4.15937533849185,
          1.89107087649194,
          6.6670065029303,
          6.13790113658745,
          4.21207813324155,
          6.17385569064731,
          2.58355182420388,
          1.83967908633737,
          3.50761759282414,
          2.22612587092695,
          3.57788624233396,
          2.35958763075875,
          2.90857573468183,
          2.32284943275682,
          2.62577864649961,
          2.26028392517989,
          2.69171511419138,
          3.39927874879608,
          1.75416776296777,
          1.54259908460691,
          2.27627384758519,
          2.55947342604441,
          2.35882699078795,
          3.16028157941314,
          2.78205788189416,
          4.72188839635251,
          3.51503809870662,
          2.00356853780855,
          3.77172795121953,
          1.95001944723911,
          2.66399534134504,
          3.53286239904294,
          3.69976795024191,
          2.37595121835825,
          3.5481121277546,
          2.82652954394306,
          1.98679931123577,
          4.70645776944762,
          1.49286790889824,
          4.92650001152228,
          1.93924831880721,
          2.67971639580876,
          1.65805458842329,
          3.16673590682393,
          1.88083212526027,
          1.91247239571794,
          4.95315955612041,
          2.09386661635807,
          2.56667837221265,
          2.26359657460519,
          2.32694609758516,
          2.54800516981329,
          2.12564613842705,
          9.91535536436513,
          1.84184790812584,
          1.87380294959645,
          1.95813949360542,
          1.89608454529738,
          1.98099992105229,
          1.43085835163897,
          3.71458532922639,
          2.22799593687401,
          3.07577656480184,
          2.21038384965456,
          1.87219511738554,
          2.11259840610259,
          3.25147914430459,
          3.59909596327138,
          2.73333180445284,
          6.6461977858349,
          5.33128756527608,
          3.93337338839219,
          2.39956084172566,
          2.60089421809223,
          3.07426339218733,
          2.6004104557134,
          1.59246580096944,
          2.38807196003928,
          2.86277717893406,
          1.68078672005971,
          8.98289631285285,
          4.62545801063221,
          2.05500524675847,
          3.04972805379401,
          2.50860739151148,
          2.81114006946558,
          3.88146123130472,
          3.68442987236766,
          10.1391572699686,
          2.47516568018223,
          1.74913376973316,
          2.40258264325035,
          3.7190895060851,
          4.770094163346,
          1.44969323949489,
          2.27933260769196,
          2.41555389972494,
          2.31764286144094,
          2.74515591247363,
          2.42443550748294,
          4.48008421871056,
          3.67333426996896,
          3.66706679974464,
          2.66240119276147,
          2.04075245650776,
          4.79325111997681,
          2.1285842643241,
          2.67531918411518,
          3.32335823408366,
          2.27309132369842,
          2.26398504839911,
          3.12278360339361,
          3.98827009174983,
          5.33963920438035,
          2.55189903307512,
          2.67553156393015,
          2.59981241283934,
          1.22091629785606,
          2.03393794752028,
          2.92118591797054,
          1.37181479302187,
          3.94669870357063,
          4.17534613850156,
          4.30305287573727,
          2.78720413257814,
          2.94017984163379,
          3.04725789539492,
          1.62864792636102,
          4.51025543871143,
          3.70011871983419,
          2.38776700172334,
          2.32622579769725,
          3.20731973635455,
          3.16800103447259,
          3.04175118954253,
          6.04815434303131,
          4.35558176186636,
          2.63278226984012,
          4.96664389123943,
          3.03990160880213,
          2.90597878468371,
          2.36571704183832,
          4.16650323754961,
          4.10190210606757,
          4.43755432604092,
          2.60929094780083,
          3.25312449039869,
          6.16311529348146,
          2.32169328726451,
          2.13641263331836,
          2.20374634562317,
          4.13014378981128,
          3.29418180158206,
          1.95703795415023,
          3.37690587044714,
          7.47629183662241,
          7.7997719160753,
          2.44393963006505,
          3.72150093949588,
          3.36695868951072,
          4.59853436217258,
          4.99399474922013,
          8.81002431852695,
          2.69370271786663,
          2.894432379704,
          1.04357894297672,
          10.0515968865464,
          1.85440527763036,
          2.83184869093686,
          6.11315445609744,
          2.06906073711222,
          8.13610812634908,
          9.25305349115031,
          7.78597023788843,
          2.87606941015,
          1.69659160384954,
          4.98869972464642,
          3.10692500065642,
          6.85741086647214,
          6.9156556257296,
          9.49152221637672,
          3.2434050073374,
          1.66715960767037,
          2.58055934701339,
          2.87872246099597,
          10.1934268765139,
          6.80903627677101,
          8.37388493141669,
          1.74327787085083,
          2.97282699606303,
          2.43204334173389,
          7.00561515721937,
          7.34874149593573,
          7.17115970113234,
          1.79824548028125,
          5.03895330744063,
          2.10740121672953,
          3.85977092637756,
          3.28797041839698,
          3.52469636875327,
          2.42336730809822,
          4.92475807397587,
          3.41331435360436,
          1.70456052752075,
          2.58216034386374,
          1.98023097524678,
          1.35682540099157,
          8.72222396444854,
          6.50122232997997,
          1.85544499963426,
          4.19630273149514,
          4.77545069083959,
          9.15488172961112,
          7.61856665054742,
          7.93652008573604,
          1.71794094343502,
          6.02558914801752,
          4.47365963505051,
          2.69596522483297,
          1.33962477804994,
          8.19690687426542,
          7.21859313863329,
          1.67474768248942,
          1.43660776370854,
          8.20587697144449,
          1.73270093793653,
          1.99423276417736,
          8.24397674111505,
          7.05341557654305,
          4.23169682968375,
          2.76389849179254,
          4.12356901644297,
          4.24885427172951,
          2.4722527167102,
          2.05379553861734,
          4.15006157645799,
          3.57583583270703,
          4.58163668686538,
          2.38297830580469,
          4.45093540451652,
          2.2831612153631,
          1.71613783203482,
          1.97817600981042,
          2.42826496376655,
          5.19440534065112,
          2.71279968637717,
          1.18271120299168,
          1.37900047499638,
          2.5437816642019,
          1.54693894343893,
          3.60936679163614,
          4.91135236178864,
          1.20006574670264,
          4.05593794726139,
          2.40374169480598,
          4.80552497172347,
          3.07222688980633,
          1.99074250417002,
          6.3910794952137,
          1.02085968918593,
          3.77390625979149,
          5.09908122725748,
          2.6273422179704,
          2.00072430076177,
          2.40700390365597,
          4.20083506972067,
          1.12011235963576,
          1.27022844833434,
          2.35462369720377,
          4.15423157762682,
          2.66557818227384,
          2.14394161037632,
          3.6350486326847,
          1.31897537626006,
          4.62114411417071,
          3.18454527343861,
          5.39740332541934,
          2.26079711110495,
          2.26420197015865,
          4.88760038017272,
          1.18786877768916,
          4.10645178320774,
          3.66817497635389,
          1.21955999053671,
          2.60308726635712,
          2.01974870809551,
          2.26411283381552,
          2.44691040697134,
          1.45278121152565,
          2.26541676155191,
          2.61591475964101,
          1.78579695064934,
          3.29831027081233,
          4.57958969605246,
          2.49112591114865,
          1.05012995289292,
          3.84538550726899,
          3.1639929816614,
          1.04407339411259,
          1.33540583984468,
          4.19995757674169,
          1.03307314202845,
          4.4797453294823,
          3.81406762887154,
          5.28063031538382,
          1.46935247453648,
          4.43786913607224,
          3.8506157664763,
          4.55749000607362,
          2.97639733449023,
          4.05399509002682,
          1.44204913694836,
          1.33042780457446,
          2.10438125038387,
          2.3701387969595,
          1.28111717280455,
          1.63135661677697,
          2.84430906495892,
          4.48330908897347,
          2.25666045646791,
          5.82539869642723,
          2.30485439186397,
          2.62882791851514,
          1.49959609834733,
          7.70344248162788,
          2.57760037782735,
          4.86164569335249,
          3.16400245247995,
          4.67106078271619,
          4.12281937306264,
          4.89356732858663,
          6.30859381572157,
          3.04626467765329,
          4.11092442614219,
          4.87067328327157,
          2.76598241334086,
          1.76076279732018,
          1.0473012982691,
          2.88329461484827,
          4.29476670321422,
          2.02828617493829,
          4.23551840436992,
          1.1717287319885,
          2.83664394734437,
          3.17701484772975,
          1.56006341136723,
          2.03270788076118,
          1.69404267859633,
          5.73792989060081,
          2.42009737153147,
          2.92863658125028
         ],
         "xaxis": "x",
         "y": [
          692.881761274166,
          536.691407956743,
          276.350999999999,
          270.923146762041,
          397.484041234037,
          702.107462456384,
          519.341933890192,
          581.203987582989,
          527.071428074356,
          411.312179296951,
          1079.65282070305,
          829.228614293344,
          341.860385706658,
          962.018,
          950.258562819967,
          782.377880005755,
          863.036557174281,
          601.390587040521,
          492.184507807422,
          847.532824984648,
          526.002080167403,
          740.463040158474,
          443.602185651039,
          578.325922047423,
          562.67506105348,
          804.732100452362,
          625.442690637212,
          599.247000000001,
          942.563408961203,
          519.651591038795,
          346.525003615485,
          730.10611961992,
          625.839986220131,
          649.155890544466,
          738.649016125774,
          667.74798387423,
          868.244999999995,
          780.348999999994,
          524.527,
          729.921999999999,
          555.046,
          602.153999999999,
          853.013405611315,
          705.983594388686,
          364.538323219297,
          727.747711180903,
          740.778859978545,
          581.65610562125,
          984.971133534053,
          155.542866465948,
          1014.957,
          416.307999999999,
          635.235,
          360.860429151479,
          805.50064114854,
          272.074929699984,
          349.804545181544,
          887.250396414423,
          607.351058404035,
          566.378928260796,
          730.352262013146,
          595.26380972606,
          697.87973010914,
          725.171269890861,
          1500.07696169728,
          478.416038302721,
          489.886000000002,
          449.428000000002,
          489.258640602509,
          522.488359397494,
          360.299000000001,
          759.501,
          383.644000000001,
          625.488000000002,
          590.134000000003,
          522.654,
          631.001360707732,
          474.761639292269,
          613.390000000001,
          522.688180287642,
          642.310819712365,
          874.482543178304,
          191.519456821696,
          684.538090706095,
          553.755000000001,
          479.437000000001,
          724.016652267443,
          475.901347732558,
          618.385603417631,
          717.536429880361,
          482.332966702008,
          1535.93199999995,
          812.251000000002,
          492.491395118112,
          716.233325308533,
          521.111279573353,
          661.526402369546,
          801.419597630454,
          565.346,
          1625.688,
          540.542126153119,
          411.100873846882,
          670.561999999999,
          678.925000000001,
          995.140506432119,
          386.344337030111,
          472.877156537772,
          536.63,
          612.783437700391,
          538.090562299611,
          335.021391714572,
          837.034179979101,
          631.833428306328,
          808.075,
          634.446,
          587.592,
          616.007,
          536.116141402322,
          491.464858597676,
          622.062,
          566.847547364073,
          592.330297460266,
          440.162771034808,
          603.014384140851,
          799.475909382761,
          475.292090617239,
          491.172,
          569.617245538077,
          163.189414172474,
          515.060243889038,
          609.084531973524,
          263.783970592476,
          772.215473035205,
          780.594397650478,
          534.94972314873,
          515.984000000001,
          520.177803481137,
          548.641196518863,
          372.587999999999,
          708.202000000001,
          692.314146984756,
          299.498853015245,
          414.976062800549,
          605.166743715387,
          633.522193484066,
          550.957,
          963.982000000002,
          769.025828518746,
          415.53518421234,
          573.321987268914,
          415.857607961909,
          706.426392038091,
          571.292014001682,
          800.056985998318,
          693.977540662708,
          706.132459337292,
          515.119183178456,
          652.695816821545,
          886.734124816746,
          458.061273121753,
          411.964602061503,
          439.290226740476,
          638.679394862505,
          654.890378397021,
          327.140631450129,
          600.059159172363,
          1051.88220937751,
          1319.18843597884,
          556.875000745648,
          572.513563275512,
          530.767227956033,
          629.142590744154,
          503.782181299813,
          858.383926285102,
          420.1420737149,
          741.233639167498,
          386.271360832504,
          1267.95233365905,
          359.063666340958,
          509.083,
          875.847246858773,
          407.535753141229,
          922.402000000002,
          1141.341,
          935.110000000001,
          681.737000000001,
          238.928319188135,
          689.745035431451,
          669.211645380416,
          849.433000000001,
          989.361999999999,
          1167.15537836289,
          563.163425613793,
          471.128079716367,
          434.875116306951,
          559.684,
          1150.779,
          962.661,
          1100.40480626053,
          295.962193114774,
          425.090460407364,
          430.582540217333,
          802.961000000001,
          866.812000000002,
          954.993000000001,
          270.808095283988,
          894.935904716012,
          271.646485089344,
          708.64851491065,
          734.148621888718,
          491.831378111282,
          520.3214667327,
          755.1325332673,
          584.794000000001,
          362.208058756678,
          381.753984479676,
          387.073956763646,
          161.317,
          1057.698,
          749.900000000001,
          332.339682542849,
          714.56631745715,
          713.007000000001,
          1181.71100000001,
          1019.355,
          1024.422,
          327.134999999999,
          838.405704195417,
          682.317937334437,
          293.052358470147,
          208.5,
          1035.6,
          802.842000000001,
          303.27,
          178.928,
          1065.429,
          317.534,
          263.256,
          1065.797,
          927.361999999999,
          665.81214709,
          415.45385291,
          831.212820510729,
          838.724552739307,
          436.867690406995,
          492.795688283335,
          561.622068570364,
          533.654,
          936.481840421691,
          585.403224631292,
          719.102934947018,
          464.363136640531,
          303.336248001888,
          540.651169798052,
          481.521697444488,
          975.905013194923,
          333.441734920119,
          196.908,
          356.646125167151,
          563.89887483285,
          341.504,
          567.63,
          862.275,
          269.899,
          667.8412218068,
          458.821250731451,
          715.62552746175,
          691.691333241874,
          160.526666758125,
          1024.1,
          285.064507253552,
          745.704492746449,
          649.546999999999,
          488.426083384419,
          265.409606491852,
          517.753310123729,
          796.453000000001,
          217.564,
          464.531723979791,
          610.616276020211,
          776.645,
          559.893230554547,
          434.490769445454,
          822.387650935921,
          373.579812993424,
          751.915536070656,
          484.869616983316,
          1016.48180783251,
          327.947617844774,
          479.530957339406,
          1030.531,
          326.091,
          804.604000000001,
          748.010000000001,
          382.493663980595,
          530.759336019406,
          456.064,
          557.356955357338,
          468.778885528117,
          351.981159114545,
          435.88,
          418.333,
          424.648999999999,
          574.641638299425,
          845.967361700576,
          651.637999999999,
          337.185876202426,
          593.449800298204,
          773.532260875062,
          405.154963006032,
          274.974613200867,
          843.053486417406,
          319.371,
          854.113280254247,
          683.842601700457,
          1044.02130415731,
          394.634923515958,
          725.498890372028,
          818.168189301097,
          748.643656321222,
          472.197902696585,
          728.177382409826,
          222.75686927127,
          356.612670266377,
          515.536329733624,
          342.808217873511,
          413.39116800725,
          516.142227413798,
          398.659386705442,
          950.043650956611,
          422.79534904339,
          951.573000000001,
          283.96837800639,
          572.892361969579,
          391.25226002403,
          1094.03,
          521.041689294737,
          835.955310705261,
          563.320167629931,
          927.321832370071,
          757.837139103892,
          918.40286089611,
          1177.927,
          443.46746830442,
          714.43553169558,
          825.161,
          583.287370466208,
          380.660629533794,
          257.043679849332,
          693.562427499041,
          786.448892651628,
          318.467,
          595.229999999999,
          284.751678736759,
          651.449321263242,
          572.449999999999,
          393.324374344616,
          262.894625655384,
          372.944,
          1043.59054542223,
          542.194505474998,
          615.976073397627
         ],
         "yaxis": "y"
        }
       ],
       "layout": {
        "coloraxis": {
         "colorbar": {
          "title": {
           "text": "miles"
          }
         },
         "colorscale": [
          [
           0,
           "#0d0887"
          ],
          [
           0.1111111111111111,
           "#46039f"
          ],
          [
           0.2222222222222222,
           "#7201a8"
          ],
          [
           0.3333333333333333,
           "#9c179e"
          ],
          [
           0.4444444444444444,
           "#bd3786"
          ],
          [
           0.5555555555555556,
           "#d8576b"
          ],
          [
           0.6666666666666666,
           "#ed7953"
          ],
          [
           0.7777777777777778,
           "#fb9f3a"
          ],
          [
           0.8888888888888888,
           "#fdca26"
          ],
          [
           1,
           "#f0f921"
          ]
         ]
        },
        "legend": {
         "tracegroupgap": 0
        },
        "template": {
         "data": {
          "bar": [
           {
            "error_x": {
             "color": "#2a3f5f"
            },
            "error_y": {
             "color": "#2a3f5f"
            },
            "marker": {
             "line": {
              "color": "#E5ECF6",
              "width": 0.5
             },
             "pattern": {
              "fillmode": "overlay",
              "size": 10,
              "solidity": 0.2
             }
            },
            "type": "bar"
           }
          ],
          "barpolar": [
           {
            "marker": {
             "line": {
              "color": "#E5ECF6",
              "width": 0.5
             },
             "pattern": {
              "fillmode": "overlay",
              "size": 10,
              "solidity": 0.2
             }
            },
            "type": "barpolar"
           }
          ],
          "carpet": [
           {
            "aaxis": {
             "endlinecolor": "#2a3f5f",
             "gridcolor": "white",
             "linecolor": "white",
             "minorgridcolor": "white",
             "startlinecolor": "#2a3f5f"
            },
            "baxis": {
             "endlinecolor": "#2a3f5f",
             "gridcolor": "white",
             "linecolor": "white",
             "minorgridcolor": "white",
             "startlinecolor": "#2a3f5f"
            },
            "type": "carpet"
           }
          ],
          "choropleth": [
           {
            "colorbar": {
             "outlinewidth": 0,
             "ticks": ""
            },
            "type": "choropleth"
           }
          ],
          "contour": [
           {
            "colorbar": {
             "outlinewidth": 0,
             "ticks": ""
            },
            "colorscale": [
             [
              0,
              "#0d0887"
             ],
             [
              0.1111111111111111,
              "#46039f"
             ],
             [
              0.2222222222222222,
              "#7201a8"
             ],
             [
              0.3333333333333333,
              "#9c179e"
             ],
             [
              0.4444444444444444,
              "#bd3786"
             ],
             [
              0.5555555555555556,
              "#d8576b"
             ],
             [
              0.6666666666666666,
              "#ed7953"
             ],
             [
              0.7777777777777778,
              "#fb9f3a"
             ],
             [
              0.8888888888888888,
              "#fdca26"
             ],
             [
              1,
              "#f0f921"
             ]
            ],
            "type": "contour"
           }
          ],
          "contourcarpet": [
           {
            "colorbar": {
             "outlinewidth": 0,
             "ticks": ""
            },
            "type": "contourcarpet"
           }
          ],
          "heatmap": [
           {
            "colorbar": {
             "outlinewidth": 0,
             "ticks": ""
            },
            "colorscale": [
             [
              0,
              "#0d0887"
             ],
             [
              0.1111111111111111,
              "#46039f"
             ],
             [
              0.2222222222222222,
              "#7201a8"
             ],
             [
              0.3333333333333333,
              "#9c179e"
             ],
             [
              0.4444444444444444,
              "#bd3786"
             ],
             [
              0.5555555555555556,
              "#d8576b"
             ],
             [
              0.6666666666666666,
              "#ed7953"
             ],
             [
              0.7777777777777778,
              "#fb9f3a"
             ],
             [
              0.8888888888888888,
              "#fdca26"
             ],
             [
              1,
              "#f0f921"
             ]
            ],
            "type": "heatmap"
           }
          ],
          "heatmapgl": [
           {
            "colorbar": {
             "outlinewidth": 0,
             "ticks": ""
            },
            "colorscale": [
             [
              0,
              "#0d0887"
             ],
             [
              0.1111111111111111,
              "#46039f"
             ],
             [
              0.2222222222222222,
              "#7201a8"
             ],
             [
              0.3333333333333333,
              "#9c179e"
             ],
             [
              0.4444444444444444,
              "#bd3786"
             ],
             [
              0.5555555555555556,
              "#d8576b"
             ],
             [
              0.6666666666666666,
              "#ed7953"
             ],
             [
              0.7777777777777778,
              "#fb9f3a"
             ],
             [
              0.8888888888888888,
              "#fdca26"
             ],
             [
              1,
              "#f0f921"
             ]
            ],
            "type": "heatmapgl"
           }
          ],
          "histogram": [
           {
            "marker": {
             "pattern": {
              "fillmode": "overlay",
              "size": 10,
              "solidity": 0.2
             }
            },
            "type": "histogram"
           }
          ],
          "histogram2d": [
           {
            "colorbar": {
             "outlinewidth": 0,
             "ticks": ""
            },
            "colorscale": [
             [
              0,
              "#0d0887"
             ],
             [
              0.1111111111111111,
              "#46039f"
             ],
             [
              0.2222222222222222,
              "#7201a8"
             ],
             [
              0.3333333333333333,
              "#9c179e"
             ],
             [
              0.4444444444444444,
              "#bd3786"
             ],
             [
              0.5555555555555556,
              "#d8576b"
             ],
             [
              0.6666666666666666,
              "#ed7953"
             ],
             [
              0.7777777777777778,
              "#fb9f3a"
             ],
             [
              0.8888888888888888,
              "#fdca26"
             ],
             [
              1,
              "#f0f921"
             ]
            ],
            "type": "histogram2d"
           }
          ],
          "histogram2dcontour": [
           {
            "colorbar": {
             "outlinewidth": 0,
             "ticks": ""
            },
            "colorscale": [
             [
              0,
              "#0d0887"
             ],
             [
              0.1111111111111111,
              "#46039f"
             ],
             [
              0.2222222222222222,
              "#7201a8"
             ],
             [
              0.3333333333333333,
              "#9c179e"
             ],
             [
              0.4444444444444444,
              "#bd3786"
             ],
             [
              0.5555555555555556,
              "#d8576b"
             ],
             [
              0.6666666666666666,
              "#ed7953"
             ],
             [
              0.7777777777777778,
              "#fb9f3a"
             ],
             [
              0.8888888888888888,
              "#fdca26"
             ],
             [
              1,
              "#f0f921"
             ]
            ],
            "type": "histogram2dcontour"
           }
          ],
          "mesh3d": [
           {
            "colorbar": {
             "outlinewidth": 0,
             "ticks": ""
            },
            "type": "mesh3d"
           }
          ],
          "parcoords": [
           {
            "line": {
             "colorbar": {
              "outlinewidth": 0,
              "ticks": ""
             }
            },
            "type": "parcoords"
           }
          ],
          "pie": [
           {
            "automargin": true,
            "type": "pie"
           }
          ],
          "scatter": [
           {
            "marker": {
             "colorbar": {
              "outlinewidth": 0,
              "ticks": ""
             }
            },
            "type": "scatter"
           }
          ],
          "scatter3d": [
           {
            "line": {
             "colorbar": {
              "outlinewidth": 0,
              "ticks": ""
             }
            },
            "marker": {
             "colorbar": {
              "outlinewidth": 0,
              "ticks": ""
             }
            },
            "type": "scatter3d"
           }
          ],
          "scattercarpet": [
           {
            "marker": {
             "colorbar": {
              "outlinewidth": 0,
              "ticks": ""
             }
            },
            "type": "scattercarpet"
           }
          ],
          "scattergeo": [
           {
            "marker": {
             "colorbar": {
              "outlinewidth": 0,
              "ticks": ""
             }
            },
            "type": "scattergeo"
           }
          ],
          "scattergl": [
           {
            "marker": {
             "colorbar": {
              "outlinewidth": 0,
              "ticks": ""
             }
            },
            "type": "scattergl"
           }
          ],
          "scattermapbox": [
           {
            "marker": {
             "colorbar": {
              "outlinewidth": 0,
              "ticks": ""
             }
            },
            "type": "scattermapbox"
           }
          ],
          "scatterpolar": [
           {
            "marker": {
             "colorbar": {
              "outlinewidth": 0,
              "ticks": ""
             }
            },
            "type": "scatterpolar"
           }
          ],
          "scatterpolargl": [
           {
            "marker": {
             "colorbar": {
              "outlinewidth": 0,
              "ticks": ""
             }
            },
            "type": "scatterpolargl"
           }
          ],
          "scatterternary": [
           {
            "marker": {
             "colorbar": {
              "outlinewidth": 0,
              "ticks": ""
             }
            },
            "type": "scatterternary"
           }
          ],
          "surface": [
           {
            "colorbar": {
             "outlinewidth": 0,
             "ticks": ""
            },
            "colorscale": [
             [
              0,
              "#0d0887"
             ],
             [
              0.1111111111111111,
              "#46039f"
             ],
             [
              0.2222222222222222,
              "#7201a8"
             ],
             [
              0.3333333333333333,
              "#9c179e"
             ],
             [
              0.4444444444444444,
              "#bd3786"
             ],
             [
              0.5555555555555556,
              "#d8576b"
             ],
             [
              0.6666666666666666,
              "#ed7953"
             ],
             [
              0.7777777777777778,
              "#fb9f3a"
             ],
             [
              0.8888888888888888,
              "#fdca26"
             ],
             [
              1,
              "#f0f921"
             ]
            ],
            "type": "surface"
           }
          ],
          "table": [
           {
            "cells": {
             "fill": {
              "color": "#EBF0F8"
             },
             "line": {
              "color": "white"
             }
            },
            "header": {
             "fill": {
              "color": "#C8D4E3"
             },
             "line": {
              "color": "white"
             }
            },
            "type": "table"
           }
          ]
         },
         "layout": {
          "annotationdefaults": {
           "arrowcolor": "#2a3f5f",
           "arrowhead": 0,
           "arrowwidth": 1
          },
          "autotypenumbers": "strict",
          "coloraxis": {
           "colorbar": {
            "outlinewidth": 0,
            "ticks": ""
           }
          },
          "colorscale": {
           "diverging": [
            [
             0,
             "#8e0152"
            ],
            [
             0.1,
             "#c51b7d"
            ],
            [
             0.2,
             "#de77ae"
            ],
            [
             0.3,
             "#f1b6da"
            ],
            [
             0.4,
             "#fde0ef"
            ],
            [
             0.5,
             "#f7f7f7"
            ],
            [
             0.6,
             "#e6f5d0"
            ],
            [
             0.7,
             "#b8e186"
            ],
            [
             0.8,
             "#7fbc41"
            ],
            [
             0.9,
             "#4d9221"
            ],
            [
             1,
             "#276419"
            ]
           ],
           "sequential": [
            [
             0,
             "#0d0887"
            ],
            [
             0.1111111111111111,
             "#46039f"
            ],
            [
             0.2222222222222222,
             "#7201a8"
            ],
            [
             0.3333333333333333,
             "#9c179e"
            ],
            [
             0.4444444444444444,
             "#bd3786"
            ],
            [
             0.5555555555555556,
             "#d8576b"
            ],
            [
             0.6666666666666666,
             "#ed7953"
            ],
            [
             0.7777777777777778,
             "#fb9f3a"
            ],
            [
             0.8888888888888888,
             "#fdca26"
            ],
            [
             1,
             "#f0f921"
            ]
           ],
           "sequentialminus": [
            [
             0,
             "#0d0887"
            ],
            [
             0.1111111111111111,
             "#46039f"
            ],
            [
             0.2222222222222222,
             "#7201a8"
            ],
            [
             0.3333333333333333,
             "#9c179e"
            ],
            [
             0.4444444444444444,
             "#bd3786"
            ],
            [
             0.5555555555555556,
             "#d8576b"
            ],
            [
             0.6666666666666666,
             "#ed7953"
            ],
            [
             0.7777777777777778,
             "#fb9f3a"
            ],
            [
             0.8888888888888888,
             "#fdca26"
            ],
            [
             1,
             "#f0f921"
            ]
           ]
          },
          "colorway": [
           "#636efa",
           "#EF553B",
           "#00cc96",
           "#ab63fa",
           "#FFA15A",
           "#19d3f3",
           "#FF6692",
           "#B6E880",
           "#FF97FF",
           "#FECB52"
          ],
          "font": {
           "color": "#2a3f5f"
          },
          "geo": {
           "bgcolor": "white",
           "lakecolor": "white",
           "landcolor": "#E5ECF6",
           "showlakes": true,
           "showland": true,
           "subunitcolor": "white"
          },
          "hoverlabel": {
           "align": "left"
          },
          "hovermode": "closest",
          "mapbox": {
           "style": "light"
          },
          "paper_bgcolor": "white",
          "plot_bgcolor": "#E5ECF6",
          "polar": {
           "angularaxis": {
            "gridcolor": "white",
            "linecolor": "white",
            "ticks": ""
           },
           "bgcolor": "#E5ECF6",
           "radialaxis": {
            "gridcolor": "white",
            "linecolor": "white",
            "ticks": ""
           }
          },
          "scene": {
           "xaxis": {
            "backgroundcolor": "#E5ECF6",
            "gridcolor": "white",
            "gridwidth": 2,
            "linecolor": "white",
            "showbackground": true,
            "ticks": "",
            "zerolinecolor": "white"
           },
           "yaxis": {
            "backgroundcolor": "#E5ECF6",
            "gridcolor": "white",
            "gridwidth": 2,
            "linecolor": "white",
            "showbackground": true,
            "ticks": "",
            "zerolinecolor": "white"
           },
           "zaxis": {
            "backgroundcolor": "#E5ECF6",
            "gridcolor": "white",
            "gridwidth": 2,
            "linecolor": "white",
            "showbackground": true,
            "ticks": "",
            "zerolinecolor": "white"
           }
          },
          "shapedefaults": {
           "line": {
            "color": "#2a3f5f"
           }
          },
          "ternary": {
           "aaxis": {
            "gridcolor": "white",
            "linecolor": "white",
            "ticks": ""
           },
           "baxis": {
            "gridcolor": "white",
            "linecolor": "white",
            "ticks": ""
           },
           "bgcolor": "#E5ECF6",
           "caxis": {
            "gridcolor": "white",
            "linecolor": "white",
            "ticks": ""
           }
          },
          "title": {
           "x": 0.05
          },
          "xaxis": {
           "automargin": true,
           "gridcolor": "white",
           "linecolor": "white",
           "ticks": "",
           "title": {
            "standoff": 15
           },
           "zerolinecolor": "white",
           "zerolinewidth": 2
          },
          "yaxis": {
           "automargin": true,
           "gridcolor": "white",
           "linecolor": "white",
           "ticks": "",
           "title": {
            "standoff": 15
           },
           "zerolinecolor": "white",
           "zerolinewidth": 2
          }
         }
        },
        "title": {
         "text": "Miles vs. Calories [Colored by miles]\nTrednline: R^2: 0.8634 Calories = 110.93*miles + 237.18"
        },
        "xaxis": {
         "anchor": "y",
         "domain": [
          0,
          1
         ],
         "title": {
          "text": "miles"
         }
        },
        "yaxis": {
         "anchor": "x",
         "domain": [
          0,
          1
         ],
         "range": [
          0,
          1650
         ],
         "title": {
          "text": "calories"
         }
        }
       }
      },
      "text/html": [
       "<div>                            <div id=\"6df18f84-4726-4731-95ce-844a184aa8d8\" class=\"plotly-graph-div\" style=\"height:525px; width:100%;\"></div>            <script type=\"text/javascript\">                require([\"plotly\"], function(Plotly) {                    window.PLOTLYENV=window.PLOTLYENV || {};                                    if (document.getElementById(\"6df18f84-4726-4731-95ce-844a184aa8d8\")) {                    Plotly.newPlot(                        \"6df18f84-4726-4731-95ce-844a184aa8d8\",                        [{\"hovertemplate\":\"miles=%{marker.color}<br>calories=%{y}<extra></extra>\",\"legendgroup\":\"\",\"marker\":{\"color\":[3.7227182960896,1.89697656857255,1.69672284643189,1.50265448247135,2.17399213702361,2.8613187713283,2.03039214641993,1.91121882024395,2.31448767523881,1.95208568625946,6.92860194070912,4.15937533849185,1.89107087649194,6.6670065029303,6.13790113658745,4.21207813324155,6.17385569064731,2.58355182420388,1.83967908633737,3.50761759282414,2.22612587092695,3.57788624233396,2.35958763075875,2.90857573468183,2.32284943275682,2.62577864649961,2.26028392517989,2.69171511419138,3.39927874879608,1.75416776296777,1.54259908460691,2.27627384758519,2.55947342604441,2.35882699078795,3.16028157941314,2.78205788189416,4.72188839635251,3.51503809870662,2.00356853780855,3.77172795121953,1.95001944723911,2.66399534134504,3.53286239904294,3.69976795024191,2.37595121835825,3.5481121277546,2.82652954394306,1.98679931123577,4.70645776944762,1.49286790889824,4.92650001152228,1.93924831880721,2.67971639580876,1.65805458842329,3.16673590682393,1.88083212526027,1.91247239571794,4.95315955612041,2.09386661635807,2.56667837221265,2.26359657460519,2.32694609758516,2.54800516981329,2.12564613842705,9.91535536436513,1.84184790812584,1.87380294959645,1.95813949360542,1.89608454529738,1.98099992105229,1.43085835163897,3.71458532922639,2.22799593687401,3.07577656480184,2.21038384965456,1.87219511738554,2.11259840610259,3.25147914430459,3.59909596327138,2.73333180445284,6.6461977858349,5.33128756527608,3.93337338839219,2.39956084172566,2.60089421809223,3.07426339218733,2.6004104557134,1.59246580096944,2.38807196003928,2.86277717893406,1.68078672005971,8.98289631285285,4.62545801063221,2.05500524675847,3.04972805379401,2.50860739151148,2.81114006946558,3.88146123130472,3.68442987236766,10.1391572699686,2.47516568018223,1.74913376973316,2.40258264325035,3.7190895060851,4.770094163346,1.44969323949489,2.27933260769196,2.41555389972494,2.31764286144094,2.74515591247363,2.42443550748294,4.48008421871056,3.67333426996896,3.66706679974464,2.66240119276147,2.04075245650776,4.79325111997681,2.1285842643241,2.67531918411518,3.32335823408366,2.27309132369842,2.26398504839911,3.12278360339361,3.98827009174983,5.33963920438035,2.55189903307512,2.67553156393015,2.59981241283934,1.22091629785606,2.03393794752028,2.92118591797054,1.37181479302187,3.94669870357063,4.17534613850156,4.30305287573727,2.78720413257814,2.94017984163379,3.04725789539492,1.62864792636102,4.51025543871143,3.70011871983419,2.38776700172334,2.32622579769725,3.20731973635455,3.16800103447259,3.04175118954253,6.04815434303131,4.35558176186636,2.63278226984012,4.96664389123943,3.03990160880213,2.90597878468371,2.36571704183832,4.16650323754961,4.10190210606757,4.43755432604092,2.60929094780083,3.25312449039869,6.16311529348146,2.32169328726451,2.13641263331836,2.20374634562317,4.13014378981128,3.29418180158206,1.95703795415023,3.37690587044714,7.47629183662241,7.7997719160753,2.44393963006505,3.72150093949588,3.36695868951072,4.59853436217258,4.99399474922013,8.81002431852695,2.69370271786663,2.894432379704,1.04357894297672,10.0515968865464,1.85440527763036,2.83184869093686,6.11315445609744,2.06906073711222,8.13610812634908,9.25305349115031,7.78597023788843,2.87606941015,1.69659160384954,4.98869972464642,3.10692500065642,6.85741086647214,6.9156556257296,9.49152221637672,3.2434050073374,1.66715960767037,2.58055934701339,2.87872246099597,10.1934268765139,6.80903627677101,8.37388493141669,1.74327787085083,2.97282699606303,2.43204334173389,7.00561515721937,7.34874149593573,7.17115970113234,1.79824548028125,5.03895330744063,2.10740121672953,3.85977092637756,3.28797041839698,3.52469636875327,2.42336730809822,4.92475807397587,3.41331435360436,1.70456052752075,2.58216034386374,1.98023097524678,1.35682540099157,8.72222396444854,6.50122232997997,1.85544499963426,4.19630273149514,4.77545069083959,9.15488172961112,7.61856665054742,7.93652008573604,1.71794094343502,6.02558914801752,4.47365963505051,2.69596522483297,1.33962477804994,8.19690687426542,7.21859313863329,1.67474768248942,1.43660776370854,8.20587697144449,1.73270093793653,1.99423276417736,8.24397674111505,7.05341557654305,4.23169682968375,2.76389849179254,4.12356901644297,4.24885427172951,2.4722527167102,2.05379553861734,4.15006157645799,3.57583583270703,4.58163668686538,2.38297830580469,4.45093540451652,2.2831612153631,1.71613783203482,1.97817600981042,2.42826496376655,5.19440534065112,2.71279968637717,1.18271120299168,1.37900047499638,2.5437816642019,1.54693894343893,3.60936679163614,4.91135236178864,1.20006574670264,4.05593794726139,2.40374169480598,4.80552497172347,3.07222688980633,1.99074250417002,6.3910794952137,1.02085968918593,3.77390625979149,5.09908122725748,2.6273422179704,2.00072430076177,2.40700390365597,4.20083506972067,1.12011235963576,1.27022844833434,2.35462369720377,4.15423157762682,2.66557818227384,2.14394161037632,3.6350486326847,1.31897537626006,4.62114411417071,3.18454527343861,5.39740332541934,2.26079711110495,2.26420197015865,4.88760038017272,1.18786877768916,4.10645178320774,3.66817497635389,1.21955999053671,2.60308726635712,2.01974870809551,2.26411283381552,2.44691040697134,1.45278121152565,2.26541676155191,2.61591475964101,1.78579695064934,3.29831027081233,4.57958969605246,2.49112591114865,1.05012995289292,3.84538550726899,3.1639929816614,1.04407339411259,1.33540583984468,4.19995757674169,1.03307314202845,4.4797453294823,3.81406762887154,5.28063031538382,1.46935247453648,4.43786913607224,3.8506157664763,4.55749000607362,2.97639733449023,4.05399509002682,1.44204913694836,1.33042780457446,2.10438125038387,2.3701387969595,1.28111717280455,1.63135661677697,2.84430906495892,4.48330908897347,2.25666045646791,5.82539869642723,2.30485439186397,2.62882791851514,1.49959609834733,7.70344248162788,2.57760037782735,4.86164569335249,3.16400245247995,4.67106078271619,4.12281937306264,4.89356732858663,6.30859381572157,3.04626467765329,4.11092442614219,4.87067328327157,2.76598241334086,1.76076279732018,1.0473012982691,2.88329461484827,4.29476670321422,2.02828617493829,4.23551840436992,1.1717287319885,2.83664394734437,3.17701484772975,1.56006341136723,2.03270788076118,1.69404267859633,5.73792989060081,2.42009737153147,2.92863658125028],\"coloraxis\":\"coloraxis\",\"symbol\":\"circle\"},\"mode\":\"markers\",\"name\":\"\",\"orientation\":\"v\",\"showlegend\":false,\"x\":[3.7227182960896,1.89697656857255,1.69672284643189,1.50265448247135,2.17399213702361,2.8613187713283,2.03039214641993,1.91121882024395,2.31448767523881,1.95208568625946,6.92860194070912,4.15937533849185,1.89107087649194,6.6670065029303,6.13790113658745,4.21207813324155,6.17385569064731,2.58355182420388,1.83967908633737,3.50761759282414,2.22612587092695,3.57788624233396,2.35958763075875,2.90857573468183,2.32284943275682,2.62577864649961,2.26028392517989,2.69171511419138,3.39927874879608,1.75416776296777,1.54259908460691,2.27627384758519,2.55947342604441,2.35882699078795,3.16028157941314,2.78205788189416,4.72188839635251,3.51503809870662,2.00356853780855,3.77172795121953,1.95001944723911,2.66399534134504,3.53286239904294,3.69976795024191,2.37595121835825,3.5481121277546,2.82652954394306,1.98679931123577,4.70645776944762,1.49286790889824,4.92650001152228,1.93924831880721,2.67971639580876,1.65805458842329,3.16673590682393,1.88083212526027,1.91247239571794,4.95315955612041,2.09386661635807,2.56667837221265,2.26359657460519,2.32694609758516,2.54800516981329,2.12564613842705,9.91535536436513,1.84184790812584,1.87380294959645,1.95813949360542,1.89608454529738,1.98099992105229,1.43085835163897,3.71458532922639,2.22799593687401,3.07577656480184,2.21038384965456,1.87219511738554,2.11259840610259,3.25147914430459,3.59909596327138,2.73333180445284,6.6461977858349,5.33128756527608,3.93337338839219,2.39956084172566,2.60089421809223,3.07426339218733,2.6004104557134,1.59246580096944,2.38807196003928,2.86277717893406,1.68078672005971,8.98289631285285,4.62545801063221,2.05500524675847,3.04972805379401,2.50860739151148,2.81114006946558,3.88146123130472,3.68442987236766,10.1391572699686,2.47516568018223,1.74913376973316,2.40258264325035,3.7190895060851,4.770094163346,1.44969323949489,2.27933260769196,2.41555389972494,2.31764286144094,2.74515591247363,2.42443550748294,4.48008421871056,3.67333426996896,3.66706679974464,2.66240119276147,2.04075245650776,4.79325111997681,2.1285842643241,2.67531918411518,3.32335823408366,2.27309132369842,2.26398504839911,3.12278360339361,3.98827009174983,5.33963920438035,2.55189903307512,2.67553156393015,2.59981241283934,1.22091629785606,2.03393794752028,2.92118591797054,1.37181479302187,3.94669870357063,4.17534613850156,4.30305287573727,2.78720413257814,2.94017984163379,3.04725789539492,1.62864792636102,4.51025543871143,3.70011871983419,2.38776700172334,2.32622579769725,3.20731973635455,3.16800103447259,3.04175118954253,6.04815434303131,4.35558176186636,2.63278226984012,4.96664389123943,3.03990160880213,2.90597878468371,2.36571704183832,4.16650323754961,4.10190210606757,4.43755432604092,2.60929094780083,3.25312449039869,6.16311529348146,2.32169328726451,2.13641263331836,2.20374634562317,4.13014378981128,3.29418180158206,1.95703795415023,3.37690587044714,7.47629183662241,7.7997719160753,2.44393963006505,3.72150093949588,3.36695868951072,4.59853436217258,4.99399474922013,8.81002431852695,2.69370271786663,2.894432379704,1.04357894297672,10.0515968865464,1.85440527763036,2.83184869093686,6.11315445609744,2.06906073711222,8.13610812634908,9.25305349115031,7.78597023788843,2.87606941015,1.69659160384954,4.98869972464642,3.10692500065642,6.85741086647214,6.9156556257296,9.49152221637672,3.2434050073374,1.66715960767037,2.58055934701339,2.87872246099597,10.1934268765139,6.80903627677101,8.37388493141669,1.74327787085083,2.97282699606303,2.43204334173389,7.00561515721937,7.34874149593573,7.17115970113234,1.79824548028125,5.03895330744063,2.10740121672953,3.85977092637756,3.28797041839698,3.52469636875327,2.42336730809822,4.92475807397587,3.41331435360436,1.70456052752075,2.58216034386374,1.98023097524678,1.35682540099157,8.72222396444854,6.50122232997997,1.85544499963426,4.19630273149514,4.77545069083959,9.15488172961112,7.61856665054742,7.93652008573604,1.71794094343502,6.02558914801752,4.47365963505051,2.69596522483297,1.33962477804994,8.19690687426542,7.21859313863329,1.67474768248942,1.43660776370854,8.20587697144449,1.73270093793653,1.99423276417736,8.24397674111505,7.05341557654305,4.23169682968375,2.76389849179254,4.12356901644297,4.24885427172951,2.4722527167102,2.05379553861734,4.15006157645799,3.57583583270703,4.58163668686538,2.38297830580469,4.45093540451652,2.2831612153631,1.71613783203482,1.97817600981042,2.42826496376655,5.19440534065112,2.71279968637717,1.18271120299168,1.37900047499638,2.5437816642019,1.54693894343893,3.60936679163614,4.91135236178864,1.20006574670264,4.05593794726139,2.40374169480598,4.80552497172347,3.07222688980633,1.99074250417002,6.3910794952137,1.02085968918593,3.77390625979149,5.09908122725748,2.6273422179704,2.00072430076177,2.40700390365597,4.20083506972067,1.12011235963576,1.27022844833434,2.35462369720377,4.15423157762682,2.66557818227384,2.14394161037632,3.6350486326847,1.31897537626006,4.62114411417071,3.18454527343861,5.39740332541934,2.26079711110495,2.26420197015865,4.88760038017272,1.18786877768916,4.10645178320774,3.66817497635389,1.21955999053671,2.60308726635712,2.01974870809551,2.26411283381552,2.44691040697134,1.45278121152565,2.26541676155191,2.61591475964101,1.78579695064934,3.29831027081233,4.57958969605246,2.49112591114865,1.05012995289292,3.84538550726899,3.1639929816614,1.04407339411259,1.33540583984468,4.19995757674169,1.03307314202845,4.4797453294823,3.81406762887154,5.28063031538382,1.46935247453648,4.43786913607224,3.8506157664763,4.55749000607362,2.97639733449023,4.05399509002682,1.44204913694836,1.33042780457446,2.10438125038387,2.3701387969595,1.28111717280455,1.63135661677697,2.84430906495892,4.48330908897347,2.25666045646791,5.82539869642723,2.30485439186397,2.62882791851514,1.49959609834733,7.70344248162788,2.57760037782735,4.86164569335249,3.16400245247995,4.67106078271619,4.12281937306264,4.89356732858663,6.30859381572157,3.04626467765329,4.11092442614219,4.87067328327157,2.76598241334086,1.76076279732018,1.0473012982691,2.88329461484827,4.29476670321422,2.02828617493829,4.23551840436992,1.1717287319885,2.83664394734437,3.17701484772975,1.56006341136723,2.03270788076118,1.69404267859633,5.73792989060081,2.42009737153147,2.92863658125028],\"xaxis\":\"x\",\"y\":[692.881761274166,536.691407956743,276.350999999999,270.923146762041,397.484041234037,702.107462456384,519.341933890192,581.203987582989,527.071428074356,411.312179296951,1079.65282070305,829.228614293344,341.860385706658,962.018,950.258562819967,782.377880005755,863.036557174281,601.390587040521,492.184507807422,847.532824984648,526.002080167403,740.463040158474,443.602185651039,578.325922047423,562.67506105348,804.732100452362,625.442690637212,599.247000000001,942.563408961203,519.651591038795,346.525003615485,730.10611961992,625.839986220131,649.155890544466,738.649016125774,667.74798387423,868.244999999995,780.348999999994,524.527,729.921999999999,555.046,602.153999999999,853.013405611315,705.983594388686,364.538323219297,727.747711180903,740.778859978545,581.65610562125,984.971133534053,155.542866465948,1014.957,416.307999999999,635.235,360.860429151479,805.50064114854,272.074929699984,349.804545181544,887.250396414423,607.351058404035,566.378928260796,730.352262013146,595.26380972606,697.87973010914,725.171269890861,1500.07696169728,478.416038302721,489.886000000002,449.428000000002,489.258640602509,522.488359397494,360.299000000001,759.501,383.644000000001,625.488000000002,590.134000000003,522.654,631.001360707732,474.761639292269,613.390000000001,522.688180287642,642.310819712365,874.482543178304,191.519456821696,684.538090706095,553.755000000001,479.437000000001,724.016652267443,475.901347732558,618.385603417631,717.536429880361,482.332966702008,1535.93199999995,812.251000000002,492.491395118112,716.233325308533,521.111279573353,661.526402369546,801.419597630454,565.346,1625.688,540.542126153119,411.100873846882,670.561999999999,678.925000000001,995.140506432119,386.344337030111,472.877156537772,536.63,612.783437700391,538.090562299611,335.021391714572,837.034179979101,631.833428306328,808.075,634.446,587.592,616.007,536.116141402322,491.464858597676,622.062,566.847547364073,592.330297460266,440.162771034808,603.014384140851,799.475909382761,475.292090617239,491.172,569.617245538077,163.189414172474,515.060243889038,609.084531973524,263.783970592476,772.215473035205,780.594397650478,534.94972314873,515.984000000001,520.177803481137,548.641196518863,372.587999999999,708.202000000001,692.314146984756,299.498853015245,414.976062800549,605.166743715387,633.522193484066,550.957,963.982000000002,769.025828518746,415.53518421234,573.321987268914,415.857607961909,706.426392038091,571.292014001682,800.056985998318,693.977540662708,706.132459337292,515.119183178456,652.695816821545,886.734124816746,458.061273121753,411.964602061503,439.290226740476,638.679394862505,654.890378397021,327.140631450129,600.059159172363,1051.88220937751,1319.18843597884,556.875000745648,572.513563275512,530.767227956033,629.142590744154,503.782181299813,858.383926285102,420.1420737149,741.233639167498,386.271360832504,1267.95233365905,359.063666340958,509.083,875.847246858773,407.535753141229,922.402000000002,1141.341,935.110000000001,681.737000000001,238.928319188135,689.745035431451,669.211645380416,849.433000000001,989.361999999999,1167.15537836289,563.163425613793,471.128079716367,434.875116306951,559.684,1150.779,962.661,1100.40480626053,295.962193114774,425.090460407364,430.582540217333,802.961000000001,866.812000000002,954.993000000001,270.808095283988,894.935904716012,271.646485089344,708.64851491065,734.148621888718,491.831378111282,520.3214667327,755.1325332673,584.794000000001,362.208058756678,381.753984479676,387.073956763646,161.317,1057.698,749.900000000001,332.339682542849,714.56631745715,713.007000000001,1181.71100000001,1019.355,1024.422,327.134999999999,838.405704195417,682.317937334437,293.052358470147,208.5,1035.6,802.842000000001,303.27,178.928,1065.429,317.534,263.256,1065.797,927.361999999999,665.81214709,415.45385291,831.212820510729,838.724552739307,436.867690406995,492.795688283335,561.622068570364,533.654,936.481840421691,585.403224631292,719.102934947018,464.363136640531,303.336248001888,540.651169798052,481.521697444488,975.905013194923,333.441734920119,196.908,356.646125167151,563.89887483285,341.504,567.63,862.275,269.899,667.8412218068,458.821250731451,715.62552746175,691.691333241874,160.526666758125,1024.1,285.064507253552,745.704492746449,649.546999999999,488.426083384419,265.409606491852,517.753310123729,796.453000000001,217.564,464.531723979791,610.616276020211,776.645,559.893230554547,434.490769445454,822.387650935921,373.579812993424,751.915536070656,484.869616983316,1016.48180783251,327.947617844774,479.530957339406,1030.531,326.091,804.604000000001,748.010000000001,382.493663980595,530.759336019406,456.064,557.356955357338,468.778885528117,351.981159114545,435.88,418.333,424.648999999999,574.641638299425,845.967361700576,651.637999999999,337.185876202426,593.449800298204,773.532260875062,405.154963006032,274.974613200867,843.053486417406,319.371,854.113280254247,683.842601700457,1044.02130415731,394.634923515958,725.498890372028,818.168189301097,748.643656321222,472.197902696585,728.177382409826,222.75686927127,356.612670266377,515.536329733624,342.808217873511,413.39116800725,516.142227413798,398.659386705442,950.043650956611,422.79534904339,951.573000000001,283.96837800639,572.892361969579,391.25226002403,1094.03,521.041689294737,835.955310705261,563.320167629931,927.321832370071,757.837139103892,918.40286089611,1177.927,443.46746830442,714.43553169558,825.161,583.287370466208,380.660629533794,257.043679849332,693.562427499041,786.448892651628,318.467,595.229999999999,284.751678736759,651.449321263242,572.449999999999,393.324374344616,262.894625655384,372.944,1043.59054542223,542.194505474998,615.976073397627],\"yaxis\":\"y\",\"type\":\"scatter\"}],                        {\"template\":{\"data\":{\"bar\":[{\"error_x\":{\"color\":\"#2a3f5f\"},\"error_y\":{\"color\":\"#2a3f5f\"},\"marker\":{\"line\":{\"color\":\"#E5ECF6\",\"width\":0.5},\"pattern\":{\"fillmode\":\"overlay\",\"size\":10,\"solidity\":0.2}},\"type\":\"bar\"}],\"barpolar\":[{\"marker\":{\"line\":{\"color\":\"#E5ECF6\",\"width\":0.5},\"pattern\":{\"fillmode\":\"overlay\",\"size\":10,\"solidity\":0.2}},\"type\":\"barpolar\"}],\"carpet\":[{\"aaxis\":{\"endlinecolor\":\"#2a3f5f\",\"gridcolor\":\"white\",\"linecolor\":\"white\",\"minorgridcolor\":\"white\",\"startlinecolor\":\"#2a3f5f\"},\"baxis\":{\"endlinecolor\":\"#2a3f5f\",\"gridcolor\":\"white\",\"linecolor\":\"white\",\"minorgridcolor\":\"white\",\"startlinecolor\":\"#2a3f5f\"},\"type\":\"carpet\"}],\"choropleth\":[{\"colorbar\":{\"outlinewidth\":0,\"ticks\":\"\"},\"type\":\"choropleth\"}],\"contour\":[{\"colorbar\":{\"outlinewidth\":0,\"ticks\":\"\"},\"colorscale\":[[0.0,\"#0d0887\"],[0.1111111111111111,\"#46039f\"],[0.2222222222222222,\"#7201a8\"],[0.3333333333333333,\"#9c179e\"],[0.4444444444444444,\"#bd3786\"],[0.5555555555555556,\"#d8576b\"],[0.6666666666666666,\"#ed7953\"],[0.7777777777777778,\"#fb9f3a\"],[0.8888888888888888,\"#fdca26\"],[1.0,\"#f0f921\"]],\"type\":\"contour\"}],\"contourcarpet\":[{\"colorbar\":{\"outlinewidth\":0,\"ticks\":\"\"},\"type\":\"contourcarpet\"}],\"heatmap\":[{\"colorbar\":{\"outlinewidth\":0,\"ticks\":\"\"},\"colorscale\":[[0.0,\"#0d0887\"],[0.1111111111111111,\"#46039f\"],[0.2222222222222222,\"#7201a8\"],[0.3333333333333333,\"#9c179e\"],[0.4444444444444444,\"#bd3786\"],[0.5555555555555556,\"#d8576b\"],[0.6666666666666666,\"#ed7953\"],[0.7777777777777778,\"#fb9f3a\"],[0.8888888888888888,\"#fdca26\"],[1.0,\"#f0f921\"]],\"type\":\"heatmap\"}],\"heatmapgl\":[{\"colorbar\":{\"outlinewidth\":0,\"ticks\":\"\"},\"colorscale\":[[0.0,\"#0d0887\"],[0.1111111111111111,\"#46039f\"],[0.2222222222222222,\"#7201a8\"],[0.3333333333333333,\"#9c179e\"],[0.4444444444444444,\"#bd3786\"],[0.5555555555555556,\"#d8576b\"],[0.6666666666666666,\"#ed7953\"],[0.7777777777777778,\"#fb9f3a\"],[0.8888888888888888,\"#fdca26\"],[1.0,\"#f0f921\"]],\"type\":\"heatmapgl\"}],\"histogram\":[{\"marker\":{\"pattern\":{\"fillmode\":\"overlay\",\"size\":10,\"solidity\":0.2}},\"type\":\"histogram\"}],\"histogram2d\":[{\"colorbar\":{\"outlinewidth\":0,\"ticks\":\"\"},\"colorscale\":[[0.0,\"#0d0887\"],[0.1111111111111111,\"#46039f\"],[0.2222222222222222,\"#7201a8\"],[0.3333333333333333,\"#9c179e\"],[0.4444444444444444,\"#bd3786\"],[0.5555555555555556,\"#d8576b\"],[0.6666666666666666,\"#ed7953\"],[0.7777777777777778,\"#fb9f3a\"],[0.8888888888888888,\"#fdca26\"],[1.0,\"#f0f921\"]],\"type\":\"histogram2d\"}],\"histogram2dcontour\":[{\"colorbar\":{\"outlinewidth\":0,\"ticks\":\"\"},\"colorscale\":[[0.0,\"#0d0887\"],[0.1111111111111111,\"#46039f\"],[0.2222222222222222,\"#7201a8\"],[0.3333333333333333,\"#9c179e\"],[0.4444444444444444,\"#bd3786\"],[0.5555555555555556,\"#d8576b\"],[0.6666666666666666,\"#ed7953\"],[0.7777777777777778,\"#fb9f3a\"],[0.8888888888888888,\"#fdca26\"],[1.0,\"#f0f921\"]],\"type\":\"histogram2dcontour\"}],\"mesh3d\":[{\"colorbar\":{\"outlinewidth\":0,\"ticks\":\"\"},\"type\":\"mesh3d\"}],\"parcoords\":[{\"line\":{\"colorbar\":{\"outlinewidth\":0,\"ticks\":\"\"}},\"type\":\"parcoords\"}],\"pie\":[{\"automargin\":true,\"type\":\"pie\"}],\"scatter\":[{\"marker\":{\"colorbar\":{\"outlinewidth\":0,\"ticks\":\"\"}},\"type\":\"scatter\"}],\"scatter3d\":[{\"line\":{\"colorbar\":{\"outlinewidth\":0,\"ticks\":\"\"}},\"marker\":{\"colorbar\":{\"outlinewidth\":0,\"ticks\":\"\"}},\"type\":\"scatter3d\"}],\"scattercarpet\":[{\"marker\":{\"colorbar\":{\"outlinewidth\":0,\"ticks\":\"\"}},\"type\":\"scattercarpet\"}],\"scattergeo\":[{\"marker\":{\"colorbar\":{\"outlinewidth\":0,\"ticks\":\"\"}},\"type\":\"scattergeo\"}],\"scattergl\":[{\"marker\":{\"colorbar\":{\"outlinewidth\":0,\"ticks\":\"\"}},\"type\":\"scattergl\"}],\"scattermapbox\":[{\"marker\":{\"colorbar\":{\"outlinewidth\":0,\"ticks\":\"\"}},\"type\":\"scattermapbox\"}],\"scatterpolar\":[{\"marker\":{\"colorbar\":{\"outlinewidth\":0,\"ticks\":\"\"}},\"type\":\"scatterpolar\"}],\"scatterpolargl\":[{\"marker\":{\"colorbar\":{\"outlinewidth\":0,\"ticks\":\"\"}},\"type\":\"scatterpolargl\"}],\"scatterternary\":[{\"marker\":{\"colorbar\":{\"outlinewidth\":0,\"ticks\":\"\"}},\"type\":\"scatterternary\"}],\"surface\":[{\"colorbar\":{\"outlinewidth\":0,\"ticks\":\"\"},\"colorscale\":[[0.0,\"#0d0887\"],[0.1111111111111111,\"#46039f\"],[0.2222222222222222,\"#7201a8\"],[0.3333333333333333,\"#9c179e\"],[0.4444444444444444,\"#bd3786\"],[0.5555555555555556,\"#d8576b\"],[0.6666666666666666,\"#ed7953\"],[0.7777777777777778,\"#fb9f3a\"],[0.8888888888888888,\"#fdca26\"],[1.0,\"#f0f921\"]],\"type\":\"surface\"}],\"table\":[{\"cells\":{\"fill\":{\"color\":\"#EBF0F8\"},\"line\":{\"color\":\"white\"}},\"header\":{\"fill\":{\"color\":\"#C8D4E3\"},\"line\":{\"color\":\"white\"}},\"type\":\"table\"}]},\"layout\":{\"annotationdefaults\":{\"arrowcolor\":\"#2a3f5f\",\"arrowhead\":0,\"arrowwidth\":1},\"autotypenumbers\":\"strict\",\"coloraxis\":{\"colorbar\":{\"outlinewidth\":0,\"ticks\":\"\"}},\"colorscale\":{\"diverging\":[[0,\"#8e0152\"],[0.1,\"#c51b7d\"],[0.2,\"#de77ae\"],[0.3,\"#f1b6da\"],[0.4,\"#fde0ef\"],[0.5,\"#f7f7f7\"],[0.6,\"#e6f5d0\"],[0.7,\"#b8e186\"],[0.8,\"#7fbc41\"],[0.9,\"#4d9221\"],[1,\"#276419\"]],\"sequential\":[[0.0,\"#0d0887\"],[0.1111111111111111,\"#46039f\"],[0.2222222222222222,\"#7201a8\"],[0.3333333333333333,\"#9c179e\"],[0.4444444444444444,\"#bd3786\"],[0.5555555555555556,\"#d8576b\"],[0.6666666666666666,\"#ed7953\"],[0.7777777777777778,\"#fb9f3a\"],[0.8888888888888888,\"#fdca26\"],[1.0,\"#f0f921\"]],\"sequentialminus\":[[0.0,\"#0d0887\"],[0.1111111111111111,\"#46039f\"],[0.2222222222222222,\"#7201a8\"],[0.3333333333333333,\"#9c179e\"],[0.4444444444444444,\"#bd3786\"],[0.5555555555555556,\"#d8576b\"],[0.6666666666666666,\"#ed7953\"],[0.7777777777777778,\"#fb9f3a\"],[0.8888888888888888,\"#fdca26\"],[1.0,\"#f0f921\"]]},\"colorway\":[\"#636efa\",\"#EF553B\",\"#00cc96\",\"#ab63fa\",\"#FFA15A\",\"#19d3f3\",\"#FF6692\",\"#B6E880\",\"#FF97FF\",\"#FECB52\"],\"font\":{\"color\":\"#2a3f5f\"},\"geo\":{\"bgcolor\":\"white\",\"lakecolor\":\"white\",\"landcolor\":\"#E5ECF6\",\"showlakes\":true,\"showland\":true,\"subunitcolor\":\"white\"},\"hoverlabel\":{\"align\":\"left\"},\"hovermode\":\"closest\",\"mapbox\":{\"style\":\"light\"},\"paper_bgcolor\":\"white\",\"plot_bgcolor\":\"#E5ECF6\",\"polar\":{\"angularaxis\":{\"gridcolor\":\"white\",\"linecolor\":\"white\",\"ticks\":\"\"},\"bgcolor\":\"#E5ECF6\",\"radialaxis\":{\"gridcolor\":\"white\",\"linecolor\":\"white\",\"ticks\":\"\"}},\"scene\":{\"xaxis\":{\"backgroundcolor\":\"#E5ECF6\",\"gridcolor\":\"white\",\"gridwidth\":2,\"linecolor\":\"white\",\"showbackground\":true,\"ticks\":\"\",\"zerolinecolor\":\"white\"},\"yaxis\":{\"backgroundcolor\":\"#E5ECF6\",\"gridcolor\":\"white\",\"gridwidth\":2,\"linecolor\":\"white\",\"showbackground\":true,\"ticks\":\"\",\"zerolinecolor\":\"white\"},\"zaxis\":{\"backgroundcolor\":\"#E5ECF6\",\"gridcolor\":\"white\",\"gridwidth\":2,\"linecolor\":\"white\",\"showbackground\":true,\"ticks\":\"\",\"zerolinecolor\":\"white\"}},\"shapedefaults\":{\"line\":{\"color\":\"#2a3f5f\"}},\"ternary\":{\"aaxis\":{\"gridcolor\":\"white\",\"linecolor\":\"white\",\"ticks\":\"\"},\"baxis\":{\"gridcolor\":\"white\",\"linecolor\":\"white\",\"ticks\":\"\"},\"bgcolor\":\"#E5ECF6\",\"caxis\":{\"gridcolor\":\"white\",\"linecolor\":\"white\",\"ticks\":\"\"}},\"title\":{\"x\":0.05},\"xaxis\":{\"automargin\":true,\"gridcolor\":\"white\",\"linecolor\":\"white\",\"ticks\":\"\",\"title\":{\"standoff\":15},\"zerolinecolor\":\"white\",\"zerolinewidth\":2},\"yaxis\":{\"automargin\":true,\"gridcolor\":\"white\",\"linecolor\":\"white\",\"ticks\":\"\",\"title\":{\"standoff\":15},\"zerolinecolor\":\"white\",\"zerolinewidth\":2}}},\"xaxis\":{\"anchor\":\"y\",\"domain\":[0.0,1.0],\"title\":{\"text\":\"miles\"}},\"yaxis\":{\"anchor\":\"x\",\"domain\":[0.0,1.0],\"title\":{\"text\":\"calories\"},\"range\":[0,1650]},\"coloraxis\":{\"colorbar\":{\"title\":{\"text\":\"miles\"}},\"colorscale\":[[0.0,\"#0d0887\"],[0.1111111111111111,\"#46039f\"],[0.2222222222222222,\"#7201a8\"],[0.3333333333333333,\"#9c179e\"],[0.4444444444444444,\"#bd3786\"],[0.5555555555555556,\"#d8576b\"],[0.6666666666666666,\"#ed7953\"],[0.7777777777777778,\"#fb9f3a\"],[0.8888888888888888,\"#fdca26\"],[1.0,\"#f0f921\"]]},\"legend\":{\"tracegroupgap\":0},\"title\":{\"text\":\"Miles vs. Calories [Colored by miles]\\nTrednline: R^2: 0.8634 Calories = 110.93*miles + 237.18\"}},                        {\"responsive\": true}                    ).then(function(){\n",
       "                            \n",
       "var gd = document.getElementById('6df18f84-4726-4731-95ce-844a184aa8d8');\n",
       "var x = new MutationObserver(function (mutations, observer) {{\n",
       "        var display = window.getComputedStyle(gd).display;\n",
       "        if (!display || display === 'none') {{\n",
       "            console.log([gd, 'removed!']);\n",
       "            Plotly.purge(gd);\n",
       "            observer.disconnect();\n",
       "        }}\n",
       "}});\n",
       "\n",
       "// Listen for the removal of the full notebook cells\n",
       "var notebookContainer = gd.closest('#notebook-container');\n",
       "if (notebookContainer) {{\n",
       "    x.observe(notebookContainer, {childList: true});\n",
       "}}\n",
       "\n",
       "// Listen for the clearing of the current output cell\n",
       "var outputEl = gd.closest('.output');\n",
       "if (outputEl) {{\n",
       "    x.observe(outputEl, {childList: true});\n",
       "}}\n",
       "\n",
       "                        })                };                });            </script>        </div>"
      ]
     },
     "metadata": {},
     "output_type": "display_data"
    }
   ],
   "source": [
    "for group in color_cols:\n",
    "    my_year(group)"
   ]
  },
  {
   "cell_type": "markdown",
   "id": "0280f2b1",
   "metadata": {},
   "source": [
    "## Conclusion\n",
    "### Thats all for now!\n",
    ">Thanks for reading and I hope you enjoyed this demo!"
   ]
  },
  {
   "cell_type": "code",
   "execution_count": null,
   "id": "c9e21b89",
   "metadata": {},
   "outputs": [],
   "source": []
  }
 ],
 "metadata": {
  "kernelspec": {
   "display_name": "Python 3 (ipykernel)",
   "language": "python",
   "name": "python3"
  },
  "language_info": {
   "codemirror_mode": {
    "name": "ipython",
    "version": 3
   },
   "file_extension": ".py",
   "mimetype": "text/x-python",
   "name": "python",
   "nbconvert_exporter": "python",
   "pygments_lexer": "ipython3",
   "version": "3.10.1"
  },
  "toc": {
   "base_numbering": 1,
   "nav_menu": {},
   "number_sections": false,
   "sideBar": true,
   "skip_h1_title": true,
   "title_cell": "Table of Contents",
   "title_sidebar": "Contents",
   "toc_cell": true,
   "toc_position": {},
   "toc_section_display": true,
   "toc_window_display": false
  }
 },
 "nbformat": 4,
 "nbformat_minor": 5
}
